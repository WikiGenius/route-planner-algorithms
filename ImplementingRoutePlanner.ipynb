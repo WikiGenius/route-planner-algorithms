{
 "cells": [
  {
   "cell_type": "markdown",
   "metadata": {},
   "source": [
    "# Implementing a Route Planner\n",
    "In this project you will use A\\* search to implement a \"Google-maps\" style route planning algorithm."
   ]
  },
  {
   "cell_type": "markdown",
   "metadata": {},
   "source": [
    "## The Map"
   ]
  },
  {
   "cell_type": "code",
   "execution_count": 1,
   "metadata": {},
   "outputs": [
    {
     "data": {
      "text/html": [
       "        <script type=\"text/javascript\">\n",
       "        window.PlotlyConfig = {MathJaxConfig: 'local'};\n",
       "        if (window.MathJax) {MathJax.Hub.Config({SVG: {font: \"STIX-Web\"}});}\n",
       "        if (typeof require !== 'undefined') {\n",
       "        require.undef(\"plotly\");\n",
       "        requirejs.config({\n",
       "            paths: {\n",
       "                'plotly': ['https://cdn.plot.ly/plotly-latest.min']\n",
       "            }\n",
       "        });\n",
       "        require(['plotly'], function(Plotly) {\n",
       "            window._Plotly = Plotly;\n",
       "        });\n",
       "        }\n",
       "        </script>\n",
       "        "
      ]
     },
     "metadata": {},
     "output_type": "display_data"
    }
   ],
   "source": [
    "# Run this cell first!\n",
    "\n",
    "from helpers import Map, load_map_10, load_map_40, show_map\n",
    "from shortest_path import PathPlanner\n",
    "import math\n",
    "\n",
    "%load_ext autoreload\n",
    "%autoreload 2"
   ]
  },
  {
   "cell_type": "code",
   "execution_count": 2,
   "metadata": {},
   "outputs": [
    {
     "data": {
      "application/vnd.plotly.v1+json": {
       "config": {
        "linkText": "Export to plot.ly",
        "plotlyServerURL": "https://plot.ly",
        "showLink": false
       },
       "data": [
        {
         "hoverinfo": "none",
         "line": {
          "color": "#888",
          "width": 0.5
         },
         "mode": "lines",
         "type": "scatter",
         "x": [
          0.7798606835438107,
          0.46247219371675075,
          null,
          0.7798606835438107,
          0.8820353070895344,
          null,
          0.7798606835438107,
          0.49016747075266875,
          null,
          0.7647837074641568,
          0.8325506249953353,
          null,
          0.7647837074641568,
          0.7076566826610747,
          null,
          0.7647837074641568,
          0.7155217893995438,
          null,
          0.7155217893995438,
          0.8325506249953353,
          null,
          0.7155217893995438,
          0.7076566826610747,
          null,
          0.7076566826610747,
          0.49016747075266875,
          null,
          0.7076566826610747,
          0.8325506249953353,
          null,
          0.49016747075266875,
          0.46247219371675075,
          null,
          0.11622158839385677,
          0.1285377678230034,
          null
         ],
         "y": [
          0.6922727646627362,
          0.6258061621642713,
          null,
          0.6922727646627362,
          0.6791919587749445,
          null,
          0.6922727646627362,
          0.5464878695400415,
          null,
          0.3252670836724646,
          0.02310946309985762,
          null,
          0.3252670836724646,
          0.3278339270610988,
          null,
          0.3252670836724646,
          0.20026498027300055,
          null,
          0.20026498027300055,
          0.02310946309985762,
          null,
          0.20026498027300055,
          0.3278339270610988,
          null,
          0.3278339270610988,
          0.5464878695400415,
          null,
          0.3278339270610988,
          0.02310946309985762,
          null,
          0.5464878695400415,
          0.6258061621642713,
          null,
          0.11236327488812581,
          0.3285840695698353,
          null
         ]
        },
        {
         "hoverinfo": "text",
         "marker": {
          "color": [
           0,
           0,
           0,
           0,
           0,
           0,
           0,
           0,
           0,
           0
          ],
          "colorbar": {
           "thickness": 15,
           "title": {
            "side": "right",
            "text": "Node Connections"
           },
           "xanchor": "left"
          },
          "colorscale": [
           [
            0,
            "rgb(0,0,0)"
           ],
           [
            0.3333333333333333,
            "rgb(230,0,0)"
           ],
           [
            0.6666666666666666,
            "rgb(255,210,0)"
           ],
           [
            1,
            "rgb(255,255,255)"
           ]
          ],
          "line": {
           "width": 2
          },
          "reversescale": true,
          "showscale": false,
          "size": 10
         },
         "mode": "markers",
         "text": [
          "Intersection 0",
          "Intersection 1",
          "Intersection 2",
          "Intersection 3",
          "Intersection 4",
          "Intersection 5",
          "Intersection 6",
          "Intersection 7",
          "Intersection 8",
          "Intersection 9"
         ],
         "type": "scatter",
         "x": [
          0.7798606835438107,
          0.7647837074641568,
          0.7155217893995438,
          0.7076566826610747,
          0.8325506249953353,
          0.49016747075266875,
          0.8820353070895344,
          0.46247219371675075,
          0.11622158839385677,
          0.1285377678230034
         ],
         "y": [
          0.6922727646627362,
          0.3252670836724646,
          0.20026498027300055,
          0.3278339270610988,
          0.02310946309985762,
          0.5464878695400415,
          0.6791919587749445,
          0.6258061621642713,
          0.11236327488812581,
          0.3285840695698353
         ]
        }
       ],
       "layout": {
        "hovermode": "closest",
        "margin": {
         "b": 20,
         "l": 5,
         "r": 5,
         "t": 40
        },
        "showlegend": false,
        "template": {
         "data": {
          "bar": [
           {
            "error_x": {
             "color": "#2a3f5f"
            },
            "error_y": {
             "color": "#2a3f5f"
            },
            "marker": {
             "line": {
              "color": "#E5ECF6",
              "width": 0.5
             }
            },
            "type": "bar"
           }
          ],
          "barpolar": [
           {
            "marker": {
             "line": {
              "color": "#E5ECF6",
              "width": 0.5
             }
            },
            "type": "barpolar"
           }
          ],
          "carpet": [
           {
            "aaxis": {
             "endlinecolor": "#2a3f5f",
             "gridcolor": "white",
             "linecolor": "white",
             "minorgridcolor": "white",
             "startlinecolor": "#2a3f5f"
            },
            "baxis": {
             "endlinecolor": "#2a3f5f",
             "gridcolor": "white",
             "linecolor": "white",
             "minorgridcolor": "white",
             "startlinecolor": "#2a3f5f"
            },
            "type": "carpet"
           }
          ],
          "choropleth": [
           {
            "colorbar": {
             "outlinewidth": 0,
             "ticks": ""
            },
            "type": "choropleth"
           }
          ],
          "contour": [
           {
            "colorbar": {
             "outlinewidth": 0,
             "ticks": ""
            },
            "colorscale": [
             [
              0,
              "#0d0887"
             ],
             [
              0.1111111111111111,
              "#46039f"
             ],
             [
              0.2222222222222222,
              "#7201a8"
             ],
             [
              0.3333333333333333,
              "#9c179e"
             ],
             [
              0.4444444444444444,
              "#bd3786"
             ],
             [
              0.5555555555555556,
              "#d8576b"
             ],
             [
              0.6666666666666666,
              "#ed7953"
             ],
             [
              0.7777777777777778,
              "#fb9f3a"
             ],
             [
              0.8888888888888888,
              "#fdca26"
             ],
             [
              1,
              "#f0f921"
             ]
            ],
            "type": "contour"
           }
          ],
          "contourcarpet": [
           {
            "colorbar": {
             "outlinewidth": 0,
             "ticks": ""
            },
            "type": "contourcarpet"
           }
          ],
          "heatmap": [
           {
            "colorbar": {
             "outlinewidth": 0,
             "ticks": ""
            },
            "colorscale": [
             [
              0,
              "#0d0887"
             ],
             [
              0.1111111111111111,
              "#46039f"
             ],
             [
              0.2222222222222222,
              "#7201a8"
             ],
             [
              0.3333333333333333,
              "#9c179e"
             ],
             [
              0.4444444444444444,
              "#bd3786"
             ],
             [
              0.5555555555555556,
              "#d8576b"
             ],
             [
              0.6666666666666666,
              "#ed7953"
             ],
             [
              0.7777777777777778,
              "#fb9f3a"
             ],
             [
              0.8888888888888888,
              "#fdca26"
             ],
             [
              1,
              "#f0f921"
             ]
            ],
            "type": "heatmap"
           }
          ],
          "heatmapgl": [
           {
            "colorbar": {
             "outlinewidth": 0,
             "ticks": ""
            },
            "colorscale": [
             [
              0,
              "#0d0887"
             ],
             [
              0.1111111111111111,
              "#46039f"
             ],
             [
              0.2222222222222222,
              "#7201a8"
             ],
             [
              0.3333333333333333,
              "#9c179e"
             ],
             [
              0.4444444444444444,
              "#bd3786"
             ],
             [
              0.5555555555555556,
              "#d8576b"
             ],
             [
              0.6666666666666666,
              "#ed7953"
             ],
             [
              0.7777777777777778,
              "#fb9f3a"
             ],
             [
              0.8888888888888888,
              "#fdca26"
             ],
             [
              1,
              "#f0f921"
             ]
            ],
            "type": "heatmapgl"
           }
          ],
          "histogram": [
           {
            "marker": {
             "colorbar": {
              "outlinewidth": 0,
              "ticks": ""
             }
            },
            "type": "histogram"
           }
          ],
          "histogram2d": [
           {
            "colorbar": {
             "outlinewidth": 0,
             "ticks": ""
            },
            "colorscale": [
             [
              0,
              "#0d0887"
             ],
             [
              0.1111111111111111,
              "#46039f"
             ],
             [
              0.2222222222222222,
              "#7201a8"
             ],
             [
              0.3333333333333333,
              "#9c179e"
             ],
             [
              0.4444444444444444,
              "#bd3786"
             ],
             [
              0.5555555555555556,
              "#d8576b"
             ],
             [
              0.6666666666666666,
              "#ed7953"
             ],
             [
              0.7777777777777778,
              "#fb9f3a"
             ],
             [
              0.8888888888888888,
              "#fdca26"
             ],
             [
              1,
              "#f0f921"
             ]
            ],
            "type": "histogram2d"
           }
          ],
          "histogram2dcontour": [
           {
            "colorbar": {
             "outlinewidth": 0,
             "ticks": ""
            },
            "colorscale": [
             [
              0,
              "#0d0887"
             ],
             [
              0.1111111111111111,
              "#46039f"
             ],
             [
              0.2222222222222222,
              "#7201a8"
             ],
             [
              0.3333333333333333,
              "#9c179e"
             ],
             [
              0.4444444444444444,
              "#bd3786"
             ],
             [
              0.5555555555555556,
              "#d8576b"
             ],
             [
              0.6666666666666666,
              "#ed7953"
             ],
             [
              0.7777777777777778,
              "#fb9f3a"
             ],
             [
              0.8888888888888888,
              "#fdca26"
             ],
             [
              1,
              "#f0f921"
             ]
            ],
            "type": "histogram2dcontour"
           }
          ],
          "mesh3d": [
           {
            "colorbar": {
             "outlinewidth": 0,
             "ticks": ""
            },
            "type": "mesh3d"
           }
          ],
          "parcoords": [
           {
            "line": {
             "colorbar": {
              "outlinewidth": 0,
              "ticks": ""
             }
            },
            "type": "parcoords"
           }
          ],
          "pie": [
           {
            "automargin": true,
            "type": "pie"
           }
          ],
          "scatter": [
           {
            "marker": {
             "colorbar": {
              "outlinewidth": 0,
              "ticks": ""
             }
            },
            "type": "scatter"
           }
          ],
          "scatter3d": [
           {
            "line": {
             "colorbar": {
              "outlinewidth": 0,
              "ticks": ""
             }
            },
            "marker": {
             "colorbar": {
              "outlinewidth": 0,
              "ticks": ""
             }
            },
            "type": "scatter3d"
           }
          ],
          "scattercarpet": [
           {
            "marker": {
             "colorbar": {
              "outlinewidth": 0,
              "ticks": ""
             }
            },
            "type": "scattercarpet"
           }
          ],
          "scattergeo": [
           {
            "marker": {
             "colorbar": {
              "outlinewidth": 0,
              "ticks": ""
             }
            },
            "type": "scattergeo"
           }
          ],
          "scattergl": [
           {
            "marker": {
             "colorbar": {
              "outlinewidth": 0,
              "ticks": ""
             }
            },
            "type": "scattergl"
           }
          ],
          "scattermapbox": [
           {
            "marker": {
             "colorbar": {
              "outlinewidth": 0,
              "ticks": ""
             }
            },
            "type": "scattermapbox"
           }
          ],
          "scatterpolar": [
           {
            "marker": {
             "colorbar": {
              "outlinewidth": 0,
              "ticks": ""
             }
            },
            "type": "scatterpolar"
           }
          ],
          "scatterpolargl": [
           {
            "marker": {
             "colorbar": {
              "outlinewidth": 0,
              "ticks": ""
             }
            },
            "type": "scatterpolargl"
           }
          ],
          "scatterternary": [
           {
            "marker": {
             "colorbar": {
              "outlinewidth": 0,
              "ticks": ""
             }
            },
            "type": "scatterternary"
           }
          ],
          "surface": [
           {
            "colorbar": {
             "outlinewidth": 0,
             "ticks": ""
            },
            "colorscale": [
             [
              0,
              "#0d0887"
             ],
             [
              0.1111111111111111,
              "#46039f"
             ],
             [
              0.2222222222222222,
              "#7201a8"
             ],
             [
              0.3333333333333333,
              "#9c179e"
             ],
             [
              0.4444444444444444,
              "#bd3786"
             ],
             [
              0.5555555555555556,
              "#d8576b"
             ],
             [
              0.6666666666666666,
              "#ed7953"
             ],
             [
              0.7777777777777778,
              "#fb9f3a"
             ],
             [
              0.8888888888888888,
              "#fdca26"
             ],
             [
              1,
              "#f0f921"
             ]
            ],
            "type": "surface"
           }
          ],
          "table": [
           {
            "cells": {
             "fill": {
              "color": "#EBF0F8"
             },
             "line": {
              "color": "white"
             }
            },
            "header": {
             "fill": {
              "color": "#C8D4E3"
             },
             "line": {
              "color": "white"
             }
            },
            "type": "table"
           }
          ]
         },
         "layout": {
          "annotationdefaults": {
           "arrowcolor": "#2a3f5f",
           "arrowhead": 0,
           "arrowwidth": 1
          },
          "coloraxis": {
           "colorbar": {
            "outlinewidth": 0,
            "ticks": ""
           }
          },
          "colorscale": {
           "diverging": [
            [
             0,
             "#8e0152"
            ],
            [
             0.1,
             "#c51b7d"
            ],
            [
             0.2,
             "#de77ae"
            ],
            [
             0.3,
             "#f1b6da"
            ],
            [
             0.4,
             "#fde0ef"
            ],
            [
             0.5,
             "#f7f7f7"
            ],
            [
             0.6,
             "#e6f5d0"
            ],
            [
             0.7,
             "#b8e186"
            ],
            [
             0.8,
             "#7fbc41"
            ],
            [
             0.9,
             "#4d9221"
            ],
            [
             1,
             "#276419"
            ]
           ],
           "sequential": [
            [
             0,
             "#0d0887"
            ],
            [
             0.1111111111111111,
             "#46039f"
            ],
            [
             0.2222222222222222,
             "#7201a8"
            ],
            [
             0.3333333333333333,
             "#9c179e"
            ],
            [
             0.4444444444444444,
             "#bd3786"
            ],
            [
             0.5555555555555556,
             "#d8576b"
            ],
            [
             0.6666666666666666,
             "#ed7953"
            ],
            [
             0.7777777777777778,
             "#fb9f3a"
            ],
            [
             0.8888888888888888,
             "#fdca26"
            ],
            [
             1,
             "#f0f921"
            ]
           ],
           "sequentialminus": [
            [
             0,
             "#0d0887"
            ],
            [
             0.1111111111111111,
             "#46039f"
            ],
            [
             0.2222222222222222,
             "#7201a8"
            ],
            [
             0.3333333333333333,
             "#9c179e"
            ],
            [
             0.4444444444444444,
             "#bd3786"
            ],
            [
             0.5555555555555556,
             "#d8576b"
            ],
            [
             0.6666666666666666,
             "#ed7953"
            ],
            [
             0.7777777777777778,
             "#fb9f3a"
            ],
            [
             0.8888888888888888,
             "#fdca26"
            ],
            [
             1,
             "#f0f921"
            ]
           ]
          },
          "colorway": [
           "#636efa",
           "#EF553B",
           "#00cc96",
           "#ab63fa",
           "#FFA15A",
           "#19d3f3",
           "#FF6692",
           "#B6E880",
           "#FF97FF",
           "#FECB52"
          ],
          "font": {
           "color": "#2a3f5f"
          },
          "geo": {
           "bgcolor": "white",
           "lakecolor": "white",
           "landcolor": "#E5ECF6",
           "showlakes": true,
           "showland": true,
           "subunitcolor": "white"
          },
          "hoverlabel": {
           "align": "left"
          },
          "hovermode": "closest",
          "mapbox": {
           "style": "light"
          },
          "paper_bgcolor": "white",
          "plot_bgcolor": "#E5ECF6",
          "polar": {
           "angularaxis": {
            "gridcolor": "white",
            "linecolor": "white",
            "ticks": ""
           },
           "bgcolor": "#E5ECF6",
           "radialaxis": {
            "gridcolor": "white",
            "linecolor": "white",
            "ticks": ""
           }
          },
          "scene": {
           "xaxis": {
            "backgroundcolor": "#E5ECF6",
            "gridcolor": "white",
            "gridwidth": 2,
            "linecolor": "white",
            "showbackground": true,
            "ticks": "",
            "zerolinecolor": "white"
           },
           "yaxis": {
            "backgroundcolor": "#E5ECF6",
            "gridcolor": "white",
            "gridwidth": 2,
            "linecolor": "white",
            "showbackground": true,
            "ticks": "",
            "zerolinecolor": "white"
           },
           "zaxis": {
            "backgroundcolor": "#E5ECF6",
            "gridcolor": "white",
            "gridwidth": 2,
            "linecolor": "white",
            "showbackground": true,
            "ticks": "",
            "zerolinecolor": "white"
           }
          },
          "shapedefaults": {
           "line": {
            "color": "#2a3f5f"
           }
          },
          "ternary": {
           "aaxis": {
            "gridcolor": "white",
            "linecolor": "white",
            "ticks": ""
           },
           "baxis": {
            "gridcolor": "white",
            "linecolor": "white",
            "ticks": ""
           },
           "bgcolor": "#E5ECF6",
           "caxis": {
            "gridcolor": "white",
            "linecolor": "white",
            "ticks": ""
           }
          },
          "title": {
           "x": 0.05
          },
          "xaxis": {
           "automargin": true,
           "gridcolor": "white",
           "linecolor": "white",
           "ticks": "",
           "title": {
            "standoff": 15
           },
           "zerolinecolor": "white",
           "zerolinewidth": 2
          },
          "yaxis": {
           "automargin": true,
           "gridcolor": "white",
           "linecolor": "white",
           "ticks": "",
           "title": {
            "standoff": 15
           },
           "zerolinecolor": "white",
           "zerolinewidth": 2
          }
         }
        },
        "title": {
         "font": {
          "size": 16
         },
         "text": "<br>Network graph made with Python"
        },
        "xaxis": {
         "showgrid": false,
         "showticklabels": false,
         "zeroline": false
        },
        "yaxis": {
         "showgrid": false,
         "showticklabels": false,
         "zeroline": false
        }
       }
      },
      "text/html": [
       "<div>                            <div id=\"77ee0af0-2fea-4bed-bd14-7bb6b25bf934\" class=\"plotly-graph-div\" style=\"height:525px; width:100%;\"></div>            <script type=\"text/javascript\">                require([\"plotly\"], function(Plotly) {                    window.PLOTLYENV=window.PLOTLYENV || {};                                    if (document.getElementById(\"77ee0af0-2fea-4bed-bd14-7bb6b25bf934\")) {                    Plotly.newPlot(                        \"77ee0af0-2fea-4bed-bd14-7bb6b25bf934\",                        [{\"hoverinfo\": \"none\", \"line\": {\"color\": \"#888\", \"width\": 0.5}, \"mode\": \"lines\", \"type\": \"scatter\", \"x\": [0.7798606835438107, 0.46247219371675075, null, 0.7798606835438107, 0.8820353070895344, null, 0.7798606835438107, 0.49016747075266875, null, 0.7647837074641568, 0.8325506249953353, null, 0.7647837074641568, 0.7076566826610747, null, 0.7647837074641568, 0.7155217893995438, null, 0.7155217893995438, 0.8325506249953353, null, 0.7155217893995438, 0.7076566826610747, null, 0.7076566826610747, 0.49016747075266875, null, 0.7076566826610747, 0.8325506249953353, null, 0.49016747075266875, 0.46247219371675075, null, 0.11622158839385677, 0.1285377678230034, null], \"y\": [0.6922727646627362, 0.6258061621642713, null, 0.6922727646627362, 0.6791919587749445, null, 0.6922727646627362, 0.5464878695400415, null, 0.3252670836724646, 0.02310946309985762, null, 0.3252670836724646, 0.3278339270610988, null, 0.3252670836724646, 0.20026498027300055, null, 0.20026498027300055, 0.02310946309985762, null, 0.20026498027300055, 0.3278339270610988, null, 0.3278339270610988, 0.5464878695400415, null, 0.3278339270610988, 0.02310946309985762, null, 0.5464878695400415, 0.6258061621642713, null, 0.11236327488812581, 0.3285840695698353, null]}, {\"hoverinfo\": \"text\", \"marker\": {\"color\": [0, 0, 0, 0, 0, 0, 0, 0, 0, 0], \"colorbar\": {\"thickness\": 15, \"title\": {\"side\": \"right\", \"text\": \"Node Connections\"}, \"xanchor\": \"left\"}, \"colorscale\": [[0.0, \"rgb(0,0,0)\"], [0.3333333333333333, \"rgb(230,0,0)\"], [0.6666666666666666, \"rgb(255,210,0)\"], [1.0, \"rgb(255,255,255)\"]], \"line\": {\"width\": 2}, \"reversescale\": true, \"showscale\": false, \"size\": 10}, \"mode\": \"markers\", \"text\": [\"Intersection 0\", \"Intersection 1\", \"Intersection 2\", \"Intersection 3\", \"Intersection 4\", \"Intersection 5\", \"Intersection 6\", \"Intersection 7\", \"Intersection 8\", \"Intersection 9\"], \"type\": \"scatter\", \"x\": [0.7798606835438107, 0.7647837074641568, 0.7155217893995438, 0.7076566826610747, 0.8325506249953353, 0.49016747075266875, 0.8820353070895344, 0.46247219371675075, 0.11622158839385677, 0.1285377678230034], \"y\": [0.6922727646627362, 0.3252670836724646, 0.20026498027300055, 0.3278339270610988, 0.02310946309985762, 0.5464878695400415, 0.6791919587749445, 0.6258061621642713, 0.11236327488812581, 0.3285840695698353]}],                        {\"hovermode\": \"closest\", \"margin\": {\"b\": 20, \"l\": 5, \"r\": 5, \"t\": 40}, \"showlegend\": false, \"template\": {\"data\": {\"bar\": [{\"error_x\": {\"color\": \"#2a3f5f\"}, \"error_y\": {\"color\": \"#2a3f5f\"}, \"marker\": {\"line\": {\"color\": \"#E5ECF6\", \"width\": 0.5}}, \"type\": \"bar\"}], \"barpolar\": [{\"marker\": {\"line\": {\"color\": \"#E5ECF6\", \"width\": 0.5}}, \"type\": \"barpolar\"}], \"carpet\": [{\"aaxis\": {\"endlinecolor\": \"#2a3f5f\", \"gridcolor\": \"white\", \"linecolor\": \"white\", \"minorgridcolor\": \"white\", \"startlinecolor\": \"#2a3f5f\"}, \"baxis\": {\"endlinecolor\": \"#2a3f5f\", \"gridcolor\": \"white\", \"linecolor\": \"white\", \"minorgridcolor\": \"white\", \"startlinecolor\": \"#2a3f5f\"}, \"type\": \"carpet\"}], \"choropleth\": [{\"colorbar\": {\"outlinewidth\": 0, \"ticks\": \"\"}, \"type\": \"choropleth\"}], \"contour\": [{\"colorbar\": {\"outlinewidth\": 0, \"ticks\": \"\"}, \"colorscale\": [[0.0, \"#0d0887\"], [0.1111111111111111, \"#46039f\"], [0.2222222222222222, \"#7201a8\"], [0.3333333333333333, \"#9c179e\"], [0.4444444444444444, \"#bd3786\"], [0.5555555555555556, \"#d8576b\"], [0.6666666666666666, \"#ed7953\"], [0.7777777777777778, \"#fb9f3a\"], [0.8888888888888888, \"#fdca26\"], [1.0, \"#f0f921\"]], \"type\": \"contour\"}], \"contourcarpet\": [{\"colorbar\": {\"outlinewidth\": 0, \"ticks\": \"\"}, \"type\": \"contourcarpet\"}], \"heatmap\": [{\"colorbar\": {\"outlinewidth\": 0, \"ticks\": \"\"}, \"colorscale\": [[0.0, \"#0d0887\"], [0.1111111111111111, \"#46039f\"], [0.2222222222222222, \"#7201a8\"], [0.3333333333333333, \"#9c179e\"], [0.4444444444444444, \"#bd3786\"], [0.5555555555555556, \"#d8576b\"], [0.6666666666666666, \"#ed7953\"], [0.7777777777777778, \"#fb9f3a\"], [0.8888888888888888, \"#fdca26\"], [1.0, \"#f0f921\"]], \"type\": \"heatmap\"}], \"heatmapgl\": [{\"colorbar\": {\"outlinewidth\": 0, \"ticks\": \"\"}, \"colorscale\": [[0.0, \"#0d0887\"], [0.1111111111111111, \"#46039f\"], [0.2222222222222222, \"#7201a8\"], [0.3333333333333333, \"#9c179e\"], [0.4444444444444444, \"#bd3786\"], [0.5555555555555556, \"#d8576b\"], [0.6666666666666666, \"#ed7953\"], [0.7777777777777778, \"#fb9f3a\"], [0.8888888888888888, \"#fdca26\"], [1.0, \"#f0f921\"]], \"type\": \"heatmapgl\"}], \"histogram\": [{\"marker\": {\"colorbar\": {\"outlinewidth\": 0, \"ticks\": \"\"}}, \"type\": \"histogram\"}], \"histogram2d\": [{\"colorbar\": {\"outlinewidth\": 0, \"ticks\": \"\"}, \"colorscale\": [[0.0, \"#0d0887\"], [0.1111111111111111, \"#46039f\"], [0.2222222222222222, \"#7201a8\"], [0.3333333333333333, \"#9c179e\"], [0.4444444444444444, \"#bd3786\"], [0.5555555555555556, \"#d8576b\"], [0.6666666666666666, \"#ed7953\"], [0.7777777777777778, \"#fb9f3a\"], [0.8888888888888888, \"#fdca26\"], [1.0, \"#f0f921\"]], \"type\": \"histogram2d\"}], \"histogram2dcontour\": [{\"colorbar\": {\"outlinewidth\": 0, \"ticks\": \"\"}, \"colorscale\": [[0.0, \"#0d0887\"], [0.1111111111111111, \"#46039f\"], [0.2222222222222222, \"#7201a8\"], [0.3333333333333333, \"#9c179e\"], [0.4444444444444444, \"#bd3786\"], [0.5555555555555556, \"#d8576b\"], [0.6666666666666666, \"#ed7953\"], [0.7777777777777778, \"#fb9f3a\"], [0.8888888888888888, \"#fdca26\"], [1.0, \"#f0f921\"]], \"type\": \"histogram2dcontour\"}], \"mesh3d\": [{\"colorbar\": {\"outlinewidth\": 0, \"ticks\": \"\"}, \"type\": \"mesh3d\"}], \"parcoords\": [{\"line\": {\"colorbar\": {\"outlinewidth\": 0, \"ticks\": \"\"}}, \"type\": \"parcoords\"}], \"pie\": [{\"automargin\": true, \"type\": \"pie\"}], \"scatter\": [{\"marker\": {\"colorbar\": {\"outlinewidth\": 0, \"ticks\": \"\"}}, \"type\": \"scatter\"}], \"scatter3d\": [{\"line\": {\"colorbar\": {\"outlinewidth\": 0, \"ticks\": \"\"}}, \"marker\": {\"colorbar\": {\"outlinewidth\": 0, \"ticks\": \"\"}}, \"type\": \"scatter3d\"}], \"scattercarpet\": [{\"marker\": {\"colorbar\": {\"outlinewidth\": 0, \"ticks\": \"\"}}, \"type\": \"scattercarpet\"}], \"scattergeo\": [{\"marker\": {\"colorbar\": {\"outlinewidth\": 0, \"ticks\": \"\"}}, \"type\": \"scattergeo\"}], \"scattergl\": [{\"marker\": {\"colorbar\": {\"outlinewidth\": 0, \"ticks\": \"\"}}, \"type\": \"scattergl\"}], \"scattermapbox\": [{\"marker\": {\"colorbar\": {\"outlinewidth\": 0, \"ticks\": \"\"}}, \"type\": \"scattermapbox\"}], \"scatterpolar\": [{\"marker\": {\"colorbar\": {\"outlinewidth\": 0, \"ticks\": \"\"}}, \"type\": \"scatterpolar\"}], \"scatterpolargl\": [{\"marker\": {\"colorbar\": {\"outlinewidth\": 0, \"ticks\": \"\"}}, \"type\": \"scatterpolargl\"}], \"scatterternary\": [{\"marker\": {\"colorbar\": {\"outlinewidth\": 0, \"ticks\": \"\"}}, \"type\": \"scatterternary\"}], \"surface\": [{\"colorbar\": {\"outlinewidth\": 0, \"ticks\": \"\"}, \"colorscale\": [[0.0, \"#0d0887\"], [0.1111111111111111, \"#46039f\"], [0.2222222222222222, \"#7201a8\"], [0.3333333333333333, \"#9c179e\"], [0.4444444444444444, \"#bd3786\"], [0.5555555555555556, \"#d8576b\"], [0.6666666666666666, \"#ed7953\"], [0.7777777777777778, \"#fb9f3a\"], [0.8888888888888888, \"#fdca26\"], [1.0, \"#f0f921\"]], \"type\": \"surface\"}], \"table\": [{\"cells\": {\"fill\": {\"color\": \"#EBF0F8\"}, \"line\": {\"color\": \"white\"}}, \"header\": {\"fill\": {\"color\": \"#C8D4E3\"}, \"line\": {\"color\": \"white\"}}, \"type\": \"table\"}]}, \"layout\": {\"annotationdefaults\": {\"arrowcolor\": \"#2a3f5f\", \"arrowhead\": 0, \"arrowwidth\": 1}, \"coloraxis\": {\"colorbar\": {\"outlinewidth\": 0, \"ticks\": \"\"}}, \"colorscale\": {\"diverging\": [[0, \"#8e0152\"], [0.1, \"#c51b7d\"], [0.2, \"#de77ae\"], [0.3, \"#f1b6da\"], [0.4, \"#fde0ef\"], [0.5, \"#f7f7f7\"], [0.6, \"#e6f5d0\"], [0.7, \"#b8e186\"], [0.8, \"#7fbc41\"], [0.9, \"#4d9221\"], [1, \"#276419\"]], \"sequential\": [[0.0, \"#0d0887\"], [0.1111111111111111, \"#46039f\"], [0.2222222222222222, \"#7201a8\"], [0.3333333333333333, \"#9c179e\"], [0.4444444444444444, \"#bd3786\"], [0.5555555555555556, \"#d8576b\"], [0.6666666666666666, \"#ed7953\"], [0.7777777777777778, \"#fb9f3a\"], [0.8888888888888888, \"#fdca26\"], [1.0, \"#f0f921\"]], \"sequentialminus\": [[0.0, \"#0d0887\"], [0.1111111111111111, \"#46039f\"], [0.2222222222222222, \"#7201a8\"], [0.3333333333333333, \"#9c179e\"], [0.4444444444444444, \"#bd3786\"], [0.5555555555555556, \"#d8576b\"], [0.6666666666666666, \"#ed7953\"], [0.7777777777777778, \"#fb9f3a\"], [0.8888888888888888, \"#fdca26\"], [1.0, \"#f0f921\"]]}, \"colorway\": [\"#636efa\", \"#EF553B\", \"#00cc96\", \"#ab63fa\", \"#FFA15A\", \"#19d3f3\", \"#FF6692\", \"#B6E880\", \"#FF97FF\", \"#FECB52\"], \"font\": {\"color\": \"#2a3f5f\"}, \"geo\": {\"bgcolor\": \"white\", \"lakecolor\": \"white\", \"landcolor\": \"#E5ECF6\", \"showlakes\": true, \"showland\": true, \"subunitcolor\": \"white\"}, \"hoverlabel\": {\"align\": \"left\"}, \"hovermode\": \"closest\", \"mapbox\": {\"style\": \"light\"}, \"paper_bgcolor\": \"white\", \"plot_bgcolor\": \"#E5ECF6\", \"polar\": {\"angularaxis\": {\"gridcolor\": \"white\", \"linecolor\": \"white\", \"ticks\": \"\"}, \"bgcolor\": \"#E5ECF6\", \"radialaxis\": {\"gridcolor\": \"white\", \"linecolor\": \"white\", \"ticks\": \"\"}}, \"scene\": {\"xaxis\": {\"backgroundcolor\": \"#E5ECF6\", \"gridcolor\": \"white\", \"gridwidth\": 2, \"linecolor\": \"white\", \"showbackground\": true, \"ticks\": \"\", \"zerolinecolor\": \"white\"}, \"yaxis\": {\"backgroundcolor\": \"#E5ECF6\", \"gridcolor\": \"white\", \"gridwidth\": 2, \"linecolor\": \"white\", \"showbackground\": true, \"ticks\": \"\", \"zerolinecolor\": \"white\"}, \"zaxis\": {\"backgroundcolor\": \"#E5ECF6\", \"gridcolor\": \"white\", \"gridwidth\": 2, \"linecolor\": \"white\", \"showbackground\": true, \"ticks\": \"\", \"zerolinecolor\": \"white\"}}, \"shapedefaults\": {\"line\": {\"color\": \"#2a3f5f\"}}, \"ternary\": {\"aaxis\": {\"gridcolor\": \"white\", \"linecolor\": \"white\", \"ticks\": \"\"}, \"baxis\": {\"gridcolor\": \"white\", \"linecolor\": \"white\", \"ticks\": \"\"}, \"bgcolor\": \"#E5ECF6\", \"caxis\": {\"gridcolor\": \"white\", \"linecolor\": \"white\", \"ticks\": \"\"}}, \"title\": {\"x\": 0.05}, \"xaxis\": {\"automargin\": true, \"gridcolor\": \"white\", \"linecolor\": \"white\", \"ticks\": \"\", \"title\": {\"standoff\": 15}, \"zerolinecolor\": \"white\", \"zerolinewidth\": 2}, \"yaxis\": {\"automargin\": true, \"gridcolor\": \"white\", \"linecolor\": \"white\", \"ticks\": \"\", \"title\": {\"standoff\": 15}, \"zerolinecolor\": \"white\", \"zerolinewidth\": 2}}}, \"title\": {\"font\": {\"size\": 16}, \"text\": \"<br>Network graph made with Python\"}, \"xaxis\": {\"showgrid\": false, \"showticklabels\": false, \"zeroline\": false}, \"yaxis\": {\"showgrid\": false, \"showticklabels\": false, \"zeroline\": false}},                        {\"responsive\": true}                    ).then(function(){\n",
       "                            \n",
       "var gd = document.getElementById('77ee0af0-2fea-4bed-bd14-7bb6b25bf934');\n",
       "var x = new MutationObserver(function (mutations, observer) {{\n",
       "        var display = window.getComputedStyle(gd).display;\n",
       "        if (!display || display === 'none') {{\n",
       "            console.log([gd, 'removed!']);\n",
       "            Plotly.purge(gd);\n",
       "            observer.disconnect();\n",
       "        }}\n",
       "}});\n",
       "\n",
       "// Listen for the removal of the full notebook cells\n",
       "var notebookContainer = gd.closest('#notebook-container');\n",
       "if (notebookContainer) {{\n",
       "    x.observe(notebookContainer, {childList: true});\n",
       "}}\n",
       "\n",
       "// Listen for the clearing of the current output cell\n",
       "var outputEl = gd.closest('.output');\n",
       "if (outputEl) {{\n",
       "    x.observe(outputEl, {childList: true});\n",
       "}}\n",
       "\n",
       "                        })                };                });            </script>        </div>"
      ]
     },
     "metadata": {},
     "output_type": "display_data"
    }
   ],
   "source": [
    "map_10 = load_map_10()\n",
    "show_map(map_10)"
   ]
  },
  {
   "cell_type": "code",
   "execution_count": 3,
   "metadata": {},
   "outputs": [
    {
     "data": {
      "application/vnd.plotly.v1+json": {
       "config": {
        "linkText": "Export to plot.ly",
        "plotlyServerURL": "https://plot.ly",
        "showLink": false
       },
       "data": [
        {
         "hoverinfo": "none",
         "line": {
          "color": "#888",
          "width": 0.5
         },
         "mode": "lines",
         "type": "scatter",
         "x": [
          0.7798606835438107,
          0.46247219371675075,
          null,
          0.7798606835438107,
          0.8820353070895344,
          null,
          0.7798606835438107,
          0.49016747075266875,
          null,
          0.7647837074641568,
          0.8325506249953353,
          null,
          0.7647837074641568,
          0.7076566826610747,
          null,
          0.7647837074641568,
          0.7155217893995438,
          null,
          0.7155217893995438,
          0.8325506249953353,
          null,
          0.7155217893995438,
          0.7076566826610747,
          null,
          0.7076566826610747,
          0.49016747075266875,
          null,
          0.7076566826610747,
          0.8325506249953353,
          null,
          0.49016747075266875,
          0.46247219371675075,
          null,
          0.11622158839385677,
          0.1285377678230034,
          null
         ],
         "y": [
          0.6922727646627362,
          0.6258061621642713,
          null,
          0.6922727646627362,
          0.6791919587749445,
          null,
          0.6922727646627362,
          0.5464878695400415,
          null,
          0.3252670836724646,
          0.02310946309985762,
          null,
          0.3252670836724646,
          0.3278339270610988,
          null,
          0.3252670836724646,
          0.20026498027300055,
          null,
          0.20026498027300055,
          0.02310946309985762,
          null,
          0.20026498027300055,
          0.3278339270610988,
          null,
          0.3278339270610988,
          0.5464878695400415,
          null,
          0.3278339270610988,
          0.02310946309985762,
          null,
          0.5464878695400415,
          0.6258061621642713,
          null,
          0.11236327488812581,
          0.3285840695698353,
          null
         ]
        },
        {
         "hoverinfo": "text",
         "marker": {
          "color": [
           0,
           1,
           0,
           2,
           0,
           2,
           0,
           3,
           0,
           0
          ],
          "colorbar": {
           "thickness": 15,
           "title": {
            "side": "right",
            "text": "Node Connections"
           },
           "xanchor": "left"
          },
          "colorscale": [
           [
            0,
            "rgb(0,0,0)"
           ],
           [
            0.3333333333333333,
            "rgb(230,0,0)"
           ],
           [
            0.6666666666666666,
            "rgb(255,210,0)"
           ],
           [
            1,
            "rgb(255,255,255)"
           ]
          ],
          "line": {
           "width": 2
          },
          "reversescale": true,
          "showscale": false,
          "size": 10
         },
         "mode": "markers",
         "text": [
          "Intersection 0",
          "Intersection 1",
          "Intersection 2",
          "Intersection 3",
          "Intersection 4",
          "Intersection 5",
          "Intersection 6",
          "Intersection 7",
          "Intersection 8",
          "Intersection 9"
         ],
         "type": "scatter",
         "x": [
          0.7798606835438107,
          0.7647837074641568,
          0.7155217893995438,
          0.7076566826610747,
          0.8325506249953353,
          0.49016747075266875,
          0.8820353070895344,
          0.46247219371675075,
          0.11622158839385677,
          0.1285377678230034
         ],
         "y": [
          0.6922727646627362,
          0.3252670836724646,
          0.20026498027300055,
          0.3278339270610988,
          0.02310946309985762,
          0.5464878695400415,
          0.6791919587749445,
          0.6258061621642713,
          0.11236327488812581,
          0.3285840695698353
         ]
        }
       ],
       "layout": {
        "hovermode": "closest",
        "margin": {
         "b": 20,
         "l": 5,
         "r": 5,
         "t": 40
        },
        "showlegend": false,
        "template": {
         "data": {
          "bar": [
           {
            "error_x": {
             "color": "#2a3f5f"
            },
            "error_y": {
             "color": "#2a3f5f"
            },
            "marker": {
             "line": {
              "color": "#E5ECF6",
              "width": 0.5
             }
            },
            "type": "bar"
           }
          ],
          "barpolar": [
           {
            "marker": {
             "line": {
              "color": "#E5ECF6",
              "width": 0.5
             }
            },
            "type": "barpolar"
           }
          ],
          "carpet": [
           {
            "aaxis": {
             "endlinecolor": "#2a3f5f",
             "gridcolor": "white",
             "linecolor": "white",
             "minorgridcolor": "white",
             "startlinecolor": "#2a3f5f"
            },
            "baxis": {
             "endlinecolor": "#2a3f5f",
             "gridcolor": "white",
             "linecolor": "white",
             "minorgridcolor": "white",
             "startlinecolor": "#2a3f5f"
            },
            "type": "carpet"
           }
          ],
          "choropleth": [
           {
            "colorbar": {
             "outlinewidth": 0,
             "ticks": ""
            },
            "type": "choropleth"
           }
          ],
          "contour": [
           {
            "colorbar": {
             "outlinewidth": 0,
             "ticks": ""
            },
            "colorscale": [
             [
              0,
              "#0d0887"
             ],
             [
              0.1111111111111111,
              "#46039f"
             ],
             [
              0.2222222222222222,
              "#7201a8"
             ],
             [
              0.3333333333333333,
              "#9c179e"
             ],
             [
              0.4444444444444444,
              "#bd3786"
             ],
             [
              0.5555555555555556,
              "#d8576b"
             ],
             [
              0.6666666666666666,
              "#ed7953"
             ],
             [
              0.7777777777777778,
              "#fb9f3a"
             ],
             [
              0.8888888888888888,
              "#fdca26"
             ],
             [
              1,
              "#f0f921"
             ]
            ],
            "type": "contour"
           }
          ],
          "contourcarpet": [
           {
            "colorbar": {
             "outlinewidth": 0,
             "ticks": ""
            },
            "type": "contourcarpet"
           }
          ],
          "heatmap": [
           {
            "colorbar": {
             "outlinewidth": 0,
             "ticks": ""
            },
            "colorscale": [
             [
              0,
              "#0d0887"
             ],
             [
              0.1111111111111111,
              "#46039f"
             ],
             [
              0.2222222222222222,
              "#7201a8"
             ],
             [
              0.3333333333333333,
              "#9c179e"
             ],
             [
              0.4444444444444444,
              "#bd3786"
             ],
             [
              0.5555555555555556,
              "#d8576b"
             ],
             [
              0.6666666666666666,
              "#ed7953"
             ],
             [
              0.7777777777777778,
              "#fb9f3a"
             ],
             [
              0.8888888888888888,
              "#fdca26"
             ],
             [
              1,
              "#f0f921"
             ]
            ],
            "type": "heatmap"
           }
          ],
          "heatmapgl": [
           {
            "colorbar": {
             "outlinewidth": 0,
             "ticks": ""
            },
            "colorscale": [
             [
              0,
              "#0d0887"
             ],
             [
              0.1111111111111111,
              "#46039f"
             ],
             [
              0.2222222222222222,
              "#7201a8"
             ],
             [
              0.3333333333333333,
              "#9c179e"
             ],
             [
              0.4444444444444444,
              "#bd3786"
             ],
             [
              0.5555555555555556,
              "#d8576b"
             ],
             [
              0.6666666666666666,
              "#ed7953"
             ],
             [
              0.7777777777777778,
              "#fb9f3a"
             ],
             [
              0.8888888888888888,
              "#fdca26"
             ],
             [
              1,
              "#f0f921"
             ]
            ],
            "type": "heatmapgl"
           }
          ],
          "histogram": [
           {
            "marker": {
             "colorbar": {
              "outlinewidth": 0,
              "ticks": ""
             }
            },
            "type": "histogram"
           }
          ],
          "histogram2d": [
           {
            "colorbar": {
             "outlinewidth": 0,
             "ticks": ""
            },
            "colorscale": [
             [
              0,
              "#0d0887"
             ],
             [
              0.1111111111111111,
              "#46039f"
             ],
             [
              0.2222222222222222,
              "#7201a8"
             ],
             [
              0.3333333333333333,
              "#9c179e"
             ],
             [
              0.4444444444444444,
              "#bd3786"
             ],
             [
              0.5555555555555556,
              "#d8576b"
             ],
             [
              0.6666666666666666,
              "#ed7953"
             ],
             [
              0.7777777777777778,
              "#fb9f3a"
             ],
             [
              0.8888888888888888,
              "#fdca26"
             ],
             [
              1,
              "#f0f921"
             ]
            ],
            "type": "histogram2d"
           }
          ],
          "histogram2dcontour": [
           {
            "colorbar": {
             "outlinewidth": 0,
             "ticks": ""
            },
            "colorscale": [
             [
              0,
              "#0d0887"
             ],
             [
              0.1111111111111111,
              "#46039f"
             ],
             [
              0.2222222222222222,
              "#7201a8"
             ],
             [
              0.3333333333333333,
              "#9c179e"
             ],
             [
              0.4444444444444444,
              "#bd3786"
             ],
             [
              0.5555555555555556,
              "#d8576b"
             ],
             [
              0.6666666666666666,
              "#ed7953"
             ],
             [
              0.7777777777777778,
              "#fb9f3a"
             ],
             [
              0.8888888888888888,
              "#fdca26"
             ],
             [
              1,
              "#f0f921"
             ]
            ],
            "type": "histogram2dcontour"
           }
          ],
          "mesh3d": [
           {
            "colorbar": {
             "outlinewidth": 0,
             "ticks": ""
            },
            "type": "mesh3d"
           }
          ],
          "parcoords": [
           {
            "line": {
             "colorbar": {
              "outlinewidth": 0,
              "ticks": ""
             }
            },
            "type": "parcoords"
           }
          ],
          "pie": [
           {
            "automargin": true,
            "type": "pie"
           }
          ],
          "scatter": [
           {
            "marker": {
             "colorbar": {
              "outlinewidth": 0,
              "ticks": ""
             }
            },
            "type": "scatter"
           }
          ],
          "scatter3d": [
           {
            "line": {
             "colorbar": {
              "outlinewidth": 0,
              "ticks": ""
             }
            },
            "marker": {
             "colorbar": {
              "outlinewidth": 0,
              "ticks": ""
             }
            },
            "type": "scatter3d"
           }
          ],
          "scattercarpet": [
           {
            "marker": {
             "colorbar": {
              "outlinewidth": 0,
              "ticks": ""
             }
            },
            "type": "scattercarpet"
           }
          ],
          "scattergeo": [
           {
            "marker": {
             "colorbar": {
              "outlinewidth": 0,
              "ticks": ""
             }
            },
            "type": "scattergeo"
           }
          ],
          "scattergl": [
           {
            "marker": {
             "colorbar": {
              "outlinewidth": 0,
              "ticks": ""
             }
            },
            "type": "scattergl"
           }
          ],
          "scattermapbox": [
           {
            "marker": {
             "colorbar": {
              "outlinewidth": 0,
              "ticks": ""
             }
            },
            "type": "scattermapbox"
           }
          ],
          "scatterpolar": [
           {
            "marker": {
             "colorbar": {
              "outlinewidth": 0,
              "ticks": ""
             }
            },
            "type": "scatterpolar"
           }
          ],
          "scatterpolargl": [
           {
            "marker": {
             "colorbar": {
              "outlinewidth": 0,
              "ticks": ""
             }
            },
            "type": "scatterpolargl"
           }
          ],
          "scatterternary": [
           {
            "marker": {
             "colorbar": {
              "outlinewidth": 0,
              "ticks": ""
             }
            },
            "type": "scatterternary"
           }
          ],
          "surface": [
           {
            "colorbar": {
             "outlinewidth": 0,
             "ticks": ""
            },
            "colorscale": [
             [
              0,
              "#0d0887"
             ],
             [
              0.1111111111111111,
              "#46039f"
             ],
             [
              0.2222222222222222,
              "#7201a8"
             ],
             [
              0.3333333333333333,
              "#9c179e"
             ],
             [
              0.4444444444444444,
              "#bd3786"
             ],
             [
              0.5555555555555556,
              "#d8576b"
             ],
             [
              0.6666666666666666,
              "#ed7953"
             ],
             [
              0.7777777777777778,
              "#fb9f3a"
             ],
             [
              0.8888888888888888,
              "#fdca26"
             ],
             [
              1,
              "#f0f921"
             ]
            ],
            "type": "surface"
           }
          ],
          "table": [
           {
            "cells": {
             "fill": {
              "color": "#EBF0F8"
             },
             "line": {
              "color": "white"
             }
            },
            "header": {
             "fill": {
              "color": "#C8D4E3"
             },
             "line": {
              "color": "white"
             }
            },
            "type": "table"
           }
          ]
         },
         "layout": {
          "annotationdefaults": {
           "arrowcolor": "#2a3f5f",
           "arrowhead": 0,
           "arrowwidth": 1
          },
          "coloraxis": {
           "colorbar": {
            "outlinewidth": 0,
            "ticks": ""
           }
          },
          "colorscale": {
           "diverging": [
            [
             0,
             "#8e0152"
            ],
            [
             0.1,
             "#c51b7d"
            ],
            [
             0.2,
             "#de77ae"
            ],
            [
             0.3,
             "#f1b6da"
            ],
            [
             0.4,
             "#fde0ef"
            ],
            [
             0.5,
             "#f7f7f7"
            ],
            [
             0.6,
             "#e6f5d0"
            ],
            [
             0.7,
             "#b8e186"
            ],
            [
             0.8,
             "#7fbc41"
            ],
            [
             0.9,
             "#4d9221"
            ],
            [
             1,
             "#276419"
            ]
           ],
           "sequential": [
            [
             0,
             "#0d0887"
            ],
            [
             0.1111111111111111,
             "#46039f"
            ],
            [
             0.2222222222222222,
             "#7201a8"
            ],
            [
             0.3333333333333333,
             "#9c179e"
            ],
            [
             0.4444444444444444,
             "#bd3786"
            ],
            [
             0.5555555555555556,
             "#d8576b"
            ],
            [
             0.6666666666666666,
             "#ed7953"
            ],
            [
             0.7777777777777778,
             "#fb9f3a"
            ],
            [
             0.8888888888888888,
             "#fdca26"
            ],
            [
             1,
             "#f0f921"
            ]
           ],
           "sequentialminus": [
            [
             0,
             "#0d0887"
            ],
            [
             0.1111111111111111,
             "#46039f"
            ],
            [
             0.2222222222222222,
             "#7201a8"
            ],
            [
             0.3333333333333333,
             "#9c179e"
            ],
            [
             0.4444444444444444,
             "#bd3786"
            ],
            [
             0.5555555555555556,
             "#d8576b"
            ],
            [
             0.6666666666666666,
             "#ed7953"
            ],
            [
             0.7777777777777778,
             "#fb9f3a"
            ],
            [
             0.8888888888888888,
             "#fdca26"
            ],
            [
             1,
             "#f0f921"
            ]
           ]
          },
          "colorway": [
           "#636efa",
           "#EF553B",
           "#00cc96",
           "#ab63fa",
           "#FFA15A",
           "#19d3f3",
           "#FF6692",
           "#B6E880",
           "#FF97FF",
           "#FECB52"
          ],
          "font": {
           "color": "#2a3f5f"
          },
          "geo": {
           "bgcolor": "white",
           "lakecolor": "white",
           "landcolor": "#E5ECF6",
           "showlakes": true,
           "showland": true,
           "subunitcolor": "white"
          },
          "hoverlabel": {
           "align": "left"
          },
          "hovermode": "closest",
          "mapbox": {
           "style": "light"
          },
          "paper_bgcolor": "white",
          "plot_bgcolor": "#E5ECF6",
          "polar": {
           "angularaxis": {
            "gridcolor": "white",
            "linecolor": "white",
            "ticks": ""
           },
           "bgcolor": "#E5ECF6",
           "radialaxis": {
            "gridcolor": "white",
            "linecolor": "white",
            "ticks": ""
           }
          },
          "scene": {
           "xaxis": {
            "backgroundcolor": "#E5ECF6",
            "gridcolor": "white",
            "gridwidth": 2,
            "linecolor": "white",
            "showbackground": true,
            "ticks": "",
            "zerolinecolor": "white"
           },
           "yaxis": {
            "backgroundcolor": "#E5ECF6",
            "gridcolor": "white",
            "gridwidth": 2,
            "linecolor": "white",
            "showbackground": true,
            "ticks": "",
            "zerolinecolor": "white"
           },
           "zaxis": {
            "backgroundcolor": "#E5ECF6",
            "gridcolor": "white",
            "gridwidth": 2,
            "linecolor": "white",
            "showbackground": true,
            "ticks": "",
            "zerolinecolor": "white"
           }
          },
          "shapedefaults": {
           "line": {
            "color": "#2a3f5f"
           }
          },
          "ternary": {
           "aaxis": {
            "gridcolor": "white",
            "linecolor": "white",
            "ticks": ""
           },
           "baxis": {
            "gridcolor": "white",
            "linecolor": "white",
            "ticks": ""
           },
           "bgcolor": "#E5ECF6",
           "caxis": {
            "gridcolor": "white",
            "linecolor": "white",
            "ticks": ""
           }
          },
          "title": {
           "x": 0.05
          },
          "xaxis": {
           "automargin": true,
           "gridcolor": "white",
           "linecolor": "white",
           "ticks": "",
           "title": {
            "standoff": 15
           },
           "zerolinecolor": "white",
           "zerolinewidth": 2
          },
          "yaxis": {
           "automargin": true,
           "gridcolor": "white",
           "linecolor": "white",
           "ticks": "",
           "title": {
            "standoff": 15
           },
           "zerolinecolor": "white",
           "zerolinewidth": 2
          }
         }
        },
        "title": {
         "font": {
          "size": 16
         },
         "text": "<br>Network graph made with Python"
        },
        "xaxis": {
         "showgrid": false,
         "showticklabels": false,
         "zeroline": false
        },
        "yaxis": {
         "showgrid": false,
         "showticklabels": false,
         "zeroline": false
        }
       }
      },
      "text/html": [
       "<div>                            <div id=\"cea32e83-f1ce-4331-bf15-7d7f414fdece\" class=\"plotly-graph-div\" style=\"height:525px; width:100%;\"></div>            <script type=\"text/javascript\">                require([\"plotly\"], function(Plotly) {                    window.PLOTLYENV=window.PLOTLYENV || {};                                    if (document.getElementById(\"cea32e83-f1ce-4331-bf15-7d7f414fdece\")) {                    Plotly.newPlot(                        \"cea32e83-f1ce-4331-bf15-7d7f414fdece\",                        [{\"hoverinfo\": \"none\", \"line\": {\"color\": \"#888\", \"width\": 0.5}, \"mode\": \"lines\", \"type\": \"scatter\", \"x\": [0.7798606835438107, 0.46247219371675075, null, 0.7798606835438107, 0.8820353070895344, null, 0.7798606835438107, 0.49016747075266875, null, 0.7647837074641568, 0.8325506249953353, null, 0.7647837074641568, 0.7076566826610747, null, 0.7647837074641568, 0.7155217893995438, null, 0.7155217893995438, 0.8325506249953353, null, 0.7155217893995438, 0.7076566826610747, null, 0.7076566826610747, 0.49016747075266875, null, 0.7076566826610747, 0.8325506249953353, null, 0.49016747075266875, 0.46247219371675075, null, 0.11622158839385677, 0.1285377678230034, null], \"y\": [0.6922727646627362, 0.6258061621642713, null, 0.6922727646627362, 0.6791919587749445, null, 0.6922727646627362, 0.5464878695400415, null, 0.3252670836724646, 0.02310946309985762, null, 0.3252670836724646, 0.3278339270610988, null, 0.3252670836724646, 0.20026498027300055, null, 0.20026498027300055, 0.02310946309985762, null, 0.20026498027300055, 0.3278339270610988, null, 0.3278339270610988, 0.5464878695400415, null, 0.3278339270610988, 0.02310946309985762, null, 0.5464878695400415, 0.6258061621642713, null, 0.11236327488812581, 0.3285840695698353, null]}, {\"hoverinfo\": \"text\", \"marker\": {\"color\": [0, 1, 0, 2, 0, 2, 0, 3, 0, 0], \"colorbar\": {\"thickness\": 15, \"title\": {\"side\": \"right\", \"text\": \"Node Connections\"}, \"xanchor\": \"left\"}, \"colorscale\": [[0.0, \"rgb(0,0,0)\"], [0.3333333333333333, \"rgb(230,0,0)\"], [0.6666666666666666, \"rgb(255,210,0)\"], [1.0, \"rgb(255,255,255)\"]], \"line\": {\"width\": 2}, \"reversescale\": true, \"showscale\": false, \"size\": 10}, \"mode\": \"markers\", \"text\": [\"Intersection 0\", \"Intersection 1\", \"Intersection 2\", \"Intersection 3\", \"Intersection 4\", \"Intersection 5\", \"Intersection 6\", \"Intersection 7\", \"Intersection 8\", \"Intersection 9\"], \"type\": \"scatter\", \"x\": [0.7798606835438107, 0.7647837074641568, 0.7155217893995438, 0.7076566826610747, 0.8325506249953353, 0.49016747075266875, 0.8820353070895344, 0.46247219371675075, 0.11622158839385677, 0.1285377678230034], \"y\": [0.6922727646627362, 0.3252670836724646, 0.20026498027300055, 0.3278339270610988, 0.02310946309985762, 0.5464878695400415, 0.6791919587749445, 0.6258061621642713, 0.11236327488812581, 0.3285840695698353]}],                        {\"hovermode\": \"closest\", \"margin\": {\"b\": 20, \"l\": 5, \"r\": 5, \"t\": 40}, \"showlegend\": false, \"template\": {\"data\": {\"bar\": [{\"error_x\": {\"color\": \"#2a3f5f\"}, \"error_y\": {\"color\": \"#2a3f5f\"}, \"marker\": {\"line\": {\"color\": \"#E5ECF6\", \"width\": 0.5}}, \"type\": \"bar\"}], \"barpolar\": [{\"marker\": {\"line\": {\"color\": \"#E5ECF6\", \"width\": 0.5}}, \"type\": \"barpolar\"}], \"carpet\": [{\"aaxis\": {\"endlinecolor\": \"#2a3f5f\", \"gridcolor\": \"white\", \"linecolor\": \"white\", \"minorgridcolor\": \"white\", \"startlinecolor\": \"#2a3f5f\"}, \"baxis\": {\"endlinecolor\": \"#2a3f5f\", \"gridcolor\": \"white\", \"linecolor\": \"white\", \"minorgridcolor\": \"white\", \"startlinecolor\": \"#2a3f5f\"}, \"type\": \"carpet\"}], \"choropleth\": [{\"colorbar\": {\"outlinewidth\": 0, \"ticks\": \"\"}, \"type\": \"choropleth\"}], \"contour\": [{\"colorbar\": {\"outlinewidth\": 0, \"ticks\": \"\"}, \"colorscale\": [[0.0, \"#0d0887\"], [0.1111111111111111, \"#46039f\"], [0.2222222222222222, \"#7201a8\"], [0.3333333333333333, \"#9c179e\"], [0.4444444444444444, \"#bd3786\"], [0.5555555555555556, \"#d8576b\"], [0.6666666666666666, \"#ed7953\"], [0.7777777777777778, \"#fb9f3a\"], [0.8888888888888888, \"#fdca26\"], [1.0, \"#f0f921\"]], \"type\": \"contour\"}], \"contourcarpet\": [{\"colorbar\": {\"outlinewidth\": 0, \"ticks\": \"\"}, \"type\": \"contourcarpet\"}], \"heatmap\": [{\"colorbar\": {\"outlinewidth\": 0, \"ticks\": \"\"}, \"colorscale\": [[0.0, \"#0d0887\"], [0.1111111111111111, \"#46039f\"], [0.2222222222222222, \"#7201a8\"], [0.3333333333333333, \"#9c179e\"], [0.4444444444444444, \"#bd3786\"], [0.5555555555555556, \"#d8576b\"], [0.6666666666666666, \"#ed7953\"], [0.7777777777777778, \"#fb9f3a\"], [0.8888888888888888, \"#fdca26\"], [1.0, \"#f0f921\"]], \"type\": \"heatmap\"}], \"heatmapgl\": [{\"colorbar\": {\"outlinewidth\": 0, \"ticks\": \"\"}, \"colorscale\": [[0.0, \"#0d0887\"], [0.1111111111111111, \"#46039f\"], [0.2222222222222222, \"#7201a8\"], [0.3333333333333333, \"#9c179e\"], [0.4444444444444444, \"#bd3786\"], [0.5555555555555556, \"#d8576b\"], [0.6666666666666666, \"#ed7953\"], [0.7777777777777778, \"#fb9f3a\"], [0.8888888888888888, \"#fdca26\"], [1.0, \"#f0f921\"]], \"type\": \"heatmapgl\"}], \"histogram\": [{\"marker\": {\"colorbar\": {\"outlinewidth\": 0, \"ticks\": \"\"}}, \"type\": \"histogram\"}], \"histogram2d\": [{\"colorbar\": {\"outlinewidth\": 0, \"ticks\": \"\"}, \"colorscale\": [[0.0, \"#0d0887\"], [0.1111111111111111, \"#46039f\"], [0.2222222222222222, \"#7201a8\"], [0.3333333333333333, \"#9c179e\"], [0.4444444444444444, \"#bd3786\"], [0.5555555555555556, \"#d8576b\"], [0.6666666666666666, \"#ed7953\"], [0.7777777777777778, \"#fb9f3a\"], [0.8888888888888888, \"#fdca26\"], [1.0, \"#f0f921\"]], \"type\": \"histogram2d\"}], \"histogram2dcontour\": [{\"colorbar\": {\"outlinewidth\": 0, \"ticks\": \"\"}, \"colorscale\": [[0.0, \"#0d0887\"], [0.1111111111111111, \"#46039f\"], [0.2222222222222222, \"#7201a8\"], [0.3333333333333333, \"#9c179e\"], [0.4444444444444444, \"#bd3786\"], [0.5555555555555556, \"#d8576b\"], [0.6666666666666666, \"#ed7953\"], [0.7777777777777778, \"#fb9f3a\"], [0.8888888888888888, \"#fdca26\"], [1.0, \"#f0f921\"]], \"type\": \"histogram2dcontour\"}], \"mesh3d\": [{\"colorbar\": {\"outlinewidth\": 0, \"ticks\": \"\"}, \"type\": \"mesh3d\"}], \"parcoords\": [{\"line\": {\"colorbar\": {\"outlinewidth\": 0, \"ticks\": \"\"}}, \"type\": \"parcoords\"}], \"pie\": [{\"automargin\": true, \"type\": \"pie\"}], \"scatter\": [{\"marker\": {\"colorbar\": {\"outlinewidth\": 0, \"ticks\": \"\"}}, \"type\": \"scatter\"}], \"scatter3d\": [{\"line\": {\"colorbar\": {\"outlinewidth\": 0, \"ticks\": \"\"}}, \"marker\": {\"colorbar\": {\"outlinewidth\": 0, \"ticks\": \"\"}}, \"type\": \"scatter3d\"}], \"scattercarpet\": [{\"marker\": {\"colorbar\": {\"outlinewidth\": 0, \"ticks\": \"\"}}, \"type\": \"scattercarpet\"}], \"scattergeo\": [{\"marker\": {\"colorbar\": {\"outlinewidth\": 0, \"ticks\": \"\"}}, \"type\": \"scattergeo\"}], \"scattergl\": [{\"marker\": {\"colorbar\": {\"outlinewidth\": 0, \"ticks\": \"\"}}, \"type\": \"scattergl\"}], \"scattermapbox\": [{\"marker\": {\"colorbar\": {\"outlinewidth\": 0, \"ticks\": \"\"}}, \"type\": \"scattermapbox\"}], \"scatterpolar\": [{\"marker\": {\"colorbar\": {\"outlinewidth\": 0, \"ticks\": \"\"}}, \"type\": \"scatterpolar\"}], \"scatterpolargl\": [{\"marker\": {\"colorbar\": {\"outlinewidth\": 0, \"ticks\": \"\"}}, \"type\": \"scatterpolargl\"}], \"scatterternary\": [{\"marker\": {\"colorbar\": {\"outlinewidth\": 0, \"ticks\": \"\"}}, \"type\": \"scatterternary\"}], \"surface\": [{\"colorbar\": {\"outlinewidth\": 0, \"ticks\": \"\"}, \"colorscale\": [[0.0, \"#0d0887\"], [0.1111111111111111, \"#46039f\"], [0.2222222222222222, \"#7201a8\"], [0.3333333333333333, \"#9c179e\"], [0.4444444444444444, \"#bd3786\"], [0.5555555555555556, \"#d8576b\"], [0.6666666666666666, \"#ed7953\"], [0.7777777777777778, \"#fb9f3a\"], [0.8888888888888888, \"#fdca26\"], [1.0, \"#f0f921\"]], \"type\": \"surface\"}], \"table\": [{\"cells\": {\"fill\": {\"color\": \"#EBF0F8\"}, \"line\": {\"color\": \"white\"}}, \"header\": {\"fill\": {\"color\": \"#C8D4E3\"}, \"line\": {\"color\": \"white\"}}, \"type\": \"table\"}]}, \"layout\": {\"annotationdefaults\": {\"arrowcolor\": \"#2a3f5f\", \"arrowhead\": 0, \"arrowwidth\": 1}, \"coloraxis\": {\"colorbar\": {\"outlinewidth\": 0, \"ticks\": \"\"}}, \"colorscale\": {\"diverging\": [[0, \"#8e0152\"], [0.1, \"#c51b7d\"], [0.2, \"#de77ae\"], [0.3, \"#f1b6da\"], [0.4, \"#fde0ef\"], [0.5, \"#f7f7f7\"], [0.6, \"#e6f5d0\"], [0.7, \"#b8e186\"], [0.8, \"#7fbc41\"], [0.9, \"#4d9221\"], [1, \"#276419\"]], \"sequential\": [[0.0, \"#0d0887\"], [0.1111111111111111, \"#46039f\"], [0.2222222222222222, \"#7201a8\"], [0.3333333333333333, \"#9c179e\"], [0.4444444444444444, \"#bd3786\"], [0.5555555555555556, \"#d8576b\"], [0.6666666666666666, \"#ed7953\"], [0.7777777777777778, \"#fb9f3a\"], [0.8888888888888888, \"#fdca26\"], [1.0, \"#f0f921\"]], \"sequentialminus\": [[0.0, \"#0d0887\"], [0.1111111111111111, \"#46039f\"], [0.2222222222222222, \"#7201a8\"], [0.3333333333333333, \"#9c179e\"], [0.4444444444444444, \"#bd3786\"], [0.5555555555555556, \"#d8576b\"], [0.6666666666666666, \"#ed7953\"], [0.7777777777777778, \"#fb9f3a\"], [0.8888888888888888, \"#fdca26\"], [1.0, \"#f0f921\"]]}, \"colorway\": [\"#636efa\", \"#EF553B\", \"#00cc96\", \"#ab63fa\", \"#FFA15A\", \"#19d3f3\", \"#FF6692\", \"#B6E880\", \"#FF97FF\", \"#FECB52\"], \"font\": {\"color\": \"#2a3f5f\"}, \"geo\": {\"bgcolor\": \"white\", \"lakecolor\": \"white\", \"landcolor\": \"#E5ECF6\", \"showlakes\": true, \"showland\": true, \"subunitcolor\": \"white\"}, \"hoverlabel\": {\"align\": \"left\"}, \"hovermode\": \"closest\", \"mapbox\": {\"style\": \"light\"}, \"paper_bgcolor\": \"white\", \"plot_bgcolor\": \"#E5ECF6\", \"polar\": {\"angularaxis\": {\"gridcolor\": \"white\", \"linecolor\": \"white\", \"ticks\": \"\"}, \"bgcolor\": \"#E5ECF6\", \"radialaxis\": {\"gridcolor\": \"white\", \"linecolor\": \"white\", \"ticks\": \"\"}}, \"scene\": {\"xaxis\": {\"backgroundcolor\": \"#E5ECF6\", \"gridcolor\": \"white\", \"gridwidth\": 2, \"linecolor\": \"white\", \"showbackground\": true, \"ticks\": \"\", \"zerolinecolor\": \"white\"}, \"yaxis\": {\"backgroundcolor\": \"#E5ECF6\", \"gridcolor\": \"white\", \"gridwidth\": 2, \"linecolor\": \"white\", \"showbackground\": true, \"ticks\": \"\", \"zerolinecolor\": \"white\"}, \"zaxis\": {\"backgroundcolor\": \"#E5ECF6\", \"gridcolor\": \"white\", \"gridwidth\": 2, \"linecolor\": \"white\", \"showbackground\": true, \"ticks\": \"\", \"zerolinecolor\": \"white\"}}, \"shapedefaults\": {\"line\": {\"color\": \"#2a3f5f\"}}, \"ternary\": {\"aaxis\": {\"gridcolor\": \"white\", \"linecolor\": \"white\", \"ticks\": \"\"}, \"baxis\": {\"gridcolor\": \"white\", \"linecolor\": \"white\", \"ticks\": \"\"}, \"bgcolor\": \"#E5ECF6\", \"caxis\": {\"gridcolor\": \"white\", \"linecolor\": \"white\", \"ticks\": \"\"}}, \"title\": {\"x\": 0.05}, \"xaxis\": {\"automargin\": true, \"gridcolor\": \"white\", \"linecolor\": \"white\", \"ticks\": \"\", \"title\": {\"standoff\": 15}, \"zerolinecolor\": \"white\", \"zerolinewidth\": 2}, \"yaxis\": {\"automargin\": true, \"gridcolor\": \"white\", \"linecolor\": \"white\", \"ticks\": \"\", \"title\": {\"standoff\": 15}, \"zerolinecolor\": \"white\", \"zerolinewidth\": 2}}}, \"title\": {\"font\": {\"size\": 16}, \"text\": \"<br>Network graph made with Python\"}, \"xaxis\": {\"showgrid\": false, \"showticklabels\": false, \"zeroline\": false}, \"yaxis\": {\"showgrid\": false, \"showticklabels\": false, \"zeroline\": false}},                        {\"responsive\": true}                    ).then(function(){\n",
       "                            \n",
       "var gd = document.getElementById('cea32e83-f1ce-4331-bf15-7d7f414fdece');\n",
       "var x = new MutationObserver(function (mutations, observer) {{\n",
       "        var display = window.getComputedStyle(gd).display;\n",
       "        if (!display || display === 'none') {{\n",
       "            console.log([gd, 'removed!']);\n",
       "            Plotly.purge(gd);\n",
       "            observer.disconnect();\n",
       "        }}\n",
       "}});\n",
       "\n",
       "// Listen for the removal of the full notebook cells\n",
       "var notebookContainer = gd.closest('#notebook-container');\n",
       "if (notebookContainer) {{\n",
       "    x.observe(notebookContainer, {childList: true});\n",
       "}}\n",
       "\n",
       "// Listen for the clearing of the current output cell\n",
       "var outputEl = gd.closest('.output');\n",
       "if (outputEl) {{\n",
       "    x.observe(outputEl, {childList: true});\n",
       "}}\n",
       "\n",
       "                        })                };                });            </script>        </div>"
      ]
     },
     "metadata": {},
     "output_type": "display_data"
    },
    {
     "name": "stdout",
     "output_type": "stream",
     "text": [
      "minimum cost to reach from 7 to 1 = 0.4496\n",
      "Path: [7, 5, 3, 1]\n"
     ]
    }
   ],
   "source": [
    "start = 7\n",
    "goal = 1\n",
    "planner = PathPlanner(map_10, start, goal)\n",
    "show_map(map_10,start, goal, planner.path)\n",
    "print(f\"minimum cost to reach from {start} to {goal} = {planner.cost :0.4f}\")\n",
    "print(f\"Path: {planner.path}\")"
   ]
  },
  {
   "cell_type": "code",
   "execution_count": 5,
   "metadata": {
    "scrolled": true
   },
   "outputs": [
    {
     "data": {
      "application/vnd.plotly.v1+json": {
       "config": {
        "linkText": "Export to plot.ly",
        "plotlyServerURL": "https://plot.ly",
        "showLink": false
       },
       "data": [
        {
         "hoverinfo": "none",
         "line": {
          "color": "#888",
          "width": 0.5
         },
         "mode": "lines",
         "type": "scatter",
         "x": [
          0.7798606835438107,
          0.46247219371675075,
          null,
          0.7798606835438107,
          0.8820353070895344,
          null,
          0.7798606835438107,
          0.49016747075266875,
          null,
          0.7647837074641568,
          0.8325506249953353,
          null,
          0.7647837074641568,
          0.7076566826610747,
          null,
          0.7647837074641568,
          0.7155217893995438,
          null,
          0.7155217893995438,
          0.8325506249953353,
          null,
          0.7155217893995438,
          0.7076566826610747,
          null,
          0.7076566826610747,
          0.49016747075266875,
          null,
          0.7076566826610747,
          0.8325506249953353,
          null,
          0.49016747075266875,
          0.46247219371675075,
          null,
          0.11622158839385677,
          0.1285377678230034,
          null
         ],
         "y": [
          0.6922727646627362,
          0.6258061621642713,
          null,
          0.6922727646627362,
          0.6791919587749445,
          null,
          0.6922727646627362,
          0.5464878695400415,
          null,
          0.3252670836724646,
          0.02310946309985762,
          null,
          0.3252670836724646,
          0.3278339270610988,
          null,
          0.3252670836724646,
          0.20026498027300055,
          null,
          0.20026498027300055,
          0.02310946309985762,
          null,
          0.20026498027300055,
          0.3278339270610988,
          null,
          0.3278339270610988,
          0.5464878695400415,
          null,
          0.3278339270610988,
          0.02310946309985762,
          null,
          0.5464878695400415,
          0.6258061621642713,
          null,
          0.11236327488812581,
          0.3285840695698353,
          null
         ]
        },
        {
         "hoverinfo": "text",
         "marker": {
          "color": [
           0,
           1,
           0,
           0,
           0,
           0,
           0,
           0,
           3,
           0
          ],
          "colorbar": {
           "thickness": 15,
           "title": {
            "side": "right",
            "text": "Node Connections"
           },
           "xanchor": "left"
          },
          "colorscale": [
           [
            0,
            "rgb(0,0,0)"
           ],
           [
            0.3333333333333333,
            "rgb(230,0,0)"
           ],
           [
            0.6666666666666666,
            "rgb(255,210,0)"
           ],
           [
            1,
            "rgb(255,255,255)"
           ]
          ],
          "line": {
           "width": 2
          },
          "reversescale": true,
          "showscale": false,
          "size": 10
         },
         "mode": "markers",
         "text": [
          "Intersection 0",
          "Intersection 1",
          "Intersection 2",
          "Intersection 3",
          "Intersection 4",
          "Intersection 5",
          "Intersection 6",
          "Intersection 7",
          "Intersection 8",
          "Intersection 9"
         ],
         "type": "scatter",
         "x": [
          0.7798606835438107,
          0.7647837074641568,
          0.7155217893995438,
          0.7076566826610747,
          0.8325506249953353,
          0.49016747075266875,
          0.8820353070895344,
          0.46247219371675075,
          0.11622158839385677,
          0.1285377678230034
         ],
         "y": [
          0.6922727646627362,
          0.3252670836724646,
          0.20026498027300055,
          0.3278339270610988,
          0.02310946309985762,
          0.5464878695400415,
          0.6791919587749445,
          0.6258061621642713,
          0.11236327488812581,
          0.3285840695698353
         ]
        }
       ],
       "layout": {
        "hovermode": "closest",
        "margin": {
         "b": 20,
         "l": 5,
         "r": 5,
         "t": 40
        },
        "showlegend": false,
        "template": {
         "data": {
          "bar": [
           {
            "error_x": {
             "color": "#2a3f5f"
            },
            "error_y": {
             "color": "#2a3f5f"
            },
            "marker": {
             "line": {
              "color": "#E5ECF6",
              "width": 0.5
             }
            },
            "type": "bar"
           }
          ],
          "barpolar": [
           {
            "marker": {
             "line": {
              "color": "#E5ECF6",
              "width": 0.5
             }
            },
            "type": "barpolar"
           }
          ],
          "carpet": [
           {
            "aaxis": {
             "endlinecolor": "#2a3f5f",
             "gridcolor": "white",
             "linecolor": "white",
             "minorgridcolor": "white",
             "startlinecolor": "#2a3f5f"
            },
            "baxis": {
             "endlinecolor": "#2a3f5f",
             "gridcolor": "white",
             "linecolor": "white",
             "minorgridcolor": "white",
             "startlinecolor": "#2a3f5f"
            },
            "type": "carpet"
           }
          ],
          "choropleth": [
           {
            "colorbar": {
             "outlinewidth": 0,
             "ticks": ""
            },
            "type": "choropleth"
           }
          ],
          "contour": [
           {
            "colorbar": {
             "outlinewidth": 0,
             "ticks": ""
            },
            "colorscale": [
             [
              0,
              "#0d0887"
             ],
             [
              0.1111111111111111,
              "#46039f"
             ],
             [
              0.2222222222222222,
              "#7201a8"
             ],
             [
              0.3333333333333333,
              "#9c179e"
             ],
             [
              0.4444444444444444,
              "#bd3786"
             ],
             [
              0.5555555555555556,
              "#d8576b"
             ],
             [
              0.6666666666666666,
              "#ed7953"
             ],
             [
              0.7777777777777778,
              "#fb9f3a"
             ],
             [
              0.8888888888888888,
              "#fdca26"
             ],
             [
              1,
              "#f0f921"
             ]
            ],
            "type": "contour"
           }
          ],
          "contourcarpet": [
           {
            "colorbar": {
             "outlinewidth": 0,
             "ticks": ""
            },
            "type": "contourcarpet"
           }
          ],
          "heatmap": [
           {
            "colorbar": {
             "outlinewidth": 0,
             "ticks": ""
            },
            "colorscale": [
             [
              0,
              "#0d0887"
             ],
             [
              0.1111111111111111,
              "#46039f"
             ],
             [
              0.2222222222222222,
              "#7201a8"
             ],
             [
              0.3333333333333333,
              "#9c179e"
             ],
             [
              0.4444444444444444,
              "#bd3786"
             ],
             [
              0.5555555555555556,
              "#d8576b"
             ],
             [
              0.6666666666666666,
              "#ed7953"
             ],
             [
              0.7777777777777778,
              "#fb9f3a"
             ],
             [
              0.8888888888888888,
              "#fdca26"
             ],
             [
              1,
              "#f0f921"
             ]
            ],
            "type": "heatmap"
           }
          ],
          "heatmapgl": [
           {
            "colorbar": {
             "outlinewidth": 0,
             "ticks": ""
            },
            "colorscale": [
             [
              0,
              "#0d0887"
             ],
             [
              0.1111111111111111,
              "#46039f"
             ],
             [
              0.2222222222222222,
              "#7201a8"
             ],
             [
              0.3333333333333333,
              "#9c179e"
             ],
             [
              0.4444444444444444,
              "#bd3786"
             ],
             [
              0.5555555555555556,
              "#d8576b"
             ],
             [
              0.6666666666666666,
              "#ed7953"
             ],
             [
              0.7777777777777778,
              "#fb9f3a"
             ],
             [
              0.8888888888888888,
              "#fdca26"
             ],
             [
              1,
              "#f0f921"
             ]
            ],
            "type": "heatmapgl"
           }
          ],
          "histogram": [
           {
            "marker": {
             "colorbar": {
              "outlinewidth": 0,
              "ticks": ""
             }
            },
            "type": "histogram"
           }
          ],
          "histogram2d": [
           {
            "colorbar": {
             "outlinewidth": 0,
             "ticks": ""
            },
            "colorscale": [
             [
              0,
              "#0d0887"
             ],
             [
              0.1111111111111111,
              "#46039f"
             ],
             [
              0.2222222222222222,
              "#7201a8"
             ],
             [
              0.3333333333333333,
              "#9c179e"
             ],
             [
              0.4444444444444444,
              "#bd3786"
             ],
             [
              0.5555555555555556,
              "#d8576b"
             ],
             [
              0.6666666666666666,
              "#ed7953"
             ],
             [
              0.7777777777777778,
              "#fb9f3a"
             ],
             [
              0.8888888888888888,
              "#fdca26"
             ],
             [
              1,
              "#f0f921"
             ]
            ],
            "type": "histogram2d"
           }
          ],
          "histogram2dcontour": [
           {
            "colorbar": {
             "outlinewidth": 0,
             "ticks": ""
            },
            "colorscale": [
             [
              0,
              "#0d0887"
             ],
             [
              0.1111111111111111,
              "#46039f"
             ],
             [
              0.2222222222222222,
              "#7201a8"
             ],
             [
              0.3333333333333333,
              "#9c179e"
             ],
             [
              0.4444444444444444,
              "#bd3786"
             ],
             [
              0.5555555555555556,
              "#d8576b"
             ],
             [
              0.6666666666666666,
              "#ed7953"
             ],
             [
              0.7777777777777778,
              "#fb9f3a"
             ],
             [
              0.8888888888888888,
              "#fdca26"
             ],
             [
              1,
              "#f0f921"
             ]
            ],
            "type": "histogram2dcontour"
           }
          ],
          "mesh3d": [
           {
            "colorbar": {
             "outlinewidth": 0,
             "ticks": ""
            },
            "type": "mesh3d"
           }
          ],
          "parcoords": [
           {
            "line": {
             "colorbar": {
              "outlinewidth": 0,
              "ticks": ""
             }
            },
            "type": "parcoords"
           }
          ],
          "pie": [
           {
            "automargin": true,
            "type": "pie"
           }
          ],
          "scatter": [
           {
            "marker": {
             "colorbar": {
              "outlinewidth": 0,
              "ticks": ""
             }
            },
            "type": "scatter"
           }
          ],
          "scatter3d": [
           {
            "line": {
             "colorbar": {
              "outlinewidth": 0,
              "ticks": ""
             }
            },
            "marker": {
             "colorbar": {
              "outlinewidth": 0,
              "ticks": ""
             }
            },
            "type": "scatter3d"
           }
          ],
          "scattercarpet": [
           {
            "marker": {
             "colorbar": {
              "outlinewidth": 0,
              "ticks": ""
             }
            },
            "type": "scattercarpet"
           }
          ],
          "scattergeo": [
           {
            "marker": {
             "colorbar": {
              "outlinewidth": 0,
              "ticks": ""
             }
            },
            "type": "scattergeo"
           }
          ],
          "scattergl": [
           {
            "marker": {
             "colorbar": {
              "outlinewidth": 0,
              "ticks": ""
             }
            },
            "type": "scattergl"
           }
          ],
          "scattermapbox": [
           {
            "marker": {
             "colorbar": {
              "outlinewidth": 0,
              "ticks": ""
             }
            },
            "type": "scattermapbox"
           }
          ],
          "scatterpolar": [
           {
            "marker": {
             "colorbar": {
              "outlinewidth": 0,
              "ticks": ""
             }
            },
            "type": "scatterpolar"
           }
          ],
          "scatterpolargl": [
           {
            "marker": {
             "colorbar": {
              "outlinewidth": 0,
              "ticks": ""
             }
            },
            "type": "scatterpolargl"
           }
          ],
          "scatterternary": [
           {
            "marker": {
             "colorbar": {
              "outlinewidth": 0,
              "ticks": ""
             }
            },
            "type": "scatterternary"
           }
          ],
          "surface": [
           {
            "colorbar": {
             "outlinewidth": 0,
             "ticks": ""
            },
            "colorscale": [
             [
              0,
              "#0d0887"
             ],
             [
              0.1111111111111111,
              "#46039f"
             ],
             [
              0.2222222222222222,
              "#7201a8"
             ],
             [
              0.3333333333333333,
              "#9c179e"
             ],
             [
              0.4444444444444444,
              "#bd3786"
             ],
             [
              0.5555555555555556,
              "#d8576b"
             ],
             [
              0.6666666666666666,
              "#ed7953"
             ],
             [
              0.7777777777777778,
              "#fb9f3a"
             ],
             [
              0.8888888888888888,
              "#fdca26"
             ],
             [
              1,
              "#f0f921"
             ]
            ],
            "type": "surface"
           }
          ],
          "table": [
           {
            "cells": {
             "fill": {
              "color": "#EBF0F8"
             },
             "line": {
              "color": "white"
             }
            },
            "header": {
             "fill": {
              "color": "#C8D4E3"
             },
             "line": {
              "color": "white"
             }
            },
            "type": "table"
           }
          ]
         },
         "layout": {
          "annotationdefaults": {
           "arrowcolor": "#2a3f5f",
           "arrowhead": 0,
           "arrowwidth": 1
          },
          "coloraxis": {
           "colorbar": {
            "outlinewidth": 0,
            "ticks": ""
           }
          },
          "colorscale": {
           "diverging": [
            [
             0,
             "#8e0152"
            ],
            [
             0.1,
             "#c51b7d"
            ],
            [
             0.2,
             "#de77ae"
            ],
            [
             0.3,
             "#f1b6da"
            ],
            [
             0.4,
             "#fde0ef"
            ],
            [
             0.5,
             "#f7f7f7"
            ],
            [
             0.6,
             "#e6f5d0"
            ],
            [
             0.7,
             "#b8e186"
            ],
            [
             0.8,
             "#7fbc41"
            ],
            [
             0.9,
             "#4d9221"
            ],
            [
             1,
             "#276419"
            ]
           ],
           "sequential": [
            [
             0,
             "#0d0887"
            ],
            [
             0.1111111111111111,
             "#46039f"
            ],
            [
             0.2222222222222222,
             "#7201a8"
            ],
            [
             0.3333333333333333,
             "#9c179e"
            ],
            [
             0.4444444444444444,
             "#bd3786"
            ],
            [
             0.5555555555555556,
             "#d8576b"
            ],
            [
             0.6666666666666666,
             "#ed7953"
            ],
            [
             0.7777777777777778,
             "#fb9f3a"
            ],
            [
             0.8888888888888888,
             "#fdca26"
            ],
            [
             1,
             "#f0f921"
            ]
           ],
           "sequentialminus": [
            [
             0,
             "#0d0887"
            ],
            [
             0.1111111111111111,
             "#46039f"
            ],
            [
             0.2222222222222222,
             "#7201a8"
            ],
            [
             0.3333333333333333,
             "#9c179e"
            ],
            [
             0.4444444444444444,
             "#bd3786"
            ],
            [
             0.5555555555555556,
             "#d8576b"
            ],
            [
             0.6666666666666666,
             "#ed7953"
            ],
            [
             0.7777777777777778,
             "#fb9f3a"
            ],
            [
             0.8888888888888888,
             "#fdca26"
            ],
            [
             1,
             "#f0f921"
            ]
           ]
          },
          "colorway": [
           "#636efa",
           "#EF553B",
           "#00cc96",
           "#ab63fa",
           "#FFA15A",
           "#19d3f3",
           "#FF6692",
           "#B6E880",
           "#FF97FF",
           "#FECB52"
          ],
          "font": {
           "color": "#2a3f5f"
          },
          "geo": {
           "bgcolor": "white",
           "lakecolor": "white",
           "landcolor": "#E5ECF6",
           "showlakes": true,
           "showland": true,
           "subunitcolor": "white"
          },
          "hoverlabel": {
           "align": "left"
          },
          "hovermode": "closest",
          "mapbox": {
           "style": "light"
          },
          "paper_bgcolor": "white",
          "plot_bgcolor": "#E5ECF6",
          "polar": {
           "angularaxis": {
            "gridcolor": "white",
            "linecolor": "white",
            "ticks": ""
           },
           "bgcolor": "#E5ECF6",
           "radialaxis": {
            "gridcolor": "white",
            "linecolor": "white",
            "ticks": ""
           }
          },
          "scene": {
           "xaxis": {
            "backgroundcolor": "#E5ECF6",
            "gridcolor": "white",
            "gridwidth": 2,
            "linecolor": "white",
            "showbackground": true,
            "ticks": "",
            "zerolinecolor": "white"
           },
           "yaxis": {
            "backgroundcolor": "#E5ECF6",
            "gridcolor": "white",
            "gridwidth": 2,
            "linecolor": "white",
            "showbackground": true,
            "ticks": "",
            "zerolinecolor": "white"
           },
           "zaxis": {
            "backgroundcolor": "#E5ECF6",
            "gridcolor": "white",
            "gridwidth": 2,
            "linecolor": "white",
            "showbackground": true,
            "ticks": "",
            "zerolinecolor": "white"
           }
          },
          "shapedefaults": {
           "line": {
            "color": "#2a3f5f"
           }
          },
          "ternary": {
           "aaxis": {
            "gridcolor": "white",
            "linecolor": "white",
            "ticks": ""
           },
           "baxis": {
            "gridcolor": "white",
            "linecolor": "white",
            "ticks": ""
           },
           "bgcolor": "#E5ECF6",
           "caxis": {
            "gridcolor": "white",
            "linecolor": "white",
            "ticks": ""
           }
          },
          "title": {
           "x": 0.05
          },
          "xaxis": {
           "automargin": true,
           "gridcolor": "white",
           "linecolor": "white",
           "ticks": "",
           "title": {
            "standoff": 15
           },
           "zerolinecolor": "white",
           "zerolinewidth": 2
          },
          "yaxis": {
           "automargin": true,
           "gridcolor": "white",
           "linecolor": "white",
           "ticks": "",
           "title": {
            "standoff": 15
           },
           "zerolinecolor": "white",
           "zerolinewidth": 2
          }
         }
        },
        "title": {
         "font": {
          "size": 16
         },
         "text": "<br>Network graph made with Python"
        },
        "xaxis": {
         "showgrid": false,
         "showticklabels": false,
         "zeroline": false
        },
        "yaxis": {
         "showgrid": false,
         "showticklabels": false,
         "zeroline": false
        }
       }
      },
      "text/html": [
       "<div>                            <div id=\"9868b9d2-030a-4378-b138-a61080df6978\" class=\"plotly-graph-div\" style=\"height:525px; width:100%;\"></div>            <script type=\"text/javascript\">                require([\"plotly\"], function(Plotly) {                    window.PLOTLYENV=window.PLOTLYENV || {};                                    if (document.getElementById(\"9868b9d2-030a-4378-b138-a61080df6978\")) {                    Plotly.newPlot(                        \"9868b9d2-030a-4378-b138-a61080df6978\",                        [{\"hoverinfo\": \"none\", \"line\": {\"color\": \"#888\", \"width\": 0.5}, \"mode\": \"lines\", \"type\": \"scatter\", \"x\": [0.7798606835438107, 0.46247219371675075, null, 0.7798606835438107, 0.8820353070895344, null, 0.7798606835438107, 0.49016747075266875, null, 0.7647837074641568, 0.8325506249953353, null, 0.7647837074641568, 0.7076566826610747, null, 0.7647837074641568, 0.7155217893995438, null, 0.7155217893995438, 0.8325506249953353, null, 0.7155217893995438, 0.7076566826610747, null, 0.7076566826610747, 0.49016747075266875, null, 0.7076566826610747, 0.8325506249953353, null, 0.49016747075266875, 0.46247219371675075, null, 0.11622158839385677, 0.1285377678230034, null], \"y\": [0.6922727646627362, 0.6258061621642713, null, 0.6922727646627362, 0.6791919587749445, null, 0.6922727646627362, 0.5464878695400415, null, 0.3252670836724646, 0.02310946309985762, null, 0.3252670836724646, 0.3278339270610988, null, 0.3252670836724646, 0.20026498027300055, null, 0.20026498027300055, 0.02310946309985762, null, 0.20026498027300055, 0.3278339270610988, null, 0.3278339270610988, 0.5464878695400415, null, 0.3278339270610988, 0.02310946309985762, null, 0.5464878695400415, 0.6258061621642713, null, 0.11236327488812581, 0.3285840695698353, null]}, {\"hoverinfo\": \"text\", \"marker\": {\"color\": [0, 1, 0, 0, 0, 0, 0, 0, 3, 0], \"colorbar\": {\"thickness\": 15, \"title\": {\"side\": \"right\", \"text\": \"Node Connections\"}, \"xanchor\": \"left\"}, \"colorscale\": [[0.0, \"rgb(0,0,0)\"], [0.3333333333333333, \"rgb(230,0,0)\"], [0.6666666666666666, \"rgb(255,210,0)\"], [1.0, \"rgb(255,255,255)\"]], \"line\": {\"width\": 2}, \"reversescale\": true, \"showscale\": false, \"size\": 10}, \"mode\": \"markers\", \"text\": [\"Intersection 0\", \"Intersection 1\", \"Intersection 2\", \"Intersection 3\", \"Intersection 4\", \"Intersection 5\", \"Intersection 6\", \"Intersection 7\", \"Intersection 8\", \"Intersection 9\"], \"type\": \"scatter\", \"x\": [0.7798606835438107, 0.7647837074641568, 0.7155217893995438, 0.7076566826610747, 0.8325506249953353, 0.49016747075266875, 0.8820353070895344, 0.46247219371675075, 0.11622158839385677, 0.1285377678230034], \"y\": [0.6922727646627362, 0.3252670836724646, 0.20026498027300055, 0.3278339270610988, 0.02310946309985762, 0.5464878695400415, 0.6791919587749445, 0.6258061621642713, 0.11236327488812581, 0.3285840695698353]}],                        {\"hovermode\": \"closest\", \"margin\": {\"b\": 20, \"l\": 5, \"r\": 5, \"t\": 40}, \"showlegend\": false, \"template\": {\"data\": {\"bar\": [{\"error_x\": {\"color\": \"#2a3f5f\"}, \"error_y\": {\"color\": \"#2a3f5f\"}, \"marker\": {\"line\": {\"color\": \"#E5ECF6\", \"width\": 0.5}}, \"type\": \"bar\"}], \"barpolar\": [{\"marker\": {\"line\": {\"color\": \"#E5ECF6\", \"width\": 0.5}}, \"type\": \"barpolar\"}], \"carpet\": [{\"aaxis\": {\"endlinecolor\": \"#2a3f5f\", \"gridcolor\": \"white\", \"linecolor\": \"white\", \"minorgridcolor\": \"white\", \"startlinecolor\": \"#2a3f5f\"}, \"baxis\": {\"endlinecolor\": \"#2a3f5f\", \"gridcolor\": \"white\", \"linecolor\": \"white\", \"minorgridcolor\": \"white\", \"startlinecolor\": \"#2a3f5f\"}, \"type\": \"carpet\"}], \"choropleth\": [{\"colorbar\": {\"outlinewidth\": 0, \"ticks\": \"\"}, \"type\": \"choropleth\"}], \"contour\": [{\"colorbar\": {\"outlinewidth\": 0, \"ticks\": \"\"}, \"colorscale\": [[0.0, \"#0d0887\"], [0.1111111111111111, \"#46039f\"], [0.2222222222222222, \"#7201a8\"], [0.3333333333333333, \"#9c179e\"], [0.4444444444444444, \"#bd3786\"], [0.5555555555555556, \"#d8576b\"], [0.6666666666666666, \"#ed7953\"], [0.7777777777777778, \"#fb9f3a\"], [0.8888888888888888, \"#fdca26\"], [1.0, \"#f0f921\"]], \"type\": \"contour\"}], \"contourcarpet\": [{\"colorbar\": {\"outlinewidth\": 0, \"ticks\": \"\"}, \"type\": \"contourcarpet\"}], \"heatmap\": [{\"colorbar\": {\"outlinewidth\": 0, \"ticks\": \"\"}, \"colorscale\": [[0.0, \"#0d0887\"], [0.1111111111111111, \"#46039f\"], [0.2222222222222222, \"#7201a8\"], [0.3333333333333333, \"#9c179e\"], [0.4444444444444444, \"#bd3786\"], [0.5555555555555556, \"#d8576b\"], [0.6666666666666666, \"#ed7953\"], [0.7777777777777778, \"#fb9f3a\"], [0.8888888888888888, \"#fdca26\"], [1.0, \"#f0f921\"]], \"type\": \"heatmap\"}], \"heatmapgl\": [{\"colorbar\": {\"outlinewidth\": 0, \"ticks\": \"\"}, \"colorscale\": [[0.0, \"#0d0887\"], [0.1111111111111111, \"#46039f\"], [0.2222222222222222, \"#7201a8\"], [0.3333333333333333, \"#9c179e\"], [0.4444444444444444, \"#bd3786\"], [0.5555555555555556, \"#d8576b\"], [0.6666666666666666, \"#ed7953\"], [0.7777777777777778, \"#fb9f3a\"], [0.8888888888888888, \"#fdca26\"], [1.0, \"#f0f921\"]], \"type\": \"heatmapgl\"}], \"histogram\": [{\"marker\": {\"colorbar\": {\"outlinewidth\": 0, \"ticks\": \"\"}}, \"type\": \"histogram\"}], \"histogram2d\": [{\"colorbar\": {\"outlinewidth\": 0, \"ticks\": \"\"}, \"colorscale\": [[0.0, \"#0d0887\"], [0.1111111111111111, \"#46039f\"], [0.2222222222222222, \"#7201a8\"], [0.3333333333333333, \"#9c179e\"], [0.4444444444444444, \"#bd3786\"], [0.5555555555555556, \"#d8576b\"], [0.6666666666666666, \"#ed7953\"], [0.7777777777777778, \"#fb9f3a\"], [0.8888888888888888, \"#fdca26\"], [1.0, \"#f0f921\"]], \"type\": \"histogram2d\"}], \"histogram2dcontour\": [{\"colorbar\": {\"outlinewidth\": 0, \"ticks\": \"\"}, \"colorscale\": [[0.0, \"#0d0887\"], [0.1111111111111111, \"#46039f\"], [0.2222222222222222, \"#7201a8\"], [0.3333333333333333, \"#9c179e\"], [0.4444444444444444, \"#bd3786\"], [0.5555555555555556, \"#d8576b\"], [0.6666666666666666, \"#ed7953\"], [0.7777777777777778, \"#fb9f3a\"], [0.8888888888888888, \"#fdca26\"], [1.0, \"#f0f921\"]], \"type\": \"histogram2dcontour\"}], \"mesh3d\": [{\"colorbar\": {\"outlinewidth\": 0, \"ticks\": \"\"}, \"type\": \"mesh3d\"}], \"parcoords\": [{\"line\": {\"colorbar\": {\"outlinewidth\": 0, \"ticks\": \"\"}}, \"type\": \"parcoords\"}], \"pie\": [{\"automargin\": true, \"type\": \"pie\"}], \"scatter\": [{\"marker\": {\"colorbar\": {\"outlinewidth\": 0, \"ticks\": \"\"}}, \"type\": \"scatter\"}], \"scatter3d\": [{\"line\": {\"colorbar\": {\"outlinewidth\": 0, \"ticks\": \"\"}}, \"marker\": {\"colorbar\": {\"outlinewidth\": 0, \"ticks\": \"\"}}, \"type\": \"scatter3d\"}], \"scattercarpet\": [{\"marker\": {\"colorbar\": {\"outlinewidth\": 0, \"ticks\": \"\"}}, \"type\": \"scattercarpet\"}], \"scattergeo\": [{\"marker\": {\"colorbar\": {\"outlinewidth\": 0, \"ticks\": \"\"}}, \"type\": \"scattergeo\"}], \"scattergl\": [{\"marker\": {\"colorbar\": {\"outlinewidth\": 0, \"ticks\": \"\"}}, \"type\": \"scattergl\"}], \"scattermapbox\": [{\"marker\": {\"colorbar\": {\"outlinewidth\": 0, \"ticks\": \"\"}}, \"type\": \"scattermapbox\"}], \"scatterpolar\": [{\"marker\": {\"colorbar\": {\"outlinewidth\": 0, \"ticks\": \"\"}}, \"type\": \"scatterpolar\"}], \"scatterpolargl\": [{\"marker\": {\"colorbar\": {\"outlinewidth\": 0, \"ticks\": \"\"}}, \"type\": \"scatterpolargl\"}], \"scatterternary\": [{\"marker\": {\"colorbar\": {\"outlinewidth\": 0, \"ticks\": \"\"}}, \"type\": \"scatterternary\"}], \"surface\": [{\"colorbar\": {\"outlinewidth\": 0, \"ticks\": \"\"}, \"colorscale\": [[0.0, \"#0d0887\"], [0.1111111111111111, \"#46039f\"], [0.2222222222222222, \"#7201a8\"], [0.3333333333333333, \"#9c179e\"], [0.4444444444444444, \"#bd3786\"], [0.5555555555555556, \"#d8576b\"], [0.6666666666666666, \"#ed7953\"], [0.7777777777777778, \"#fb9f3a\"], [0.8888888888888888, \"#fdca26\"], [1.0, \"#f0f921\"]], \"type\": \"surface\"}], \"table\": [{\"cells\": {\"fill\": {\"color\": \"#EBF0F8\"}, \"line\": {\"color\": \"white\"}}, \"header\": {\"fill\": {\"color\": \"#C8D4E3\"}, \"line\": {\"color\": \"white\"}}, \"type\": \"table\"}]}, \"layout\": {\"annotationdefaults\": {\"arrowcolor\": \"#2a3f5f\", \"arrowhead\": 0, \"arrowwidth\": 1}, \"coloraxis\": {\"colorbar\": {\"outlinewidth\": 0, \"ticks\": \"\"}}, \"colorscale\": {\"diverging\": [[0, \"#8e0152\"], [0.1, \"#c51b7d\"], [0.2, \"#de77ae\"], [0.3, \"#f1b6da\"], [0.4, \"#fde0ef\"], [0.5, \"#f7f7f7\"], [0.6, \"#e6f5d0\"], [0.7, \"#b8e186\"], [0.8, \"#7fbc41\"], [0.9, \"#4d9221\"], [1, \"#276419\"]], \"sequential\": [[0.0, \"#0d0887\"], [0.1111111111111111, \"#46039f\"], [0.2222222222222222, \"#7201a8\"], [0.3333333333333333, \"#9c179e\"], [0.4444444444444444, \"#bd3786\"], [0.5555555555555556, \"#d8576b\"], [0.6666666666666666, \"#ed7953\"], [0.7777777777777778, \"#fb9f3a\"], [0.8888888888888888, \"#fdca26\"], [1.0, \"#f0f921\"]], \"sequentialminus\": [[0.0, \"#0d0887\"], [0.1111111111111111, \"#46039f\"], [0.2222222222222222, \"#7201a8\"], [0.3333333333333333, \"#9c179e\"], [0.4444444444444444, \"#bd3786\"], [0.5555555555555556, \"#d8576b\"], [0.6666666666666666, \"#ed7953\"], [0.7777777777777778, \"#fb9f3a\"], [0.8888888888888888, \"#fdca26\"], [1.0, \"#f0f921\"]]}, \"colorway\": [\"#636efa\", \"#EF553B\", \"#00cc96\", \"#ab63fa\", \"#FFA15A\", \"#19d3f3\", \"#FF6692\", \"#B6E880\", \"#FF97FF\", \"#FECB52\"], \"font\": {\"color\": \"#2a3f5f\"}, \"geo\": {\"bgcolor\": \"white\", \"lakecolor\": \"white\", \"landcolor\": \"#E5ECF6\", \"showlakes\": true, \"showland\": true, \"subunitcolor\": \"white\"}, \"hoverlabel\": {\"align\": \"left\"}, \"hovermode\": \"closest\", \"mapbox\": {\"style\": \"light\"}, \"paper_bgcolor\": \"white\", \"plot_bgcolor\": \"#E5ECF6\", \"polar\": {\"angularaxis\": {\"gridcolor\": \"white\", \"linecolor\": \"white\", \"ticks\": \"\"}, \"bgcolor\": \"#E5ECF6\", \"radialaxis\": {\"gridcolor\": \"white\", \"linecolor\": \"white\", \"ticks\": \"\"}}, \"scene\": {\"xaxis\": {\"backgroundcolor\": \"#E5ECF6\", \"gridcolor\": \"white\", \"gridwidth\": 2, \"linecolor\": \"white\", \"showbackground\": true, \"ticks\": \"\", \"zerolinecolor\": \"white\"}, \"yaxis\": {\"backgroundcolor\": \"#E5ECF6\", \"gridcolor\": \"white\", \"gridwidth\": 2, \"linecolor\": \"white\", \"showbackground\": true, \"ticks\": \"\", \"zerolinecolor\": \"white\"}, \"zaxis\": {\"backgroundcolor\": \"#E5ECF6\", \"gridcolor\": \"white\", \"gridwidth\": 2, \"linecolor\": \"white\", \"showbackground\": true, \"ticks\": \"\", \"zerolinecolor\": \"white\"}}, \"shapedefaults\": {\"line\": {\"color\": \"#2a3f5f\"}}, \"ternary\": {\"aaxis\": {\"gridcolor\": \"white\", \"linecolor\": \"white\", \"ticks\": \"\"}, \"baxis\": {\"gridcolor\": \"white\", \"linecolor\": \"white\", \"ticks\": \"\"}, \"bgcolor\": \"#E5ECF6\", \"caxis\": {\"gridcolor\": \"white\", \"linecolor\": \"white\", \"ticks\": \"\"}}, \"title\": {\"x\": 0.05}, \"xaxis\": {\"automargin\": true, \"gridcolor\": \"white\", \"linecolor\": \"white\", \"ticks\": \"\", \"title\": {\"standoff\": 15}, \"zerolinecolor\": \"white\", \"zerolinewidth\": 2}, \"yaxis\": {\"automargin\": true, \"gridcolor\": \"white\", \"linecolor\": \"white\", \"ticks\": \"\", \"title\": {\"standoff\": 15}, \"zerolinecolor\": \"white\", \"zerolinewidth\": 2}}}, \"title\": {\"font\": {\"size\": 16}, \"text\": \"<br>Network graph made with Python\"}, \"xaxis\": {\"showgrid\": false, \"showticklabels\": false, \"zeroline\": false}, \"yaxis\": {\"showgrid\": false, \"showticklabels\": false, \"zeroline\": false}},                        {\"responsive\": true}                    ).then(function(){\n",
       "                            \n",
       "var gd = document.getElementById('9868b9d2-030a-4378-b138-a61080df6978');\n",
       "var x = new MutationObserver(function (mutations, observer) {{\n",
       "        var display = window.getComputedStyle(gd).display;\n",
       "        if (!display || display === 'none') {{\n",
       "            console.log([gd, 'removed!']);\n",
       "            Plotly.purge(gd);\n",
       "            observer.disconnect();\n",
       "        }}\n",
       "}});\n",
       "\n",
       "// Listen for the removal of the full notebook cells\n",
       "var notebookContainer = gd.closest('#notebook-container');\n",
       "if (notebookContainer) {{\n",
       "    x.observe(notebookContainer, {childList: true});\n",
       "}}\n",
       "\n",
       "// Listen for the clearing of the current output cell\n",
       "var outputEl = gd.closest('.output');\n",
       "if (outputEl) {{\n",
       "    x.observe(outputEl, {childList: true});\n",
       "}}\n",
       "\n",
       "                        })                };                });            </script>        </div>"
      ]
     },
     "metadata": {},
     "output_type": "display_data"
    },
    {
     "name": "stdout",
     "output_type": "stream",
     "text": [
      "minimum cost to reach from 8 to 1 = -1.0000\n",
      "Path: None\n"
     ]
    }
   ],
   "source": [
    "start = 8\n",
    "goal = 1\n",
    "planner = PathPlanner(map_10, start, goal)\n",
    "show_map(map_10,start, goal, planner.path)\n",
    "print(f\"minimum cost to reach from {start} to {goal} = {planner.cost :0.4f}\")\n",
    "print(f\"Path: {planner.path}\")"
   ]
  },
  {
   "cell_type": "code",
   "execution_count": 11,
   "metadata": {},
   "outputs": [
    {
     "data": {
      "application/vnd.plotly.v1+json": {
       "config": {
        "linkText": "Export to plot.ly",
        "plotlyServerURL": "https://plot.ly",
        "showLink": false
       },
       "data": [
        {
         "hoverinfo": "none",
         "line": {
          "color": "#888",
          "width": 0.5
         },
         "mode": "lines",
         "type": "scatter",
         "x": [
          0.7798606835438107,
          0.46247219371675075,
          null,
          0.7798606835438107,
          0.8820353070895344,
          null,
          0.7798606835438107,
          0.49016747075266875,
          null,
          0.7647837074641568,
          0.8325506249953353,
          null,
          0.7647837074641568,
          0.7076566826610747,
          null,
          0.7647837074641568,
          0.7155217893995438,
          null,
          0.7155217893995438,
          0.8325506249953353,
          null,
          0.7155217893995438,
          0.7076566826610747,
          null,
          0.7076566826610747,
          0.49016747075266875,
          null,
          0.7076566826610747,
          0.8325506249953353,
          null,
          0.49016747075266875,
          0.46247219371675075,
          null,
          0.11622158839385677,
          0.1285377678230034,
          null
         ],
         "y": [
          0.6922727646627362,
          0.6258061621642713,
          null,
          0.6922727646627362,
          0.6791919587749445,
          null,
          0.6922727646627362,
          0.5464878695400415,
          null,
          0.3252670836724646,
          0.02310946309985762,
          null,
          0.3252670836724646,
          0.3278339270610988,
          null,
          0.3252670836724646,
          0.20026498027300055,
          null,
          0.20026498027300055,
          0.02310946309985762,
          null,
          0.20026498027300055,
          0.3278339270610988,
          null,
          0.3278339270610988,
          0.5464878695400415,
          null,
          0.3278339270610988,
          0.02310946309985762,
          null,
          0.5464878695400415,
          0.6258061621642713,
          null,
          0.11236327488812581,
          0.3285840695698353,
          null
         ]
        },
        {
         "hoverinfo": "text",
         "marker": {
          "color": [
           2,
           0,
           0,
           2,
           1,
           2,
           3,
           0,
           0,
           0
          ],
          "colorbar": {
           "thickness": 15,
           "title": {
            "side": "right",
            "text": "Node Connections"
           },
           "xanchor": "left"
          },
          "colorscale": [
           [
            0,
            "rgb(0,0,0)"
           ],
           [
            0.3333333333333333,
            "rgb(230,0,0)"
           ],
           [
            0.6666666666666666,
            "rgb(255,210,0)"
           ],
           [
            1,
            "rgb(255,255,255)"
           ]
          ],
          "line": {
           "width": 2
          },
          "reversescale": true,
          "showscale": false,
          "size": 10
         },
         "mode": "markers",
         "text": [
          "Intersection 0",
          "Intersection 1",
          "Intersection 2",
          "Intersection 3",
          "Intersection 4",
          "Intersection 5",
          "Intersection 6",
          "Intersection 7",
          "Intersection 8",
          "Intersection 9"
         ],
         "type": "scatter",
         "x": [
          0.7798606835438107,
          0.7647837074641568,
          0.7155217893995438,
          0.7076566826610747,
          0.8325506249953353,
          0.49016747075266875,
          0.8820353070895344,
          0.46247219371675075,
          0.11622158839385677,
          0.1285377678230034
         ],
         "y": [
          0.6922727646627362,
          0.3252670836724646,
          0.20026498027300055,
          0.3278339270610988,
          0.02310946309985762,
          0.5464878695400415,
          0.6791919587749445,
          0.6258061621642713,
          0.11236327488812581,
          0.3285840695698353
         ]
        }
       ],
       "layout": {
        "hovermode": "closest",
        "margin": {
         "b": 20,
         "l": 5,
         "r": 5,
         "t": 40
        },
        "showlegend": false,
        "template": {
         "data": {
          "bar": [
           {
            "error_x": {
             "color": "#2a3f5f"
            },
            "error_y": {
             "color": "#2a3f5f"
            },
            "marker": {
             "line": {
              "color": "#E5ECF6",
              "width": 0.5
             }
            },
            "type": "bar"
           }
          ],
          "barpolar": [
           {
            "marker": {
             "line": {
              "color": "#E5ECF6",
              "width": 0.5
             }
            },
            "type": "barpolar"
           }
          ],
          "carpet": [
           {
            "aaxis": {
             "endlinecolor": "#2a3f5f",
             "gridcolor": "white",
             "linecolor": "white",
             "minorgridcolor": "white",
             "startlinecolor": "#2a3f5f"
            },
            "baxis": {
             "endlinecolor": "#2a3f5f",
             "gridcolor": "white",
             "linecolor": "white",
             "minorgridcolor": "white",
             "startlinecolor": "#2a3f5f"
            },
            "type": "carpet"
           }
          ],
          "choropleth": [
           {
            "colorbar": {
             "outlinewidth": 0,
             "ticks": ""
            },
            "type": "choropleth"
           }
          ],
          "contour": [
           {
            "colorbar": {
             "outlinewidth": 0,
             "ticks": ""
            },
            "colorscale": [
             [
              0,
              "#0d0887"
             ],
             [
              0.1111111111111111,
              "#46039f"
             ],
             [
              0.2222222222222222,
              "#7201a8"
             ],
             [
              0.3333333333333333,
              "#9c179e"
             ],
             [
              0.4444444444444444,
              "#bd3786"
             ],
             [
              0.5555555555555556,
              "#d8576b"
             ],
             [
              0.6666666666666666,
              "#ed7953"
             ],
             [
              0.7777777777777778,
              "#fb9f3a"
             ],
             [
              0.8888888888888888,
              "#fdca26"
             ],
             [
              1,
              "#f0f921"
             ]
            ],
            "type": "contour"
           }
          ],
          "contourcarpet": [
           {
            "colorbar": {
             "outlinewidth": 0,
             "ticks": ""
            },
            "type": "contourcarpet"
           }
          ],
          "heatmap": [
           {
            "colorbar": {
             "outlinewidth": 0,
             "ticks": ""
            },
            "colorscale": [
             [
              0,
              "#0d0887"
             ],
             [
              0.1111111111111111,
              "#46039f"
             ],
             [
              0.2222222222222222,
              "#7201a8"
             ],
             [
              0.3333333333333333,
              "#9c179e"
             ],
             [
              0.4444444444444444,
              "#bd3786"
             ],
             [
              0.5555555555555556,
              "#d8576b"
             ],
             [
              0.6666666666666666,
              "#ed7953"
             ],
             [
              0.7777777777777778,
              "#fb9f3a"
             ],
             [
              0.8888888888888888,
              "#fdca26"
             ],
             [
              1,
              "#f0f921"
             ]
            ],
            "type": "heatmap"
           }
          ],
          "heatmapgl": [
           {
            "colorbar": {
             "outlinewidth": 0,
             "ticks": ""
            },
            "colorscale": [
             [
              0,
              "#0d0887"
             ],
             [
              0.1111111111111111,
              "#46039f"
             ],
             [
              0.2222222222222222,
              "#7201a8"
             ],
             [
              0.3333333333333333,
              "#9c179e"
             ],
             [
              0.4444444444444444,
              "#bd3786"
             ],
             [
              0.5555555555555556,
              "#d8576b"
             ],
             [
              0.6666666666666666,
              "#ed7953"
             ],
             [
              0.7777777777777778,
              "#fb9f3a"
             ],
             [
              0.8888888888888888,
              "#fdca26"
             ],
             [
              1,
              "#f0f921"
             ]
            ],
            "type": "heatmapgl"
           }
          ],
          "histogram": [
           {
            "marker": {
             "colorbar": {
              "outlinewidth": 0,
              "ticks": ""
             }
            },
            "type": "histogram"
           }
          ],
          "histogram2d": [
           {
            "colorbar": {
             "outlinewidth": 0,
             "ticks": ""
            },
            "colorscale": [
             [
              0,
              "#0d0887"
             ],
             [
              0.1111111111111111,
              "#46039f"
             ],
             [
              0.2222222222222222,
              "#7201a8"
             ],
             [
              0.3333333333333333,
              "#9c179e"
             ],
             [
              0.4444444444444444,
              "#bd3786"
             ],
             [
              0.5555555555555556,
              "#d8576b"
             ],
             [
              0.6666666666666666,
              "#ed7953"
             ],
             [
              0.7777777777777778,
              "#fb9f3a"
             ],
             [
              0.8888888888888888,
              "#fdca26"
             ],
             [
              1,
              "#f0f921"
             ]
            ],
            "type": "histogram2d"
           }
          ],
          "histogram2dcontour": [
           {
            "colorbar": {
             "outlinewidth": 0,
             "ticks": ""
            },
            "colorscale": [
             [
              0,
              "#0d0887"
             ],
             [
              0.1111111111111111,
              "#46039f"
             ],
             [
              0.2222222222222222,
              "#7201a8"
             ],
             [
              0.3333333333333333,
              "#9c179e"
             ],
             [
              0.4444444444444444,
              "#bd3786"
             ],
             [
              0.5555555555555556,
              "#d8576b"
             ],
             [
              0.6666666666666666,
              "#ed7953"
             ],
             [
              0.7777777777777778,
              "#fb9f3a"
             ],
             [
              0.8888888888888888,
              "#fdca26"
             ],
             [
              1,
              "#f0f921"
             ]
            ],
            "type": "histogram2dcontour"
           }
          ],
          "mesh3d": [
           {
            "colorbar": {
             "outlinewidth": 0,
             "ticks": ""
            },
            "type": "mesh3d"
           }
          ],
          "parcoords": [
           {
            "line": {
             "colorbar": {
              "outlinewidth": 0,
              "ticks": ""
             }
            },
            "type": "parcoords"
           }
          ],
          "pie": [
           {
            "automargin": true,
            "type": "pie"
           }
          ],
          "scatter": [
           {
            "marker": {
             "colorbar": {
              "outlinewidth": 0,
              "ticks": ""
             }
            },
            "type": "scatter"
           }
          ],
          "scatter3d": [
           {
            "line": {
             "colorbar": {
              "outlinewidth": 0,
              "ticks": ""
             }
            },
            "marker": {
             "colorbar": {
              "outlinewidth": 0,
              "ticks": ""
             }
            },
            "type": "scatter3d"
           }
          ],
          "scattercarpet": [
           {
            "marker": {
             "colorbar": {
              "outlinewidth": 0,
              "ticks": ""
             }
            },
            "type": "scattercarpet"
           }
          ],
          "scattergeo": [
           {
            "marker": {
             "colorbar": {
              "outlinewidth": 0,
              "ticks": ""
             }
            },
            "type": "scattergeo"
           }
          ],
          "scattergl": [
           {
            "marker": {
             "colorbar": {
              "outlinewidth": 0,
              "ticks": ""
             }
            },
            "type": "scattergl"
           }
          ],
          "scattermapbox": [
           {
            "marker": {
             "colorbar": {
              "outlinewidth": 0,
              "ticks": ""
             }
            },
            "type": "scattermapbox"
           }
          ],
          "scatterpolar": [
           {
            "marker": {
             "colorbar": {
              "outlinewidth": 0,
              "ticks": ""
             }
            },
            "type": "scatterpolar"
           }
          ],
          "scatterpolargl": [
           {
            "marker": {
             "colorbar": {
              "outlinewidth": 0,
              "ticks": ""
             }
            },
            "type": "scatterpolargl"
           }
          ],
          "scatterternary": [
           {
            "marker": {
             "colorbar": {
              "outlinewidth": 0,
              "ticks": ""
             }
            },
            "type": "scatterternary"
           }
          ],
          "surface": [
           {
            "colorbar": {
             "outlinewidth": 0,
             "ticks": ""
            },
            "colorscale": [
             [
              0,
              "#0d0887"
             ],
             [
              0.1111111111111111,
              "#46039f"
             ],
             [
              0.2222222222222222,
              "#7201a8"
             ],
             [
              0.3333333333333333,
              "#9c179e"
             ],
             [
              0.4444444444444444,
              "#bd3786"
             ],
             [
              0.5555555555555556,
              "#d8576b"
             ],
             [
              0.6666666666666666,
              "#ed7953"
             ],
             [
              0.7777777777777778,
              "#fb9f3a"
             ],
             [
              0.8888888888888888,
              "#fdca26"
             ],
             [
              1,
              "#f0f921"
             ]
            ],
            "type": "surface"
           }
          ],
          "table": [
           {
            "cells": {
             "fill": {
              "color": "#EBF0F8"
             },
             "line": {
              "color": "white"
             }
            },
            "header": {
             "fill": {
              "color": "#C8D4E3"
             },
             "line": {
              "color": "white"
             }
            },
            "type": "table"
           }
          ]
         },
         "layout": {
          "annotationdefaults": {
           "arrowcolor": "#2a3f5f",
           "arrowhead": 0,
           "arrowwidth": 1
          },
          "coloraxis": {
           "colorbar": {
            "outlinewidth": 0,
            "ticks": ""
           }
          },
          "colorscale": {
           "diverging": [
            [
             0,
             "#8e0152"
            ],
            [
             0.1,
             "#c51b7d"
            ],
            [
             0.2,
             "#de77ae"
            ],
            [
             0.3,
             "#f1b6da"
            ],
            [
             0.4,
             "#fde0ef"
            ],
            [
             0.5,
             "#f7f7f7"
            ],
            [
             0.6,
             "#e6f5d0"
            ],
            [
             0.7,
             "#b8e186"
            ],
            [
             0.8,
             "#7fbc41"
            ],
            [
             0.9,
             "#4d9221"
            ],
            [
             1,
             "#276419"
            ]
           ],
           "sequential": [
            [
             0,
             "#0d0887"
            ],
            [
             0.1111111111111111,
             "#46039f"
            ],
            [
             0.2222222222222222,
             "#7201a8"
            ],
            [
             0.3333333333333333,
             "#9c179e"
            ],
            [
             0.4444444444444444,
             "#bd3786"
            ],
            [
             0.5555555555555556,
             "#d8576b"
            ],
            [
             0.6666666666666666,
             "#ed7953"
            ],
            [
             0.7777777777777778,
             "#fb9f3a"
            ],
            [
             0.8888888888888888,
             "#fdca26"
            ],
            [
             1,
             "#f0f921"
            ]
           ],
           "sequentialminus": [
            [
             0,
             "#0d0887"
            ],
            [
             0.1111111111111111,
             "#46039f"
            ],
            [
             0.2222222222222222,
             "#7201a8"
            ],
            [
             0.3333333333333333,
             "#9c179e"
            ],
            [
             0.4444444444444444,
             "#bd3786"
            ],
            [
             0.5555555555555556,
             "#d8576b"
            ],
            [
             0.6666666666666666,
             "#ed7953"
            ],
            [
             0.7777777777777778,
             "#fb9f3a"
            ],
            [
             0.8888888888888888,
             "#fdca26"
            ],
            [
             1,
             "#f0f921"
            ]
           ]
          },
          "colorway": [
           "#636efa",
           "#EF553B",
           "#00cc96",
           "#ab63fa",
           "#FFA15A",
           "#19d3f3",
           "#FF6692",
           "#B6E880",
           "#FF97FF",
           "#FECB52"
          ],
          "font": {
           "color": "#2a3f5f"
          },
          "geo": {
           "bgcolor": "white",
           "lakecolor": "white",
           "landcolor": "#E5ECF6",
           "showlakes": true,
           "showland": true,
           "subunitcolor": "white"
          },
          "hoverlabel": {
           "align": "left"
          },
          "hovermode": "closest",
          "mapbox": {
           "style": "light"
          },
          "paper_bgcolor": "white",
          "plot_bgcolor": "#E5ECF6",
          "polar": {
           "angularaxis": {
            "gridcolor": "white",
            "linecolor": "white",
            "ticks": ""
           },
           "bgcolor": "#E5ECF6",
           "radialaxis": {
            "gridcolor": "white",
            "linecolor": "white",
            "ticks": ""
           }
          },
          "scene": {
           "xaxis": {
            "backgroundcolor": "#E5ECF6",
            "gridcolor": "white",
            "gridwidth": 2,
            "linecolor": "white",
            "showbackground": true,
            "ticks": "",
            "zerolinecolor": "white"
           },
           "yaxis": {
            "backgroundcolor": "#E5ECF6",
            "gridcolor": "white",
            "gridwidth": 2,
            "linecolor": "white",
            "showbackground": true,
            "ticks": "",
            "zerolinecolor": "white"
           },
           "zaxis": {
            "backgroundcolor": "#E5ECF6",
            "gridcolor": "white",
            "gridwidth": 2,
            "linecolor": "white",
            "showbackground": true,
            "ticks": "",
            "zerolinecolor": "white"
           }
          },
          "shapedefaults": {
           "line": {
            "color": "#2a3f5f"
           }
          },
          "ternary": {
           "aaxis": {
            "gridcolor": "white",
            "linecolor": "white",
            "ticks": ""
           },
           "baxis": {
            "gridcolor": "white",
            "linecolor": "white",
            "ticks": ""
           },
           "bgcolor": "#E5ECF6",
           "caxis": {
            "gridcolor": "white",
            "linecolor": "white",
            "ticks": ""
           }
          },
          "title": {
           "x": 0.05
          },
          "xaxis": {
           "automargin": true,
           "gridcolor": "white",
           "linecolor": "white",
           "ticks": "",
           "title": {
            "standoff": 15
           },
           "zerolinecolor": "white",
           "zerolinewidth": 2
          },
          "yaxis": {
           "automargin": true,
           "gridcolor": "white",
           "linecolor": "white",
           "ticks": "",
           "title": {
            "standoff": 15
           },
           "zerolinecolor": "white",
           "zerolinewidth": 2
          }
         }
        },
        "title": {
         "font": {
          "size": 16
         },
         "text": "<br>Network graph made with Python"
        },
        "xaxis": {
         "showgrid": false,
         "showticklabels": false,
         "zeroline": false
        },
        "yaxis": {
         "showgrid": false,
         "showticklabels": false,
         "zeroline": false
        }
       }
      },
      "text/html": [
       "<div>                            <div id=\"e6572080-69f8-4bb2-a4ad-e39b56ba6c81\" class=\"plotly-graph-div\" style=\"height:525px; width:100%;\"></div>            <script type=\"text/javascript\">                require([\"plotly\"], function(Plotly) {                    window.PLOTLYENV=window.PLOTLYENV || {};                                    if (document.getElementById(\"e6572080-69f8-4bb2-a4ad-e39b56ba6c81\")) {                    Plotly.newPlot(                        \"e6572080-69f8-4bb2-a4ad-e39b56ba6c81\",                        [{\"hoverinfo\": \"none\", \"line\": {\"color\": \"#888\", \"width\": 0.5}, \"mode\": \"lines\", \"type\": \"scatter\", \"x\": [0.7798606835438107, 0.46247219371675075, null, 0.7798606835438107, 0.8820353070895344, null, 0.7798606835438107, 0.49016747075266875, null, 0.7647837074641568, 0.8325506249953353, null, 0.7647837074641568, 0.7076566826610747, null, 0.7647837074641568, 0.7155217893995438, null, 0.7155217893995438, 0.8325506249953353, null, 0.7155217893995438, 0.7076566826610747, null, 0.7076566826610747, 0.49016747075266875, null, 0.7076566826610747, 0.8325506249953353, null, 0.49016747075266875, 0.46247219371675075, null, 0.11622158839385677, 0.1285377678230034, null], \"y\": [0.6922727646627362, 0.6258061621642713, null, 0.6922727646627362, 0.6791919587749445, null, 0.6922727646627362, 0.5464878695400415, null, 0.3252670836724646, 0.02310946309985762, null, 0.3252670836724646, 0.3278339270610988, null, 0.3252670836724646, 0.20026498027300055, null, 0.20026498027300055, 0.02310946309985762, null, 0.20026498027300055, 0.3278339270610988, null, 0.3278339270610988, 0.5464878695400415, null, 0.3278339270610988, 0.02310946309985762, null, 0.5464878695400415, 0.6258061621642713, null, 0.11236327488812581, 0.3285840695698353, null]}, {\"hoverinfo\": \"text\", \"marker\": {\"color\": [2, 0, 0, 2, 1, 2, 3, 0, 0, 0], \"colorbar\": {\"thickness\": 15, \"title\": {\"side\": \"right\", \"text\": \"Node Connections\"}, \"xanchor\": \"left\"}, \"colorscale\": [[0.0, \"rgb(0,0,0)\"], [0.3333333333333333, \"rgb(230,0,0)\"], [0.6666666666666666, \"rgb(255,210,0)\"], [1.0, \"rgb(255,255,255)\"]], \"line\": {\"width\": 2}, \"reversescale\": true, \"showscale\": false, \"size\": 10}, \"mode\": \"markers\", \"text\": [\"Intersection 0\", \"Intersection 1\", \"Intersection 2\", \"Intersection 3\", \"Intersection 4\", \"Intersection 5\", \"Intersection 6\", \"Intersection 7\", \"Intersection 8\", \"Intersection 9\"], \"type\": \"scatter\", \"x\": [0.7798606835438107, 0.7647837074641568, 0.7155217893995438, 0.7076566826610747, 0.8325506249953353, 0.49016747075266875, 0.8820353070895344, 0.46247219371675075, 0.11622158839385677, 0.1285377678230034], \"y\": [0.6922727646627362, 0.3252670836724646, 0.20026498027300055, 0.3278339270610988, 0.02310946309985762, 0.5464878695400415, 0.6791919587749445, 0.6258061621642713, 0.11236327488812581, 0.3285840695698353]}],                        {\"hovermode\": \"closest\", \"margin\": {\"b\": 20, \"l\": 5, \"r\": 5, \"t\": 40}, \"showlegend\": false, \"template\": {\"data\": {\"bar\": [{\"error_x\": {\"color\": \"#2a3f5f\"}, \"error_y\": {\"color\": \"#2a3f5f\"}, \"marker\": {\"line\": {\"color\": \"#E5ECF6\", \"width\": 0.5}}, \"type\": \"bar\"}], \"barpolar\": [{\"marker\": {\"line\": {\"color\": \"#E5ECF6\", \"width\": 0.5}}, \"type\": \"barpolar\"}], \"carpet\": [{\"aaxis\": {\"endlinecolor\": \"#2a3f5f\", \"gridcolor\": \"white\", \"linecolor\": \"white\", \"minorgridcolor\": \"white\", \"startlinecolor\": \"#2a3f5f\"}, \"baxis\": {\"endlinecolor\": \"#2a3f5f\", \"gridcolor\": \"white\", \"linecolor\": \"white\", \"minorgridcolor\": \"white\", \"startlinecolor\": \"#2a3f5f\"}, \"type\": \"carpet\"}], \"choropleth\": [{\"colorbar\": {\"outlinewidth\": 0, \"ticks\": \"\"}, \"type\": \"choropleth\"}], \"contour\": [{\"colorbar\": {\"outlinewidth\": 0, \"ticks\": \"\"}, \"colorscale\": [[0.0, \"#0d0887\"], [0.1111111111111111, \"#46039f\"], [0.2222222222222222, \"#7201a8\"], [0.3333333333333333, \"#9c179e\"], [0.4444444444444444, \"#bd3786\"], [0.5555555555555556, \"#d8576b\"], [0.6666666666666666, \"#ed7953\"], [0.7777777777777778, \"#fb9f3a\"], [0.8888888888888888, \"#fdca26\"], [1.0, \"#f0f921\"]], \"type\": \"contour\"}], \"contourcarpet\": [{\"colorbar\": {\"outlinewidth\": 0, \"ticks\": \"\"}, \"type\": \"contourcarpet\"}], \"heatmap\": [{\"colorbar\": {\"outlinewidth\": 0, \"ticks\": \"\"}, \"colorscale\": [[0.0, \"#0d0887\"], [0.1111111111111111, \"#46039f\"], [0.2222222222222222, \"#7201a8\"], [0.3333333333333333, \"#9c179e\"], [0.4444444444444444, \"#bd3786\"], [0.5555555555555556, \"#d8576b\"], [0.6666666666666666, \"#ed7953\"], [0.7777777777777778, \"#fb9f3a\"], [0.8888888888888888, \"#fdca26\"], [1.0, \"#f0f921\"]], \"type\": \"heatmap\"}], \"heatmapgl\": [{\"colorbar\": {\"outlinewidth\": 0, \"ticks\": \"\"}, \"colorscale\": [[0.0, \"#0d0887\"], [0.1111111111111111, \"#46039f\"], [0.2222222222222222, \"#7201a8\"], [0.3333333333333333, \"#9c179e\"], [0.4444444444444444, \"#bd3786\"], [0.5555555555555556, \"#d8576b\"], [0.6666666666666666, \"#ed7953\"], [0.7777777777777778, \"#fb9f3a\"], [0.8888888888888888, \"#fdca26\"], [1.0, \"#f0f921\"]], \"type\": \"heatmapgl\"}], \"histogram\": [{\"marker\": {\"colorbar\": {\"outlinewidth\": 0, \"ticks\": \"\"}}, \"type\": \"histogram\"}], \"histogram2d\": [{\"colorbar\": {\"outlinewidth\": 0, \"ticks\": \"\"}, \"colorscale\": [[0.0, \"#0d0887\"], [0.1111111111111111, \"#46039f\"], [0.2222222222222222, \"#7201a8\"], [0.3333333333333333, \"#9c179e\"], [0.4444444444444444, \"#bd3786\"], [0.5555555555555556, \"#d8576b\"], [0.6666666666666666, \"#ed7953\"], [0.7777777777777778, \"#fb9f3a\"], [0.8888888888888888, \"#fdca26\"], [1.0, \"#f0f921\"]], \"type\": \"histogram2d\"}], \"histogram2dcontour\": [{\"colorbar\": {\"outlinewidth\": 0, \"ticks\": \"\"}, \"colorscale\": [[0.0, \"#0d0887\"], [0.1111111111111111, \"#46039f\"], [0.2222222222222222, \"#7201a8\"], [0.3333333333333333, \"#9c179e\"], [0.4444444444444444, \"#bd3786\"], [0.5555555555555556, \"#d8576b\"], [0.6666666666666666, \"#ed7953\"], [0.7777777777777778, \"#fb9f3a\"], [0.8888888888888888, \"#fdca26\"], [1.0, \"#f0f921\"]], \"type\": \"histogram2dcontour\"}], \"mesh3d\": [{\"colorbar\": {\"outlinewidth\": 0, \"ticks\": \"\"}, \"type\": \"mesh3d\"}], \"parcoords\": [{\"line\": {\"colorbar\": {\"outlinewidth\": 0, \"ticks\": \"\"}}, \"type\": \"parcoords\"}], \"pie\": [{\"automargin\": true, \"type\": \"pie\"}], \"scatter\": [{\"marker\": {\"colorbar\": {\"outlinewidth\": 0, \"ticks\": \"\"}}, \"type\": \"scatter\"}], \"scatter3d\": [{\"line\": {\"colorbar\": {\"outlinewidth\": 0, \"ticks\": \"\"}}, \"marker\": {\"colorbar\": {\"outlinewidth\": 0, \"ticks\": \"\"}}, \"type\": \"scatter3d\"}], \"scattercarpet\": [{\"marker\": {\"colorbar\": {\"outlinewidth\": 0, \"ticks\": \"\"}}, \"type\": \"scattercarpet\"}], \"scattergeo\": [{\"marker\": {\"colorbar\": {\"outlinewidth\": 0, \"ticks\": \"\"}}, \"type\": \"scattergeo\"}], \"scattergl\": [{\"marker\": {\"colorbar\": {\"outlinewidth\": 0, \"ticks\": \"\"}}, \"type\": \"scattergl\"}], \"scattermapbox\": [{\"marker\": {\"colorbar\": {\"outlinewidth\": 0, \"ticks\": \"\"}}, \"type\": \"scattermapbox\"}], \"scatterpolar\": [{\"marker\": {\"colorbar\": {\"outlinewidth\": 0, \"ticks\": \"\"}}, \"type\": \"scatterpolar\"}], \"scatterpolargl\": [{\"marker\": {\"colorbar\": {\"outlinewidth\": 0, \"ticks\": \"\"}}, \"type\": \"scatterpolargl\"}], \"scatterternary\": [{\"marker\": {\"colorbar\": {\"outlinewidth\": 0, \"ticks\": \"\"}}, \"type\": \"scatterternary\"}], \"surface\": [{\"colorbar\": {\"outlinewidth\": 0, \"ticks\": \"\"}, \"colorscale\": [[0.0, \"#0d0887\"], [0.1111111111111111, \"#46039f\"], [0.2222222222222222, \"#7201a8\"], [0.3333333333333333, \"#9c179e\"], [0.4444444444444444, \"#bd3786\"], [0.5555555555555556, \"#d8576b\"], [0.6666666666666666, \"#ed7953\"], [0.7777777777777778, \"#fb9f3a\"], [0.8888888888888888, \"#fdca26\"], [1.0, \"#f0f921\"]], \"type\": \"surface\"}], \"table\": [{\"cells\": {\"fill\": {\"color\": \"#EBF0F8\"}, \"line\": {\"color\": \"white\"}}, \"header\": {\"fill\": {\"color\": \"#C8D4E3\"}, \"line\": {\"color\": \"white\"}}, \"type\": \"table\"}]}, \"layout\": {\"annotationdefaults\": {\"arrowcolor\": \"#2a3f5f\", \"arrowhead\": 0, \"arrowwidth\": 1}, \"coloraxis\": {\"colorbar\": {\"outlinewidth\": 0, \"ticks\": \"\"}}, \"colorscale\": {\"diverging\": [[0, \"#8e0152\"], [0.1, \"#c51b7d\"], [0.2, \"#de77ae\"], [0.3, \"#f1b6da\"], [0.4, \"#fde0ef\"], [0.5, \"#f7f7f7\"], [0.6, \"#e6f5d0\"], [0.7, \"#b8e186\"], [0.8, \"#7fbc41\"], [0.9, \"#4d9221\"], [1, \"#276419\"]], \"sequential\": [[0.0, \"#0d0887\"], [0.1111111111111111, \"#46039f\"], [0.2222222222222222, \"#7201a8\"], [0.3333333333333333, \"#9c179e\"], [0.4444444444444444, \"#bd3786\"], [0.5555555555555556, \"#d8576b\"], [0.6666666666666666, \"#ed7953\"], [0.7777777777777778, \"#fb9f3a\"], [0.8888888888888888, \"#fdca26\"], [1.0, \"#f0f921\"]], \"sequentialminus\": [[0.0, \"#0d0887\"], [0.1111111111111111, \"#46039f\"], [0.2222222222222222, \"#7201a8\"], [0.3333333333333333, \"#9c179e\"], [0.4444444444444444, \"#bd3786\"], [0.5555555555555556, \"#d8576b\"], [0.6666666666666666, \"#ed7953\"], [0.7777777777777778, \"#fb9f3a\"], [0.8888888888888888, \"#fdca26\"], [1.0, \"#f0f921\"]]}, \"colorway\": [\"#636efa\", \"#EF553B\", \"#00cc96\", \"#ab63fa\", \"#FFA15A\", \"#19d3f3\", \"#FF6692\", \"#B6E880\", \"#FF97FF\", \"#FECB52\"], \"font\": {\"color\": \"#2a3f5f\"}, \"geo\": {\"bgcolor\": \"white\", \"lakecolor\": \"white\", \"landcolor\": \"#E5ECF6\", \"showlakes\": true, \"showland\": true, \"subunitcolor\": \"white\"}, \"hoverlabel\": {\"align\": \"left\"}, \"hovermode\": \"closest\", \"mapbox\": {\"style\": \"light\"}, \"paper_bgcolor\": \"white\", \"plot_bgcolor\": \"#E5ECF6\", \"polar\": {\"angularaxis\": {\"gridcolor\": \"white\", \"linecolor\": \"white\", \"ticks\": \"\"}, \"bgcolor\": \"#E5ECF6\", \"radialaxis\": {\"gridcolor\": \"white\", \"linecolor\": \"white\", \"ticks\": \"\"}}, \"scene\": {\"xaxis\": {\"backgroundcolor\": \"#E5ECF6\", \"gridcolor\": \"white\", \"gridwidth\": 2, \"linecolor\": \"white\", \"showbackground\": true, \"ticks\": \"\", \"zerolinecolor\": \"white\"}, \"yaxis\": {\"backgroundcolor\": \"#E5ECF6\", \"gridcolor\": \"white\", \"gridwidth\": 2, \"linecolor\": \"white\", \"showbackground\": true, \"ticks\": \"\", \"zerolinecolor\": \"white\"}, \"zaxis\": {\"backgroundcolor\": \"#E5ECF6\", \"gridcolor\": \"white\", \"gridwidth\": 2, \"linecolor\": \"white\", \"showbackground\": true, \"ticks\": \"\", \"zerolinecolor\": \"white\"}}, \"shapedefaults\": {\"line\": {\"color\": \"#2a3f5f\"}}, \"ternary\": {\"aaxis\": {\"gridcolor\": \"white\", \"linecolor\": \"white\", \"ticks\": \"\"}, \"baxis\": {\"gridcolor\": \"white\", \"linecolor\": \"white\", \"ticks\": \"\"}, \"bgcolor\": \"#E5ECF6\", \"caxis\": {\"gridcolor\": \"white\", \"linecolor\": \"white\", \"ticks\": \"\"}}, \"title\": {\"x\": 0.05}, \"xaxis\": {\"automargin\": true, \"gridcolor\": \"white\", \"linecolor\": \"white\", \"ticks\": \"\", \"title\": {\"standoff\": 15}, \"zerolinecolor\": \"white\", \"zerolinewidth\": 2}, \"yaxis\": {\"automargin\": true, \"gridcolor\": \"white\", \"linecolor\": \"white\", \"ticks\": \"\", \"title\": {\"standoff\": 15}, \"zerolinecolor\": \"white\", \"zerolinewidth\": 2}}}, \"title\": {\"font\": {\"size\": 16}, \"text\": \"<br>Network graph made with Python\"}, \"xaxis\": {\"showgrid\": false, \"showticklabels\": false, \"zeroline\": false}, \"yaxis\": {\"showgrid\": false, \"showticklabels\": false, \"zeroline\": false}},                        {\"responsive\": true}                    ).then(function(){\n",
       "                            \n",
       "var gd = document.getElementById('e6572080-69f8-4bb2-a4ad-e39b56ba6c81');\n",
       "var x = new MutationObserver(function (mutations, observer) {{\n",
       "        var display = window.getComputedStyle(gd).display;\n",
       "        if (!display || display === 'none') {{\n",
       "            console.log([gd, 'removed!']);\n",
       "            Plotly.purge(gd);\n",
       "            observer.disconnect();\n",
       "        }}\n",
       "}});\n",
       "\n",
       "// Listen for the removal of the full notebook cells\n",
       "var notebookContainer = gd.closest('#notebook-container');\n",
       "if (notebookContainer) {{\n",
       "    x.observe(notebookContainer, {childList: true});\n",
       "}}\n",
       "\n",
       "// Listen for the clearing of the current output cell\n",
       "var outputEl = gd.closest('.output');\n",
       "if (outputEl) {{\n",
       "    x.observe(outputEl, {childList: true});\n",
       "}}\n",
       "\n",
       "                        })                };                });            </script>        </div>"
      ]
     },
     "metadata": {},
     "output_type": "display_data"
    },
    {
     "name": "stdout",
     "output_type": "stream",
     "text": [
      "minimum cost to reach from 6 to 4 = 1.0650\n",
      "Path: [6, 0, 5, 3, 4]\n"
     ]
    }
   ],
   "source": [
    "start = 6\n",
    "goal = 4\n",
    "planner = PathPlanner(map_10, start, goal)\n",
    "show_map(map_10,start, goal, planner.path)\n",
    "print(f\"minimum cost to reach from {start} to {goal} = {planner.cost :0.4f}\")\n",
    "print(f\"Path: {planner.path}\")"
   ]
  },
  {
   "cell_type": "code",
   "execution_count": 12,
   "metadata": {},
   "outputs": [
    {
     "data": {
      "application/vnd.plotly.v1+json": {
       "config": {
        "linkText": "Export to plot.ly",
        "plotlyServerURL": "https://plot.ly",
        "showLink": false
       },
       "data": [
        {
         "hoverinfo": "none",
         "line": {
          "color": "#888",
          "width": 0.5
         },
         "mode": "lines",
         "type": "scatter",
         "x": [
          0.7801603911549438,
          0.740625863119245,
          null,
          0.7801603911549438,
          0.583993110207876,
          null,
          0.7801603911549438,
          0.640952694324525,
          null,
          0.7801603911549438,
          0.6435799740880603,
          null,
          0.7801603911549438,
          0.607698913404794,
          null,
          0.5249831588690298,
          0.3073865727705063,
          null,
          0.5249831588690298,
          0.640952694324525,
          null,
          0.5249831588690298,
          0.7482655725962591,
          null,
          0.5249831588690298,
          0.5572917679006295,
          null,
          0.5249831588690298,
          0.6243437191127235,
          null,
          0.5249831588690298,
          0.4238357358399233,
          null,
          0.5249831588690298,
          0.719569201584275,
          null,
          0.5249831588690298,
          0.607698913404794,
          null,
          0.5249831588690298,
          0.4582523173083307,
          null,
          0.5249831588690298,
          0.313999018186756,
          null,
          0.8085335344099086,
          0.6315322816286787,
          null,
          0.8085335344099086,
          0.740625863119245,
          null,
          0.8085335344099086,
          0.8252497121120052,
          null,
          0.8085335344099086,
          0.8860336256842246,
          null,
          0.8085335344099086,
          0.8551947714242674,
          null,
          0.8085335344099086,
          0.6824813442515916,
          null,
          0.8085335344099086,
          0.7353838928272886,
          null,
          0.2599134798656856,
          0.3073865727705063,
          null,
          0.2599134798656856,
          0.4238357358399233,
          null,
          0.2599134798656856,
          0.4582523173083307,
          null,
          0.2599134798656856,
          0.25311953895059136,
          null,
          0.2599134798656856,
          0.313999018186756,
          null,
          0.7353838928272886,
          0.6315322816286787,
          null,
          0.7353838928272886,
          0.740625863119245,
          null,
          0.7353838928272886,
          0.8252497121120052,
          null,
          0.7353838928272886,
          0.8860336256842246,
          null,
          0.7353838928272886,
          0.8551947714242674,
          null,
          0.7353838928272886,
          0.6824813442515916,
          null,
          0.09088671576431506,
          0.17440205342790494,
          null,
          0.09088671576431506,
          0.12939557977525573,
          null,
          0.09088671576431506,
          0.04580558670435442,
          null,
          0.313999018186756,
          0.3073865727705063,
          null,
          0.313999018186756,
          0.4238357358399233,
          null,
          0.313999018186756,
          0.4582523173083307,
          null,
          0.313999018186756,
          0.25311953895059136,
          null,
          0.6824813442515916,
          0.6315322816286787,
          null,
          0.6824813442515916,
          0.740625863119245,
          null,
          0.6824813442515916,
          0.47415009287034726,
          null,
          0.6824813442515916,
          0.8252497121120052,
          null,
          0.6824813442515916,
          0.8860336256842246,
          null,
          0.6824813442515916,
          0.8551947714242674,
          null,
          0.20128789391122526,
          0.1332965908314021,
          null,
          0.20128789391122526,
          0.021423673670808885,
          null,
          0.20128789391122526,
          0.04580558670435442,
          null,
          0.8551947714242674,
          0.740625863119245,
          null,
          0.8551947714242674,
          0.8252497121120052,
          null,
          0.8551947714242674,
          0.8860336256842246,
          null,
          0.7581736589784409,
          0.640952694324525,
          null,
          0.7581736589784409,
          0.7482655725962591,
          null,
          0.7581736589784409,
          0.5572917679006295,
          null,
          0.7581736589784409,
          0.6243437191127235,
          null,
          0.7581736589784409,
          0.9363713903322148,
          null,
          0.7581736589784409,
          0.719569201584275,
          null,
          0.7581736589784409,
          0.607698913404794,
          null,
          0.7581736589784409,
          0.9112422509614865,
          null,
          0.25311953895059136,
          0.3073865727705063,
          null,
          0.25311953895059136,
          0.4238357358399233,
          null,
          0.25311953895059136,
          0.4582523173083307,
          null,
          0.4813859169876731,
          0.3345284735051981,
          null,
          0.4813859169876731,
          0.583993110207876,
          null,
          0.4813859169876731,
          0.640952694324525,
          null,
          0.4813859169876731,
          0.6435799740880603,
          null,
          0.4813859169876731,
          0.47415009287034726,
          null,
          0.4813859169876731,
          0.607698913404794,
          null,
          0.9112422509614865,
          0.7482655725962591,
          null,
          0.9112422509614865,
          0.9363713903322148,
          null,
          0.9112422509614865,
          0.719569201584275,
          null,
          0.04580558670435442,
          0.1332965908314021,
          null,
          0.04580558670435442,
          0.021423673670808885,
          null,
          0.04580558670435442,
          0.12939557977525573,
          null,
          0.4582523173083307,
          0.3073865727705063,
          null,
          0.4582523173083307,
          0.640952694324525,
          null,
          0.4582523173083307,
          0.5572917679006295,
          null,
          0.4582523173083307,
          0.6243437191127235,
          null,
          0.4582523173083307,
          0.4238357358399233,
          null,
          0.4582523173083307,
          0.607698913404794,
          null,
          0.12939557977525573,
          0.3345284735051981,
          null,
          0.12939557977525573,
          0.021423673670808885,
          null,
          0.607698913404794,
          0.583993110207876,
          null,
          0.607698913404794,
          0.640952694324525,
          null,
          0.607698913404794,
          0.6435799740880603,
          null,
          0.607698913404794,
          0.5572917679006295,
          null,
          0.607698913404794,
          0.6243437191127235,
          null,
          0.607698913404794,
          0.719569201584275,
          null,
          0.719569201584275,
          0.640952694324525,
          null,
          0.719569201584275,
          0.7482655725962591,
          null,
          0.719569201584275,
          0.5572917679006295,
          null,
          0.719569201584275,
          0.6243437191127235,
          null,
          0.719569201584275,
          0.9363713903322148,
          null,
          0.8860336256842246,
          0.8252497121120052,
          null,
          0.4238357358399233,
          0.3073865727705063,
          null,
          0.4238357358399233,
          0.5572917679006295,
          null,
          0.47415009287034726,
          0.6315322816286787,
          null,
          0.47415009287034726,
          0.3345284735051981,
          null,
          0.47415009287034726,
          0.34509802713919313,
          null,
          0.26253385360950576,
          0.17972981733780147,
          null,
          0.26253385360950576,
          0.17440205342790494,
          null,
          0.26253385360950576,
          0.34509802713919313,
          null,
          0.9363713903322148,
          0.7482655725962591,
          null,
          0.6243437191127235,
          0.583993110207876,
          null,
          0.6243437191127235,
          0.640952694324525,
          null,
          0.6243437191127235,
          0.7482655725962591,
          null,
          0.6243437191127235,
          0.5572917679006295,
          null,
          0.5572917679006295,
          0.583993110207876,
          null,
          0.5572917679006295,
          0.640952694324525,
          null,
          0.5572917679006295,
          0.7482655725962591,
          null,
          0.7482655725962591,
          0.640952694324525,
          null,
          0.6435799740880603,
          0.6315322816286787,
          null,
          0.6435799740880603,
          0.740625863119245,
          null,
          0.6435799740880603,
          0.583993110207876,
          null,
          0.6435799740880603,
          0.640952694324525,
          null,
          0.34509802713919313,
          0.17972981733780147,
          null,
          0.34509802713919313,
          0.3345284735051981,
          null,
          0.34509802713919313,
          0.17440205342790494,
          null,
          0.021423673670808885,
          0.1332965908314021,
          null,
          0.640952694324525,
          0.583993110207876,
          null,
          0.17440205342790494,
          0.17972981733780147,
          null,
          0.740625863119245,
          0.6315322816286787,
          null
         ],
         "y": [
          0.49474860768712914,
          0.68128520136847,
          null,
          0.49474860768712914,
          0.42704536740474663,
          null,
          0.49474860768712914,
          0.3232711412508066,
          null,
          0.49474860768712914,
          0.5488515965193208,
          null,
          0.49474860768712914,
          0.362322730884702,
          null,
          0.14953665513987202,
          0.09186645974288632,
          null,
          0.14953665513987202,
          0.3232711412508066,
          null,
          0.14953665513987202,
          0.12631654071213483,
          null,
          0.14953665513987202,
          0.2083567880838434,
          null,
          0.14953665513987202,
          0.21665962402659544,
          null,
          0.14953665513987202,
          0.026771817842421997,
          null,
          0.14953665513987202,
          0.13985272363426526,
          null,
          0.14953665513987202,
          0.362322730884702,
          null,
          0.14953665513987202,
          0.1735506267461867,
          null,
          0.14953665513987202,
          0.01876171413125327,
          null,
          0.7696330846542071,
          0.7311657634689946,
          null,
          0.7696330846542071,
          0.68128520136847,
          null,
          0.7696330846542071,
          0.9532681441921305,
          null,
          0.7696330846542071,
          0.891868301175821,
          null,
          0.7696330846542071,
          0.9011339078096633,
          null,
          0.7696330846542071,
          0.8016111783687677,
          null,
          0.7696330846542071,
          0.8089961609345658,
          null,
          0.14485659826020547,
          0.09186645974288632,
          null,
          0.14485659826020547,
          0.026771817842421997,
          null,
          0.14485659826020547,
          0.1735506267461867,
          null,
          0.14485659826020547,
          0.10321622277398101,
          null,
          0.14485659826020547,
          0.01876171413125327,
          null,
          0.8089961609345658,
          0.7311657634689946,
          null,
          0.8089961609345658,
          0.68128520136847,
          null,
          0.8089961609345658,
          0.9532681441921305,
          null,
          0.8089961609345658,
          0.891868301175821,
          null,
          0.8089961609345658,
          0.9011339078096633,
          null,
          0.8089961609345658,
          0.8016111783687677,
          null,
          0.7222846879290787,
          0.9528527425842739,
          null,
          0.7222846879290787,
          0.690016328140396,
          null,
          0.7222846879290787,
          0.5886703168399895,
          null,
          0.01876171413125327,
          0.09186645974288632,
          null,
          0.01876171413125327,
          0.026771817842421997,
          null,
          0.01876171413125327,
          0.1735506267461867,
          null,
          0.01876171413125327,
          0.10321622277398101,
          null,
          0.8016111783687677,
          0.7311657634689946,
          null,
          0.8016111783687677,
          0.68128520136847,
          null,
          0.8016111783687677,
          0.7353428557575755,
          null,
          0.8016111783687677,
          0.9532681441921305,
          null,
          0.8016111783687677,
          0.891868301175821,
          null,
          0.8016111783687677,
          0.9011339078096633,
          null,
          0.43196344222361227,
          0.3996510641743197,
          null,
          0.43196344222361227,
          0.4666482714834408,
          null,
          0.43196344222361227,
          0.5886703168399895,
          null,
          0.9011339078096633,
          0.68128520136847,
          null,
          0.9011339078096633,
          0.9532681441921305,
          null,
          0.9011339078096633,
          0.891868301175821,
          null,
          0.24026772497187532,
          0.3232711412508066,
          null,
          0.24026772497187532,
          0.12631654071213483,
          null,
          0.24026772497187532,
          0.2083567880838434,
          null,
          0.24026772497187532,
          0.21665962402659544,
          null,
          0.24026772497187532,
          0.13022993020357043,
          null,
          0.24026772497187532,
          0.13985272363426526,
          null,
          0.24026772497187532,
          0.362322730884702,
          null,
          0.24026772497187532,
          0.1839028760606296,
          null,
          0.10321622277398101,
          0.09186645974288632,
          null,
          0.10321622277398101,
          0.026771817842421997,
          null,
          0.10321622277398101,
          0.1735506267461867,
          null,
          0.5006237737207431,
          0.6569436279895382,
          null,
          0.5006237737207431,
          0.42704536740474663,
          null,
          0.5006237737207431,
          0.3232711412508066,
          null,
          0.5006237737207431,
          0.5488515965193208,
          null,
          0.5006237737207431,
          0.7353428557575755,
          null,
          0.5006237737207431,
          0.362322730884702,
          null,
          0.1839028760606296,
          0.12631654071213483,
          null,
          0.1839028760606296,
          0.13022993020357043,
          null,
          0.1839028760606296,
          0.13985272363426526,
          null,
          0.5886703168399895,
          0.3996510641743197,
          null,
          0.5886703168399895,
          0.4666482714834408,
          null,
          0.5886703168399895,
          0.690016328140396,
          null,
          0.1735506267461867,
          0.09186645974288632,
          null,
          0.1735506267461867,
          0.3232711412508066,
          null,
          0.1735506267461867,
          0.2083567880838434,
          null,
          0.1735506267461867,
          0.21665962402659544,
          null,
          0.1735506267461867,
          0.026771817842421997,
          null,
          0.1735506267461867,
          0.362322730884702,
          null,
          0.690016328140396,
          0.6569436279895382,
          null,
          0.690016328140396,
          0.4666482714834408,
          null,
          0.362322730884702,
          0.42704536740474663,
          null,
          0.362322730884702,
          0.3232711412508066,
          null,
          0.362322730884702,
          0.5488515965193208,
          null,
          0.362322730884702,
          0.2083567880838434,
          null,
          0.362322730884702,
          0.21665962402659544,
          null,
          0.362322730884702,
          0.13985272363426526,
          null,
          0.13985272363426526,
          0.3232711412508066,
          null,
          0.13985272363426526,
          0.12631654071213483,
          null,
          0.13985272363426526,
          0.2083567880838434,
          null,
          0.13985272363426526,
          0.21665962402659544,
          null,
          0.13985272363426526,
          0.13022993020357043,
          null,
          0.891868301175821,
          0.9532681441921305,
          null,
          0.026771817842421997,
          0.09186645974288632,
          null,
          0.026771817842421997,
          0.2083567880838434,
          null,
          0.7353428557575755,
          0.7311657634689946,
          null,
          0.7353428557575755,
          0.6569436279895382,
          null,
          0.7353428557575755,
          0.8800306496459869,
          null,
          0.9768234503830939,
          0.999395685828547,
          null,
          0.9768234503830939,
          0.9528527425842739,
          null,
          0.9768234503830939,
          0.8800306496459869,
          null,
          0.13022993020357043,
          0.12631654071213483,
          null,
          0.21665962402659544,
          0.42704536740474663,
          null,
          0.21665962402659544,
          0.3232711412508066,
          null,
          0.21665962402659544,
          0.12631654071213483,
          null,
          0.21665962402659544,
          0.2083567880838434,
          null,
          0.2083567880838434,
          0.42704536740474663,
          null,
          0.2083567880838434,
          0.3232711412508066,
          null,
          0.2083567880838434,
          0.12631654071213483,
          null,
          0.12631654071213483,
          0.3232711412508066,
          null,
          0.5488515965193208,
          0.7311657634689946,
          null,
          0.5488515965193208,
          0.68128520136847,
          null,
          0.5488515965193208,
          0.42704536740474663,
          null,
          0.5488515965193208,
          0.3232711412508066,
          null,
          0.8800306496459869,
          0.999395685828547,
          null,
          0.8800306496459869,
          0.6569436279895382,
          null,
          0.8800306496459869,
          0.9528527425842739,
          null,
          0.4666482714834408,
          0.3996510641743197,
          null,
          0.3232711412508066,
          0.42704536740474663,
          null,
          0.9528527425842739,
          0.999395685828547,
          null,
          0.68128520136847,
          0.7311657634689946,
          null
         ]
        },
        {
         "hoverinfo": "text",
         "marker": {
          "color": [
           0,
           0,
           0,
           0,
           0,
           0,
           0,
           0,
           0,
           0,
           0,
           0,
           0,
           0,
           0,
           0,
           0,
           0,
           0,
           0,
           0,
           0,
           0,
           0,
           0,
           0,
           0,
           0,
           0,
           0,
           0,
           0,
           0,
           0,
           0,
           0,
           0,
           0,
           0,
           0
          ],
          "colorbar": {
           "thickness": 15,
           "title": {
            "side": "right",
            "text": "Node Connections"
           },
           "xanchor": "left"
          },
          "colorscale": [
           [
            0,
            "rgb(0,0,0)"
           ],
           [
            0.3333333333333333,
            "rgb(230,0,0)"
           ],
           [
            0.6666666666666666,
            "rgb(255,210,0)"
           ],
           [
            1,
            "rgb(255,255,255)"
           ]
          ],
          "line": {
           "width": 2
          },
          "reversescale": true,
          "showscale": false,
          "size": 10
         },
         "mode": "markers",
         "text": [
          "Intersection 0",
          "Intersection 1",
          "Intersection 2",
          "Intersection 3",
          "Intersection 4",
          "Intersection 5",
          "Intersection 6",
          "Intersection 7",
          "Intersection 8",
          "Intersection 9",
          "Intersection 10",
          "Intersection 11",
          "Intersection 12",
          "Intersection 13",
          "Intersection 14",
          "Intersection 15",
          "Intersection 16",
          "Intersection 17",
          "Intersection 18",
          "Intersection 19",
          "Intersection 20",
          "Intersection 21",
          "Intersection 22",
          "Intersection 23",
          "Intersection 24",
          "Intersection 25",
          "Intersection 26",
          "Intersection 27",
          "Intersection 28",
          "Intersection 29",
          "Intersection 30",
          "Intersection 31",
          "Intersection 32",
          "Intersection 33",
          "Intersection 34",
          "Intersection 35",
          "Intersection 36",
          "Intersection 37",
          "Intersection 38",
          "Intersection 39"
         ],
         "type": "scatter",
         "x": [
          0.7801603911549438,
          0.5249831588690298,
          0.8085335344099086,
          0.2599134798656856,
          0.7353838928272886,
          0.09088671576431506,
          0.313999018186756,
          0.6824813442515916,
          0.20128789391122526,
          0.8551947714242674,
          0.7581736589784409,
          0.25311953895059136,
          0.4813859169876731,
          0.9112422509614865,
          0.04580558670435442,
          0.4582523173083307,
          0.12939557977525573,
          0.607698913404794,
          0.719569201584275,
          0.8860336256842246,
          0.4238357358399233,
          0.8252497121120052,
          0.47415009287034726,
          0.26253385360950576,
          0.9363713903322148,
          0.6243437191127235,
          0.5572917679006295,
          0.7482655725962591,
          0.6435799740880603,
          0.34509802713919313,
          0.021423673670808885,
          0.640952694324525,
          0.17440205342790494,
          0.1332965908314021,
          0.583993110207876,
          0.3073865727705063,
          0.740625863119245,
          0.3345284735051981,
          0.17972981733780147,
          0.6315322816286787
         ],
         "y": [
          0.49474860768712914,
          0.14953665513987202,
          0.7696330846542071,
          0.14485659826020547,
          0.8089961609345658,
          0.7222846879290787,
          0.01876171413125327,
          0.8016111783687677,
          0.43196344222361227,
          0.9011339078096633,
          0.24026772497187532,
          0.10321622277398101,
          0.5006237737207431,
          0.1839028760606296,
          0.5886703168399895,
          0.1735506267461867,
          0.690016328140396,
          0.362322730884702,
          0.13985272363426526,
          0.891868301175821,
          0.026771817842421997,
          0.9532681441921305,
          0.7353428557575755,
          0.9768234503830939,
          0.13022993020357043,
          0.21665962402659544,
          0.2083567880838434,
          0.12631654071213483,
          0.5488515965193208,
          0.8800306496459869,
          0.4666482714834408,
          0.3232711412508066,
          0.9528527425842739,
          0.3996510641743197,
          0.42704536740474663,
          0.09186645974288632,
          0.68128520136847,
          0.6569436279895382,
          0.999395685828547,
          0.7311657634689946
         ]
        }
       ],
       "layout": {
        "hovermode": "closest",
        "margin": {
         "b": 20,
         "l": 5,
         "r": 5,
         "t": 40
        },
        "showlegend": false,
        "template": {
         "data": {
          "bar": [
           {
            "error_x": {
             "color": "#2a3f5f"
            },
            "error_y": {
             "color": "#2a3f5f"
            },
            "marker": {
             "line": {
              "color": "#E5ECF6",
              "width": 0.5
             }
            },
            "type": "bar"
           }
          ],
          "barpolar": [
           {
            "marker": {
             "line": {
              "color": "#E5ECF6",
              "width": 0.5
             }
            },
            "type": "barpolar"
           }
          ],
          "carpet": [
           {
            "aaxis": {
             "endlinecolor": "#2a3f5f",
             "gridcolor": "white",
             "linecolor": "white",
             "minorgridcolor": "white",
             "startlinecolor": "#2a3f5f"
            },
            "baxis": {
             "endlinecolor": "#2a3f5f",
             "gridcolor": "white",
             "linecolor": "white",
             "minorgridcolor": "white",
             "startlinecolor": "#2a3f5f"
            },
            "type": "carpet"
           }
          ],
          "choropleth": [
           {
            "colorbar": {
             "outlinewidth": 0,
             "ticks": ""
            },
            "type": "choropleth"
           }
          ],
          "contour": [
           {
            "colorbar": {
             "outlinewidth": 0,
             "ticks": ""
            },
            "colorscale": [
             [
              0,
              "#0d0887"
             ],
             [
              0.1111111111111111,
              "#46039f"
             ],
             [
              0.2222222222222222,
              "#7201a8"
             ],
             [
              0.3333333333333333,
              "#9c179e"
             ],
             [
              0.4444444444444444,
              "#bd3786"
             ],
             [
              0.5555555555555556,
              "#d8576b"
             ],
             [
              0.6666666666666666,
              "#ed7953"
             ],
             [
              0.7777777777777778,
              "#fb9f3a"
             ],
             [
              0.8888888888888888,
              "#fdca26"
             ],
             [
              1,
              "#f0f921"
             ]
            ],
            "type": "contour"
           }
          ],
          "contourcarpet": [
           {
            "colorbar": {
             "outlinewidth": 0,
             "ticks": ""
            },
            "type": "contourcarpet"
           }
          ],
          "heatmap": [
           {
            "colorbar": {
             "outlinewidth": 0,
             "ticks": ""
            },
            "colorscale": [
             [
              0,
              "#0d0887"
             ],
             [
              0.1111111111111111,
              "#46039f"
             ],
             [
              0.2222222222222222,
              "#7201a8"
             ],
             [
              0.3333333333333333,
              "#9c179e"
             ],
             [
              0.4444444444444444,
              "#bd3786"
             ],
             [
              0.5555555555555556,
              "#d8576b"
             ],
             [
              0.6666666666666666,
              "#ed7953"
             ],
             [
              0.7777777777777778,
              "#fb9f3a"
             ],
             [
              0.8888888888888888,
              "#fdca26"
             ],
             [
              1,
              "#f0f921"
             ]
            ],
            "type": "heatmap"
           }
          ],
          "heatmapgl": [
           {
            "colorbar": {
             "outlinewidth": 0,
             "ticks": ""
            },
            "colorscale": [
             [
              0,
              "#0d0887"
             ],
             [
              0.1111111111111111,
              "#46039f"
             ],
             [
              0.2222222222222222,
              "#7201a8"
             ],
             [
              0.3333333333333333,
              "#9c179e"
             ],
             [
              0.4444444444444444,
              "#bd3786"
             ],
             [
              0.5555555555555556,
              "#d8576b"
             ],
             [
              0.6666666666666666,
              "#ed7953"
             ],
             [
              0.7777777777777778,
              "#fb9f3a"
             ],
             [
              0.8888888888888888,
              "#fdca26"
             ],
             [
              1,
              "#f0f921"
             ]
            ],
            "type": "heatmapgl"
           }
          ],
          "histogram": [
           {
            "marker": {
             "colorbar": {
              "outlinewidth": 0,
              "ticks": ""
             }
            },
            "type": "histogram"
           }
          ],
          "histogram2d": [
           {
            "colorbar": {
             "outlinewidth": 0,
             "ticks": ""
            },
            "colorscale": [
             [
              0,
              "#0d0887"
             ],
             [
              0.1111111111111111,
              "#46039f"
             ],
             [
              0.2222222222222222,
              "#7201a8"
             ],
             [
              0.3333333333333333,
              "#9c179e"
             ],
             [
              0.4444444444444444,
              "#bd3786"
             ],
             [
              0.5555555555555556,
              "#d8576b"
             ],
             [
              0.6666666666666666,
              "#ed7953"
             ],
             [
              0.7777777777777778,
              "#fb9f3a"
             ],
             [
              0.8888888888888888,
              "#fdca26"
             ],
             [
              1,
              "#f0f921"
             ]
            ],
            "type": "histogram2d"
           }
          ],
          "histogram2dcontour": [
           {
            "colorbar": {
             "outlinewidth": 0,
             "ticks": ""
            },
            "colorscale": [
             [
              0,
              "#0d0887"
             ],
             [
              0.1111111111111111,
              "#46039f"
             ],
             [
              0.2222222222222222,
              "#7201a8"
             ],
             [
              0.3333333333333333,
              "#9c179e"
             ],
             [
              0.4444444444444444,
              "#bd3786"
             ],
             [
              0.5555555555555556,
              "#d8576b"
             ],
             [
              0.6666666666666666,
              "#ed7953"
             ],
             [
              0.7777777777777778,
              "#fb9f3a"
             ],
             [
              0.8888888888888888,
              "#fdca26"
             ],
             [
              1,
              "#f0f921"
             ]
            ],
            "type": "histogram2dcontour"
           }
          ],
          "mesh3d": [
           {
            "colorbar": {
             "outlinewidth": 0,
             "ticks": ""
            },
            "type": "mesh3d"
           }
          ],
          "parcoords": [
           {
            "line": {
             "colorbar": {
              "outlinewidth": 0,
              "ticks": ""
             }
            },
            "type": "parcoords"
           }
          ],
          "pie": [
           {
            "automargin": true,
            "type": "pie"
           }
          ],
          "scatter": [
           {
            "marker": {
             "colorbar": {
              "outlinewidth": 0,
              "ticks": ""
             }
            },
            "type": "scatter"
           }
          ],
          "scatter3d": [
           {
            "line": {
             "colorbar": {
              "outlinewidth": 0,
              "ticks": ""
             }
            },
            "marker": {
             "colorbar": {
              "outlinewidth": 0,
              "ticks": ""
             }
            },
            "type": "scatter3d"
           }
          ],
          "scattercarpet": [
           {
            "marker": {
             "colorbar": {
              "outlinewidth": 0,
              "ticks": ""
             }
            },
            "type": "scattercarpet"
           }
          ],
          "scattergeo": [
           {
            "marker": {
             "colorbar": {
              "outlinewidth": 0,
              "ticks": ""
             }
            },
            "type": "scattergeo"
           }
          ],
          "scattergl": [
           {
            "marker": {
             "colorbar": {
              "outlinewidth": 0,
              "ticks": ""
             }
            },
            "type": "scattergl"
           }
          ],
          "scattermapbox": [
           {
            "marker": {
             "colorbar": {
              "outlinewidth": 0,
              "ticks": ""
             }
            },
            "type": "scattermapbox"
           }
          ],
          "scatterpolar": [
           {
            "marker": {
             "colorbar": {
              "outlinewidth": 0,
              "ticks": ""
             }
            },
            "type": "scatterpolar"
           }
          ],
          "scatterpolargl": [
           {
            "marker": {
             "colorbar": {
              "outlinewidth": 0,
              "ticks": ""
             }
            },
            "type": "scatterpolargl"
           }
          ],
          "scatterternary": [
           {
            "marker": {
             "colorbar": {
              "outlinewidth": 0,
              "ticks": ""
             }
            },
            "type": "scatterternary"
           }
          ],
          "surface": [
           {
            "colorbar": {
             "outlinewidth": 0,
             "ticks": ""
            },
            "colorscale": [
             [
              0,
              "#0d0887"
             ],
             [
              0.1111111111111111,
              "#46039f"
             ],
             [
              0.2222222222222222,
              "#7201a8"
             ],
             [
              0.3333333333333333,
              "#9c179e"
             ],
             [
              0.4444444444444444,
              "#bd3786"
             ],
             [
              0.5555555555555556,
              "#d8576b"
             ],
             [
              0.6666666666666666,
              "#ed7953"
             ],
             [
              0.7777777777777778,
              "#fb9f3a"
             ],
             [
              0.8888888888888888,
              "#fdca26"
             ],
             [
              1,
              "#f0f921"
             ]
            ],
            "type": "surface"
           }
          ],
          "table": [
           {
            "cells": {
             "fill": {
              "color": "#EBF0F8"
             },
             "line": {
              "color": "white"
             }
            },
            "header": {
             "fill": {
              "color": "#C8D4E3"
             },
             "line": {
              "color": "white"
             }
            },
            "type": "table"
           }
          ]
         },
         "layout": {
          "annotationdefaults": {
           "arrowcolor": "#2a3f5f",
           "arrowhead": 0,
           "arrowwidth": 1
          },
          "coloraxis": {
           "colorbar": {
            "outlinewidth": 0,
            "ticks": ""
           }
          },
          "colorscale": {
           "diverging": [
            [
             0,
             "#8e0152"
            ],
            [
             0.1,
             "#c51b7d"
            ],
            [
             0.2,
             "#de77ae"
            ],
            [
             0.3,
             "#f1b6da"
            ],
            [
             0.4,
             "#fde0ef"
            ],
            [
             0.5,
             "#f7f7f7"
            ],
            [
             0.6,
             "#e6f5d0"
            ],
            [
             0.7,
             "#b8e186"
            ],
            [
             0.8,
             "#7fbc41"
            ],
            [
             0.9,
             "#4d9221"
            ],
            [
             1,
             "#276419"
            ]
           ],
           "sequential": [
            [
             0,
             "#0d0887"
            ],
            [
             0.1111111111111111,
             "#46039f"
            ],
            [
             0.2222222222222222,
             "#7201a8"
            ],
            [
             0.3333333333333333,
             "#9c179e"
            ],
            [
             0.4444444444444444,
             "#bd3786"
            ],
            [
             0.5555555555555556,
             "#d8576b"
            ],
            [
             0.6666666666666666,
             "#ed7953"
            ],
            [
             0.7777777777777778,
             "#fb9f3a"
            ],
            [
             0.8888888888888888,
             "#fdca26"
            ],
            [
             1,
             "#f0f921"
            ]
           ],
           "sequentialminus": [
            [
             0,
             "#0d0887"
            ],
            [
             0.1111111111111111,
             "#46039f"
            ],
            [
             0.2222222222222222,
             "#7201a8"
            ],
            [
             0.3333333333333333,
             "#9c179e"
            ],
            [
             0.4444444444444444,
             "#bd3786"
            ],
            [
             0.5555555555555556,
             "#d8576b"
            ],
            [
             0.6666666666666666,
             "#ed7953"
            ],
            [
             0.7777777777777778,
             "#fb9f3a"
            ],
            [
             0.8888888888888888,
             "#fdca26"
            ],
            [
             1,
             "#f0f921"
            ]
           ]
          },
          "colorway": [
           "#636efa",
           "#EF553B",
           "#00cc96",
           "#ab63fa",
           "#FFA15A",
           "#19d3f3",
           "#FF6692",
           "#B6E880",
           "#FF97FF",
           "#FECB52"
          ],
          "font": {
           "color": "#2a3f5f"
          },
          "geo": {
           "bgcolor": "white",
           "lakecolor": "white",
           "landcolor": "#E5ECF6",
           "showlakes": true,
           "showland": true,
           "subunitcolor": "white"
          },
          "hoverlabel": {
           "align": "left"
          },
          "hovermode": "closest",
          "mapbox": {
           "style": "light"
          },
          "paper_bgcolor": "white",
          "plot_bgcolor": "#E5ECF6",
          "polar": {
           "angularaxis": {
            "gridcolor": "white",
            "linecolor": "white",
            "ticks": ""
           },
           "bgcolor": "#E5ECF6",
           "radialaxis": {
            "gridcolor": "white",
            "linecolor": "white",
            "ticks": ""
           }
          },
          "scene": {
           "xaxis": {
            "backgroundcolor": "#E5ECF6",
            "gridcolor": "white",
            "gridwidth": 2,
            "linecolor": "white",
            "showbackground": true,
            "ticks": "",
            "zerolinecolor": "white"
           },
           "yaxis": {
            "backgroundcolor": "#E5ECF6",
            "gridcolor": "white",
            "gridwidth": 2,
            "linecolor": "white",
            "showbackground": true,
            "ticks": "",
            "zerolinecolor": "white"
           },
           "zaxis": {
            "backgroundcolor": "#E5ECF6",
            "gridcolor": "white",
            "gridwidth": 2,
            "linecolor": "white",
            "showbackground": true,
            "ticks": "",
            "zerolinecolor": "white"
           }
          },
          "shapedefaults": {
           "line": {
            "color": "#2a3f5f"
           }
          },
          "ternary": {
           "aaxis": {
            "gridcolor": "white",
            "linecolor": "white",
            "ticks": ""
           },
           "baxis": {
            "gridcolor": "white",
            "linecolor": "white",
            "ticks": ""
           },
           "bgcolor": "#E5ECF6",
           "caxis": {
            "gridcolor": "white",
            "linecolor": "white",
            "ticks": ""
           }
          },
          "title": {
           "x": 0.05
          },
          "xaxis": {
           "automargin": true,
           "gridcolor": "white",
           "linecolor": "white",
           "ticks": "",
           "title": {
            "standoff": 15
           },
           "zerolinecolor": "white",
           "zerolinewidth": 2
          },
          "yaxis": {
           "automargin": true,
           "gridcolor": "white",
           "linecolor": "white",
           "ticks": "",
           "title": {
            "standoff": 15
           },
           "zerolinecolor": "white",
           "zerolinewidth": 2
          }
         }
        },
        "title": {
         "font": {
          "size": 16
         },
         "text": "<br>Network graph made with Python"
        },
        "xaxis": {
         "showgrid": false,
         "showticklabels": false,
         "zeroline": false
        },
        "yaxis": {
         "showgrid": false,
         "showticklabels": false,
         "zeroline": false
        }
       }
      },
      "text/html": [
       "<div>                            <div id=\"fb5fb506-333e-4b0b-abf2-fef3e615f827\" class=\"plotly-graph-div\" style=\"height:525px; width:100%;\"></div>            <script type=\"text/javascript\">                require([\"plotly\"], function(Plotly) {                    window.PLOTLYENV=window.PLOTLYENV || {};                                    if (document.getElementById(\"fb5fb506-333e-4b0b-abf2-fef3e615f827\")) {                    Plotly.newPlot(                        \"fb5fb506-333e-4b0b-abf2-fef3e615f827\",                        [{\"hoverinfo\": \"none\", \"line\": {\"color\": \"#888\", \"width\": 0.5}, \"mode\": \"lines\", \"type\": \"scatter\", \"x\": [0.7801603911549438, 0.740625863119245, null, 0.7801603911549438, 0.583993110207876, null, 0.7801603911549438, 0.640952694324525, null, 0.7801603911549438, 0.6435799740880603, null, 0.7801603911549438, 0.607698913404794, null, 0.5249831588690298, 0.3073865727705063, null, 0.5249831588690298, 0.640952694324525, null, 0.5249831588690298, 0.7482655725962591, null, 0.5249831588690298, 0.5572917679006295, null, 0.5249831588690298, 0.6243437191127235, null, 0.5249831588690298, 0.4238357358399233, null, 0.5249831588690298, 0.719569201584275, null, 0.5249831588690298, 0.607698913404794, null, 0.5249831588690298, 0.4582523173083307, null, 0.5249831588690298, 0.313999018186756, null, 0.8085335344099086, 0.6315322816286787, null, 0.8085335344099086, 0.740625863119245, null, 0.8085335344099086, 0.8252497121120052, null, 0.8085335344099086, 0.8860336256842246, null, 0.8085335344099086, 0.8551947714242674, null, 0.8085335344099086, 0.6824813442515916, null, 0.8085335344099086, 0.7353838928272886, null, 0.2599134798656856, 0.3073865727705063, null, 0.2599134798656856, 0.4238357358399233, null, 0.2599134798656856, 0.4582523173083307, null, 0.2599134798656856, 0.25311953895059136, null, 0.2599134798656856, 0.313999018186756, null, 0.7353838928272886, 0.6315322816286787, null, 0.7353838928272886, 0.740625863119245, null, 0.7353838928272886, 0.8252497121120052, null, 0.7353838928272886, 0.8860336256842246, null, 0.7353838928272886, 0.8551947714242674, null, 0.7353838928272886, 0.6824813442515916, null, 0.09088671576431506, 0.17440205342790494, null, 0.09088671576431506, 0.12939557977525573, null, 0.09088671576431506, 0.04580558670435442, null, 0.313999018186756, 0.3073865727705063, null, 0.313999018186756, 0.4238357358399233, null, 0.313999018186756, 0.4582523173083307, null, 0.313999018186756, 0.25311953895059136, null, 0.6824813442515916, 0.6315322816286787, null, 0.6824813442515916, 0.740625863119245, null, 0.6824813442515916, 0.47415009287034726, null, 0.6824813442515916, 0.8252497121120052, null, 0.6824813442515916, 0.8860336256842246, null, 0.6824813442515916, 0.8551947714242674, null, 0.20128789391122526, 0.1332965908314021, null, 0.20128789391122526, 0.021423673670808885, null, 0.20128789391122526, 0.04580558670435442, null, 0.8551947714242674, 0.740625863119245, null, 0.8551947714242674, 0.8252497121120052, null, 0.8551947714242674, 0.8860336256842246, null, 0.7581736589784409, 0.640952694324525, null, 0.7581736589784409, 0.7482655725962591, null, 0.7581736589784409, 0.5572917679006295, null, 0.7581736589784409, 0.6243437191127235, null, 0.7581736589784409, 0.9363713903322148, null, 0.7581736589784409, 0.719569201584275, null, 0.7581736589784409, 0.607698913404794, null, 0.7581736589784409, 0.9112422509614865, null, 0.25311953895059136, 0.3073865727705063, null, 0.25311953895059136, 0.4238357358399233, null, 0.25311953895059136, 0.4582523173083307, null, 0.4813859169876731, 0.3345284735051981, null, 0.4813859169876731, 0.583993110207876, null, 0.4813859169876731, 0.640952694324525, null, 0.4813859169876731, 0.6435799740880603, null, 0.4813859169876731, 0.47415009287034726, null, 0.4813859169876731, 0.607698913404794, null, 0.9112422509614865, 0.7482655725962591, null, 0.9112422509614865, 0.9363713903322148, null, 0.9112422509614865, 0.719569201584275, null, 0.04580558670435442, 0.1332965908314021, null, 0.04580558670435442, 0.021423673670808885, null, 0.04580558670435442, 0.12939557977525573, null, 0.4582523173083307, 0.3073865727705063, null, 0.4582523173083307, 0.640952694324525, null, 0.4582523173083307, 0.5572917679006295, null, 0.4582523173083307, 0.6243437191127235, null, 0.4582523173083307, 0.4238357358399233, null, 0.4582523173083307, 0.607698913404794, null, 0.12939557977525573, 0.3345284735051981, null, 0.12939557977525573, 0.021423673670808885, null, 0.607698913404794, 0.583993110207876, null, 0.607698913404794, 0.640952694324525, null, 0.607698913404794, 0.6435799740880603, null, 0.607698913404794, 0.5572917679006295, null, 0.607698913404794, 0.6243437191127235, null, 0.607698913404794, 0.719569201584275, null, 0.719569201584275, 0.640952694324525, null, 0.719569201584275, 0.7482655725962591, null, 0.719569201584275, 0.5572917679006295, null, 0.719569201584275, 0.6243437191127235, null, 0.719569201584275, 0.9363713903322148, null, 0.8860336256842246, 0.8252497121120052, null, 0.4238357358399233, 0.3073865727705063, null, 0.4238357358399233, 0.5572917679006295, null, 0.47415009287034726, 0.6315322816286787, null, 0.47415009287034726, 0.3345284735051981, null, 0.47415009287034726, 0.34509802713919313, null, 0.26253385360950576, 0.17972981733780147, null, 0.26253385360950576, 0.17440205342790494, null, 0.26253385360950576, 0.34509802713919313, null, 0.9363713903322148, 0.7482655725962591, null, 0.6243437191127235, 0.583993110207876, null, 0.6243437191127235, 0.640952694324525, null, 0.6243437191127235, 0.7482655725962591, null, 0.6243437191127235, 0.5572917679006295, null, 0.5572917679006295, 0.583993110207876, null, 0.5572917679006295, 0.640952694324525, null, 0.5572917679006295, 0.7482655725962591, null, 0.7482655725962591, 0.640952694324525, null, 0.6435799740880603, 0.6315322816286787, null, 0.6435799740880603, 0.740625863119245, null, 0.6435799740880603, 0.583993110207876, null, 0.6435799740880603, 0.640952694324525, null, 0.34509802713919313, 0.17972981733780147, null, 0.34509802713919313, 0.3345284735051981, null, 0.34509802713919313, 0.17440205342790494, null, 0.021423673670808885, 0.1332965908314021, null, 0.640952694324525, 0.583993110207876, null, 0.17440205342790494, 0.17972981733780147, null, 0.740625863119245, 0.6315322816286787, null], \"y\": [0.49474860768712914, 0.68128520136847, null, 0.49474860768712914, 0.42704536740474663, null, 0.49474860768712914, 0.3232711412508066, null, 0.49474860768712914, 0.5488515965193208, null, 0.49474860768712914, 0.362322730884702, null, 0.14953665513987202, 0.09186645974288632, null, 0.14953665513987202, 0.3232711412508066, null, 0.14953665513987202, 0.12631654071213483, null, 0.14953665513987202, 0.2083567880838434, null, 0.14953665513987202, 0.21665962402659544, null, 0.14953665513987202, 0.026771817842421997, null, 0.14953665513987202, 0.13985272363426526, null, 0.14953665513987202, 0.362322730884702, null, 0.14953665513987202, 0.1735506267461867, null, 0.14953665513987202, 0.01876171413125327, null, 0.7696330846542071, 0.7311657634689946, null, 0.7696330846542071, 0.68128520136847, null, 0.7696330846542071, 0.9532681441921305, null, 0.7696330846542071, 0.891868301175821, null, 0.7696330846542071, 0.9011339078096633, null, 0.7696330846542071, 0.8016111783687677, null, 0.7696330846542071, 0.8089961609345658, null, 0.14485659826020547, 0.09186645974288632, null, 0.14485659826020547, 0.026771817842421997, null, 0.14485659826020547, 0.1735506267461867, null, 0.14485659826020547, 0.10321622277398101, null, 0.14485659826020547, 0.01876171413125327, null, 0.8089961609345658, 0.7311657634689946, null, 0.8089961609345658, 0.68128520136847, null, 0.8089961609345658, 0.9532681441921305, null, 0.8089961609345658, 0.891868301175821, null, 0.8089961609345658, 0.9011339078096633, null, 0.8089961609345658, 0.8016111783687677, null, 0.7222846879290787, 0.9528527425842739, null, 0.7222846879290787, 0.690016328140396, null, 0.7222846879290787, 0.5886703168399895, null, 0.01876171413125327, 0.09186645974288632, null, 0.01876171413125327, 0.026771817842421997, null, 0.01876171413125327, 0.1735506267461867, null, 0.01876171413125327, 0.10321622277398101, null, 0.8016111783687677, 0.7311657634689946, null, 0.8016111783687677, 0.68128520136847, null, 0.8016111783687677, 0.7353428557575755, null, 0.8016111783687677, 0.9532681441921305, null, 0.8016111783687677, 0.891868301175821, null, 0.8016111783687677, 0.9011339078096633, null, 0.43196344222361227, 0.3996510641743197, null, 0.43196344222361227, 0.4666482714834408, null, 0.43196344222361227, 0.5886703168399895, null, 0.9011339078096633, 0.68128520136847, null, 0.9011339078096633, 0.9532681441921305, null, 0.9011339078096633, 0.891868301175821, null, 0.24026772497187532, 0.3232711412508066, null, 0.24026772497187532, 0.12631654071213483, null, 0.24026772497187532, 0.2083567880838434, null, 0.24026772497187532, 0.21665962402659544, null, 0.24026772497187532, 0.13022993020357043, null, 0.24026772497187532, 0.13985272363426526, null, 0.24026772497187532, 0.362322730884702, null, 0.24026772497187532, 0.1839028760606296, null, 0.10321622277398101, 0.09186645974288632, null, 0.10321622277398101, 0.026771817842421997, null, 0.10321622277398101, 0.1735506267461867, null, 0.5006237737207431, 0.6569436279895382, null, 0.5006237737207431, 0.42704536740474663, null, 0.5006237737207431, 0.3232711412508066, null, 0.5006237737207431, 0.5488515965193208, null, 0.5006237737207431, 0.7353428557575755, null, 0.5006237737207431, 0.362322730884702, null, 0.1839028760606296, 0.12631654071213483, null, 0.1839028760606296, 0.13022993020357043, null, 0.1839028760606296, 0.13985272363426526, null, 0.5886703168399895, 0.3996510641743197, null, 0.5886703168399895, 0.4666482714834408, null, 0.5886703168399895, 0.690016328140396, null, 0.1735506267461867, 0.09186645974288632, null, 0.1735506267461867, 0.3232711412508066, null, 0.1735506267461867, 0.2083567880838434, null, 0.1735506267461867, 0.21665962402659544, null, 0.1735506267461867, 0.026771817842421997, null, 0.1735506267461867, 0.362322730884702, null, 0.690016328140396, 0.6569436279895382, null, 0.690016328140396, 0.4666482714834408, null, 0.362322730884702, 0.42704536740474663, null, 0.362322730884702, 0.3232711412508066, null, 0.362322730884702, 0.5488515965193208, null, 0.362322730884702, 0.2083567880838434, null, 0.362322730884702, 0.21665962402659544, null, 0.362322730884702, 0.13985272363426526, null, 0.13985272363426526, 0.3232711412508066, null, 0.13985272363426526, 0.12631654071213483, null, 0.13985272363426526, 0.2083567880838434, null, 0.13985272363426526, 0.21665962402659544, null, 0.13985272363426526, 0.13022993020357043, null, 0.891868301175821, 0.9532681441921305, null, 0.026771817842421997, 0.09186645974288632, null, 0.026771817842421997, 0.2083567880838434, null, 0.7353428557575755, 0.7311657634689946, null, 0.7353428557575755, 0.6569436279895382, null, 0.7353428557575755, 0.8800306496459869, null, 0.9768234503830939, 0.999395685828547, null, 0.9768234503830939, 0.9528527425842739, null, 0.9768234503830939, 0.8800306496459869, null, 0.13022993020357043, 0.12631654071213483, null, 0.21665962402659544, 0.42704536740474663, null, 0.21665962402659544, 0.3232711412508066, null, 0.21665962402659544, 0.12631654071213483, null, 0.21665962402659544, 0.2083567880838434, null, 0.2083567880838434, 0.42704536740474663, null, 0.2083567880838434, 0.3232711412508066, null, 0.2083567880838434, 0.12631654071213483, null, 0.12631654071213483, 0.3232711412508066, null, 0.5488515965193208, 0.7311657634689946, null, 0.5488515965193208, 0.68128520136847, null, 0.5488515965193208, 0.42704536740474663, null, 0.5488515965193208, 0.3232711412508066, null, 0.8800306496459869, 0.999395685828547, null, 0.8800306496459869, 0.6569436279895382, null, 0.8800306496459869, 0.9528527425842739, null, 0.4666482714834408, 0.3996510641743197, null, 0.3232711412508066, 0.42704536740474663, null, 0.9528527425842739, 0.999395685828547, null, 0.68128520136847, 0.7311657634689946, null]}, {\"hoverinfo\": \"text\", \"marker\": {\"color\": [0, 0, 0, 0, 0, 0, 0, 0, 0, 0, 0, 0, 0, 0, 0, 0, 0, 0, 0, 0, 0, 0, 0, 0, 0, 0, 0, 0, 0, 0, 0, 0, 0, 0, 0, 0, 0, 0, 0, 0], \"colorbar\": {\"thickness\": 15, \"title\": {\"side\": \"right\", \"text\": \"Node Connections\"}, \"xanchor\": \"left\"}, \"colorscale\": [[0.0, \"rgb(0,0,0)\"], [0.3333333333333333, \"rgb(230,0,0)\"], [0.6666666666666666, \"rgb(255,210,0)\"], [1.0, \"rgb(255,255,255)\"]], \"line\": {\"width\": 2}, \"reversescale\": true, \"showscale\": false, \"size\": 10}, \"mode\": \"markers\", \"text\": [\"Intersection 0\", \"Intersection 1\", \"Intersection 2\", \"Intersection 3\", \"Intersection 4\", \"Intersection 5\", \"Intersection 6\", \"Intersection 7\", \"Intersection 8\", \"Intersection 9\", \"Intersection 10\", \"Intersection 11\", \"Intersection 12\", \"Intersection 13\", \"Intersection 14\", \"Intersection 15\", \"Intersection 16\", \"Intersection 17\", \"Intersection 18\", \"Intersection 19\", \"Intersection 20\", \"Intersection 21\", \"Intersection 22\", \"Intersection 23\", \"Intersection 24\", \"Intersection 25\", \"Intersection 26\", \"Intersection 27\", \"Intersection 28\", \"Intersection 29\", \"Intersection 30\", \"Intersection 31\", \"Intersection 32\", \"Intersection 33\", \"Intersection 34\", \"Intersection 35\", \"Intersection 36\", \"Intersection 37\", \"Intersection 38\", \"Intersection 39\"], \"type\": \"scatter\", \"x\": [0.7801603911549438, 0.5249831588690298, 0.8085335344099086, 0.2599134798656856, 0.7353838928272886, 0.09088671576431506, 0.313999018186756, 0.6824813442515916, 0.20128789391122526, 0.8551947714242674, 0.7581736589784409, 0.25311953895059136, 0.4813859169876731, 0.9112422509614865, 0.04580558670435442, 0.4582523173083307, 0.12939557977525573, 0.607698913404794, 0.719569201584275, 0.8860336256842246, 0.4238357358399233, 0.8252497121120052, 0.47415009287034726, 0.26253385360950576, 0.9363713903322148, 0.6243437191127235, 0.5572917679006295, 0.7482655725962591, 0.6435799740880603, 0.34509802713919313, 0.021423673670808885, 0.640952694324525, 0.17440205342790494, 0.1332965908314021, 0.583993110207876, 0.3073865727705063, 0.740625863119245, 0.3345284735051981, 0.17972981733780147, 0.6315322816286787], \"y\": [0.49474860768712914, 0.14953665513987202, 0.7696330846542071, 0.14485659826020547, 0.8089961609345658, 0.7222846879290787, 0.01876171413125327, 0.8016111783687677, 0.43196344222361227, 0.9011339078096633, 0.24026772497187532, 0.10321622277398101, 0.5006237737207431, 0.1839028760606296, 0.5886703168399895, 0.1735506267461867, 0.690016328140396, 0.362322730884702, 0.13985272363426526, 0.891868301175821, 0.026771817842421997, 0.9532681441921305, 0.7353428557575755, 0.9768234503830939, 0.13022993020357043, 0.21665962402659544, 0.2083567880838434, 0.12631654071213483, 0.5488515965193208, 0.8800306496459869, 0.4666482714834408, 0.3232711412508066, 0.9528527425842739, 0.3996510641743197, 0.42704536740474663, 0.09186645974288632, 0.68128520136847, 0.6569436279895382, 0.999395685828547, 0.7311657634689946]}],                        {\"hovermode\": \"closest\", \"margin\": {\"b\": 20, \"l\": 5, \"r\": 5, \"t\": 40}, \"showlegend\": false, \"template\": {\"data\": {\"bar\": [{\"error_x\": {\"color\": \"#2a3f5f\"}, \"error_y\": {\"color\": \"#2a3f5f\"}, \"marker\": {\"line\": {\"color\": \"#E5ECF6\", \"width\": 0.5}}, \"type\": \"bar\"}], \"barpolar\": [{\"marker\": {\"line\": {\"color\": \"#E5ECF6\", \"width\": 0.5}}, \"type\": \"barpolar\"}], \"carpet\": [{\"aaxis\": {\"endlinecolor\": \"#2a3f5f\", \"gridcolor\": \"white\", \"linecolor\": \"white\", \"minorgridcolor\": \"white\", \"startlinecolor\": \"#2a3f5f\"}, \"baxis\": {\"endlinecolor\": \"#2a3f5f\", \"gridcolor\": \"white\", \"linecolor\": \"white\", \"minorgridcolor\": \"white\", \"startlinecolor\": \"#2a3f5f\"}, \"type\": \"carpet\"}], \"choropleth\": [{\"colorbar\": {\"outlinewidth\": 0, \"ticks\": \"\"}, \"type\": \"choropleth\"}], \"contour\": [{\"colorbar\": {\"outlinewidth\": 0, \"ticks\": \"\"}, \"colorscale\": [[0.0, \"#0d0887\"], [0.1111111111111111, \"#46039f\"], [0.2222222222222222, \"#7201a8\"], [0.3333333333333333, \"#9c179e\"], [0.4444444444444444, \"#bd3786\"], [0.5555555555555556, \"#d8576b\"], [0.6666666666666666, \"#ed7953\"], [0.7777777777777778, \"#fb9f3a\"], [0.8888888888888888, \"#fdca26\"], [1.0, \"#f0f921\"]], \"type\": \"contour\"}], \"contourcarpet\": [{\"colorbar\": {\"outlinewidth\": 0, \"ticks\": \"\"}, \"type\": \"contourcarpet\"}], \"heatmap\": [{\"colorbar\": {\"outlinewidth\": 0, \"ticks\": \"\"}, \"colorscale\": [[0.0, \"#0d0887\"], [0.1111111111111111, \"#46039f\"], [0.2222222222222222, \"#7201a8\"], [0.3333333333333333, \"#9c179e\"], [0.4444444444444444, \"#bd3786\"], [0.5555555555555556, \"#d8576b\"], [0.6666666666666666, \"#ed7953\"], [0.7777777777777778, \"#fb9f3a\"], [0.8888888888888888, \"#fdca26\"], [1.0, \"#f0f921\"]], \"type\": \"heatmap\"}], \"heatmapgl\": [{\"colorbar\": {\"outlinewidth\": 0, \"ticks\": \"\"}, \"colorscale\": [[0.0, \"#0d0887\"], [0.1111111111111111, \"#46039f\"], [0.2222222222222222, \"#7201a8\"], [0.3333333333333333, \"#9c179e\"], [0.4444444444444444, \"#bd3786\"], [0.5555555555555556, \"#d8576b\"], [0.6666666666666666, \"#ed7953\"], [0.7777777777777778, \"#fb9f3a\"], [0.8888888888888888, \"#fdca26\"], [1.0, \"#f0f921\"]], \"type\": \"heatmapgl\"}], \"histogram\": [{\"marker\": {\"colorbar\": {\"outlinewidth\": 0, \"ticks\": \"\"}}, \"type\": \"histogram\"}], \"histogram2d\": [{\"colorbar\": {\"outlinewidth\": 0, \"ticks\": \"\"}, \"colorscale\": [[0.0, \"#0d0887\"], [0.1111111111111111, \"#46039f\"], [0.2222222222222222, \"#7201a8\"], [0.3333333333333333, \"#9c179e\"], [0.4444444444444444, \"#bd3786\"], [0.5555555555555556, \"#d8576b\"], [0.6666666666666666, \"#ed7953\"], [0.7777777777777778, \"#fb9f3a\"], [0.8888888888888888, \"#fdca26\"], [1.0, \"#f0f921\"]], \"type\": \"histogram2d\"}], \"histogram2dcontour\": [{\"colorbar\": {\"outlinewidth\": 0, \"ticks\": \"\"}, \"colorscale\": [[0.0, \"#0d0887\"], [0.1111111111111111, \"#46039f\"], [0.2222222222222222, \"#7201a8\"], [0.3333333333333333, \"#9c179e\"], [0.4444444444444444, \"#bd3786\"], [0.5555555555555556, \"#d8576b\"], [0.6666666666666666, \"#ed7953\"], [0.7777777777777778, \"#fb9f3a\"], [0.8888888888888888, \"#fdca26\"], [1.0, \"#f0f921\"]], \"type\": \"histogram2dcontour\"}], \"mesh3d\": [{\"colorbar\": {\"outlinewidth\": 0, \"ticks\": \"\"}, \"type\": \"mesh3d\"}], \"parcoords\": [{\"line\": {\"colorbar\": {\"outlinewidth\": 0, \"ticks\": \"\"}}, \"type\": \"parcoords\"}], \"pie\": [{\"automargin\": true, \"type\": \"pie\"}], \"scatter\": [{\"marker\": {\"colorbar\": {\"outlinewidth\": 0, \"ticks\": \"\"}}, \"type\": \"scatter\"}], \"scatter3d\": [{\"line\": {\"colorbar\": {\"outlinewidth\": 0, \"ticks\": \"\"}}, \"marker\": {\"colorbar\": {\"outlinewidth\": 0, \"ticks\": \"\"}}, \"type\": \"scatter3d\"}], \"scattercarpet\": [{\"marker\": {\"colorbar\": {\"outlinewidth\": 0, \"ticks\": \"\"}}, \"type\": \"scattercarpet\"}], \"scattergeo\": [{\"marker\": {\"colorbar\": {\"outlinewidth\": 0, \"ticks\": \"\"}}, \"type\": \"scattergeo\"}], \"scattergl\": [{\"marker\": {\"colorbar\": {\"outlinewidth\": 0, \"ticks\": \"\"}}, \"type\": \"scattergl\"}], \"scattermapbox\": [{\"marker\": {\"colorbar\": {\"outlinewidth\": 0, \"ticks\": \"\"}}, \"type\": \"scattermapbox\"}], \"scatterpolar\": [{\"marker\": {\"colorbar\": {\"outlinewidth\": 0, \"ticks\": \"\"}}, \"type\": \"scatterpolar\"}], \"scatterpolargl\": [{\"marker\": {\"colorbar\": {\"outlinewidth\": 0, \"ticks\": \"\"}}, \"type\": \"scatterpolargl\"}], \"scatterternary\": [{\"marker\": {\"colorbar\": {\"outlinewidth\": 0, \"ticks\": \"\"}}, \"type\": \"scatterternary\"}], \"surface\": [{\"colorbar\": {\"outlinewidth\": 0, \"ticks\": \"\"}, \"colorscale\": [[0.0, \"#0d0887\"], [0.1111111111111111, \"#46039f\"], [0.2222222222222222, \"#7201a8\"], [0.3333333333333333, \"#9c179e\"], [0.4444444444444444, \"#bd3786\"], [0.5555555555555556, \"#d8576b\"], [0.6666666666666666, \"#ed7953\"], [0.7777777777777778, \"#fb9f3a\"], [0.8888888888888888, \"#fdca26\"], [1.0, \"#f0f921\"]], \"type\": \"surface\"}], \"table\": [{\"cells\": {\"fill\": {\"color\": \"#EBF0F8\"}, \"line\": {\"color\": \"white\"}}, \"header\": {\"fill\": {\"color\": \"#C8D4E3\"}, \"line\": {\"color\": \"white\"}}, \"type\": \"table\"}]}, \"layout\": {\"annotationdefaults\": {\"arrowcolor\": \"#2a3f5f\", \"arrowhead\": 0, \"arrowwidth\": 1}, \"coloraxis\": {\"colorbar\": {\"outlinewidth\": 0, \"ticks\": \"\"}}, \"colorscale\": {\"diverging\": [[0, \"#8e0152\"], [0.1, \"#c51b7d\"], [0.2, \"#de77ae\"], [0.3, \"#f1b6da\"], [0.4, \"#fde0ef\"], [0.5, \"#f7f7f7\"], [0.6, \"#e6f5d0\"], [0.7, \"#b8e186\"], [0.8, \"#7fbc41\"], [0.9, \"#4d9221\"], [1, \"#276419\"]], \"sequential\": [[0.0, \"#0d0887\"], [0.1111111111111111, \"#46039f\"], [0.2222222222222222, \"#7201a8\"], [0.3333333333333333, \"#9c179e\"], [0.4444444444444444, \"#bd3786\"], [0.5555555555555556, \"#d8576b\"], [0.6666666666666666, \"#ed7953\"], [0.7777777777777778, \"#fb9f3a\"], [0.8888888888888888, \"#fdca26\"], [1.0, \"#f0f921\"]], \"sequentialminus\": [[0.0, \"#0d0887\"], [0.1111111111111111, \"#46039f\"], [0.2222222222222222, \"#7201a8\"], [0.3333333333333333, \"#9c179e\"], [0.4444444444444444, \"#bd3786\"], [0.5555555555555556, \"#d8576b\"], [0.6666666666666666, \"#ed7953\"], [0.7777777777777778, \"#fb9f3a\"], [0.8888888888888888, \"#fdca26\"], [1.0, \"#f0f921\"]]}, \"colorway\": [\"#636efa\", \"#EF553B\", \"#00cc96\", \"#ab63fa\", \"#FFA15A\", \"#19d3f3\", \"#FF6692\", \"#B6E880\", \"#FF97FF\", \"#FECB52\"], \"font\": {\"color\": \"#2a3f5f\"}, \"geo\": {\"bgcolor\": \"white\", \"lakecolor\": \"white\", \"landcolor\": \"#E5ECF6\", \"showlakes\": true, \"showland\": true, \"subunitcolor\": \"white\"}, \"hoverlabel\": {\"align\": \"left\"}, \"hovermode\": \"closest\", \"mapbox\": {\"style\": \"light\"}, \"paper_bgcolor\": \"white\", \"plot_bgcolor\": \"#E5ECF6\", \"polar\": {\"angularaxis\": {\"gridcolor\": \"white\", \"linecolor\": \"white\", \"ticks\": \"\"}, \"bgcolor\": \"#E5ECF6\", \"radialaxis\": {\"gridcolor\": \"white\", \"linecolor\": \"white\", \"ticks\": \"\"}}, \"scene\": {\"xaxis\": {\"backgroundcolor\": \"#E5ECF6\", \"gridcolor\": \"white\", \"gridwidth\": 2, \"linecolor\": \"white\", \"showbackground\": true, \"ticks\": \"\", \"zerolinecolor\": \"white\"}, \"yaxis\": {\"backgroundcolor\": \"#E5ECF6\", \"gridcolor\": \"white\", \"gridwidth\": 2, \"linecolor\": \"white\", \"showbackground\": true, \"ticks\": \"\", \"zerolinecolor\": \"white\"}, \"zaxis\": {\"backgroundcolor\": \"#E5ECF6\", \"gridcolor\": \"white\", \"gridwidth\": 2, \"linecolor\": \"white\", \"showbackground\": true, \"ticks\": \"\", \"zerolinecolor\": \"white\"}}, \"shapedefaults\": {\"line\": {\"color\": \"#2a3f5f\"}}, \"ternary\": {\"aaxis\": {\"gridcolor\": \"white\", \"linecolor\": \"white\", \"ticks\": \"\"}, \"baxis\": {\"gridcolor\": \"white\", \"linecolor\": \"white\", \"ticks\": \"\"}, \"bgcolor\": \"#E5ECF6\", \"caxis\": {\"gridcolor\": \"white\", \"linecolor\": \"white\", \"ticks\": \"\"}}, \"title\": {\"x\": 0.05}, \"xaxis\": {\"automargin\": true, \"gridcolor\": \"white\", \"linecolor\": \"white\", \"ticks\": \"\", \"title\": {\"standoff\": 15}, \"zerolinecolor\": \"white\", \"zerolinewidth\": 2}, \"yaxis\": {\"automargin\": true, \"gridcolor\": \"white\", \"linecolor\": \"white\", \"ticks\": \"\", \"title\": {\"standoff\": 15}, \"zerolinecolor\": \"white\", \"zerolinewidth\": 2}}}, \"title\": {\"font\": {\"size\": 16}, \"text\": \"<br>Network graph made with Python\"}, \"xaxis\": {\"showgrid\": false, \"showticklabels\": false, \"zeroline\": false}, \"yaxis\": {\"showgrid\": false, \"showticklabels\": false, \"zeroline\": false}},                        {\"responsive\": true}                    ).then(function(){\n",
       "                            \n",
       "var gd = document.getElementById('fb5fb506-333e-4b0b-abf2-fef3e615f827');\n",
       "var x = new MutationObserver(function (mutations, observer) {{\n",
       "        var display = window.getComputedStyle(gd).display;\n",
       "        if (!display || display === 'none') {{\n",
       "            console.log([gd, 'removed!']);\n",
       "            Plotly.purge(gd);\n",
       "            observer.disconnect();\n",
       "        }}\n",
       "}});\n",
       "\n",
       "// Listen for the removal of the full notebook cells\n",
       "var notebookContainer = gd.closest('#notebook-container');\n",
       "if (notebookContainer) {{\n",
       "    x.observe(notebookContainer, {childList: true});\n",
       "}}\n",
       "\n",
       "// Listen for the clearing of the current output cell\n",
       "var outputEl = gd.closest('.output');\n",
       "if (outputEl) {{\n",
       "    x.observe(outputEl, {childList: true});\n",
       "}}\n",
       "\n",
       "                        })                };                });            </script>        </div>"
      ]
     },
     "metadata": {},
     "output_type": "display_data"
    }
   ],
   "source": [
    "map_40 = load_map_40()\n",
    "show_map(map_40)"
   ]
  },
  {
   "cell_type": "code",
   "execution_count": 13,
   "metadata": {
    "scrolled": true
   },
   "outputs": [
    {
     "data": {
      "application/vnd.plotly.v1+json": {
       "config": {
        "linkText": "Export to plot.ly",
        "plotlyServerURL": "https://plot.ly",
        "showLink": false
       },
       "data": [
        {
         "hoverinfo": "none",
         "line": {
          "color": "#888",
          "width": 0.5
         },
         "mode": "lines",
         "type": "scatter",
         "x": [
          0.7801603911549438,
          0.740625863119245,
          null,
          0.7801603911549438,
          0.583993110207876,
          null,
          0.7801603911549438,
          0.640952694324525,
          null,
          0.7801603911549438,
          0.6435799740880603,
          null,
          0.7801603911549438,
          0.607698913404794,
          null,
          0.5249831588690298,
          0.3073865727705063,
          null,
          0.5249831588690298,
          0.640952694324525,
          null,
          0.5249831588690298,
          0.7482655725962591,
          null,
          0.5249831588690298,
          0.5572917679006295,
          null,
          0.5249831588690298,
          0.6243437191127235,
          null,
          0.5249831588690298,
          0.4238357358399233,
          null,
          0.5249831588690298,
          0.719569201584275,
          null,
          0.5249831588690298,
          0.607698913404794,
          null,
          0.5249831588690298,
          0.4582523173083307,
          null,
          0.5249831588690298,
          0.313999018186756,
          null,
          0.8085335344099086,
          0.6315322816286787,
          null,
          0.8085335344099086,
          0.740625863119245,
          null,
          0.8085335344099086,
          0.8252497121120052,
          null,
          0.8085335344099086,
          0.8860336256842246,
          null,
          0.8085335344099086,
          0.8551947714242674,
          null,
          0.8085335344099086,
          0.6824813442515916,
          null,
          0.8085335344099086,
          0.7353838928272886,
          null,
          0.2599134798656856,
          0.3073865727705063,
          null,
          0.2599134798656856,
          0.4238357358399233,
          null,
          0.2599134798656856,
          0.4582523173083307,
          null,
          0.2599134798656856,
          0.25311953895059136,
          null,
          0.2599134798656856,
          0.313999018186756,
          null,
          0.7353838928272886,
          0.6315322816286787,
          null,
          0.7353838928272886,
          0.740625863119245,
          null,
          0.7353838928272886,
          0.8252497121120052,
          null,
          0.7353838928272886,
          0.8860336256842246,
          null,
          0.7353838928272886,
          0.8551947714242674,
          null,
          0.7353838928272886,
          0.6824813442515916,
          null,
          0.09088671576431506,
          0.17440205342790494,
          null,
          0.09088671576431506,
          0.12939557977525573,
          null,
          0.09088671576431506,
          0.04580558670435442,
          null,
          0.313999018186756,
          0.3073865727705063,
          null,
          0.313999018186756,
          0.4238357358399233,
          null,
          0.313999018186756,
          0.4582523173083307,
          null,
          0.313999018186756,
          0.25311953895059136,
          null,
          0.6824813442515916,
          0.6315322816286787,
          null,
          0.6824813442515916,
          0.740625863119245,
          null,
          0.6824813442515916,
          0.47415009287034726,
          null,
          0.6824813442515916,
          0.8252497121120052,
          null,
          0.6824813442515916,
          0.8860336256842246,
          null,
          0.6824813442515916,
          0.8551947714242674,
          null,
          0.20128789391122526,
          0.1332965908314021,
          null,
          0.20128789391122526,
          0.021423673670808885,
          null,
          0.20128789391122526,
          0.04580558670435442,
          null,
          0.8551947714242674,
          0.740625863119245,
          null,
          0.8551947714242674,
          0.8252497121120052,
          null,
          0.8551947714242674,
          0.8860336256842246,
          null,
          0.7581736589784409,
          0.640952694324525,
          null,
          0.7581736589784409,
          0.7482655725962591,
          null,
          0.7581736589784409,
          0.5572917679006295,
          null,
          0.7581736589784409,
          0.6243437191127235,
          null,
          0.7581736589784409,
          0.9363713903322148,
          null,
          0.7581736589784409,
          0.719569201584275,
          null,
          0.7581736589784409,
          0.607698913404794,
          null,
          0.7581736589784409,
          0.9112422509614865,
          null,
          0.25311953895059136,
          0.3073865727705063,
          null,
          0.25311953895059136,
          0.4238357358399233,
          null,
          0.25311953895059136,
          0.4582523173083307,
          null,
          0.4813859169876731,
          0.3345284735051981,
          null,
          0.4813859169876731,
          0.583993110207876,
          null,
          0.4813859169876731,
          0.640952694324525,
          null,
          0.4813859169876731,
          0.6435799740880603,
          null,
          0.4813859169876731,
          0.47415009287034726,
          null,
          0.4813859169876731,
          0.607698913404794,
          null,
          0.9112422509614865,
          0.7482655725962591,
          null,
          0.9112422509614865,
          0.9363713903322148,
          null,
          0.9112422509614865,
          0.719569201584275,
          null,
          0.04580558670435442,
          0.1332965908314021,
          null,
          0.04580558670435442,
          0.021423673670808885,
          null,
          0.04580558670435442,
          0.12939557977525573,
          null,
          0.4582523173083307,
          0.3073865727705063,
          null,
          0.4582523173083307,
          0.640952694324525,
          null,
          0.4582523173083307,
          0.5572917679006295,
          null,
          0.4582523173083307,
          0.6243437191127235,
          null,
          0.4582523173083307,
          0.4238357358399233,
          null,
          0.4582523173083307,
          0.607698913404794,
          null,
          0.12939557977525573,
          0.3345284735051981,
          null,
          0.12939557977525573,
          0.021423673670808885,
          null,
          0.607698913404794,
          0.583993110207876,
          null,
          0.607698913404794,
          0.640952694324525,
          null,
          0.607698913404794,
          0.6435799740880603,
          null,
          0.607698913404794,
          0.5572917679006295,
          null,
          0.607698913404794,
          0.6243437191127235,
          null,
          0.607698913404794,
          0.719569201584275,
          null,
          0.719569201584275,
          0.640952694324525,
          null,
          0.719569201584275,
          0.7482655725962591,
          null,
          0.719569201584275,
          0.5572917679006295,
          null,
          0.719569201584275,
          0.6243437191127235,
          null,
          0.719569201584275,
          0.9363713903322148,
          null,
          0.8860336256842246,
          0.8252497121120052,
          null,
          0.4238357358399233,
          0.3073865727705063,
          null,
          0.4238357358399233,
          0.5572917679006295,
          null,
          0.47415009287034726,
          0.6315322816286787,
          null,
          0.47415009287034726,
          0.3345284735051981,
          null,
          0.47415009287034726,
          0.34509802713919313,
          null,
          0.26253385360950576,
          0.17972981733780147,
          null,
          0.26253385360950576,
          0.17440205342790494,
          null,
          0.26253385360950576,
          0.34509802713919313,
          null,
          0.9363713903322148,
          0.7482655725962591,
          null,
          0.6243437191127235,
          0.583993110207876,
          null,
          0.6243437191127235,
          0.640952694324525,
          null,
          0.6243437191127235,
          0.7482655725962591,
          null,
          0.6243437191127235,
          0.5572917679006295,
          null,
          0.5572917679006295,
          0.583993110207876,
          null,
          0.5572917679006295,
          0.640952694324525,
          null,
          0.5572917679006295,
          0.7482655725962591,
          null,
          0.7482655725962591,
          0.640952694324525,
          null,
          0.6435799740880603,
          0.6315322816286787,
          null,
          0.6435799740880603,
          0.740625863119245,
          null,
          0.6435799740880603,
          0.583993110207876,
          null,
          0.6435799740880603,
          0.640952694324525,
          null,
          0.34509802713919313,
          0.17972981733780147,
          null,
          0.34509802713919313,
          0.3345284735051981,
          null,
          0.34509802713919313,
          0.17440205342790494,
          null,
          0.021423673670808885,
          0.1332965908314021,
          null,
          0.640952694324525,
          0.583993110207876,
          null,
          0.17440205342790494,
          0.17972981733780147,
          null,
          0.740625863119245,
          0.6315322816286787,
          null
         ],
         "y": [
          0.49474860768712914,
          0.68128520136847,
          null,
          0.49474860768712914,
          0.42704536740474663,
          null,
          0.49474860768712914,
          0.3232711412508066,
          null,
          0.49474860768712914,
          0.5488515965193208,
          null,
          0.49474860768712914,
          0.362322730884702,
          null,
          0.14953665513987202,
          0.09186645974288632,
          null,
          0.14953665513987202,
          0.3232711412508066,
          null,
          0.14953665513987202,
          0.12631654071213483,
          null,
          0.14953665513987202,
          0.2083567880838434,
          null,
          0.14953665513987202,
          0.21665962402659544,
          null,
          0.14953665513987202,
          0.026771817842421997,
          null,
          0.14953665513987202,
          0.13985272363426526,
          null,
          0.14953665513987202,
          0.362322730884702,
          null,
          0.14953665513987202,
          0.1735506267461867,
          null,
          0.14953665513987202,
          0.01876171413125327,
          null,
          0.7696330846542071,
          0.7311657634689946,
          null,
          0.7696330846542071,
          0.68128520136847,
          null,
          0.7696330846542071,
          0.9532681441921305,
          null,
          0.7696330846542071,
          0.891868301175821,
          null,
          0.7696330846542071,
          0.9011339078096633,
          null,
          0.7696330846542071,
          0.8016111783687677,
          null,
          0.7696330846542071,
          0.8089961609345658,
          null,
          0.14485659826020547,
          0.09186645974288632,
          null,
          0.14485659826020547,
          0.026771817842421997,
          null,
          0.14485659826020547,
          0.1735506267461867,
          null,
          0.14485659826020547,
          0.10321622277398101,
          null,
          0.14485659826020547,
          0.01876171413125327,
          null,
          0.8089961609345658,
          0.7311657634689946,
          null,
          0.8089961609345658,
          0.68128520136847,
          null,
          0.8089961609345658,
          0.9532681441921305,
          null,
          0.8089961609345658,
          0.891868301175821,
          null,
          0.8089961609345658,
          0.9011339078096633,
          null,
          0.8089961609345658,
          0.8016111783687677,
          null,
          0.7222846879290787,
          0.9528527425842739,
          null,
          0.7222846879290787,
          0.690016328140396,
          null,
          0.7222846879290787,
          0.5886703168399895,
          null,
          0.01876171413125327,
          0.09186645974288632,
          null,
          0.01876171413125327,
          0.026771817842421997,
          null,
          0.01876171413125327,
          0.1735506267461867,
          null,
          0.01876171413125327,
          0.10321622277398101,
          null,
          0.8016111783687677,
          0.7311657634689946,
          null,
          0.8016111783687677,
          0.68128520136847,
          null,
          0.8016111783687677,
          0.7353428557575755,
          null,
          0.8016111783687677,
          0.9532681441921305,
          null,
          0.8016111783687677,
          0.891868301175821,
          null,
          0.8016111783687677,
          0.9011339078096633,
          null,
          0.43196344222361227,
          0.3996510641743197,
          null,
          0.43196344222361227,
          0.4666482714834408,
          null,
          0.43196344222361227,
          0.5886703168399895,
          null,
          0.9011339078096633,
          0.68128520136847,
          null,
          0.9011339078096633,
          0.9532681441921305,
          null,
          0.9011339078096633,
          0.891868301175821,
          null,
          0.24026772497187532,
          0.3232711412508066,
          null,
          0.24026772497187532,
          0.12631654071213483,
          null,
          0.24026772497187532,
          0.2083567880838434,
          null,
          0.24026772497187532,
          0.21665962402659544,
          null,
          0.24026772497187532,
          0.13022993020357043,
          null,
          0.24026772497187532,
          0.13985272363426526,
          null,
          0.24026772497187532,
          0.362322730884702,
          null,
          0.24026772497187532,
          0.1839028760606296,
          null,
          0.10321622277398101,
          0.09186645974288632,
          null,
          0.10321622277398101,
          0.026771817842421997,
          null,
          0.10321622277398101,
          0.1735506267461867,
          null,
          0.5006237737207431,
          0.6569436279895382,
          null,
          0.5006237737207431,
          0.42704536740474663,
          null,
          0.5006237737207431,
          0.3232711412508066,
          null,
          0.5006237737207431,
          0.5488515965193208,
          null,
          0.5006237737207431,
          0.7353428557575755,
          null,
          0.5006237737207431,
          0.362322730884702,
          null,
          0.1839028760606296,
          0.12631654071213483,
          null,
          0.1839028760606296,
          0.13022993020357043,
          null,
          0.1839028760606296,
          0.13985272363426526,
          null,
          0.5886703168399895,
          0.3996510641743197,
          null,
          0.5886703168399895,
          0.4666482714834408,
          null,
          0.5886703168399895,
          0.690016328140396,
          null,
          0.1735506267461867,
          0.09186645974288632,
          null,
          0.1735506267461867,
          0.3232711412508066,
          null,
          0.1735506267461867,
          0.2083567880838434,
          null,
          0.1735506267461867,
          0.21665962402659544,
          null,
          0.1735506267461867,
          0.026771817842421997,
          null,
          0.1735506267461867,
          0.362322730884702,
          null,
          0.690016328140396,
          0.6569436279895382,
          null,
          0.690016328140396,
          0.4666482714834408,
          null,
          0.362322730884702,
          0.42704536740474663,
          null,
          0.362322730884702,
          0.3232711412508066,
          null,
          0.362322730884702,
          0.5488515965193208,
          null,
          0.362322730884702,
          0.2083567880838434,
          null,
          0.362322730884702,
          0.21665962402659544,
          null,
          0.362322730884702,
          0.13985272363426526,
          null,
          0.13985272363426526,
          0.3232711412508066,
          null,
          0.13985272363426526,
          0.12631654071213483,
          null,
          0.13985272363426526,
          0.2083567880838434,
          null,
          0.13985272363426526,
          0.21665962402659544,
          null,
          0.13985272363426526,
          0.13022993020357043,
          null,
          0.891868301175821,
          0.9532681441921305,
          null,
          0.026771817842421997,
          0.09186645974288632,
          null,
          0.026771817842421997,
          0.2083567880838434,
          null,
          0.7353428557575755,
          0.7311657634689946,
          null,
          0.7353428557575755,
          0.6569436279895382,
          null,
          0.7353428557575755,
          0.8800306496459869,
          null,
          0.9768234503830939,
          0.999395685828547,
          null,
          0.9768234503830939,
          0.9528527425842739,
          null,
          0.9768234503830939,
          0.8800306496459869,
          null,
          0.13022993020357043,
          0.12631654071213483,
          null,
          0.21665962402659544,
          0.42704536740474663,
          null,
          0.21665962402659544,
          0.3232711412508066,
          null,
          0.21665962402659544,
          0.12631654071213483,
          null,
          0.21665962402659544,
          0.2083567880838434,
          null,
          0.2083567880838434,
          0.42704536740474663,
          null,
          0.2083567880838434,
          0.3232711412508066,
          null,
          0.2083567880838434,
          0.12631654071213483,
          null,
          0.12631654071213483,
          0.3232711412508066,
          null,
          0.5488515965193208,
          0.7311657634689946,
          null,
          0.5488515965193208,
          0.68128520136847,
          null,
          0.5488515965193208,
          0.42704536740474663,
          null,
          0.5488515965193208,
          0.3232711412508066,
          null,
          0.8800306496459869,
          0.999395685828547,
          null,
          0.8800306496459869,
          0.6569436279895382,
          null,
          0.8800306496459869,
          0.9528527425842739,
          null,
          0.4666482714834408,
          0.3996510641743197,
          null,
          0.3232711412508066,
          0.42704536740474663,
          null,
          0.9528527425842739,
          0.999395685828547,
          null,
          0.68128520136847,
          0.7311657634689946,
          null
         ]
        },
        {
         "hoverinfo": "text",
         "marker": {
          "color": [
           0,
           0,
           0,
           0,
           1,
           0,
           0,
           2,
           3,
           0,
           0,
           0,
           0,
           0,
           2,
           0,
           2,
           0,
           0,
           0,
           0,
           0,
           2,
           0,
           0,
           0,
           0,
           0,
           0,
           0,
           0,
           0,
           0,
           0,
           0,
           0,
           0,
           2,
           0,
           0
          ],
          "colorbar": {
           "thickness": 15,
           "title": {
            "side": "right",
            "text": "Node Connections"
           },
           "xanchor": "left"
          },
          "colorscale": [
           [
            0,
            "rgb(0,0,0)"
           ],
           [
            0.3333333333333333,
            "rgb(230,0,0)"
           ],
           [
            0.6666666666666666,
            "rgb(255,210,0)"
           ],
           [
            1,
            "rgb(255,255,255)"
           ]
          ],
          "line": {
           "width": 2
          },
          "reversescale": true,
          "showscale": false,
          "size": 10
         },
         "mode": "markers",
         "text": [
          "Intersection 0",
          "Intersection 1",
          "Intersection 2",
          "Intersection 3",
          "Intersection 4",
          "Intersection 5",
          "Intersection 6",
          "Intersection 7",
          "Intersection 8",
          "Intersection 9",
          "Intersection 10",
          "Intersection 11",
          "Intersection 12",
          "Intersection 13",
          "Intersection 14",
          "Intersection 15",
          "Intersection 16",
          "Intersection 17",
          "Intersection 18",
          "Intersection 19",
          "Intersection 20",
          "Intersection 21",
          "Intersection 22",
          "Intersection 23",
          "Intersection 24",
          "Intersection 25",
          "Intersection 26",
          "Intersection 27",
          "Intersection 28",
          "Intersection 29",
          "Intersection 30",
          "Intersection 31",
          "Intersection 32",
          "Intersection 33",
          "Intersection 34",
          "Intersection 35",
          "Intersection 36",
          "Intersection 37",
          "Intersection 38",
          "Intersection 39"
         ],
         "type": "scatter",
         "x": [
          0.7801603911549438,
          0.5249831588690298,
          0.8085335344099086,
          0.2599134798656856,
          0.7353838928272886,
          0.09088671576431506,
          0.313999018186756,
          0.6824813442515916,
          0.20128789391122526,
          0.8551947714242674,
          0.7581736589784409,
          0.25311953895059136,
          0.4813859169876731,
          0.9112422509614865,
          0.04580558670435442,
          0.4582523173083307,
          0.12939557977525573,
          0.607698913404794,
          0.719569201584275,
          0.8860336256842246,
          0.4238357358399233,
          0.8252497121120052,
          0.47415009287034726,
          0.26253385360950576,
          0.9363713903322148,
          0.6243437191127235,
          0.5572917679006295,
          0.7482655725962591,
          0.6435799740880603,
          0.34509802713919313,
          0.021423673670808885,
          0.640952694324525,
          0.17440205342790494,
          0.1332965908314021,
          0.583993110207876,
          0.3073865727705063,
          0.740625863119245,
          0.3345284735051981,
          0.17972981733780147,
          0.6315322816286787
         ],
         "y": [
          0.49474860768712914,
          0.14953665513987202,
          0.7696330846542071,
          0.14485659826020547,
          0.8089961609345658,
          0.7222846879290787,
          0.01876171413125327,
          0.8016111783687677,
          0.43196344222361227,
          0.9011339078096633,
          0.24026772497187532,
          0.10321622277398101,
          0.5006237737207431,
          0.1839028760606296,
          0.5886703168399895,
          0.1735506267461867,
          0.690016328140396,
          0.362322730884702,
          0.13985272363426526,
          0.891868301175821,
          0.026771817842421997,
          0.9532681441921305,
          0.7353428557575755,
          0.9768234503830939,
          0.13022993020357043,
          0.21665962402659544,
          0.2083567880838434,
          0.12631654071213483,
          0.5488515965193208,
          0.8800306496459869,
          0.4666482714834408,
          0.3232711412508066,
          0.9528527425842739,
          0.3996510641743197,
          0.42704536740474663,
          0.09186645974288632,
          0.68128520136847,
          0.6569436279895382,
          0.999395685828547,
          0.7311657634689946
         ]
        }
       ],
       "layout": {
        "hovermode": "closest",
        "margin": {
         "b": 20,
         "l": 5,
         "r": 5,
         "t": 40
        },
        "showlegend": false,
        "template": {
         "data": {
          "bar": [
           {
            "error_x": {
             "color": "#2a3f5f"
            },
            "error_y": {
             "color": "#2a3f5f"
            },
            "marker": {
             "line": {
              "color": "#E5ECF6",
              "width": 0.5
             }
            },
            "type": "bar"
           }
          ],
          "barpolar": [
           {
            "marker": {
             "line": {
              "color": "#E5ECF6",
              "width": 0.5
             }
            },
            "type": "barpolar"
           }
          ],
          "carpet": [
           {
            "aaxis": {
             "endlinecolor": "#2a3f5f",
             "gridcolor": "white",
             "linecolor": "white",
             "minorgridcolor": "white",
             "startlinecolor": "#2a3f5f"
            },
            "baxis": {
             "endlinecolor": "#2a3f5f",
             "gridcolor": "white",
             "linecolor": "white",
             "minorgridcolor": "white",
             "startlinecolor": "#2a3f5f"
            },
            "type": "carpet"
           }
          ],
          "choropleth": [
           {
            "colorbar": {
             "outlinewidth": 0,
             "ticks": ""
            },
            "type": "choropleth"
           }
          ],
          "contour": [
           {
            "colorbar": {
             "outlinewidth": 0,
             "ticks": ""
            },
            "colorscale": [
             [
              0,
              "#0d0887"
             ],
             [
              0.1111111111111111,
              "#46039f"
             ],
             [
              0.2222222222222222,
              "#7201a8"
             ],
             [
              0.3333333333333333,
              "#9c179e"
             ],
             [
              0.4444444444444444,
              "#bd3786"
             ],
             [
              0.5555555555555556,
              "#d8576b"
             ],
             [
              0.6666666666666666,
              "#ed7953"
             ],
             [
              0.7777777777777778,
              "#fb9f3a"
             ],
             [
              0.8888888888888888,
              "#fdca26"
             ],
             [
              1,
              "#f0f921"
             ]
            ],
            "type": "contour"
           }
          ],
          "contourcarpet": [
           {
            "colorbar": {
             "outlinewidth": 0,
             "ticks": ""
            },
            "type": "contourcarpet"
           }
          ],
          "heatmap": [
           {
            "colorbar": {
             "outlinewidth": 0,
             "ticks": ""
            },
            "colorscale": [
             [
              0,
              "#0d0887"
             ],
             [
              0.1111111111111111,
              "#46039f"
             ],
             [
              0.2222222222222222,
              "#7201a8"
             ],
             [
              0.3333333333333333,
              "#9c179e"
             ],
             [
              0.4444444444444444,
              "#bd3786"
             ],
             [
              0.5555555555555556,
              "#d8576b"
             ],
             [
              0.6666666666666666,
              "#ed7953"
             ],
             [
              0.7777777777777778,
              "#fb9f3a"
             ],
             [
              0.8888888888888888,
              "#fdca26"
             ],
             [
              1,
              "#f0f921"
             ]
            ],
            "type": "heatmap"
           }
          ],
          "heatmapgl": [
           {
            "colorbar": {
             "outlinewidth": 0,
             "ticks": ""
            },
            "colorscale": [
             [
              0,
              "#0d0887"
             ],
             [
              0.1111111111111111,
              "#46039f"
             ],
             [
              0.2222222222222222,
              "#7201a8"
             ],
             [
              0.3333333333333333,
              "#9c179e"
             ],
             [
              0.4444444444444444,
              "#bd3786"
             ],
             [
              0.5555555555555556,
              "#d8576b"
             ],
             [
              0.6666666666666666,
              "#ed7953"
             ],
             [
              0.7777777777777778,
              "#fb9f3a"
             ],
             [
              0.8888888888888888,
              "#fdca26"
             ],
             [
              1,
              "#f0f921"
             ]
            ],
            "type": "heatmapgl"
           }
          ],
          "histogram": [
           {
            "marker": {
             "colorbar": {
              "outlinewidth": 0,
              "ticks": ""
             }
            },
            "type": "histogram"
           }
          ],
          "histogram2d": [
           {
            "colorbar": {
             "outlinewidth": 0,
             "ticks": ""
            },
            "colorscale": [
             [
              0,
              "#0d0887"
             ],
             [
              0.1111111111111111,
              "#46039f"
             ],
             [
              0.2222222222222222,
              "#7201a8"
             ],
             [
              0.3333333333333333,
              "#9c179e"
             ],
             [
              0.4444444444444444,
              "#bd3786"
             ],
             [
              0.5555555555555556,
              "#d8576b"
             ],
             [
              0.6666666666666666,
              "#ed7953"
             ],
             [
              0.7777777777777778,
              "#fb9f3a"
             ],
             [
              0.8888888888888888,
              "#fdca26"
             ],
             [
              1,
              "#f0f921"
             ]
            ],
            "type": "histogram2d"
           }
          ],
          "histogram2dcontour": [
           {
            "colorbar": {
             "outlinewidth": 0,
             "ticks": ""
            },
            "colorscale": [
             [
              0,
              "#0d0887"
             ],
             [
              0.1111111111111111,
              "#46039f"
             ],
             [
              0.2222222222222222,
              "#7201a8"
             ],
             [
              0.3333333333333333,
              "#9c179e"
             ],
             [
              0.4444444444444444,
              "#bd3786"
             ],
             [
              0.5555555555555556,
              "#d8576b"
             ],
             [
              0.6666666666666666,
              "#ed7953"
             ],
             [
              0.7777777777777778,
              "#fb9f3a"
             ],
             [
              0.8888888888888888,
              "#fdca26"
             ],
             [
              1,
              "#f0f921"
             ]
            ],
            "type": "histogram2dcontour"
           }
          ],
          "mesh3d": [
           {
            "colorbar": {
             "outlinewidth": 0,
             "ticks": ""
            },
            "type": "mesh3d"
           }
          ],
          "parcoords": [
           {
            "line": {
             "colorbar": {
              "outlinewidth": 0,
              "ticks": ""
             }
            },
            "type": "parcoords"
           }
          ],
          "pie": [
           {
            "automargin": true,
            "type": "pie"
           }
          ],
          "scatter": [
           {
            "marker": {
             "colorbar": {
              "outlinewidth": 0,
              "ticks": ""
             }
            },
            "type": "scatter"
           }
          ],
          "scatter3d": [
           {
            "line": {
             "colorbar": {
              "outlinewidth": 0,
              "ticks": ""
             }
            },
            "marker": {
             "colorbar": {
              "outlinewidth": 0,
              "ticks": ""
             }
            },
            "type": "scatter3d"
           }
          ],
          "scattercarpet": [
           {
            "marker": {
             "colorbar": {
              "outlinewidth": 0,
              "ticks": ""
             }
            },
            "type": "scattercarpet"
           }
          ],
          "scattergeo": [
           {
            "marker": {
             "colorbar": {
              "outlinewidth": 0,
              "ticks": ""
             }
            },
            "type": "scattergeo"
           }
          ],
          "scattergl": [
           {
            "marker": {
             "colorbar": {
              "outlinewidth": 0,
              "ticks": ""
             }
            },
            "type": "scattergl"
           }
          ],
          "scattermapbox": [
           {
            "marker": {
             "colorbar": {
              "outlinewidth": 0,
              "ticks": ""
             }
            },
            "type": "scattermapbox"
           }
          ],
          "scatterpolar": [
           {
            "marker": {
             "colorbar": {
              "outlinewidth": 0,
              "ticks": ""
             }
            },
            "type": "scatterpolar"
           }
          ],
          "scatterpolargl": [
           {
            "marker": {
             "colorbar": {
              "outlinewidth": 0,
              "ticks": ""
             }
            },
            "type": "scatterpolargl"
           }
          ],
          "scatterternary": [
           {
            "marker": {
             "colorbar": {
              "outlinewidth": 0,
              "ticks": ""
             }
            },
            "type": "scatterternary"
           }
          ],
          "surface": [
           {
            "colorbar": {
             "outlinewidth": 0,
             "ticks": ""
            },
            "colorscale": [
             [
              0,
              "#0d0887"
             ],
             [
              0.1111111111111111,
              "#46039f"
             ],
             [
              0.2222222222222222,
              "#7201a8"
             ],
             [
              0.3333333333333333,
              "#9c179e"
             ],
             [
              0.4444444444444444,
              "#bd3786"
             ],
             [
              0.5555555555555556,
              "#d8576b"
             ],
             [
              0.6666666666666666,
              "#ed7953"
             ],
             [
              0.7777777777777778,
              "#fb9f3a"
             ],
             [
              0.8888888888888888,
              "#fdca26"
             ],
             [
              1,
              "#f0f921"
             ]
            ],
            "type": "surface"
           }
          ],
          "table": [
           {
            "cells": {
             "fill": {
              "color": "#EBF0F8"
             },
             "line": {
              "color": "white"
             }
            },
            "header": {
             "fill": {
              "color": "#C8D4E3"
             },
             "line": {
              "color": "white"
             }
            },
            "type": "table"
           }
          ]
         },
         "layout": {
          "annotationdefaults": {
           "arrowcolor": "#2a3f5f",
           "arrowhead": 0,
           "arrowwidth": 1
          },
          "coloraxis": {
           "colorbar": {
            "outlinewidth": 0,
            "ticks": ""
           }
          },
          "colorscale": {
           "diverging": [
            [
             0,
             "#8e0152"
            ],
            [
             0.1,
             "#c51b7d"
            ],
            [
             0.2,
             "#de77ae"
            ],
            [
             0.3,
             "#f1b6da"
            ],
            [
             0.4,
             "#fde0ef"
            ],
            [
             0.5,
             "#f7f7f7"
            ],
            [
             0.6,
             "#e6f5d0"
            ],
            [
             0.7,
             "#b8e186"
            ],
            [
             0.8,
             "#7fbc41"
            ],
            [
             0.9,
             "#4d9221"
            ],
            [
             1,
             "#276419"
            ]
           ],
           "sequential": [
            [
             0,
             "#0d0887"
            ],
            [
             0.1111111111111111,
             "#46039f"
            ],
            [
             0.2222222222222222,
             "#7201a8"
            ],
            [
             0.3333333333333333,
             "#9c179e"
            ],
            [
             0.4444444444444444,
             "#bd3786"
            ],
            [
             0.5555555555555556,
             "#d8576b"
            ],
            [
             0.6666666666666666,
             "#ed7953"
            ],
            [
             0.7777777777777778,
             "#fb9f3a"
            ],
            [
             0.8888888888888888,
             "#fdca26"
            ],
            [
             1,
             "#f0f921"
            ]
           ],
           "sequentialminus": [
            [
             0,
             "#0d0887"
            ],
            [
             0.1111111111111111,
             "#46039f"
            ],
            [
             0.2222222222222222,
             "#7201a8"
            ],
            [
             0.3333333333333333,
             "#9c179e"
            ],
            [
             0.4444444444444444,
             "#bd3786"
            ],
            [
             0.5555555555555556,
             "#d8576b"
            ],
            [
             0.6666666666666666,
             "#ed7953"
            ],
            [
             0.7777777777777778,
             "#fb9f3a"
            ],
            [
             0.8888888888888888,
             "#fdca26"
            ],
            [
             1,
             "#f0f921"
            ]
           ]
          },
          "colorway": [
           "#636efa",
           "#EF553B",
           "#00cc96",
           "#ab63fa",
           "#FFA15A",
           "#19d3f3",
           "#FF6692",
           "#B6E880",
           "#FF97FF",
           "#FECB52"
          ],
          "font": {
           "color": "#2a3f5f"
          },
          "geo": {
           "bgcolor": "white",
           "lakecolor": "white",
           "landcolor": "#E5ECF6",
           "showlakes": true,
           "showland": true,
           "subunitcolor": "white"
          },
          "hoverlabel": {
           "align": "left"
          },
          "hovermode": "closest",
          "mapbox": {
           "style": "light"
          },
          "paper_bgcolor": "white",
          "plot_bgcolor": "#E5ECF6",
          "polar": {
           "angularaxis": {
            "gridcolor": "white",
            "linecolor": "white",
            "ticks": ""
           },
           "bgcolor": "#E5ECF6",
           "radialaxis": {
            "gridcolor": "white",
            "linecolor": "white",
            "ticks": ""
           }
          },
          "scene": {
           "xaxis": {
            "backgroundcolor": "#E5ECF6",
            "gridcolor": "white",
            "gridwidth": 2,
            "linecolor": "white",
            "showbackground": true,
            "ticks": "",
            "zerolinecolor": "white"
           },
           "yaxis": {
            "backgroundcolor": "#E5ECF6",
            "gridcolor": "white",
            "gridwidth": 2,
            "linecolor": "white",
            "showbackground": true,
            "ticks": "",
            "zerolinecolor": "white"
           },
           "zaxis": {
            "backgroundcolor": "#E5ECF6",
            "gridcolor": "white",
            "gridwidth": 2,
            "linecolor": "white",
            "showbackground": true,
            "ticks": "",
            "zerolinecolor": "white"
           }
          },
          "shapedefaults": {
           "line": {
            "color": "#2a3f5f"
           }
          },
          "ternary": {
           "aaxis": {
            "gridcolor": "white",
            "linecolor": "white",
            "ticks": ""
           },
           "baxis": {
            "gridcolor": "white",
            "linecolor": "white",
            "ticks": ""
           },
           "bgcolor": "#E5ECF6",
           "caxis": {
            "gridcolor": "white",
            "linecolor": "white",
            "ticks": ""
           }
          },
          "title": {
           "x": 0.05
          },
          "xaxis": {
           "automargin": true,
           "gridcolor": "white",
           "linecolor": "white",
           "ticks": "",
           "title": {
            "standoff": 15
           },
           "zerolinecolor": "white",
           "zerolinewidth": 2
          },
          "yaxis": {
           "automargin": true,
           "gridcolor": "white",
           "linecolor": "white",
           "ticks": "",
           "title": {
            "standoff": 15
           },
           "zerolinecolor": "white",
           "zerolinewidth": 2
          }
         }
        },
        "title": {
         "font": {
          "size": 16
         },
         "text": "<br>Network graph made with Python"
        },
        "xaxis": {
         "showgrid": false,
         "showticklabels": false,
         "zeroline": false
        },
        "yaxis": {
         "showgrid": false,
         "showticklabels": false,
         "zeroline": false
        }
       }
      },
      "text/html": [
       "<div>                            <div id=\"7b97aa1c-c0d7-4553-ba41-da05c6007201\" class=\"plotly-graph-div\" style=\"height:525px; width:100%;\"></div>            <script type=\"text/javascript\">                require([\"plotly\"], function(Plotly) {                    window.PLOTLYENV=window.PLOTLYENV || {};                                    if (document.getElementById(\"7b97aa1c-c0d7-4553-ba41-da05c6007201\")) {                    Plotly.newPlot(                        \"7b97aa1c-c0d7-4553-ba41-da05c6007201\",                        [{\"hoverinfo\": \"none\", \"line\": {\"color\": \"#888\", \"width\": 0.5}, \"mode\": \"lines\", \"type\": \"scatter\", \"x\": [0.7801603911549438, 0.740625863119245, null, 0.7801603911549438, 0.583993110207876, null, 0.7801603911549438, 0.640952694324525, null, 0.7801603911549438, 0.6435799740880603, null, 0.7801603911549438, 0.607698913404794, null, 0.5249831588690298, 0.3073865727705063, null, 0.5249831588690298, 0.640952694324525, null, 0.5249831588690298, 0.7482655725962591, null, 0.5249831588690298, 0.5572917679006295, null, 0.5249831588690298, 0.6243437191127235, null, 0.5249831588690298, 0.4238357358399233, null, 0.5249831588690298, 0.719569201584275, null, 0.5249831588690298, 0.607698913404794, null, 0.5249831588690298, 0.4582523173083307, null, 0.5249831588690298, 0.313999018186756, null, 0.8085335344099086, 0.6315322816286787, null, 0.8085335344099086, 0.740625863119245, null, 0.8085335344099086, 0.8252497121120052, null, 0.8085335344099086, 0.8860336256842246, null, 0.8085335344099086, 0.8551947714242674, null, 0.8085335344099086, 0.6824813442515916, null, 0.8085335344099086, 0.7353838928272886, null, 0.2599134798656856, 0.3073865727705063, null, 0.2599134798656856, 0.4238357358399233, null, 0.2599134798656856, 0.4582523173083307, null, 0.2599134798656856, 0.25311953895059136, null, 0.2599134798656856, 0.313999018186756, null, 0.7353838928272886, 0.6315322816286787, null, 0.7353838928272886, 0.740625863119245, null, 0.7353838928272886, 0.8252497121120052, null, 0.7353838928272886, 0.8860336256842246, null, 0.7353838928272886, 0.8551947714242674, null, 0.7353838928272886, 0.6824813442515916, null, 0.09088671576431506, 0.17440205342790494, null, 0.09088671576431506, 0.12939557977525573, null, 0.09088671576431506, 0.04580558670435442, null, 0.313999018186756, 0.3073865727705063, null, 0.313999018186756, 0.4238357358399233, null, 0.313999018186756, 0.4582523173083307, null, 0.313999018186756, 0.25311953895059136, null, 0.6824813442515916, 0.6315322816286787, null, 0.6824813442515916, 0.740625863119245, null, 0.6824813442515916, 0.47415009287034726, null, 0.6824813442515916, 0.8252497121120052, null, 0.6824813442515916, 0.8860336256842246, null, 0.6824813442515916, 0.8551947714242674, null, 0.20128789391122526, 0.1332965908314021, null, 0.20128789391122526, 0.021423673670808885, null, 0.20128789391122526, 0.04580558670435442, null, 0.8551947714242674, 0.740625863119245, null, 0.8551947714242674, 0.8252497121120052, null, 0.8551947714242674, 0.8860336256842246, null, 0.7581736589784409, 0.640952694324525, null, 0.7581736589784409, 0.7482655725962591, null, 0.7581736589784409, 0.5572917679006295, null, 0.7581736589784409, 0.6243437191127235, null, 0.7581736589784409, 0.9363713903322148, null, 0.7581736589784409, 0.719569201584275, null, 0.7581736589784409, 0.607698913404794, null, 0.7581736589784409, 0.9112422509614865, null, 0.25311953895059136, 0.3073865727705063, null, 0.25311953895059136, 0.4238357358399233, null, 0.25311953895059136, 0.4582523173083307, null, 0.4813859169876731, 0.3345284735051981, null, 0.4813859169876731, 0.583993110207876, null, 0.4813859169876731, 0.640952694324525, null, 0.4813859169876731, 0.6435799740880603, null, 0.4813859169876731, 0.47415009287034726, null, 0.4813859169876731, 0.607698913404794, null, 0.9112422509614865, 0.7482655725962591, null, 0.9112422509614865, 0.9363713903322148, null, 0.9112422509614865, 0.719569201584275, null, 0.04580558670435442, 0.1332965908314021, null, 0.04580558670435442, 0.021423673670808885, null, 0.04580558670435442, 0.12939557977525573, null, 0.4582523173083307, 0.3073865727705063, null, 0.4582523173083307, 0.640952694324525, null, 0.4582523173083307, 0.5572917679006295, null, 0.4582523173083307, 0.6243437191127235, null, 0.4582523173083307, 0.4238357358399233, null, 0.4582523173083307, 0.607698913404794, null, 0.12939557977525573, 0.3345284735051981, null, 0.12939557977525573, 0.021423673670808885, null, 0.607698913404794, 0.583993110207876, null, 0.607698913404794, 0.640952694324525, null, 0.607698913404794, 0.6435799740880603, null, 0.607698913404794, 0.5572917679006295, null, 0.607698913404794, 0.6243437191127235, null, 0.607698913404794, 0.719569201584275, null, 0.719569201584275, 0.640952694324525, null, 0.719569201584275, 0.7482655725962591, null, 0.719569201584275, 0.5572917679006295, null, 0.719569201584275, 0.6243437191127235, null, 0.719569201584275, 0.9363713903322148, null, 0.8860336256842246, 0.8252497121120052, null, 0.4238357358399233, 0.3073865727705063, null, 0.4238357358399233, 0.5572917679006295, null, 0.47415009287034726, 0.6315322816286787, null, 0.47415009287034726, 0.3345284735051981, null, 0.47415009287034726, 0.34509802713919313, null, 0.26253385360950576, 0.17972981733780147, null, 0.26253385360950576, 0.17440205342790494, null, 0.26253385360950576, 0.34509802713919313, null, 0.9363713903322148, 0.7482655725962591, null, 0.6243437191127235, 0.583993110207876, null, 0.6243437191127235, 0.640952694324525, null, 0.6243437191127235, 0.7482655725962591, null, 0.6243437191127235, 0.5572917679006295, null, 0.5572917679006295, 0.583993110207876, null, 0.5572917679006295, 0.640952694324525, null, 0.5572917679006295, 0.7482655725962591, null, 0.7482655725962591, 0.640952694324525, null, 0.6435799740880603, 0.6315322816286787, null, 0.6435799740880603, 0.740625863119245, null, 0.6435799740880603, 0.583993110207876, null, 0.6435799740880603, 0.640952694324525, null, 0.34509802713919313, 0.17972981733780147, null, 0.34509802713919313, 0.3345284735051981, null, 0.34509802713919313, 0.17440205342790494, null, 0.021423673670808885, 0.1332965908314021, null, 0.640952694324525, 0.583993110207876, null, 0.17440205342790494, 0.17972981733780147, null, 0.740625863119245, 0.6315322816286787, null], \"y\": [0.49474860768712914, 0.68128520136847, null, 0.49474860768712914, 0.42704536740474663, null, 0.49474860768712914, 0.3232711412508066, null, 0.49474860768712914, 0.5488515965193208, null, 0.49474860768712914, 0.362322730884702, null, 0.14953665513987202, 0.09186645974288632, null, 0.14953665513987202, 0.3232711412508066, null, 0.14953665513987202, 0.12631654071213483, null, 0.14953665513987202, 0.2083567880838434, null, 0.14953665513987202, 0.21665962402659544, null, 0.14953665513987202, 0.026771817842421997, null, 0.14953665513987202, 0.13985272363426526, null, 0.14953665513987202, 0.362322730884702, null, 0.14953665513987202, 0.1735506267461867, null, 0.14953665513987202, 0.01876171413125327, null, 0.7696330846542071, 0.7311657634689946, null, 0.7696330846542071, 0.68128520136847, null, 0.7696330846542071, 0.9532681441921305, null, 0.7696330846542071, 0.891868301175821, null, 0.7696330846542071, 0.9011339078096633, null, 0.7696330846542071, 0.8016111783687677, null, 0.7696330846542071, 0.8089961609345658, null, 0.14485659826020547, 0.09186645974288632, null, 0.14485659826020547, 0.026771817842421997, null, 0.14485659826020547, 0.1735506267461867, null, 0.14485659826020547, 0.10321622277398101, null, 0.14485659826020547, 0.01876171413125327, null, 0.8089961609345658, 0.7311657634689946, null, 0.8089961609345658, 0.68128520136847, null, 0.8089961609345658, 0.9532681441921305, null, 0.8089961609345658, 0.891868301175821, null, 0.8089961609345658, 0.9011339078096633, null, 0.8089961609345658, 0.8016111783687677, null, 0.7222846879290787, 0.9528527425842739, null, 0.7222846879290787, 0.690016328140396, null, 0.7222846879290787, 0.5886703168399895, null, 0.01876171413125327, 0.09186645974288632, null, 0.01876171413125327, 0.026771817842421997, null, 0.01876171413125327, 0.1735506267461867, null, 0.01876171413125327, 0.10321622277398101, null, 0.8016111783687677, 0.7311657634689946, null, 0.8016111783687677, 0.68128520136847, null, 0.8016111783687677, 0.7353428557575755, null, 0.8016111783687677, 0.9532681441921305, null, 0.8016111783687677, 0.891868301175821, null, 0.8016111783687677, 0.9011339078096633, null, 0.43196344222361227, 0.3996510641743197, null, 0.43196344222361227, 0.4666482714834408, null, 0.43196344222361227, 0.5886703168399895, null, 0.9011339078096633, 0.68128520136847, null, 0.9011339078096633, 0.9532681441921305, null, 0.9011339078096633, 0.891868301175821, null, 0.24026772497187532, 0.3232711412508066, null, 0.24026772497187532, 0.12631654071213483, null, 0.24026772497187532, 0.2083567880838434, null, 0.24026772497187532, 0.21665962402659544, null, 0.24026772497187532, 0.13022993020357043, null, 0.24026772497187532, 0.13985272363426526, null, 0.24026772497187532, 0.362322730884702, null, 0.24026772497187532, 0.1839028760606296, null, 0.10321622277398101, 0.09186645974288632, null, 0.10321622277398101, 0.026771817842421997, null, 0.10321622277398101, 0.1735506267461867, null, 0.5006237737207431, 0.6569436279895382, null, 0.5006237737207431, 0.42704536740474663, null, 0.5006237737207431, 0.3232711412508066, null, 0.5006237737207431, 0.5488515965193208, null, 0.5006237737207431, 0.7353428557575755, null, 0.5006237737207431, 0.362322730884702, null, 0.1839028760606296, 0.12631654071213483, null, 0.1839028760606296, 0.13022993020357043, null, 0.1839028760606296, 0.13985272363426526, null, 0.5886703168399895, 0.3996510641743197, null, 0.5886703168399895, 0.4666482714834408, null, 0.5886703168399895, 0.690016328140396, null, 0.1735506267461867, 0.09186645974288632, null, 0.1735506267461867, 0.3232711412508066, null, 0.1735506267461867, 0.2083567880838434, null, 0.1735506267461867, 0.21665962402659544, null, 0.1735506267461867, 0.026771817842421997, null, 0.1735506267461867, 0.362322730884702, null, 0.690016328140396, 0.6569436279895382, null, 0.690016328140396, 0.4666482714834408, null, 0.362322730884702, 0.42704536740474663, null, 0.362322730884702, 0.3232711412508066, null, 0.362322730884702, 0.5488515965193208, null, 0.362322730884702, 0.2083567880838434, null, 0.362322730884702, 0.21665962402659544, null, 0.362322730884702, 0.13985272363426526, null, 0.13985272363426526, 0.3232711412508066, null, 0.13985272363426526, 0.12631654071213483, null, 0.13985272363426526, 0.2083567880838434, null, 0.13985272363426526, 0.21665962402659544, null, 0.13985272363426526, 0.13022993020357043, null, 0.891868301175821, 0.9532681441921305, null, 0.026771817842421997, 0.09186645974288632, null, 0.026771817842421997, 0.2083567880838434, null, 0.7353428557575755, 0.7311657634689946, null, 0.7353428557575755, 0.6569436279895382, null, 0.7353428557575755, 0.8800306496459869, null, 0.9768234503830939, 0.999395685828547, null, 0.9768234503830939, 0.9528527425842739, null, 0.9768234503830939, 0.8800306496459869, null, 0.13022993020357043, 0.12631654071213483, null, 0.21665962402659544, 0.42704536740474663, null, 0.21665962402659544, 0.3232711412508066, null, 0.21665962402659544, 0.12631654071213483, null, 0.21665962402659544, 0.2083567880838434, null, 0.2083567880838434, 0.42704536740474663, null, 0.2083567880838434, 0.3232711412508066, null, 0.2083567880838434, 0.12631654071213483, null, 0.12631654071213483, 0.3232711412508066, null, 0.5488515965193208, 0.7311657634689946, null, 0.5488515965193208, 0.68128520136847, null, 0.5488515965193208, 0.42704536740474663, null, 0.5488515965193208, 0.3232711412508066, null, 0.8800306496459869, 0.999395685828547, null, 0.8800306496459869, 0.6569436279895382, null, 0.8800306496459869, 0.9528527425842739, null, 0.4666482714834408, 0.3996510641743197, null, 0.3232711412508066, 0.42704536740474663, null, 0.9528527425842739, 0.999395685828547, null, 0.68128520136847, 0.7311657634689946, null]}, {\"hoverinfo\": \"text\", \"marker\": {\"color\": [0, 0, 0, 0, 1, 0, 0, 2, 3, 0, 0, 0, 0, 0, 2, 0, 2, 0, 0, 0, 0, 0, 2, 0, 0, 0, 0, 0, 0, 0, 0, 0, 0, 0, 0, 0, 0, 2, 0, 0], \"colorbar\": {\"thickness\": 15, \"title\": {\"side\": \"right\", \"text\": \"Node Connections\"}, \"xanchor\": \"left\"}, \"colorscale\": [[0.0, \"rgb(0,0,0)\"], [0.3333333333333333, \"rgb(230,0,0)\"], [0.6666666666666666, \"rgb(255,210,0)\"], [1.0, \"rgb(255,255,255)\"]], \"line\": {\"width\": 2}, \"reversescale\": true, \"showscale\": false, \"size\": 10}, \"mode\": \"markers\", \"text\": [\"Intersection 0\", \"Intersection 1\", \"Intersection 2\", \"Intersection 3\", \"Intersection 4\", \"Intersection 5\", \"Intersection 6\", \"Intersection 7\", \"Intersection 8\", \"Intersection 9\", \"Intersection 10\", \"Intersection 11\", \"Intersection 12\", \"Intersection 13\", \"Intersection 14\", \"Intersection 15\", \"Intersection 16\", \"Intersection 17\", \"Intersection 18\", \"Intersection 19\", \"Intersection 20\", \"Intersection 21\", \"Intersection 22\", \"Intersection 23\", \"Intersection 24\", \"Intersection 25\", \"Intersection 26\", \"Intersection 27\", \"Intersection 28\", \"Intersection 29\", \"Intersection 30\", \"Intersection 31\", \"Intersection 32\", \"Intersection 33\", \"Intersection 34\", \"Intersection 35\", \"Intersection 36\", \"Intersection 37\", \"Intersection 38\", \"Intersection 39\"], \"type\": \"scatter\", \"x\": [0.7801603911549438, 0.5249831588690298, 0.8085335344099086, 0.2599134798656856, 0.7353838928272886, 0.09088671576431506, 0.313999018186756, 0.6824813442515916, 0.20128789391122526, 0.8551947714242674, 0.7581736589784409, 0.25311953895059136, 0.4813859169876731, 0.9112422509614865, 0.04580558670435442, 0.4582523173083307, 0.12939557977525573, 0.607698913404794, 0.719569201584275, 0.8860336256842246, 0.4238357358399233, 0.8252497121120052, 0.47415009287034726, 0.26253385360950576, 0.9363713903322148, 0.6243437191127235, 0.5572917679006295, 0.7482655725962591, 0.6435799740880603, 0.34509802713919313, 0.021423673670808885, 0.640952694324525, 0.17440205342790494, 0.1332965908314021, 0.583993110207876, 0.3073865727705063, 0.740625863119245, 0.3345284735051981, 0.17972981733780147, 0.6315322816286787], \"y\": [0.49474860768712914, 0.14953665513987202, 0.7696330846542071, 0.14485659826020547, 0.8089961609345658, 0.7222846879290787, 0.01876171413125327, 0.8016111783687677, 0.43196344222361227, 0.9011339078096633, 0.24026772497187532, 0.10321622277398101, 0.5006237737207431, 0.1839028760606296, 0.5886703168399895, 0.1735506267461867, 0.690016328140396, 0.362322730884702, 0.13985272363426526, 0.891868301175821, 0.026771817842421997, 0.9532681441921305, 0.7353428557575755, 0.9768234503830939, 0.13022993020357043, 0.21665962402659544, 0.2083567880838434, 0.12631654071213483, 0.5488515965193208, 0.8800306496459869, 0.4666482714834408, 0.3232711412508066, 0.9528527425842739, 0.3996510641743197, 0.42704536740474663, 0.09186645974288632, 0.68128520136847, 0.6569436279895382, 0.999395685828547, 0.7311657634689946]}],                        {\"hovermode\": \"closest\", \"margin\": {\"b\": 20, \"l\": 5, \"r\": 5, \"t\": 40}, \"showlegend\": false, \"template\": {\"data\": {\"bar\": [{\"error_x\": {\"color\": \"#2a3f5f\"}, \"error_y\": {\"color\": \"#2a3f5f\"}, \"marker\": {\"line\": {\"color\": \"#E5ECF6\", \"width\": 0.5}}, \"type\": \"bar\"}], \"barpolar\": [{\"marker\": {\"line\": {\"color\": \"#E5ECF6\", \"width\": 0.5}}, \"type\": \"barpolar\"}], \"carpet\": [{\"aaxis\": {\"endlinecolor\": \"#2a3f5f\", \"gridcolor\": \"white\", \"linecolor\": \"white\", \"minorgridcolor\": \"white\", \"startlinecolor\": \"#2a3f5f\"}, \"baxis\": {\"endlinecolor\": \"#2a3f5f\", \"gridcolor\": \"white\", \"linecolor\": \"white\", \"minorgridcolor\": \"white\", \"startlinecolor\": \"#2a3f5f\"}, \"type\": \"carpet\"}], \"choropleth\": [{\"colorbar\": {\"outlinewidth\": 0, \"ticks\": \"\"}, \"type\": \"choropleth\"}], \"contour\": [{\"colorbar\": {\"outlinewidth\": 0, \"ticks\": \"\"}, \"colorscale\": [[0.0, \"#0d0887\"], [0.1111111111111111, \"#46039f\"], [0.2222222222222222, \"#7201a8\"], [0.3333333333333333, \"#9c179e\"], [0.4444444444444444, \"#bd3786\"], [0.5555555555555556, \"#d8576b\"], [0.6666666666666666, \"#ed7953\"], [0.7777777777777778, \"#fb9f3a\"], [0.8888888888888888, \"#fdca26\"], [1.0, \"#f0f921\"]], \"type\": \"contour\"}], \"contourcarpet\": [{\"colorbar\": {\"outlinewidth\": 0, \"ticks\": \"\"}, \"type\": \"contourcarpet\"}], \"heatmap\": [{\"colorbar\": {\"outlinewidth\": 0, \"ticks\": \"\"}, \"colorscale\": [[0.0, \"#0d0887\"], [0.1111111111111111, \"#46039f\"], [0.2222222222222222, \"#7201a8\"], [0.3333333333333333, \"#9c179e\"], [0.4444444444444444, \"#bd3786\"], [0.5555555555555556, \"#d8576b\"], [0.6666666666666666, \"#ed7953\"], [0.7777777777777778, \"#fb9f3a\"], [0.8888888888888888, \"#fdca26\"], [1.0, \"#f0f921\"]], \"type\": \"heatmap\"}], \"heatmapgl\": [{\"colorbar\": {\"outlinewidth\": 0, \"ticks\": \"\"}, \"colorscale\": [[0.0, \"#0d0887\"], [0.1111111111111111, \"#46039f\"], [0.2222222222222222, \"#7201a8\"], [0.3333333333333333, \"#9c179e\"], [0.4444444444444444, \"#bd3786\"], [0.5555555555555556, \"#d8576b\"], [0.6666666666666666, \"#ed7953\"], [0.7777777777777778, \"#fb9f3a\"], [0.8888888888888888, \"#fdca26\"], [1.0, \"#f0f921\"]], \"type\": \"heatmapgl\"}], \"histogram\": [{\"marker\": {\"colorbar\": {\"outlinewidth\": 0, \"ticks\": \"\"}}, \"type\": \"histogram\"}], \"histogram2d\": [{\"colorbar\": {\"outlinewidth\": 0, \"ticks\": \"\"}, \"colorscale\": [[0.0, \"#0d0887\"], [0.1111111111111111, \"#46039f\"], [0.2222222222222222, \"#7201a8\"], [0.3333333333333333, \"#9c179e\"], [0.4444444444444444, \"#bd3786\"], [0.5555555555555556, \"#d8576b\"], [0.6666666666666666, \"#ed7953\"], [0.7777777777777778, \"#fb9f3a\"], [0.8888888888888888, \"#fdca26\"], [1.0, \"#f0f921\"]], \"type\": \"histogram2d\"}], \"histogram2dcontour\": [{\"colorbar\": {\"outlinewidth\": 0, \"ticks\": \"\"}, \"colorscale\": [[0.0, \"#0d0887\"], [0.1111111111111111, \"#46039f\"], [0.2222222222222222, \"#7201a8\"], [0.3333333333333333, \"#9c179e\"], [0.4444444444444444, \"#bd3786\"], [0.5555555555555556, \"#d8576b\"], [0.6666666666666666, \"#ed7953\"], [0.7777777777777778, \"#fb9f3a\"], [0.8888888888888888, \"#fdca26\"], [1.0, \"#f0f921\"]], \"type\": \"histogram2dcontour\"}], \"mesh3d\": [{\"colorbar\": {\"outlinewidth\": 0, \"ticks\": \"\"}, \"type\": \"mesh3d\"}], \"parcoords\": [{\"line\": {\"colorbar\": {\"outlinewidth\": 0, \"ticks\": \"\"}}, \"type\": \"parcoords\"}], \"pie\": [{\"automargin\": true, \"type\": \"pie\"}], \"scatter\": [{\"marker\": {\"colorbar\": {\"outlinewidth\": 0, \"ticks\": \"\"}}, \"type\": \"scatter\"}], \"scatter3d\": [{\"line\": {\"colorbar\": {\"outlinewidth\": 0, \"ticks\": \"\"}}, \"marker\": {\"colorbar\": {\"outlinewidth\": 0, \"ticks\": \"\"}}, \"type\": \"scatter3d\"}], \"scattercarpet\": [{\"marker\": {\"colorbar\": {\"outlinewidth\": 0, \"ticks\": \"\"}}, \"type\": \"scattercarpet\"}], \"scattergeo\": [{\"marker\": {\"colorbar\": {\"outlinewidth\": 0, \"ticks\": \"\"}}, \"type\": \"scattergeo\"}], \"scattergl\": [{\"marker\": {\"colorbar\": {\"outlinewidth\": 0, \"ticks\": \"\"}}, \"type\": \"scattergl\"}], \"scattermapbox\": [{\"marker\": {\"colorbar\": {\"outlinewidth\": 0, \"ticks\": \"\"}}, \"type\": \"scattermapbox\"}], \"scatterpolar\": [{\"marker\": {\"colorbar\": {\"outlinewidth\": 0, \"ticks\": \"\"}}, \"type\": \"scatterpolar\"}], \"scatterpolargl\": [{\"marker\": {\"colorbar\": {\"outlinewidth\": 0, \"ticks\": \"\"}}, \"type\": \"scatterpolargl\"}], \"scatterternary\": [{\"marker\": {\"colorbar\": {\"outlinewidth\": 0, \"ticks\": \"\"}}, \"type\": \"scatterternary\"}], \"surface\": [{\"colorbar\": {\"outlinewidth\": 0, \"ticks\": \"\"}, \"colorscale\": [[0.0, \"#0d0887\"], [0.1111111111111111, \"#46039f\"], [0.2222222222222222, \"#7201a8\"], [0.3333333333333333, \"#9c179e\"], [0.4444444444444444, \"#bd3786\"], [0.5555555555555556, \"#d8576b\"], [0.6666666666666666, \"#ed7953\"], [0.7777777777777778, \"#fb9f3a\"], [0.8888888888888888, \"#fdca26\"], [1.0, \"#f0f921\"]], \"type\": \"surface\"}], \"table\": [{\"cells\": {\"fill\": {\"color\": \"#EBF0F8\"}, \"line\": {\"color\": \"white\"}}, \"header\": {\"fill\": {\"color\": \"#C8D4E3\"}, \"line\": {\"color\": \"white\"}}, \"type\": \"table\"}]}, \"layout\": {\"annotationdefaults\": {\"arrowcolor\": \"#2a3f5f\", \"arrowhead\": 0, \"arrowwidth\": 1}, \"coloraxis\": {\"colorbar\": {\"outlinewidth\": 0, \"ticks\": \"\"}}, \"colorscale\": {\"diverging\": [[0, \"#8e0152\"], [0.1, \"#c51b7d\"], [0.2, \"#de77ae\"], [0.3, \"#f1b6da\"], [0.4, \"#fde0ef\"], [0.5, \"#f7f7f7\"], [0.6, \"#e6f5d0\"], [0.7, \"#b8e186\"], [0.8, \"#7fbc41\"], [0.9, \"#4d9221\"], [1, \"#276419\"]], \"sequential\": [[0.0, \"#0d0887\"], [0.1111111111111111, \"#46039f\"], [0.2222222222222222, \"#7201a8\"], [0.3333333333333333, \"#9c179e\"], [0.4444444444444444, \"#bd3786\"], [0.5555555555555556, \"#d8576b\"], [0.6666666666666666, \"#ed7953\"], [0.7777777777777778, \"#fb9f3a\"], [0.8888888888888888, \"#fdca26\"], [1.0, \"#f0f921\"]], \"sequentialminus\": [[0.0, \"#0d0887\"], [0.1111111111111111, \"#46039f\"], [0.2222222222222222, \"#7201a8\"], [0.3333333333333333, \"#9c179e\"], [0.4444444444444444, \"#bd3786\"], [0.5555555555555556, \"#d8576b\"], [0.6666666666666666, \"#ed7953\"], [0.7777777777777778, \"#fb9f3a\"], [0.8888888888888888, \"#fdca26\"], [1.0, \"#f0f921\"]]}, \"colorway\": [\"#636efa\", \"#EF553B\", \"#00cc96\", \"#ab63fa\", \"#FFA15A\", \"#19d3f3\", \"#FF6692\", \"#B6E880\", \"#FF97FF\", \"#FECB52\"], \"font\": {\"color\": \"#2a3f5f\"}, \"geo\": {\"bgcolor\": \"white\", \"lakecolor\": \"white\", \"landcolor\": \"#E5ECF6\", \"showlakes\": true, \"showland\": true, \"subunitcolor\": \"white\"}, \"hoverlabel\": {\"align\": \"left\"}, \"hovermode\": \"closest\", \"mapbox\": {\"style\": \"light\"}, \"paper_bgcolor\": \"white\", \"plot_bgcolor\": \"#E5ECF6\", \"polar\": {\"angularaxis\": {\"gridcolor\": \"white\", \"linecolor\": \"white\", \"ticks\": \"\"}, \"bgcolor\": \"#E5ECF6\", \"radialaxis\": {\"gridcolor\": \"white\", \"linecolor\": \"white\", \"ticks\": \"\"}}, \"scene\": {\"xaxis\": {\"backgroundcolor\": \"#E5ECF6\", \"gridcolor\": \"white\", \"gridwidth\": 2, \"linecolor\": \"white\", \"showbackground\": true, \"ticks\": \"\", \"zerolinecolor\": \"white\"}, \"yaxis\": {\"backgroundcolor\": \"#E5ECF6\", \"gridcolor\": \"white\", \"gridwidth\": 2, \"linecolor\": \"white\", \"showbackground\": true, \"ticks\": \"\", \"zerolinecolor\": \"white\"}, \"zaxis\": {\"backgroundcolor\": \"#E5ECF6\", \"gridcolor\": \"white\", \"gridwidth\": 2, \"linecolor\": \"white\", \"showbackground\": true, \"ticks\": \"\", \"zerolinecolor\": \"white\"}}, \"shapedefaults\": {\"line\": {\"color\": \"#2a3f5f\"}}, \"ternary\": {\"aaxis\": {\"gridcolor\": \"white\", \"linecolor\": \"white\", \"ticks\": \"\"}, \"baxis\": {\"gridcolor\": \"white\", \"linecolor\": \"white\", \"ticks\": \"\"}, \"bgcolor\": \"#E5ECF6\", \"caxis\": {\"gridcolor\": \"white\", \"linecolor\": \"white\", \"ticks\": \"\"}}, \"title\": {\"x\": 0.05}, \"xaxis\": {\"automargin\": true, \"gridcolor\": \"white\", \"linecolor\": \"white\", \"ticks\": \"\", \"title\": {\"standoff\": 15}, \"zerolinecolor\": \"white\", \"zerolinewidth\": 2}, \"yaxis\": {\"automargin\": true, \"gridcolor\": \"white\", \"linecolor\": \"white\", \"ticks\": \"\", \"title\": {\"standoff\": 15}, \"zerolinecolor\": \"white\", \"zerolinewidth\": 2}}}, \"title\": {\"font\": {\"size\": 16}, \"text\": \"<br>Network graph made with Python\"}, \"xaxis\": {\"showgrid\": false, \"showticklabels\": false, \"zeroline\": false}, \"yaxis\": {\"showgrid\": false, \"showticklabels\": false, \"zeroline\": false}},                        {\"responsive\": true}                    ).then(function(){\n",
       "                            \n",
       "var gd = document.getElementById('7b97aa1c-c0d7-4553-ba41-da05c6007201');\n",
       "var x = new MutationObserver(function (mutations, observer) {{\n",
       "        var display = window.getComputedStyle(gd).display;\n",
       "        if (!display || display === 'none') {{\n",
       "            console.log([gd, 'removed!']);\n",
       "            Plotly.purge(gd);\n",
       "            observer.disconnect();\n",
       "        }}\n",
       "}});\n",
       "\n",
       "// Listen for the removal of the full notebook cells\n",
       "var notebookContainer = gd.closest('#notebook-container');\n",
       "if (notebookContainer) {{\n",
       "    x.observe(notebookContainer, {childList: true});\n",
       "}}\n",
       "\n",
       "// Listen for the clearing of the current output cell\n",
       "var outputEl = gd.closest('.output');\n",
       "if (outputEl) {{\n",
       "    x.observe(outputEl, {childList: true});\n",
       "}}\n",
       "\n",
       "                        })                };                });            </script>        </div>"
      ]
     },
     "metadata": {},
     "output_type": "display_data"
    },
    {
     "name": "stdout",
     "output_type": "stream",
     "text": [
      "minimum cost to reach from 8 to 4 = 0.9921\n",
      "Path: [8, 14, 16, 37, 22, 7, 4]\n"
     ]
    }
   ],
   "source": [
    "start = 8\n",
    "goal = 4\n",
    "planner = PathPlanner(map_40, start, goal)\n",
    "show_map(map_40,start, goal, planner.path)\n",
    "print(f\"minimum cost to reach from {start} to {goal} = {planner.cost :0.4f}\")\n",
    "print(f\"Path: {planner.path}\")"
   ]
  },
  {
   "cell_type": "code",
   "execution_count": 16,
   "metadata": {
    "scrolled": true
   },
   "outputs": [
    {
     "data": {
      "application/vnd.plotly.v1+json": {
       "config": {
        "linkText": "Export to plot.ly",
        "plotlyServerURL": "https://plot.ly",
        "showLink": false
       },
       "data": [
        {
         "hoverinfo": "none",
         "line": {
          "color": "#888",
          "width": 0.5
         },
         "mode": "lines",
         "type": "scatter",
         "x": [
          0.7801603911549438,
          0.740625863119245,
          null,
          0.7801603911549438,
          0.583993110207876,
          null,
          0.7801603911549438,
          0.640952694324525,
          null,
          0.7801603911549438,
          0.6435799740880603,
          null,
          0.7801603911549438,
          0.607698913404794,
          null,
          0.5249831588690298,
          0.3073865727705063,
          null,
          0.5249831588690298,
          0.640952694324525,
          null,
          0.5249831588690298,
          0.7482655725962591,
          null,
          0.5249831588690298,
          0.5572917679006295,
          null,
          0.5249831588690298,
          0.6243437191127235,
          null,
          0.5249831588690298,
          0.4238357358399233,
          null,
          0.5249831588690298,
          0.719569201584275,
          null,
          0.5249831588690298,
          0.607698913404794,
          null,
          0.5249831588690298,
          0.4582523173083307,
          null,
          0.5249831588690298,
          0.313999018186756,
          null,
          0.8085335344099086,
          0.6315322816286787,
          null,
          0.8085335344099086,
          0.740625863119245,
          null,
          0.8085335344099086,
          0.8252497121120052,
          null,
          0.8085335344099086,
          0.8860336256842246,
          null,
          0.8085335344099086,
          0.8551947714242674,
          null,
          0.8085335344099086,
          0.6824813442515916,
          null,
          0.8085335344099086,
          0.7353838928272886,
          null,
          0.2599134798656856,
          0.3073865727705063,
          null,
          0.2599134798656856,
          0.4238357358399233,
          null,
          0.2599134798656856,
          0.4582523173083307,
          null,
          0.2599134798656856,
          0.25311953895059136,
          null,
          0.2599134798656856,
          0.313999018186756,
          null,
          0.7353838928272886,
          0.6315322816286787,
          null,
          0.7353838928272886,
          0.740625863119245,
          null,
          0.7353838928272886,
          0.8252497121120052,
          null,
          0.7353838928272886,
          0.8860336256842246,
          null,
          0.7353838928272886,
          0.8551947714242674,
          null,
          0.7353838928272886,
          0.6824813442515916,
          null,
          0.09088671576431506,
          0.17440205342790494,
          null,
          0.09088671576431506,
          0.12939557977525573,
          null,
          0.09088671576431506,
          0.04580558670435442,
          null,
          0.313999018186756,
          0.3073865727705063,
          null,
          0.313999018186756,
          0.4238357358399233,
          null,
          0.313999018186756,
          0.4582523173083307,
          null,
          0.313999018186756,
          0.25311953895059136,
          null,
          0.6824813442515916,
          0.6315322816286787,
          null,
          0.6824813442515916,
          0.740625863119245,
          null,
          0.6824813442515916,
          0.47415009287034726,
          null,
          0.6824813442515916,
          0.8252497121120052,
          null,
          0.6824813442515916,
          0.8860336256842246,
          null,
          0.6824813442515916,
          0.8551947714242674,
          null,
          0.20128789391122526,
          0.1332965908314021,
          null,
          0.20128789391122526,
          0.021423673670808885,
          null,
          0.20128789391122526,
          0.04580558670435442,
          null,
          0.8551947714242674,
          0.740625863119245,
          null,
          0.8551947714242674,
          0.8252497121120052,
          null,
          0.8551947714242674,
          0.8860336256842246,
          null,
          0.7581736589784409,
          0.640952694324525,
          null,
          0.7581736589784409,
          0.7482655725962591,
          null,
          0.7581736589784409,
          0.5572917679006295,
          null,
          0.7581736589784409,
          0.6243437191127235,
          null,
          0.7581736589784409,
          0.9363713903322148,
          null,
          0.7581736589784409,
          0.719569201584275,
          null,
          0.7581736589784409,
          0.607698913404794,
          null,
          0.7581736589784409,
          0.9112422509614865,
          null,
          0.25311953895059136,
          0.3073865727705063,
          null,
          0.25311953895059136,
          0.4238357358399233,
          null,
          0.25311953895059136,
          0.4582523173083307,
          null,
          0.4813859169876731,
          0.3345284735051981,
          null,
          0.4813859169876731,
          0.583993110207876,
          null,
          0.4813859169876731,
          0.640952694324525,
          null,
          0.4813859169876731,
          0.6435799740880603,
          null,
          0.4813859169876731,
          0.47415009287034726,
          null,
          0.4813859169876731,
          0.607698913404794,
          null,
          0.9112422509614865,
          0.7482655725962591,
          null,
          0.9112422509614865,
          0.9363713903322148,
          null,
          0.9112422509614865,
          0.719569201584275,
          null,
          0.04580558670435442,
          0.1332965908314021,
          null,
          0.04580558670435442,
          0.021423673670808885,
          null,
          0.04580558670435442,
          0.12939557977525573,
          null,
          0.4582523173083307,
          0.3073865727705063,
          null,
          0.4582523173083307,
          0.640952694324525,
          null,
          0.4582523173083307,
          0.5572917679006295,
          null,
          0.4582523173083307,
          0.6243437191127235,
          null,
          0.4582523173083307,
          0.4238357358399233,
          null,
          0.4582523173083307,
          0.607698913404794,
          null,
          0.12939557977525573,
          0.3345284735051981,
          null,
          0.12939557977525573,
          0.021423673670808885,
          null,
          0.607698913404794,
          0.583993110207876,
          null,
          0.607698913404794,
          0.640952694324525,
          null,
          0.607698913404794,
          0.6435799740880603,
          null,
          0.607698913404794,
          0.5572917679006295,
          null,
          0.607698913404794,
          0.6243437191127235,
          null,
          0.607698913404794,
          0.719569201584275,
          null,
          0.719569201584275,
          0.640952694324525,
          null,
          0.719569201584275,
          0.7482655725962591,
          null,
          0.719569201584275,
          0.5572917679006295,
          null,
          0.719569201584275,
          0.6243437191127235,
          null,
          0.719569201584275,
          0.9363713903322148,
          null,
          0.8860336256842246,
          0.8252497121120052,
          null,
          0.4238357358399233,
          0.3073865727705063,
          null,
          0.4238357358399233,
          0.5572917679006295,
          null,
          0.47415009287034726,
          0.6315322816286787,
          null,
          0.47415009287034726,
          0.3345284735051981,
          null,
          0.47415009287034726,
          0.34509802713919313,
          null,
          0.26253385360950576,
          0.17972981733780147,
          null,
          0.26253385360950576,
          0.17440205342790494,
          null,
          0.26253385360950576,
          0.34509802713919313,
          null,
          0.9363713903322148,
          0.7482655725962591,
          null,
          0.6243437191127235,
          0.583993110207876,
          null,
          0.6243437191127235,
          0.640952694324525,
          null,
          0.6243437191127235,
          0.7482655725962591,
          null,
          0.6243437191127235,
          0.5572917679006295,
          null,
          0.5572917679006295,
          0.583993110207876,
          null,
          0.5572917679006295,
          0.640952694324525,
          null,
          0.5572917679006295,
          0.7482655725962591,
          null,
          0.7482655725962591,
          0.640952694324525,
          null,
          0.6435799740880603,
          0.6315322816286787,
          null,
          0.6435799740880603,
          0.740625863119245,
          null,
          0.6435799740880603,
          0.583993110207876,
          null,
          0.6435799740880603,
          0.640952694324525,
          null,
          0.34509802713919313,
          0.17972981733780147,
          null,
          0.34509802713919313,
          0.3345284735051981,
          null,
          0.34509802713919313,
          0.17440205342790494,
          null,
          0.021423673670808885,
          0.1332965908314021,
          null,
          0.640952694324525,
          0.583993110207876,
          null,
          0.17440205342790494,
          0.17972981733780147,
          null,
          0.740625863119245,
          0.6315322816286787,
          null
         ],
         "y": [
          0.49474860768712914,
          0.68128520136847,
          null,
          0.49474860768712914,
          0.42704536740474663,
          null,
          0.49474860768712914,
          0.3232711412508066,
          null,
          0.49474860768712914,
          0.5488515965193208,
          null,
          0.49474860768712914,
          0.362322730884702,
          null,
          0.14953665513987202,
          0.09186645974288632,
          null,
          0.14953665513987202,
          0.3232711412508066,
          null,
          0.14953665513987202,
          0.12631654071213483,
          null,
          0.14953665513987202,
          0.2083567880838434,
          null,
          0.14953665513987202,
          0.21665962402659544,
          null,
          0.14953665513987202,
          0.026771817842421997,
          null,
          0.14953665513987202,
          0.13985272363426526,
          null,
          0.14953665513987202,
          0.362322730884702,
          null,
          0.14953665513987202,
          0.1735506267461867,
          null,
          0.14953665513987202,
          0.01876171413125327,
          null,
          0.7696330846542071,
          0.7311657634689946,
          null,
          0.7696330846542071,
          0.68128520136847,
          null,
          0.7696330846542071,
          0.9532681441921305,
          null,
          0.7696330846542071,
          0.891868301175821,
          null,
          0.7696330846542071,
          0.9011339078096633,
          null,
          0.7696330846542071,
          0.8016111783687677,
          null,
          0.7696330846542071,
          0.8089961609345658,
          null,
          0.14485659826020547,
          0.09186645974288632,
          null,
          0.14485659826020547,
          0.026771817842421997,
          null,
          0.14485659826020547,
          0.1735506267461867,
          null,
          0.14485659826020547,
          0.10321622277398101,
          null,
          0.14485659826020547,
          0.01876171413125327,
          null,
          0.8089961609345658,
          0.7311657634689946,
          null,
          0.8089961609345658,
          0.68128520136847,
          null,
          0.8089961609345658,
          0.9532681441921305,
          null,
          0.8089961609345658,
          0.891868301175821,
          null,
          0.8089961609345658,
          0.9011339078096633,
          null,
          0.8089961609345658,
          0.8016111783687677,
          null,
          0.7222846879290787,
          0.9528527425842739,
          null,
          0.7222846879290787,
          0.690016328140396,
          null,
          0.7222846879290787,
          0.5886703168399895,
          null,
          0.01876171413125327,
          0.09186645974288632,
          null,
          0.01876171413125327,
          0.026771817842421997,
          null,
          0.01876171413125327,
          0.1735506267461867,
          null,
          0.01876171413125327,
          0.10321622277398101,
          null,
          0.8016111783687677,
          0.7311657634689946,
          null,
          0.8016111783687677,
          0.68128520136847,
          null,
          0.8016111783687677,
          0.7353428557575755,
          null,
          0.8016111783687677,
          0.9532681441921305,
          null,
          0.8016111783687677,
          0.891868301175821,
          null,
          0.8016111783687677,
          0.9011339078096633,
          null,
          0.43196344222361227,
          0.3996510641743197,
          null,
          0.43196344222361227,
          0.4666482714834408,
          null,
          0.43196344222361227,
          0.5886703168399895,
          null,
          0.9011339078096633,
          0.68128520136847,
          null,
          0.9011339078096633,
          0.9532681441921305,
          null,
          0.9011339078096633,
          0.891868301175821,
          null,
          0.24026772497187532,
          0.3232711412508066,
          null,
          0.24026772497187532,
          0.12631654071213483,
          null,
          0.24026772497187532,
          0.2083567880838434,
          null,
          0.24026772497187532,
          0.21665962402659544,
          null,
          0.24026772497187532,
          0.13022993020357043,
          null,
          0.24026772497187532,
          0.13985272363426526,
          null,
          0.24026772497187532,
          0.362322730884702,
          null,
          0.24026772497187532,
          0.1839028760606296,
          null,
          0.10321622277398101,
          0.09186645974288632,
          null,
          0.10321622277398101,
          0.026771817842421997,
          null,
          0.10321622277398101,
          0.1735506267461867,
          null,
          0.5006237737207431,
          0.6569436279895382,
          null,
          0.5006237737207431,
          0.42704536740474663,
          null,
          0.5006237737207431,
          0.3232711412508066,
          null,
          0.5006237737207431,
          0.5488515965193208,
          null,
          0.5006237737207431,
          0.7353428557575755,
          null,
          0.5006237737207431,
          0.362322730884702,
          null,
          0.1839028760606296,
          0.12631654071213483,
          null,
          0.1839028760606296,
          0.13022993020357043,
          null,
          0.1839028760606296,
          0.13985272363426526,
          null,
          0.5886703168399895,
          0.3996510641743197,
          null,
          0.5886703168399895,
          0.4666482714834408,
          null,
          0.5886703168399895,
          0.690016328140396,
          null,
          0.1735506267461867,
          0.09186645974288632,
          null,
          0.1735506267461867,
          0.3232711412508066,
          null,
          0.1735506267461867,
          0.2083567880838434,
          null,
          0.1735506267461867,
          0.21665962402659544,
          null,
          0.1735506267461867,
          0.026771817842421997,
          null,
          0.1735506267461867,
          0.362322730884702,
          null,
          0.690016328140396,
          0.6569436279895382,
          null,
          0.690016328140396,
          0.4666482714834408,
          null,
          0.362322730884702,
          0.42704536740474663,
          null,
          0.362322730884702,
          0.3232711412508066,
          null,
          0.362322730884702,
          0.5488515965193208,
          null,
          0.362322730884702,
          0.2083567880838434,
          null,
          0.362322730884702,
          0.21665962402659544,
          null,
          0.362322730884702,
          0.13985272363426526,
          null,
          0.13985272363426526,
          0.3232711412508066,
          null,
          0.13985272363426526,
          0.12631654071213483,
          null,
          0.13985272363426526,
          0.2083567880838434,
          null,
          0.13985272363426526,
          0.21665962402659544,
          null,
          0.13985272363426526,
          0.13022993020357043,
          null,
          0.891868301175821,
          0.9532681441921305,
          null,
          0.026771817842421997,
          0.09186645974288632,
          null,
          0.026771817842421997,
          0.2083567880838434,
          null,
          0.7353428557575755,
          0.7311657634689946,
          null,
          0.7353428557575755,
          0.6569436279895382,
          null,
          0.7353428557575755,
          0.8800306496459869,
          null,
          0.9768234503830939,
          0.999395685828547,
          null,
          0.9768234503830939,
          0.9528527425842739,
          null,
          0.9768234503830939,
          0.8800306496459869,
          null,
          0.13022993020357043,
          0.12631654071213483,
          null,
          0.21665962402659544,
          0.42704536740474663,
          null,
          0.21665962402659544,
          0.3232711412508066,
          null,
          0.21665962402659544,
          0.12631654071213483,
          null,
          0.21665962402659544,
          0.2083567880838434,
          null,
          0.2083567880838434,
          0.42704536740474663,
          null,
          0.2083567880838434,
          0.3232711412508066,
          null,
          0.2083567880838434,
          0.12631654071213483,
          null,
          0.12631654071213483,
          0.3232711412508066,
          null,
          0.5488515965193208,
          0.7311657634689946,
          null,
          0.5488515965193208,
          0.68128520136847,
          null,
          0.5488515965193208,
          0.42704536740474663,
          null,
          0.5488515965193208,
          0.3232711412508066,
          null,
          0.8800306496459869,
          0.999395685828547,
          null,
          0.8800306496459869,
          0.6569436279895382,
          null,
          0.8800306496459869,
          0.9528527425842739,
          null,
          0.4666482714834408,
          0.3996510641743197,
          null,
          0.3232711412508066,
          0.42704536740474663,
          null,
          0.9528527425842739,
          0.999395685828547,
          null,
          0.68128520136847,
          0.7311657634689946,
          null
         ]
        },
        {
         "hoverinfo": "text",
         "marker": {
          "color": [
           0,
           0,
           0,
           0,
           0,
           0,
           0,
           0,
           3,
           0,
           0,
           1,
           2,
           0,
           2,
           2,
           2,
           2,
           0,
           0,
           0,
           0,
           0,
           0,
           0,
           0,
           0,
           0,
           0,
           0,
           0,
           0,
           0,
           0,
           0,
           0,
           0,
           2,
           0,
           0
          ],
          "colorbar": {
           "thickness": 15,
           "title": {
            "side": "right",
            "text": "Node Connections"
           },
           "xanchor": "left"
          },
          "colorscale": [
           [
            0,
            "rgb(0,0,0)"
           ],
           [
            0.3333333333333333,
            "rgb(230,0,0)"
           ],
           [
            0.6666666666666666,
            "rgb(255,210,0)"
           ],
           [
            1,
            "rgb(255,255,255)"
           ]
          ],
          "line": {
           "width": 2
          },
          "reversescale": true,
          "showscale": false,
          "size": 10
         },
         "mode": "markers",
         "text": [
          "Intersection 0",
          "Intersection 1",
          "Intersection 2",
          "Intersection 3",
          "Intersection 4",
          "Intersection 5",
          "Intersection 6",
          "Intersection 7",
          "Intersection 8",
          "Intersection 9",
          "Intersection 10",
          "Intersection 11",
          "Intersection 12",
          "Intersection 13",
          "Intersection 14",
          "Intersection 15",
          "Intersection 16",
          "Intersection 17",
          "Intersection 18",
          "Intersection 19",
          "Intersection 20",
          "Intersection 21",
          "Intersection 22",
          "Intersection 23",
          "Intersection 24",
          "Intersection 25",
          "Intersection 26",
          "Intersection 27",
          "Intersection 28",
          "Intersection 29",
          "Intersection 30",
          "Intersection 31",
          "Intersection 32",
          "Intersection 33",
          "Intersection 34",
          "Intersection 35",
          "Intersection 36",
          "Intersection 37",
          "Intersection 38",
          "Intersection 39"
         ],
         "type": "scatter",
         "x": [
          0.7801603911549438,
          0.5249831588690298,
          0.8085335344099086,
          0.2599134798656856,
          0.7353838928272886,
          0.09088671576431506,
          0.313999018186756,
          0.6824813442515916,
          0.20128789391122526,
          0.8551947714242674,
          0.7581736589784409,
          0.25311953895059136,
          0.4813859169876731,
          0.9112422509614865,
          0.04580558670435442,
          0.4582523173083307,
          0.12939557977525573,
          0.607698913404794,
          0.719569201584275,
          0.8860336256842246,
          0.4238357358399233,
          0.8252497121120052,
          0.47415009287034726,
          0.26253385360950576,
          0.9363713903322148,
          0.6243437191127235,
          0.5572917679006295,
          0.7482655725962591,
          0.6435799740880603,
          0.34509802713919313,
          0.021423673670808885,
          0.640952694324525,
          0.17440205342790494,
          0.1332965908314021,
          0.583993110207876,
          0.3073865727705063,
          0.740625863119245,
          0.3345284735051981,
          0.17972981733780147,
          0.6315322816286787
         ],
         "y": [
          0.49474860768712914,
          0.14953665513987202,
          0.7696330846542071,
          0.14485659826020547,
          0.8089961609345658,
          0.7222846879290787,
          0.01876171413125327,
          0.8016111783687677,
          0.43196344222361227,
          0.9011339078096633,
          0.24026772497187532,
          0.10321622277398101,
          0.5006237737207431,
          0.1839028760606296,
          0.5886703168399895,
          0.1735506267461867,
          0.690016328140396,
          0.362322730884702,
          0.13985272363426526,
          0.891868301175821,
          0.026771817842421997,
          0.9532681441921305,
          0.7353428557575755,
          0.9768234503830939,
          0.13022993020357043,
          0.21665962402659544,
          0.2083567880838434,
          0.12631654071213483,
          0.5488515965193208,
          0.8800306496459869,
          0.4666482714834408,
          0.3232711412508066,
          0.9528527425842739,
          0.3996510641743197,
          0.42704536740474663,
          0.09186645974288632,
          0.68128520136847,
          0.6569436279895382,
          0.999395685828547,
          0.7311657634689946
         ]
        }
       ],
       "layout": {
        "hovermode": "closest",
        "margin": {
         "b": 20,
         "l": 5,
         "r": 5,
         "t": 40
        },
        "showlegend": false,
        "template": {
         "data": {
          "bar": [
           {
            "error_x": {
             "color": "#2a3f5f"
            },
            "error_y": {
             "color": "#2a3f5f"
            },
            "marker": {
             "line": {
              "color": "#E5ECF6",
              "width": 0.5
             }
            },
            "type": "bar"
           }
          ],
          "barpolar": [
           {
            "marker": {
             "line": {
              "color": "#E5ECF6",
              "width": 0.5
             }
            },
            "type": "barpolar"
           }
          ],
          "carpet": [
           {
            "aaxis": {
             "endlinecolor": "#2a3f5f",
             "gridcolor": "white",
             "linecolor": "white",
             "minorgridcolor": "white",
             "startlinecolor": "#2a3f5f"
            },
            "baxis": {
             "endlinecolor": "#2a3f5f",
             "gridcolor": "white",
             "linecolor": "white",
             "minorgridcolor": "white",
             "startlinecolor": "#2a3f5f"
            },
            "type": "carpet"
           }
          ],
          "choropleth": [
           {
            "colorbar": {
             "outlinewidth": 0,
             "ticks": ""
            },
            "type": "choropleth"
           }
          ],
          "contour": [
           {
            "colorbar": {
             "outlinewidth": 0,
             "ticks": ""
            },
            "colorscale": [
             [
              0,
              "#0d0887"
             ],
             [
              0.1111111111111111,
              "#46039f"
             ],
             [
              0.2222222222222222,
              "#7201a8"
             ],
             [
              0.3333333333333333,
              "#9c179e"
             ],
             [
              0.4444444444444444,
              "#bd3786"
             ],
             [
              0.5555555555555556,
              "#d8576b"
             ],
             [
              0.6666666666666666,
              "#ed7953"
             ],
             [
              0.7777777777777778,
              "#fb9f3a"
             ],
             [
              0.8888888888888888,
              "#fdca26"
             ],
             [
              1,
              "#f0f921"
             ]
            ],
            "type": "contour"
           }
          ],
          "contourcarpet": [
           {
            "colorbar": {
             "outlinewidth": 0,
             "ticks": ""
            },
            "type": "contourcarpet"
           }
          ],
          "heatmap": [
           {
            "colorbar": {
             "outlinewidth": 0,
             "ticks": ""
            },
            "colorscale": [
             [
              0,
              "#0d0887"
             ],
             [
              0.1111111111111111,
              "#46039f"
             ],
             [
              0.2222222222222222,
              "#7201a8"
             ],
             [
              0.3333333333333333,
              "#9c179e"
             ],
             [
              0.4444444444444444,
              "#bd3786"
             ],
             [
              0.5555555555555556,
              "#d8576b"
             ],
             [
              0.6666666666666666,
              "#ed7953"
             ],
             [
              0.7777777777777778,
              "#fb9f3a"
             ],
             [
              0.8888888888888888,
              "#fdca26"
             ],
             [
              1,
              "#f0f921"
             ]
            ],
            "type": "heatmap"
           }
          ],
          "heatmapgl": [
           {
            "colorbar": {
             "outlinewidth": 0,
             "ticks": ""
            },
            "colorscale": [
             [
              0,
              "#0d0887"
             ],
             [
              0.1111111111111111,
              "#46039f"
             ],
             [
              0.2222222222222222,
              "#7201a8"
             ],
             [
              0.3333333333333333,
              "#9c179e"
             ],
             [
              0.4444444444444444,
              "#bd3786"
             ],
             [
              0.5555555555555556,
              "#d8576b"
             ],
             [
              0.6666666666666666,
              "#ed7953"
             ],
             [
              0.7777777777777778,
              "#fb9f3a"
             ],
             [
              0.8888888888888888,
              "#fdca26"
             ],
             [
              1,
              "#f0f921"
             ]
            ],
            "type": "heatmapgl"
           }
          ],
          "histogram": [
           {
            "marker": {
             "colorbar": {
              "outlinewidth": 0,
              "ticks": ""
             }
            },
            "type": "histogram"
           }
          ],
          "histogram2d": [
           {
            "colorbar": {
             "outlinewidth": 0,
             "ticks": ""
            },
            "colorscale": [
             [
              0,
              "#0d0887"
             ],
             [
              0.1111111111111111,
              "#46039f"
             ],
             [
              0.2222222222222222,
              "#7201a8"
             ],
             [
              0.3333333333333333,
              "#9c179e"
             ],
             [
              0.4444444444444444,
              "#bd3786"
             ],
             [
              0.5555555555555556,
              "#d8576b"
             ],
             [
              0.6666666666666666,
              "#ed7953"
             ],
             [
              0.7777777777777778,
              "#fb9f3a"
             ],
             [
              0.8888888888888888,
              "#fdca26"
             ],
             [
              1,
              "#f0f921"
             ]
            ],
            "type": "histogram2d"
           }
          ],
          "histogram2dcontour": [
           {
            "colorbar": {
             "outlinewidth": 0,
             "ticks": ""
            },
            "colorscale": [
             [
              0,
              "#0d0887"
             ],
             [
              0.1111111111111111,
              "#46039f"
             ],
             [
              0.2222222222222222,
              "#7201a8"
             ],
             [
              0.3333333333333333,
              "#9c179e"
             ],
             [
              0.4444444444444444,
              "#bd3786"
             ],
             [
              0.5555555555555556,
              "#d8576b"
             ],
             [
              0.6666666666666666,
              "#ed7953"
             ],
             [
              0.7777777777777778,
              "#fb9f3a"
             ],
             [
              0.8888888888888888,
              "#fdca26"
             ],
             [
              1,
              "#f0f921"
             ]
            ],
            "type": "histogram2dcontour"
           }
          ],
          "mesh3d": [
           {
            "colorbar": {
             "outlinewidth": 0,
             "ticks": ""
            },
            "type": "mesh3d"
           }
          ],
          "parcoords": [
           {
            "line": {
             "colorbar": {
              "outlinewidth": 0,
              "ticks": ""
             }
            },
            "type": "parcoords"
           }
          ],
          "pie": [
           {
            "automargin": true,
            "type": "pie"
           }
          ],
          "scatter": [
           {
            "marker": {
             "colorbar": {
              "outlinewidth": 0,
              "ticks": ""
             }
            },
            "type": "scatter"
           }
          ],
          "scatter3d": [
           {
            "line": {
             "colorbar": {
              "outlinewidth": 0,
              "ticks": ""
             }
            },
            "marker": {
             "colorbar": {
              "outlinewidth": 0,
              "ticks": ""
             }
            },
            "type": "scatter3d"
           }
          ],
          "scattercarpet": [
           {
            "marker": {
             "colorbar": {
              "outlinewidth": 0,
              "ticks": ""
             }
            },
            "type": "scattercarpet"
           }
          ],
          "scattergeo": [
           {
            "marker": {
             "colorbar": {
              "outlinewidth": 0,
              "ticks": ""
             }
            },
            "type": "scattergeo"
           }
          ],
          "scattergl": [
           {
            "marker": {
             "colorbar": {
              "outlinewidth": 0,
              "ticks": ""
             }
            },
            "type": "scattergl"
           }
          ],
          "scattermapbox": [
           {
            "marker": {
             "colorbar": {
              "outlinewidth": 0,
              "ticks": ""
             }
            },
            "type": "scattermapbox"
           }
          ],
          "scatterpolar": [
           {
            "marker": {
             "colorbar": {
              "outlinewidth": 0,
              "ticks": ""
             }
            },
            "type": "scatterpolar"
           }
          ],
          "scatterpolargl": [
           {
            "marker": {
             "colorbar": {
              "outlinewidth": 0,
              "ticks": ""
             }
            },
            "type": "scatterpolargl"
           }
          ],
          "scatterternary": [
           {
            "marker": {
             "colorbar": {
              "outlinewidth": 0,
              "ticks": ""
             }
            },
            "type": "scatterternary"
           }
          ],
          "surface": [
           {
            "colorbar": {
             "outlinewidth": 0,
             "ticks": ""
            },
            "colorscale": [
             [
              0,
              "#0d0887"
             ],
             [
              0.1111111111111111,
              "#46039f"
             ],
             [
              0.2222222222222222,
              "#7201a8"
             ],
             [
              0.3333333333333333,
              "#9c179e"
             ],
             [
              0.4444444444444444,
              "#bd3786"
             ],
             [
              0.5555555555555556,
              "#d8576b"
             ],
             [
              0.6666666666666666,
              "#ed7953"
             ],
             [
              0.7777777777777778,
              "#fb9f3a"
             ],
             [
              0.8888888888888888,
              "#fdca26"
             ],
             [
              1,
              "#f0f921"
             ]
            ],
            "type": "surface"
           }
          ],
          "table": [
           {
            "cells": {
             "fill": {
              "color": "#EBF0F8"
             },
             "line": {
              "color": "white"
             }
            },
            "header": {
             "fill": {
              "color": "#C8D4E3"
             },
             "line": {
              "color": "white"
             }
            },
            "type": "table"
           }
          ]
         },
         "layout": {
          "annotationdefaults": {
           "arrowcolor": "#2a3f5f",
           "arrowhead": 0,
           "arrowwidth": 1
          },
          "coloraxis": {
           "colorbar": {
            "outlinewidth": 0,
            "ticks": ""
           }
          },
          "colorscale": {
           "diverging": [
            [
             0,
             "#8e0152"
            ],
            [
             0.1,
             "#c51b7d"
            ],
            [
             0.2,
             "#de77ae"
            ],
            [
             0.3,
             "#f1b6da"
            ],
            [
             0.4,
             "#fde0ef"
            ],
            [
             0.5,
             "#f7f7f7"
            ],
            [
             0.6,
             "#e6f5d0"
            ],
            [
             0.7,
             "#b8e186"
            ],
            [
             0.8,
             "#7fbc41"
            ],
            [
             0.9,
             "#4d9221"
            ],
            [
             1,
             "#276419"
            ]
           ],
           "sequential": [
            [
             0,
             "#0d0887"
            ],
            [
             0.1111111111111111,
             "#46039f"
            ],
            [
             0.2222222222222222,
             "#7201a8"
            ],
            [
             0.3333333333333333,
             "#9c179e"
            ],
            [
             0.4444444444444444,
             "#bd3786"
            ],
            [
             0.5555555555555556,
             "#d8576b"
            ],
            [
             0.6666666666666666,
             "#ed7953"
            ],
            [
             0.7777777777777778,
             "#fb9f3a"
            ],
            [
             0.8888888888888888,
             "#fdca26"
            ],
            [
             1,
             "#f0f921"
            ]
           ],
           "sequentialminus": [
            [
             0,
             "#0d0887"
            ],
            [
             0.1111111111111111,
             "#46039f"
            ],
            [
             0.2222222222222222,
             "#7201a8"
            ],
            [
             0.3333333333333333,
             "#9c179e"
            ],
            [
             0.4444444444444444,
             "#bd3786"
            ],
            [
             0.5555555555555556,
             "#d8576b"
            ],
            [
             0.6666666666666666,
             "#ed7953"
            ],
            [
             0.7777777777777778,
             "#fb9f3a"
            ],
            [
             0.8888888888888888,
             "#fdca26"
            ],
            [
             1,
             "#f0f921"
            ]
           ]
          },
          "colorway": [
           "#636efa",
           "#EF553B",
           "#00cc96",
           "#ab63fa",
           "#FFA15A",
           "#19d3f3",
           "#FF6692",
           "#B6E880",
           "#FF97FF",
           "#FECB52"
          ],
          "font": {
           "color": "#2a3f5f"
          },
          "geo": {
           "bgcolor": "white",
           "lakecolor": "white",
           "landcolor": "#E5ECF6",
           "showlakes": true,
           "showland": true,
           "subunitcolor": "white"
          },
          "hoverlabel": {
           "align": "left"
          },
          "hovermode": "closest",
          "mapbox": {
           "style": "light"
          },
          "paper_bgcolor": "white",
          "plot_bgcolor": "#E5ECF6",
          "polar": {
           "angularaxis": {
            "gridcolor": "white",
            "linecolor": "white",
            "ticks": ""
           },
           "bgcolor": "#E5ECF6",
           "radialaxis": {
            "gridcolor": "white",
            "linecolor": "white",
            "ticks": ""
           }
          },
          "scene": {
           "xaxis": {
            "backgroundcolor": "#E5ECF6",
            "gridcolor": "white",
            "gridwidth": 2,
            "linecolor": "white",
            "showbackground": true,
            "ticks": "",
            "zerolinecolor": "white"
           },
           "yaxis": {
            "backgroundcolor": "#E5ECF6",
            "gridcolor": "white",
            "gridwidth": 2,
            "linecolor": "white",
            "showbackground": true,
            "ticks": "",
            "zerolinecolor": "white"
           },
           "zaxis": {
            "backgroundcolor": "#E5ECF6",
            "gridcolor": "white",
            "gridwidth": 2,
            "linecolor": "white",
            "showbackground": true,
            "ticks": "",
            "zerolinecolor": "white"
           }
          },
          "shapedefaults": {
           "line": {
            "color": "#2a3f5f"
           }
          },
          "ternary": {
           "aaxis": {
            "gridcolor": "white",
            "linecolor": "white",
            "ticks": ""
           },
           "baxis": {
            "gridcolor": "white",
            "linecolor": "white",
            "ticks": ""
           },
           "bgcolor": "#E5ECF6",
           "caxis": {
            "gridcolor": "white",
            "linecolor": "white",
            "ticks": ""
           }
          },
          "title": {
           "x": 0.05
          },
          "xaxis": {
           "automargin": true,
           "gridcolor": "white",
           "linecolor": "white",
           "ticks": "",
           "title": {
            "standoff": 15
           },
           "zerolinecolor": "white",
           "zerolinewidth": 2
          },
          "yaxis": {
           "automargin": true,
           "gridcolor": "white",
           "linecolor": "white",
           "ticks": "",
           "title": {
            "standoff": 15
           },
           "zerolinecolor": "white",
           "zerolinewidth": 2
          }
         }
        },
        "title": {
         "font": {
          "size": 16
         },
         "text": "<br>Network graph made with Python"
        },
        "xaxis": {
         "showgrid": false,
         "showticklabels": false,
         "zeroline": false
        },
        "yaxis": {
         "showgrid": false,
         "showticklabels": false,
         "zeroline": false
        }
       }
      },
      "text/html": [
       "<div>                            <div id=\"5e63eb4b-445b-4767-b798-37b24753d13b\" class=\"plotly-graph-div\" style=\"height:525px; width:100%;\"></div>            <script type=\"text/javascript\">                require([\"plotly\"], function(Plotly) {                    window.PLOTLYENV=window.PLOTLYENV || {};                                    if (document.getElementById(\"5e63eb4b-445b-4767-b798-37b24753d13b\")) {                    Plotly.newPlot(                        \"5e63eb4b-445b-4767-b798-37b24753d13b\",                        [{\"hoverinfo\": \"none\", \"line\": {\"color\": \"#888\", \"width\": 0.5}, \"mode\": \"lines\", \"type\": \"scatter\", \"x\": [0.7801603911549438, 0.740625863119245, null, 0.7801603911549438, 0.583993110207876, null, 0.7801603911549438, 0.640952694324525, null, 0.7801603911549438, 0.6435799740880603, null, 0.7801603911549438, 0.607698913404794, null, 0.5249831588690298, 0.3073865727705063, null, 0.5249831588690298, 0.640952694324525, null, 0.5249831588690298, 0.7482655725962591, null, 0.5249831588690298, 0.5572917679006295, null, 0.5249831588690298, 0.6243437191127235, null, 0.5249831588690298, 0.4238357358399233, null, 0.5249831588690298, 0.719569201584275, null, 0.5249831588690298, 0.607698913404794, null, 0.5249831588690298, 0.4582523173083307, null, 0.5249831588690298, 0.313999018186756, null, 0.8085335344099086, 0.6315322816286787, null, 0.8085335344099086, 0.740625863119245, null, 0.8085335344099086, 0.8252497121120052, null, 0.8085335344099086, 0.8860336256842246, null, 0.8085335344099086, 0.8551947714242674, null, 0.8085335344099086, 0.6824813442515916, null, 0.8085335344099086, 0.7353838928272886, null, 0.2599134798656856, 0.3073865727705063, null, 0.2599134798656856, 0.4238357358399233, null, 0.2599134798656856, 0.4582523173083307, null, 0.2599134798656856, 0.25311953895059136, null, 0.2599134798656856, 0.313999018186756, null, 0.7353838928272886, 0.6315322816286787, null, 0.7353838928272886, 0.740625863119245, null, 0.7353838928272886, 0.8252497121120052, null, 0.7353838928272886, 0.8860336256842246, null, 0.7353838928272886, 0.8551947714242674, null, 0.7353838928272886, 0.6824813442515916, null, 0.09088671576431506, 0.17440205342790494, null, 0.09088671576431506, 0.12939557977525573, null, 0.09088671576431506, 0.04580558670435442, null, 0.313999018186756, 0.3073865727705063, null, 0.313999018186756, 0.4238357358399233, null, 0.313999018186756, 0.4582523173083307, null, 0.313999018186756, 0.25311953895059136, null, 0.6824813442515916, 0.6315322816286787, null, 0.6824813442515916, 0.740625863119245, null, 0.6824813442515916, 0.47415009287034726, null, 0.6824813442515916, 0.8252497121120052, null, 0.6824813442515916, 0.8860336256842246, null, 0.6824813442515916, 0.8551947714242674, null, 0.20128789391122526, 0.1332965908314021, null, 0.20128789391122526, 0.021423673670808885, null, 0.20128789391122526, 0.04580558670435442, null, 0.8551947714242674, 0.740625863119245, null, 0.8551947714242674, 0.8252497121120052, null, 0.8551947714242674, 0.8860336256842246, null, 0.7581736589784409, 0.640952694324525, null, 0.7581736589784409, 0.7482655725962591, null, 0.7581736589784409, 0.5572917679006295, null, 0.7581736589784409, 0.6243437191127235, null, 0.7581736589784409, 0.9363713903322148, null, 0.7581736589784409, 0.719569201584275, null, 0.7581736589784409, 0.607698913404794, null, 0.7581736589784409, 0.9112422509614865, null, 0.25311953895059136, 0.3073865727705063, null, 0.25311953895059136, 0.4238357358399233, null, 0.25311953895059136, 0.4582523173083307, null, 0.4813859169876731, 0.3345284735051981, null, 0.4813859169876731, 0.583993110207876, null, 0.4813859169876731, 0.640952694324525, null, 0.4813859169876731, 0.6435799740880603, null, 0.4813859169876731, 0.47415009287034726, null, 0.4813859169876731, 0.607698913404794, null, 0.9112422509614865, 0.7482655725962591, null, 0.9112422509614865, 0.9363713903322148, null, 0.9112422509614865, 0.719569201584275, null, 0.04580558670435442, 0.1332965908314021, null, 0.04580558670435442, 0.021423673670808885, null, 0.04580558670435442, 0.12939557977525573, null, 0.4582523173083307, 0.3073865727705063, null, 0.4582523173083307, 0.640952694324525, null, 0.4582523173083307, 0.5572917679006295, null, 0.4582523173083307, 0.6243437191127235, null, 0.4582523173083307, 0.4238357358399233, null, 0.4582523173083307, 0.607698913404794, null, 0.12939557977525573, 0.3345284735051981, null, 0.12939557977525573, 0.021423673670808885, null, 0.607698913404794, 0.583993110207876, null, 0.607698913404794, 0.640952694324525, null, 0.607698913404794, 0.6435799740880603, null, 0.607698913404794, 0.5572917679006295, null, 0.607698913404794, 0.6243437191127235, null, 0.607698913404794, 0.719569201584275, null, 0.719569201584275, 0.640952694324525, null, 0.719569201584275, 0.7482655725962591, null, 0.719569201584275, 0.5572917679006295, null, 0.719569201584275, 0.6243437191127235, null, 0.719569201584275, 0.9363713903322148, null, 0.8860336256842246, 0.8252497121120052, null, 0.4238357358399233, 0.3073865727705063, null, 0.4238357358399233, 0.5572917679006295, null, 0.47415009287034726, 0.6315322816286787, null, 0.47415009287034726, 0.3345284735051981, null, 0.47415009287034726, 0.34509802713919313, null, 0.26253385360950576, 0.17972981733780147, null, 0.26253385360950576, 0.17440205342790494, null, 0.26253385360950576, 0.34509802713919313, null, 0.9363713903322148, 0.7482655725962591, null, 0.6243437191127235, 0.583993110207876, null, 0.6243437191127235, 0.640952694324525, null, 0.6243437191127235, 0.7482655725962591, null, 0.6243437191127235, 0.5572917679006295, null, 0.5572917679006295, 0.583993110207876, null, 0.5572917679006295, 0.640952694324525, null, 0.5572917679006295, 0.7482655725962591, null, 0.7482655725962591, 0.640952694324525, null, 0.6435799740880603, 0.6315322816286787, null, 0.6435799740880603, 0.740625863119245, null, 0.6435799740880603, 0.583993110207876, null, 0.6435799740880603, 0.640952694324525, null, 0.34509802713919313, 0.17972981733780147, null, 0.34509802713919313, 0.3345284735051981, null, 0.34509802713919313, 0.17440205342790494, null, 0.021423673670808885, 0.1332965908314021, null, 0.640952694324525, 0.583993110207876, null, 0.17440205342790494, 0.17972981733780147, null, 0.740625863119245, 0.6315322816286787, null], \"y\": [0.49474860768712914, 0.68128520136847, null, 0.49474860768712914, 0.42704536740474663, null, 0.49474860768712914, 0.3232711412508066, null, 0.49474860768712914, 0.5488515965193208, null, 0.49474860768712914, 0.362322730884702, null, 0.14953665513987202, 0.09186645974288632, null, 0.14953665513987202, 0.3232711412508066, null, 0.14953665513987202, 0.12631654071213483, null, 0.14953665513987202, 0.2083567880838434, null, 0.14953665513987202, 0.21665962402659544, null, 0.14953665513987202, 0.026771817842421997, null, 0.14953665513987202, 0.13985272363426526, null, 0.14953665513987202, 0.362322730884702, null, 0.14953665513987202, 0.1735506267461867, null, 0.14953665513987202, 0.01876171413125327, null, 0.7696330846542071, 0.7311657634689946, null, 0.7696330846542071, 0.68128520136847, null, 0.7696330846542071, 0.9532681441921305, null, 0.7696330846542071, 0.891868301175821, null, 0.7696330846542071, 0.9011339078096633, null, 0.7696330846542071, 0.8016111783687677, null, 0.7696330846542071, 0.8089961609345658, null, 0.14485659826020547, 0.09186645974288632, null, 0.14485659826020547, 0.026771817842421997, null, 0.14485659826020547, 0.1735506267461867, null, 0.14485659826020547, 0.10321622277398101, null, 0.14485659826020547, 0.01876171413125327, null, 0.8089961609345658, 0.7311657634689946, null, 0.8089961609345658, 0.68128520136847, null, 0.8089961609345658, 0.9532681441921305, null, 0.8089961609345658, 0.891868301175821, null, 0.8089961609345658, 0.9011339078096633, null, 0.8089961609345658, 0.8016111783687677, null, 0.7222846879290787, 0.9528527425842739, null, 0.7222846879290787, 0.690016328140396, null, 0.7222846879290787, 0.5886703168399895, null, 0.01876171413125327, 0.09186645974288632, null, 0.01876171413125327, 0.026771817842421997, null, 0.01876171413125327, 0.1735506267461867, null, 0.01876171413125327, 0.10321622277398101, null, 0.8016111783687677, 0.7311657634689946, null, 0.8016111783687677, 0.68128520136847, null, 0.8016111783687677, 0.7353428557575755, null, 0.8016111783687677, 0.9532681441921305, null, 0.8016111783687677, 0.891868301175821, null, 0.8016111783687677, 0.9011339078096633, null, 0.43196344222361227, 0.3996510641743197, null, 0.43196344222361227, 0.4666482714834408, null, 0.43196344222361227, 0.5886703168399895, null, 0.9011339078096633, 0.68128520136847, null, 0.9011339078096633, 0.9532681441921305, null, 0.9011339078096633, 0.891868301175821, null, 0.24026772497187532, 0.3232711412508066, null, 0.24026772497187532, 0.12631654071213483, null, 0.24026772497187532, 0.2083567880838434, null, 0.24026772497187532, 0.21665962402659544, null, 0.24026772497187532, 0.13022993020357043, null, 0.24026772497187532, 0.13985272363426526, null, 0.24026772497187532, 0.362322730884702, null, 0.24026772497187532, 0.1839028760606296, null, 0.10321622277398101, 0.09186645974288632, null, 0.10321622277398101, 0.026771817842421997, null, 0.10321622277398101, 0.1735506267461867, null, 0.5006237737207431, 0.6569436279895382, null, 0.5006237737207431, 0.42704536740474663, null, 0.5006237737207431, 0.3232711412508066, null, 0.5006237737207431, 0.5488515965193208, null, 0.5006237737207431, 0.7353428557575755, null, 0.5006237737207431, 0.362322730884702, null, 0.1839028760606296, 0.12631654071213483, null, 0.1839028760606296, 0.13022993020357043, null, 0.1839028760606296, 0.13985272363426526, null, 0.5886703168399895, 0.3996510641743197, null, 0.5886703168399895, 0.4666482714834408, null, 0.5886703168399895, 0.690016328140396, null, 0.1735506267461867, 0.09186645974288632, null, 0.1735506267461867, 0.3232711412508066, null, 0.1735506267461867, 0.2083567880838434, null, 0.1735506267461867, 0.21665962402659544, null, 0.1735506267461867, 0.026771817842421997, null, 0.1735506267461867, 0.362322730884702, null, 0.690016328140396, 0.6569436279895382, null, 0.690016328140396, 0.4666482714834408, null, 0.362322730884702, 0.42704536740474663, null, 0.362322730884702, 0.3232711412508066, null, 0.362322730884702, 0.5488515965193208, null, 0.362322730884702, 0.2083567880838434, null, 0.362322730884702, 0.21665962402659544, null, 0.362322730884702, 0.13985272363426526, null, 0.13985272363426526, 0.3232711412508066, null, 0.13985272363426526, 0.12631654071213483, null, 0.13985272363426526, 0.2083567880838434, null, 0.13985272363426526, 0.21665962402659544, null, 0.13985272363426526, 0.13022993020357043, null, 0.891868301175821, 0.9532681441921305, null, 0.026771817842421997, 0.09186645974288632, null, 0.026771817842421997, 0.2083567880838434, null, 0.7353428557575755, 0.7311657634689946, null, 0.7353428557575755, 0.6569436279895382, null, 0.7353428557575755, 0.8800306496459869, null, 0.9768234503830939, 0.999395685828547, null, 0.9768234503830939, 0.9528527425842739, null, 0.9768234503830939, 0.8800306496459869, null, 0.13022993020357043, 0.12631654071213483, null, 0.21665962402659544, 0.42704536740474663, null, 0.21665962402659544, 0.3232711412508066, null, 0.21665962402659544, 0.12631654071213483, null, 0.21665962402659544, 0.2083567880838434, null, 0.2083567880838434, 0.42704536740474663, null, 0.2083567880838434, 0.3232711412508066, null, 0.2083567880838434, 0.12631654071213483, null, 0.12631654071213483, 0.3232711412508066, null, 0.5488515965193208, 0.7311657634689946, null, 0.5488515965193208, 0.68128520136847, null, 0.5488515965193208, 0.42704536740474663, null, 0.5488515965193208, 0.3232711412508066, null, 0.8800306496459869, 0.999395685828547, null, 0.8800306496459869, 0.6569436279895382, null, 0.8800306496459869, 0.9528527425842739, null, 0.4666482714834408, 0.3996510641743197, null, 0.3232711412508066, 0.42704536740474663, null, 0.9528527425842739, 0.999395685828547, null, 0.68128520136847, 0.7311657634689946, null]}, {\"hoverinfo\": \"text\", \"marker\": {\"color\": [0, 0, 0, 0, 0, 0, 0, 0, 3, 0, 0, 1, 2, 0, 2, 2, 2, 2, 0, 0, 0, 0, 0, 0, 0, 0, 0, 0, 0, 0, 0, 0, 0, 0, 0, 0, 0, 2, 0, 0], \"colorbar\": {\"thickness\": 15, \"title\": {\"side\": \"right\", \"text\": \"Node Connections\"}, \"xanchor\": \"left\"}, \"colorscale\": [[0.0, \"rgb(0,0,0)\"], [0.3333333333333333, \"rgb(230,0,0)\"], [0.6666666666666666, \"rgb(255,210,0)\"], [1.0, \"rgb(255,255,255)\"]], \"line\": {\"width\": 2}, \"reversescale\": true, \"showscale\": false, \"size\": 10}, \"mode\": \"markers\", \"text\": [\"Intersection 0\", \"Intersection 1\", \"Intersection 2\", \"Intersection 3\", \"Intersection 4\", \"Intersection 5\", \"Intersection 6\", \"Intersection 7\", \"Intersection 8\", \"Intersection 9\", \"Intersection 10\", \"Intersection 11\", \"Intersection 12\", \"Intersection 13\", \"Intersection 14\", \"Intersection 15\", \"Intersection 16\", \"Intersection 17\", \"Intersection 18\", \"Intersection 19\", \"Intersection 20\", \"Intersection 21\", \"Intersection 22\", \"Intersection 23\", \"Intersection 24\", \"Intersection 25\", \"Intersection 26\", \"Intersection 27\", \"Intersection 28\", \"Intersection 29\", \"Intersection 30\", \"Intersection 31\", \"Intersection 32\", \"Intersection 33\", \"Intersection 34\", \"Intersection 35\", \"Intersection 36\", \"Intersection 37\", \"Intersection 38\", \"Intersection 39\"], \"type\": \"scatter\", \"x\": [0.7801603911549438, 0.5249831588690298, 0.8085335344099086, 0.2599134798656856, 0.7353838928272886, 0.09088671576431506, 0.313999018186756, 0.6824813442515916, 0.20128789391122526, 0.8551947714242674, 0.7581736589784409, 0.25311953895059136, 0.4813859169876731, 0.9112422509614865, 0.04580558670435442, 0.4582523173083307, 0.12939557977525573, 0.607698913404794, 0.719569201584275, 0.8860336256842246, 0.4238357358399233, 0.8252497121120052, 0.47415009287034726, 0.26253385360950576, 0.9363713903322148, 0.6243437191127235, 0.5572917679006295, 0.7482655725962591, 0.6435799740880603, 0.34509802713919313, 0.021423673670808885, 0.640952694324525, 0.17440205342790494, 0.1332965908314021, 0.583993110207876, 0.3073865727705063, 0.740625863119245, 0.3345284735051981, 0.17972981733780147, 0.6315322816286787], \"y\": [0.49474860768712914, 0.14953665513987202, 0.7696330846542071, 0.14485659826020547, 0.8089961609345658, 0.7222846879290787, 0.01876171413125327, 0.8016111783687677, 0.43196344222361227, 0.9011339078096633, 0.24026772497187532, 0.10321622277398101, 0.5006237737207431, 0.1839028760606296, 0.5886703168399895, 0.1735506267461867, 0.690016328140396, 0.362322730884702, 0.13985272363426526, 0.891868301175821, 0.026771817842421997, 0.9532681441921305, 0.7353428557575755, 0.9768234503830939, 0.13022993020357043, 0.21665962402659544, 0.2083567880838434, 0.12631654071213483, 0.5488515965193208, 0.8800306496459869, 0.4666482714834408, 0.3232711412508066, 0.9528527425842739, 0.3996510641743197, 0.42704536740474663, 0.09186645974288632, 0.68128520136847, 0.6569436279895382, 0.999395685828547, 0.7311657634689946]}],                        {\"hovermode\": \"closest\", \"margin\": {\"b\": 20, \"l\": 5, \"r\": 5, \"t\": 40}, \"showlegend\": false, \"template\": {\"data\": {\"bar\": [{\"error_x\": {\"color\": \"#2a3f5f\"}, \"error_y\": {\"color\": \"#2a3f5f\"}, \"marker\": {\"line\": {\"color\": \"#E5ECF6\", \"width\": 0.5}}, \"type\": \"bar\"}], \"barpolar\": [{\"marker\": {\"line\": {\"color\": \"#E5ECF6\", \"width\": 0.5}}, \"type\": \"barpolar\"}], \"carpet\": [{\"aaxis\": {\"endlinecolor\": \"#2a3f5f\", \"gridcolor\": \"white\", \"linecolor\": \"white\", \"minorgridcolor\": \"white\", \"startlinecolor\": \"#2a3f5f\"}, \"baxis\": {\"endlinecolor\": \"#2a3f5f\", \"gridcolor\": \"white\", \"linecolor\": \"white\", \"minorgridcolor\": \"white\", \"startlinecolor\": \"#2a3f5f\"}, \"type\": \"carpet\"}], \"choropleth\": [{\"colorbar\": {\"outlinewidth\": 0, \"ticks\": \"\"}, \"type\": \"choropleth\"}], \"contour\": [{\"colorbar\": {\"outlinewidth\": 0, \"ticks\": \"\"}, \"colorscale\": [[0.0, \"#0d0887\"], [0.1111111111111111, \"#46039f\"], [0.2222222222222222, \"#7201a8\"], [0.3333333333333333, \"#9c179e\"], [0.4444444444444444, \"#bd3786\"], [0.5555555555555556, \"#d8576b\"], [0.6666666666666666, \"#ed7953\"], [0.7777777777777778, \"#fb9f3a\"], [0.8888888888888888, \"#fdca26\"], [1.0, \"#f0f921\"]], \"type\": \"contour\"}], \"contourcarpet\": [{\"colorbar\": {\"outlinewidth\": 0, \"ticks\": \"\"}, \"type\": \"contourcarpet\"}], \"heatmap\": [{\"colorbar\": {\"outlinewidth\": 0, \"ticks\": \"\"}, \"colorscale\": [[0.0, \"#0d0887\"], [0.1111111111111111, \"#46039f\"], [0.2222222222222222, \"#7201a8\"], [0.3333333333333333, \"#9c179e\"], [0.4444444444444444, \"#bd3786\"], [0.5555555555555556, \"#d8576b\"], [0.6666666666666666, \"#ed7953\"], [0.7777777777777778, \"#fb9f3a\"], [0.8888888888888888, \"#fdca26\"], [1.0, \"#f0f921\"]], \"type\": \"heatmap\"}], \"heatmapgl\": [{\"colorbar\": {\"outlinewidth\": 0, \"ticks\": \"\"}, \"colorscale\": [[0.0, \"#0d0887\"], [0.1111111111111111, \"#46039f\"], [0.2222222222222222, \"#7201a8\"], [0.3333333333333333, \"#9c179e\"], [0.4444444444444444, \"#bd3786\"], [0.5555555555555556, \"#d8576b\"], [0.6666666666666666, \"#ed7953\"], [0.7777777777777778, \"#fb9f3a\"], [0.8888888888888888, \"#fdca26\"], [1.0, \"#f0f921\"]], \"type\": \"heatmapgl\"}], \"histogram\": [{\"marker\": {\"colorbar\": {\"outlinewidth\": 0, \"ticks\": \"\"}}, \"type\": \"histogram\"}], \"histogram2d\": [{\"colorbar\": {\"outlinewidth\": 0, \"ticks\": \"\"}, \"colorscale\": [[0.0, \"#0d0887\"], [0.1111111111111111, \"#46039f\"], [0.2222222222222222, \"#7201a8\"], [0.3333333333333333, \"#9c179e\"], [0.4444444444444444, \"#bd3786\"], [0.5555555555555556, \"#d8576b\"], [0.6666666666666666, \"#ed7953\"], [0.7777777777777778, \"#fb9f3a\"], [0.8888888888888888, \"#fdca26\"], [1.0, \"#f0f921\"]], \"type\": \"histogram2d\"}], \"histogram2dcontour\": [{\"colorbar\": {\"outlinewidth\": 0, \"ticks\": \"\"}, \"colorscale\": [[0.0, \"#0d0887\"], [0.1111111111111111, \"#46039f\"], [0.2222222222222222, \"#7201a8\"], [0.3333333333333333, \"#9c179e\"], [0.4444444444444444, \"#bd3786\"], [0.5555555555555556, \"#d8576b\"], [0.6666666666666666, \"#ed7953\"], [0.7777777777777778, \"#fb9f3a\"], [0.8888888888888888, \"#fdca26\"], [1.0, \"#f0f921\"]], \"type\": \"histogram2dcontour\"}], \"mesh3d\": [{\"colorbar\": {\"outlinewidth\": 0, \"ticks\": \"\"}, \"type\": \"mesh3d\"}], \"parcoords\": [{\"line\": {\"colorbar\": {\"outlinewidth\": 0, \"ticks\": \"\"}}, \"type\": \"parcoords\"}], \"pie\": [{\"automargin\": true, \"type\": \"pie\"}], \"scatter\": [{\"marker\": {\"colorbar\": {\"outlinewidth\": 0, \"ticks\": \"\"}}, \"type\": \"scatter\"}], \"scatter3d\": [{\"line\": {\"colorbar\": {\"outlinewidth\": 0, \"ticks\": \"\"}}, \"marker\": {\"colorbar\": {\"outlinewidth\": 0, \"ticks\": \"\"}}, \"type\": \"scatter3d\"}], \"scattercarpet\": [{\"marker\": {\"colorbar\": {\"outlinewidth\": 0, \"ticks\": \"\"}}, \"type\": \"scattercarpet\"}], \"scattergeo\": [{\"marker\": {\"colorbar\": {\"outlinewidth\": 0, \"ticks\": \"\"}}, \"type\": \"scattergeo\"}], \"scattergl\": [{\"marker\": {\"colorbar\": {\"outlinewidth\": 0, \"ticks\": \"\"}}, \"type\": \"scattergl\"}], \"scattermapbox\": [{\"marker\": {\"colorbar\": {\"outlinewidth\": 0, \"ticks\": \"\"}}, \"type\": \"scattermapbox\"}], \"scatterpolar\": [{\"marker\": {\"colorbar\": {\"outlinewidth\": 0, \"ticks\": \"\"}}, \"type\": \"scatterpolar\"}], \"scatterpolargl\": [{\"marker\": {\"colorbar\": {\"outlinewidth\": 0, \"ticks\": \"\"}}, \"type\": \"scatterpolargl\"}], \"scatterternary\": [{\"marker\": {\"colorbar\": {\"outlinewidth\": 0, \"ticks\": \"\"}}, \"type\": \"scatterternary\"}], \"surface\": [{\"colorbar\": {\"outlinewidth\": 0, \"ticks\": \"\"}, \"colorscale\": [[0.0, \"#0d0887\"], [0.1111111111111111, \"#46039f\"], [0.2222222222222222, \"#7201a8\"], [0.3333333333333333, \"#9c179e\"], [0.4444444444444444, \"#bd3786\"], [0.5555555555555556, \"#d8576b\"], [0.6666666666666666, \"#ed7953\"], [0.7777777777777778, \"#fb9f3a\"], [0.8888888888888888, \"#fdca26\"], [1.0, \"#f0f921\"]], \"type\": \"surface\"}], \"table\": [{\"cells\": {\"fill\": {\"color\": \"#EBF0F8\"}, \"line\": {\"color\": \"white\"}}, \"header\": {\"fill\": {\"color\": \"#C8D4E3\"}, \"line\": {\"color\": \"white\"}}, \"type\": \"table\"}]}, \"layout\": {\"annotationdefaults\": {\"arrowcolor\": \"#2a3f5f\", \"arrowhead\": 0, \"arrowwidth\": 1}, \"coloraxis\": {\"colorbar\": {\"outlinewidth\": 0, \"ticks\": \"\"}}, \"colorscale\": {\"diverging\": [[0, \"#8e0152\"], [0.1, \"#c51b7d\"], [0.2, \"#de77ae\"], [0.3, \"#f1b6da\"], [0.4, \"#fde0ef\"], [0.5, \"#f7f7f7\"], [0.6, \"#e6f5d0\"], [0.7, \"#b8e186\"], [0.8, \"#7fbc41\"], [0.9, \"#4d9221\"], [1, \"#276419\"]], \"sequential\": [[0.0, \"#0d0887\"], [0.1111111111111111, \"#46039f\"], [0.2222222222222222, \"#7201a8\"], [0.3333333333333333, \"#9c179e\"], [0.4444444444444444, \"#bd3786\"], [0.5555555555555556, \"#d8576b\"], [0.6666666666666666, \"#ed7953\"], [0.7777777777777778, \"#fb9f3a\"], [0.8888888888888888, \"#fdca26\"], [1.0, \"#f0f921\"]], \"sequentialminus\": [[0.0, \"#0d0887\"], [0.1111111111111111, \"#46039f\"], [0.2222222222222222, \"#7201a8\"], [0.3333333333333333, \"#9c179e\"], [0.4444444444444444, \"#bd3786\"], [0.5555555555555556, \"#d8576b\"], [0.6666666666666666, \"#ed7953\"], [0.7777777777777778, \"#fb9f3a\"], [0.8888888888888888, \"#fdca26\"], [1.0, \"#f0f921\"]]}, \"colorway\": [\"#636efa\", \"#EF553B\", \"#00cc96\", \"#ab63fa\", \"#FFA15A\", \"#19d3f3\", \"#FF6692\", \"#B6E880\", \"#FF97FF\", \"#FECB52\"], \"font\": {\"color\": \"#2a3f5f\"}, \"geo\": {\"bgcolor\": \"white\", \"lakecolor\": \"white\", \"landcolor\": \"#E5ECF6\", \"showlakes\": true, \"showland\": true, \"subunitcolor\": \"white\"}, \"hoverlabel\": {\"align\": \"left\"}, \"hovermode\": \"closest\", \"mapbox\": {\"style\": \"light\"}, \"paper_bgcolor\": \"white\", \"plot_bgcolor\": \"#E5ECF6\", \"polar\": {\"angularaxis\": {\"gridcolor\": \"white\", \"linecolor\": \"white\", \"ticks\": \"\"}, \"bgcolor\": \"#E5ECF6\", \"radialaxis\": {\"gridcolor\": \"white\", \"linecolor\": \"white\", \"ticks\": \"\"}}, \"scene\": {\"xaxis\": {\"backgroundcolor\": \"#E5ECF6\", \"gridcolor\": \"white\", \"gridwidth\": 2, \"linecolor\": \"white\", \"showbackground\": true, \"ticks\": \"\", \"zerolinecolor\": \"white\"}, \"yaxis\": {\"backgroundcolor\": \"#E5ECF6\", \"gridcolor\": \"white\", \"gridwidth\": 2, \"linecolor\": \"white\", \"showbackground\": true, \"ticks\": \"\", \"zerolinecolor\": \"white\"}, \"zaxis\": {\"backgroundcolor\": \"#E5ECF6\", \"gridcolor\": \"white\", \"gridwidth\": 2, \"linecolor\": \"white\", \"showbackground\": true, \"ticks\": \"\", \"zerolinecolor\": \"white\"}}, \"shapedefaults\": {\"line\": {\"color\": \"#2a3f5f\"}}, \"ternary\": {\"aaxis\": {\"gridcolor\": \"white\", \"linecolor\": \"white\", \"ticks\": \"\"}, \"baxis\": {\"gridcolor\": \"white\", \"linecolor\": \"white\", \"ticks\": \"\"}, \"bgcolor\": \"#E5ECF6\", \"caxis\": {\"gridcolor\": \"white\", \"linecolor\": \"white\", \"ticks\": \"\"}}, \"title\": {\"x\": 0.05}, \"xaxis\": {\"automargin\": true, \"gridcolor\": \"white\", \"linecolor\": \"white\", \"ticks\": \"\", \"title\": {\"standoff\": 15}, \"zerolinecolor\": \"white\", \"zerolinewidth\": 2}, \"yaxis\": {\"automargin\": true, \"gridcolor\": \"white\", \"linecolor\": \"white\", \"ticks\": \"\", \"title\": {\"standoff\": 15}, \"zerolinecolor\": \"white\", \"zerolinewidth\": 2}}}, \"title\": {\"font\": {\"size\": 16}, \"text\": \"<br>Network graph made with Python\"}, \"xaxis\": {\"showgrid\": false, \"showticklabels\": false, \"zeroline\": false}, \"yaxis\": {\"showgrid\": false, \"showticklabels\": false, \"zeroline\": false}},                        {\"responsive\": true}                    ).then(function(){\n",
       "                            \n",
       "var gd = document.getElementById('5e63eb4b-445b-4767-b798-37b24753d13b');\n",
       "var x = new MutationObserver(function (mutations, observer) {{\n",
       "        var display = window.getComputedStyle(gd).display;\n",
       "        if (!display || display === 'none') {{\n",
       "            console.log([gd, 'removed!']);\n",
       "            Plotly.purge(gd);\n",
       "            observer.disconnect();\n",
       "        }}\n",
       "}});\n",
       "\n",
       "// Listen for the removal of the full notebook cells\n",
       "var notebookContainer = gd.closest('#notebook-container');\n",
       "if (notebookContainer) {{\n",
       "    x.observe(notebookContainer, {childList: true});\n",
       "}}\n",
       "\n",
       "// Listen for the clearing of the current output cell\n",
       "var outputEl = gd.closest('.output');\n",
       "if (outputEl) {{\n",
       "    x.observe(outputEl, {childList: true});\n",
       "}}\n",
       "\n",
       "                        })                };                });            </script>        </div>"
      ]
     },
     "metadata": {},
     "output_type": "display_data"
    },
    {
     "name": "stdout",
     "output_type": "stream",
     "text": [
      "minimum cost to reach from 8 to 11 = 1.4193\n",
      "Path: [8, 14, 16, 37, 12, 17, 15, 11]\n"
     ]
    }
   ],
   "source": [
    "start = 8\n",
    "goal = 11\n",
    "planner = PathPlanner(map_40, start, goal)\n",
    "show_map(map_40,start, goal, planner.path)\n",
    "print(f\"minimum cost to reach from {start} to {goal} = {planner.cost :0.4f}\")\n",
    "print(f\"Path: {planner.path}\")"
   ]
  },
  {
   "cell_type": "code",
   "execution_count": 17,
   "metadata": {},
   "outputs": [
    {
     "data": {
      "application/vnd.plotly.v1+json": {
       "config": {
        "linkText": "Export to plot.ly",
        "plotlyServerURL": "https://plot.ly",
        "showLink": false
       },
       "data": [
        {
         "hoverinfo": "none",
         "line": {
          "color": "#888",
          "width": 0.5
         },
         "mode": "lines",
         "type": "scatter",
         "x": [
          0.7801603911549438,
          0.740625863119245,
          null,
          0.7801603911549438,
          0.583993110207876,
          null,
          0.7801603911549438,
          0.640952694324525,
          null,
          0.7801603911549438,
          0.6435799740880603,
          null,
          0.7801603911549438,
          0.607698913404794,
          null,
          0.5249831588690298,
          0.3073865727705063,
          null,
          0.5249831588690298,
          0.640952694324525,
          null,
          0.5249831588690298,
          0.7482655725962591,
          null,
          0.5249831588690298,
          0.5572917679006295,
          null,
          0.5249831588690298,
          0.6243437191127235,
          null,
          0.5249831588690298,
          0.4238357358399233,
          null,
          0.5249831588690298,
          0.719569201584275,
          null,
          0.5249831588690298,
          0.607698913404794,
          null,
          0.5249831588690298,
          0.4582523173083307,
          null,
          0.5249831588690298,
          0.313999018186756,
          null,
          0.8085335344099086,
          0.6315322816286787,
          null,
          0.8085335344099086,
          0.740625863119245,
          null,
          0.8085335344099086,
          0.8252497121120052,
          null,
          0.8085335344099086,
          0.8860336256842246,
          null,
          0.8085335344099086,
          0.8551947714242674,
          null,
          0.8085335344099086,
          0.6824813442515916,
          null,
          0.8085335344099086,
          0.7353838928272886,
          null,
          0.2599134798656856,
          0.3073865727705063,
          null,
          0.2599134798656856,
          0.4238357358399233,
          null,
          0.2599134798656856,
          0.4582523173083307,
          null,
          0.2599134798656856,
          0.25311953895059136,
          null,
          0.2599134798656856,
          0.313999018186756,
          null,
          0.7353838928272886,
          0.6315322816286787,
          null,
          0.7353838928272886,
          0.740625863119245,
          null,
          0.7353838928272886,
          0.8252497121120052,
          null,
          0.7353838928272886,
          0.8860336256842246,
          null,
          0.7353838928272886,
          0.8551947714242674,
          null,
          0.7353838928272886,
          0.6824813442515916,
          null,
          0.09088671576431506,
          0.17440205342790494,
          null,
          0.09088671576431506,
          0.12939557977525573,
          null,
          0.09088671576431506,
          0.04580558670435442,
          null,
          0.313999018186756,
          0.3073865727705063,
          null,
          0.313999018186756,
          0.4238357358399233,
          null,
          0.313999018186756,
          0.4582523173083307,
          null,
          0.313999018186756,
          0.25311953895059136,
          null,
          0.6824813442515916,
          0.6315322816286787,
          null,
          0.6824813442515916,
          0.740625863119245,
          null,
          0.6824813442515916,
          0.47415009287034726,
          null,
          0.6824813442515916,
          0.8252497121120052,
          null,
          0.6824813442515916,
          0.8860336256842246,
          null,
          0.6824813442515916,
          0.8551947714242674,
          null,
          0.20128789391122526,
          0.1332965908314021,
          null,
          0.20128789391122526,
          0.021423673670808885,
          null,
          0.20128789391122526,
          0.04580558670435442,
          null,
          0.8551947714242674,
          0.740625863119245,
          null,
          0.8551947714242674,
          0.8252497121120052,
          null,
          0.8551947714242674,
          0.8860336256842246,
          null,
          0.7581736589784409,
          0.640952694324525,
          null,
          0.7581736589784409,
          0.7482655725962591,
          null,
          0.7581736589784409,
          0.5572917679006295,
          null,
          0.7581736589784409,
          0.6243437191127235,
          null,
          0.7581736589784409,
          0.9363713903322148,
          null,
          0.7581736589784409,
          0.719569201584275,
          null,
          0.7581736589784409,
          0.607698913404794,
          null,
          0.7581736589784409,
          0.9112422509614865,
          null,
          0.25311953895059136,
          0.3073865727705063,
          null,
          0.25311953895059136,
          0.4238357358399233,
          null,
          0.25311953895059136,
          0.4582523173083307,
          null,
          0.4813859169876731,
          0.3345284735051981,
          null,
          0.4813859169876731,
          0.583993110207876,
          null,
          0.4813859169876731,
          0.640952694324525,
          null,
          0.4813859169876731,
          0.6435799740880603,
          null,
          0.4813859169876731,
          0.47415009287034726,
          null,
          0.4813859169876731,
          0.607698913404794,
          null,
          0.9112422509614865,
          0.7482655725962591,
          null,
          0.9112422509614865,
          0.9363713903322148,
          null,
          0.9112422509614865,
          0.719569201584275,
          null,
          0.04580558670435442,
          0.1332965908314021,
          null,
          0.04580558670435442,
          0.021423673670808885,
          null,
          0.04580558670435442,
          0.12939557977525573,
          null,
          0.4582523173083307,
          0.3073865727705063,
          null,
          0.4582523173083307,
          0.640952694324525,
          null,
          0.4582523173083307,
          0.5572917679006295,
          null,
          0.4582523173083307,
          0.6243437191127235,
          null,
          0.4582523173083307,
          0.4238357358399233,
          null,
          0.4582523173083307,
          0.607698913404794,
          null,
          0.12939557977525573,
          0.3345284735051981,
          null,
          0.12939557977525573,
          0.021423673670808885,
          null,
          0.607698913404794,
          0.583993110207876,
          null,
          0.607698913404794,
          0.640952694324525,
          null,
          0.607698913404794,
          0.6435799740880603,
          null,
          0.607698913404794,
          0.5572917679006295,
          null,
          0.607698913404794,
          0.6243437191127235,
          null,
          0.607698913404794,
          0.719569201584275,
          null,
          0.719569201584275,
          0.640952694324525,
          null,
          0.719569201584275,
          0.7482655725962591,
          null,
          0.719569201584275,
          0.5572917679006295,
          null,
          0.719569201584275,
          0.6243437191127235,
          null,
          0.719569201584275,
          0.9363713903322148,
          null,
          0.8860336256842246,
          0.8252497121120052,
          null,
          0.4238357358399233,
          0.3073865727705063,
          null,
          0.4238357358399233,
          0.5572917679006295,
          null,
          0.47415009287034726,
          0.6315322816286787,
          null,
          0.47415009287034726,
          0.3345284735051981,
          null,
          0.47415009287034726,
          0.34509802713919313,
          null,
          0.26253385360950576,
          0.17972981733780147,
          null,
          0.26253385360950576,
          0.17440205342790494,
          null,
          0.26253385360950576,
          0.34509802713919313,
          null,
          0.9363713903322148,
          0.7482655725962591,
          null,
          0.6243437191127235,
          0.583993110207876,
          null,
          0.6243437191127235,
          0.640952694324525,
          null,
          0.6243437191127235,
          0.7482655725962591,
          null,
          0.6243437191127235,
          0.5572917679006295,
          null,
          0.5572917679006295,
          0.583993110207876,
          null,
          0.5572917679006295,
          0.640952694324525,
          null,
          0.5572917679006295,
          0.7482655725962591,
          null,
          0.7482655725962591,
          0.640952694324525,
          null,
          0.6435799740880603,
          0.6315322816286787,
          null,
          0.6435799740880603,
          0.740625863119245,
          null,
          0.6435799740880603,
          0.583993110207876,
          null,
          0.6435799740880603,
          0.640952694324525,
          null,
          0.34509802713919313,
          0.17972981733780147,
          null,
          0.34509802713919313,
          0.3345284735051981,
          null,
          0.34509802713919313,
          0.17440205342790494,
          null,
          0.021423673670808885,
          0.1332965908314021,
          null,
          0.640952694324525,
          0.583993110207876,
          null,
          0.17440205342790494,
          0.17972981733780147,
          null,
          0.740625863119245,
          0.6315322816286787,
          null
         ],
         "y": [
          0.49474860768712914,
          0.68128520136847,
          null,
          0.49474860768712914,
          0.42704536740474663,
          null,
          0.49474860768712914,
          0.3232711412508066,
          null,
          0.49474860768712914,
          0.5488515965193208,
          null,
          0.49474860768712914,
          0.362322730884702,
          null,
          0.14953665513987202,
          0.09186645974288632,
          null,
          0.14953665513987202,
          0.3232711412508066,
          null,
          0.14953665513987202,
          0.12631654071213483,
          null,
          0.14953665513987202,
          0.2083567880838434,
          null,
          0.14953665513987202,
          0.21665962402659544,
          null,
          0.14953665513987202,
          0.026771817842421997,
          null,
          0.14953665513987202,
          0.13985272363426526,
          null,
          0.14953665513987202,
          0.362322730884702,
          null,
          0.14953665513987202,
          0.1735506267461867,
          null,
          0.14953665513987202,
          0.01876171413125327,
          null,
          0.7696330846542071,
          0.7311657634689946,
          null,
          0.7696330846542071,
          0.68128520136847,
          null,
          0.7696330846542071,
          0.9532681441921305,
          null,
          0.7696330846542071,
          0.891868301175821,
          null,
          0.7696330846542071,
          0.9011339078096633,
          null,
          0.7696330846542071,
          0.8016111783687677,
          null,
          0.7696330846542071,
          0.8089961609345658,
          null,
          0.14485659826020547,
          0.09186645974288632,
          null,
          0.14485659826020547,
          0.026771817842421997,
          null,
          0.14485659826020547,
          0.1735506267461867,
          null,
          0.14485659826020547,
          0.10321622277398101,
          null,
          0.14485659826020547,
          0.01876171413125327,
          null,
          0.8089961609345658,
          0.7311657634689946,
          null,
          0.8089961609345658,
          0.68128520136847,
          null,
          0.8089961609345658,
          0.9532681441921305,
          null,
          0.8089961609345658,
          0.891868301175821,
          null,
          0.8089961609345658,
          0.9011339078096633,
          null,
          0.8089961609345658,
          0.8016111783687677,
          null,
          0.7222846879290787,
          0.9528527425842739,
          null,
          0.7222846879290787,
          0.690016328140396,
          null,
          0.7222846879290787,
          0.5886703168399895,
          null,
          0.01876171413125327,
          0.09186645974288632,
          null,
          0.01876171413125327,
          0.026771817842421997,
          null,
          0.01876171413125327,
          0.1735506267461867,
          null,
          0.01876171413125327,
          0.10321622277398101,
          null,
          0.8016111783687677,
          0.7311657634689946,
          null,
          0.8016111783687677,
          0.68128520136847,
          null,
          0.8016111783687677,
          0.7353428557575755,
          null,
          0.8016111783687677,
          0.9532681441921305,
          null,
          0.8016111783687677,
          0.891868301175821,
          null,
          0.8016111783687677,
          0.9011339078096633,
          null,
          0.43196344222361227,
          0.3996510641743197,
          null,
          0.43196344222361227,
          0.4666482714834408,
          null,
          0.43196344222361227,
          0.5886703168399895,
          null,
          0.9011339078096633,
          0.68128520136847,
          null,
          0.9011339078096633,
          0.9532681441921305,
          null,
          0.9011339078096633,
          0.891868301175821,
          null,
          0.24026772497187532,
          0.3232711412508066,
          null,
          0.24026772497187532,
          0.12631654071213483,
          null,
          0.24026772497187532,
          0.2083567880838434,
          null,
          0.24026772497187532,
          0.21665962402659544,
          null,
          0.24026772497187532,
          0.13022993020357043,
          null,
          0.24026772497187532,
          0.13985272363426526,
          null,
          0.24026772497187532,
          0.362322730884702,
          null,
          0.24026772497187532,
          0.1839028760606296,
          null,
          0.10321622277398101,
          0.09186645974288632,
          null,
          0.10321622277398101,
          0.026771817842421997,
          null,
          0.10321622277398101,
          0.1735506267461867,
          null,
          0.5006237737207431,
          0.6569436279895382,
          null,
          0.5006237737207431,
          0.42704536740474663,
          null,
          0.5006237737207431,
          0.3232711412508066,
          null,
          0.5006237737207431,
          0.5488515965193208,
          null,
          0.5006237737207431,
          0.7353428557575755,
          null,
          0.5006237737207431,
          0.362322730884702,
          null,
          0.1839028760606296,
          0.12631654071213483,
          null,
          0.1839028760606296,
          0.13022993020357043,
          null,
          0.1839028760606296,
          0.13985272363426526,
          null,
          0.5886703168399895,
          0.3996510641743197,
          null,
          0.5886703168399895,
          0.4666482714834408,
          null,
          0.5886703168399895,
          0.690016328140396,
          null,
          0.1735506267461867,
          0.09186645974288632,
          null,
          0.1735506267461867,
          0.3232711412508066,
          null,
          0.1735506267461867,
          0.2083567880838434,
          null,
          0.1735506267461867,
          0.21665962402659544,
          null,
          0.1735506267461867,
          0.026771817842421997,
          null,
          0.1735506267461867,
          0.362322730884702,
          null,
          0.690016328140396,
          0.6569436279895382,
          null,
          0.690016328140396,
          0.4666482714834408,
          null,
          0.362322730884702,
          0.42704536740474663,
          null,
          0.362322730884702,
          0.3232711412508066,
          null,
          0.362322730884702,
          0.5488515965193208,
          null,
          0.362322730884702,
          0.2083567880838434,
          null,
          0.362322730884702,
          0.21665962402659544,
          null,
          0.362322730884702,
          0.13985272363426526,
          null,
          0.13985272363426526,
          0.3232711412508066,
          null,
          0.13985272363426526,
          0.12631654071213483,
          null,
          0.13985272363426526,
          0.2083567880838434,
          null,
          0.13985272363426526,
          0.21665962402659544,
          null,
          0.13985272363426526,
          0.13022993020357043,
          null,
          0.891868301175821,
          0.9532681441921305,
          null,
          0.026771817842421997,
          0.09186645974288632,
          null,
          0.026771817842421997,
          0.2083567880838434,
          null,
          0.7353428557575755,
          0.7311657634689946,
          null,
          0.7353428557575755,
          0.6569436279895382,
          null,
          0.7353428557575755,
          0.8800306496459869,
          null,
          0.9768234503830939,
          0.999395685828547,
          null,
          0.9768234503830939,
          0.9528527425842739,
          null,
          0.9768234503830939,
          0.8800306496459869,
          null,
          0.13022993020357043,
          0.12631654071213483,
          null,
          0.21665962402659544,
          0.42704536740474663,
          null,
          0.21665962402659544,
          0.3232711412508066,
          null,
          0.21665962402659544,
          0.12631654071213483,
          null,
          0.21665962402659544,
          0.2083567880838434,
          null,
          0.2083567880838434,
          0.42704536740474663,
          null,
          0.2083567880838434,
          0.3232711412508066,
          null,
          0.2083567880838434,
          0.12631654071213483,
          null,
          0.12631654071213483,
          0.3232711412508066,
          null,
          0.5488515965193208,
          0.7311657634689946,
          null,
          0.5488515965193208,
          0.68128520136847,
          null,
          0.5488515965193208,
          0.42704536740474663,
          null,
          0.5488515965193208,
          0.3232711412508066,
          null,
          0.8800306496459869,
          0.999395685828547,
          null,
          0.8800306496459869,
          0.6569436279895382,
          null,
          0.8800306496459869,
          0.9528527425842739,
          null,
          0.4666482714834408,
          0.3996510641743197,
          null,
          0.3232711412508066,
          0.42704536740474663,
          null,
          0.9528527425842739,
          0.999395685828547,
          null,
          0.68128520136847,
          0.7311657634689946,
          null
         ]
        },
        {
         "hoverinfo": "text",
         "marker": {
          "color": [
           0,
           0,
           2,
           0,
           0,
           0,
           0,
           0,
           0,
           0,
           0,
           0,
           0,
           0,
           0,
           0,
           0,
           2,
           0,
           0,
           1,
           3,
           0,
           0,
           0,
           0,
           2,
           0,
           2,
           0,
           0,
           0,
           0,
           0,
           0,
           0,
           2,
           0,
           0,
           0
          ],
          "colorbar": {
           "thickness": 15,
           "title": {
            "side": "right",
            "text": "Node Connections"
           },
           "xanchor": "left"
          },
          "colorscale": [
           [
            0,
            "rgb(0,0,0)"
           ],
           [
            0.3333333333333333,
            "rgb(230,0,0)"
           ],
           [
            0.6666666666666666,
            "rgb(255,210,0)"
           ],
           [
            1,
            "rgb(255,255,255)"
           ]
          ],
          "line": {
           "width": 2
          },
          "reversescale": true,
          "showscale": false,
          "size": 10
         },
         "mode": "markers",
         "text": [
          "Intersection 0",
          "Intersection 1",
          "Intersection 2",
          "Intersection 3",
          "Intersection 4",
          "Intersection 5",
          "Intersection 6",
          "Intersection 7",
          "Intersection 8",
          "Intersection 9",
          "Intersection 10",
          "Intersection 11",
          "Intersection 12",
          "Intersection 13",
          "Intersection 14",
          "Intersection 15",
          "Intersection 16",
          "Intersection 17",
          "Intersection 18",
          "Intersection 19",
          "Intersection 20",
          "Intersection 21",
          "Intersection 22",
          "Intersection 23",
          "Intersection 24",
          "Intersection 25",
          "Intersection 26",
          "Intersection 27",
          "Intersection 28",
          "Intersection 29",
          "Intersection 30",
          "Intersection 31",
          "Intersection 32",
          "Intersection 33",
          "Intersection 34",
          "Intersection 35",
          "Intersection 36",
          "Intersection 37",
          "Intersection 38",
          "Intersection 39"
         ],
         "type": "scatter",
         "x": [
          0.7801603911549438,
          0.5249831588690298,
          0.8085335344099086,
          0.2599134798656856,
          0.7353838928272886,
          0.09088671576431506,
          0.313999018186756,
          0.6824813442515916,
          0.20128789391122526,
          0.8551947714242674,
          0.7581736589784409,
          0.25311953895059136,
          0.4813859169876731,
          0.9112422509614865,
          0.04580558670435442,
          0.4582523173083307,
          0.12939557977525573,
          0.607698913404794,
          0.719569201584275,
          0.8860336256842246,
          0.4238357358399233,
          0.8252497121120052,
          0.47415009287034726,
          0.26253385360950576,
          0.9363713903322148,
          0.6243437191127235,
          0.5572917679006295,
          0.7482655725962591,
          0.6435799740880603,
          0.34509802713919313,
          0.021423673670808885,
          0.640952694324525,
          0.17440205342790494,
          0.1332965908314021,
          0.583993110207876,
          0.3073865727705063,
          0.740625863119245,
          0.3345284735051981,
          0.17972981733780147,
          0.6315322816286787
         ],
         "y": [
          0.49474860768712914,
          0.14953665513987202,
          0.7696330846542071,
          0.14485659826020547,
          0.8089961609345658,
          0.7222846879290787,
          0.01876171413125327,
          0.8016111783687677,
          0.43196344222361227,
          0.9011339078096633,
          0.24026772497187532,
          0.10321622277398101,
          0.5006237737207431,
          0.1839028760606296,
          0.5886703168399895,
          0.1735506267461867,
          0.690016328140396,
          0.362322730884702,
          0.13985272363426526,
          0.891868301175821,
          0.026771817842421997,
          0.9532681441921305,
          0.7353428557575755,
          0.9768234503830939,
          0.13022993020357043,
          0.21665962402659544,
          0.2083567880838434,
          0.12631654071213483,
          0.5488515965193208,
          0.8800306496459869,
          0.4666482714834408,
          0.3232711412508066,
          0.9528527425842739,
          0.3996510641743197,
          0.42704536740474663,
          0.09186645974288632,
          0.68128520136847,
          0.6569436279895382,
          0.999395685828547,
          0.7311657634689946
         ]
        }
       ],
       "layout": {
        "hovermode": "closest",
        "margin": {
         "b": 20,
         "l": 5,
         "r": 5,
         "t": 40
        },
        "showlegend": false,
        "template": {
         "data": {
          "bar": [
           {
            "error_x": {
             "color": "#2a3f5f"
            },
            "error_y": {
             "color": "#2a3f5f"
            },
            "marker": {
             "line": {
              "color": "#E5ECF6",
              "width": 0.5
             }
            },
            "type": "bar"
           }
          ],
          "barpolar": [
           {
            "marker": {
             "line": {
              "color": "#E5ECF6",
              "width": 0.5
             }
            },
            "type": "barpolar"
           }
          ],
          "carpet": [
           {
            "aaxis": {
             "endlinecolor": "#2a3f5f",
             "gridcolor": "white",
             "linecolor": "white",
             "minorgridcolor": "white",
             "startlinecolor": "#2a3f5f"
            },
            "baxis": {
             "endlinecolor": "#2a3f5f",
             "gridcolor": "white",
             "linecolor": "white",
             "minorgridcolor": "white",
             "startlinecolor": "#2a3f5f"
            },
            "type": "carpet"
           }
          ],
          "choropleth": [
           {
            "colorbar": {
             "outlinewidth": 0,
             "ticks": ""
            },
            "type": "choropleth"
           }
          ],
          "contour": [
           {
            "colorbar": {
             "outlinewidth": 0,
             "ticks": ""
            },
            "colorscale": [
             [
              0,
              "#0d0887"
             ],
             [
              0.1111111111111111,
              "#46039f"
             ],
             [
              0.2222222222222222,
              "#7201a8"
             ],
             [
              0.3333333333333333,
              "#9c179e"
             ],
             [
              0.4444444444444444,
              "#bd3786"
             ],
             [
              0.5555555555555556,
              "#d8576b"
             ],
             [
              0.6666666666666666,
              "#ed7953"
             ],
             [
              0.7777777777777778,
              "#fb9f3a"
             ],
             [
              0.8888888888888888,
              "#fdca26"
             ],
             [
              1,
              "#f0f921"
             ]
            ],
            "type": "contour"
           }
          ],
          "contourcarpet": [
           {
            "colorbar": {
             "outlinewidth": 0,
             "ticks": ""
            },
            "type": "contourcarpet"
           }
          ],
          "heatmap": [
           {
            "colorbar": {
             "outlinewidth": 0,
             "ticks": ""
            },
            "colorscale": [
             [
              0,
              "#0d0887"
             ],
             [
              0.1111111111111111,
              "#46039f"
             ],
             [
              0.2222222222222222,
              "#7201a8"
             ],
             [
              0.3333333333333333,
              "#9c179e"
             ],
             [
              0.4444444444444444,
              "#bd3786"
             ],
             [
              0.5555555555555556,
              "#d8576b"
             ],
             [
              0.6666666666666666,
              "#ed7953"
             ],
             [
              0.7777777777777778,
              "#fb9f3a"
             ],
             [
              0.8888888888888888,
              "#fdca26"
             ],
             [
              1,
              "#f0f921"
             ]
            ],
            "type": "heatmap"
           }
          ],
          "heatmapgl": [
           {
            "colorbar": {
             "outlinewidth": 0,
             "ticks": ""
            },
            "colorscale": [
             [
              0,
              "#0d0887"
             ],
             [
              0.1111111111111111,
              "#46039f"
             ],
             [
              0.2222222222222222,
              "#7201a8"
             ],
             [
              0.3333333333333333,
              "#9c179e"
             ],
             [
              0.4444444444444444,
              "#bd3786"
             ],
             [
              0.5555555555555556,
              "#d8576b"
             ],
             [
              0.6666666666666666,
              "#ed7953"
             ],
             [
              0.7777777777777778,
              "#fb9f3a"
             ],
             [
              0.8888888888888888,
              "#fdca26"
             ],
             [
              1,
              "#f0f921"
             ]
            ],
            "type": "heatmapgl"
           }
          ],
          "histogram": [
           {
            "marker": {
             "colorbar": {
              "outlinewidth": 0,
              "ticks": ""
             }
            },
            "type": "histogram"
           }
          ],
          "histogram2d": [
           {
            "colorbar": {
             "outlinewidth": 0,
             "ticks": ""
            },
            "colorscale": [
             [
              0,
              "#0d0887"
             ],
             [
              0.1111111111111111,
              "#46039f"
             ],
             [
              0.2222222222222222,
              "#7201a8"
             ],
             [
              0.3333333333333333,
              "#9c179e"
             ],
             [
              0.4444444444444444,
              "#bd3786"
             ],
             [
              0.5555555555555556,
              "#d8576b"
             ],
             [
              0.6666666666666666,
              "#ed7953"
             ],
             [
              0.7777777777777778,
              "#fb9f3a"
             ],
             [
              0.8888888888888888,
              "#fdca26"
             ],
             [
              1,
              "#f0f921"
             ]
            ],
            "type": "histogram2d"
           }
          ],
          "histogram2dcontour": [
           {
            "colorbar": {
             "outlinewidth": 0,
             "ticks": ""
            },
            "colorscale": [
             [
              0,
              "#0d0887"
             ],
             [
              0.1111111111111111,
              "#46039f"
             ],
             [
              0.2222222222222222,
              "#7201a8"
             ],
             [
              0.3333333333333333,
              "#9c179e"
             ],
             [
              0.4444444444444444,
              "#bd3786"
             ],
             [
              0.5555555555555556,
              "#d8576b"
             ],
             [
              0.6666666666666666,
              "#ed7953"
             ],
             [
              0.7777777777777778,
              "#fb9f3a"
             ],
             [
              0.8888888888888888,
              "#fdca26"
             ],
             [
              1,
              "#f0f921"
             ]
            ],
            "type": "histogram2dcontour"
           }
          ],
          "mesh3d": [
           {
            "colorbar": {
             "outlinewidth": 0,
             "ticks": ""
            },
            "type": "mesh3d"
           }
          ],
          "parcoords": [
           {
            "line": {
             "colorbar": {
              "outlinewidth": 0,
              "ticks": ""
             }
            },
            "type": "parcoords"
           }
          ],
          "pie": [
           {
            "automargin": true,
            "type": "pie"
           }
          ],
          "scatter": [
           {
            "marker": {
             "colorbar": {
              "outlinewidth": 0,
              "ticks": ""
             }
            },
            "type": "scatter"
           }
          ],
          "scatter3d": [
           {
            "line": {
             "colorbar": {
              "outlinewidth": 0,
              "ticks": ""
             }
            },
            "marker": {
             "colorbar": {
              "outlinewidth": 0,
              "ticks": ""
             }
            },
            "type": "scatter3d"
           }
          ],
          "scattercarpet": [
           {
            "marker": {
             "colorbar": {
              "outlinewidth": 0,
              "ticks": ""
             }
            },
            "type": "scattercarpet"
           }
          ],
          "scattergeo": [
           {
            "marker": {
             "colorbar": {
              "outlinewidth": 0,
              "ticks": ""
             }
            },
            "type": "scattergeo"
           }
          ],
          "scattergl": [
           {
            "marker": {
             "colorbar": {
              "outlinewidth": 0,
              "ticks": ""
             }
            },
            "type": "scattergl"
           }
          ],
          "scattermapbox": [
           {
            "marker": {
             "colorbar": {
              "outlinewidth": 0,
              "ticks": ""
             }
            },
            "type": "scattermapbox"
           }
          ],
          "scatterpolar": [
           {
            "marker": {
             "colorbar": {
              "outlinewidth": 0,
              "ticks": ""
             }
            },
            "type": "scatterpolar"
           }
          ],
          "scatterpolargl": [
           {
            "marker": {
             "colorbar": {
              "outlinewidth": 0,
              "ticks": ""
             }
            },
            "type": "scatterpolargl"
           }
          ],
          "scatterternary": [
           {
            "marker": {
             "colorbar": {
              "outlinewidth": 0,
              "ticks": ""
             }
            },
            "type": "scatterternary"
           }
          ],
          "surface": [
           {
            "colorbar": {
             "outlinewidth": 0,
             "ticks": ""
            },
            "colorscale": [
             [
              0,
              "#0d0887"
             ],
             [
              0.1111111111111111,
              "#46039f"
             ],
             [
              0.2222222222222222,
              "#7201a8"
             ],
             [
              0.3333333333333333,
              "#9c179e"
             ],
             [
              0.4444444444444444,
              "#bd3786"
             ],
             [
              0.5555555555555556,
              "#d8576b"
             ],
             [
              0.6666666666666666,
              "#ed7953"
             ],
             [
              0.7777777777777778,
              "#fb9f3a"
             ],
             [
              0.8888888888888888,
              "#fdca26"
             ],
             [
              1,
              "#f0f921"
             ]
            ],
            "type": "surface"
           }
          ],
          "table": [
           {
            "cells": {
             "fill": {
              "color": "#EBF0F8"
             },
             "line": {
              "color": "white"
             }
            },
            "header": {
             "fill": {
              "color": "#C8D4E3"
             },
             "line": {
              "color": "white"
             }
            },
            "type": "table"
           }
          ]
         },
         "layout": {
          "annotationdefaults": {
           "arrowcolor": "#2a3f5f",
           "arrowhead": 0,
           "arrowwidth": 1
          },
          "coloraxis": {
           "colorbar": {
            "outlinewidth": 0,
            "ticks": ""
           }
          },
          "colorscale": {
           "diverging": [
            [
             0,
             "#8e0152"
            ],
            [
             0.1,
             "#c51b7d"
            ],
            [
             0.2,
             "#de77ae"
            ],
            [
             0.3,
             "#f1b6da"
            ],
            [
             0.4,
             "#fde0ef"
            ],
            [
             0.5,
             "#f7f7f7"
            ],
            [
             0.6,
             "#e6f5d0"
            ],
            [
             0.7,
             "#b8e186"
            ],
            [
             0.8,
             "#7fbc41"
            ],
            [
             0.9,
             "#4d9221"
            ],
            [
             1,
             "#276419"
            ]
           ],
           "sequential": [
            [
             0,
             "#0d0887"
            ],
            [
             0.1111111111111111,
             "#46039f"
            ],
            [
             0.2222222222222222,
             "#7201a8"
            ],
            [
             0.3333333333333333,
             "#9c179e"
            ],
            [
             0.4444444444444444,
             "#bd3786"
            ],
            [
             0.5555555555555556,
             "#d8576b"
            ],
            [
             0.6666666666666666,
             "#ed7953"
            ],
            [
             0.7777777777777778,
             "#fb9f3a"
            ],
            [
             0.8888888888888888,
             "#fdca26"
            ],
            [
             1,
             "#f0f921"
            ]
           ],
           "sequentialminus": [
            [
             0,
             "#0d0887"
            ],
            [
             0.1111111111111111,
             "#46039f"
            ],
            [
             0.2222222222222222,
             "#7201a8"
            ],
            [
             0.3333333333333333,
             "#9c179e"
            ],
            [
             0.4444444444444444,
             "#bd3786"
            ],
            [
             0.5555555555555556,
             "#d8576b"
            ],
            [
             0.6666666666666666,
             "#ed7953"
            ],
            [
             0.7777777777777778,
             "#fb9f3a"
            ],
            [
             0.8888888888888888,
             "#fdca26"
            ],
            [
             1,
             "#f0f921"
            ]
           ]
          },
          "colorway": [
           "#636efa",
           "#EF553B",
           "#00cc96",
           "#ab63fa",
           "#FFA15A",
           "#19d3f3",
           "#FF6692",
           "#B6E880",
           "#FF97FF",
           "#FECB52"
          ],
          "font": {
           "color": "#2a3f5f"
          },
          "geo": {
           "bgcolor": "white",
           "lakecolor": "white",
           "landcolor": "#E5ECF6",
           "showlakes": true,
           "showland": true,
           "subunitcolor": "white"
          },
          "hoverlabel": {
           "align": "left"
          },
          "hovermode": "closest",
          "mapbox": {
           "style": "light"
          },
          "paper_bgcolor": "white",
          "plot_bgcolor": "#E5ECF6",
          "polar": {
           "angularaxis": {
            "gridcolor": "white",
            "linecolor": "white",
            "ticks": ""
           },
           "bgcolor": "#E5ECF6",
           "radialaxis": {
            "gridcolor": "white",
            "linecolor": "white",
            "ticks": ""
           }
          },
          "scene": {
           "xaxis": {
            "backgroundcolor": "#E5ECF6",
            "gridcolor": "white",
            "gridwidth": 2,
            "linecolor": "white",
            "showbackground": true,
            "ticks": "",
            "zerolinecolor": "white"
           },
           "yaxis": {
            "backgroundcolor": "#E5ECF6",
            "gridcolor": "white",
            "gridwidth": 2,
            "linecolor": "white",
            "showbackground": true,
            "ticks": "",
            "zerolinecolor": "white"
           },
           "zaxis": {
            "backgroundcolor": "#E5ECF6",
            "gridcolor": "white",
            "gridwidth": 2,
            "linecolor": "white",
            "showbackground": true,
            "ticks": "",
            "zerolinecolor": "white"
           }
          },
          "shapedefaults": {
           "line": {
            "color": "#2a3f5f"
           }
          },
          "ternary": {
           "aaxis": {
            "gridcolor": "white",
            "linecolor": "white",
            "ticks": ""
           },
           "baxis": {
            "gridcolor": "white",
            "linecolor": "white",
            "ticks": ""
           },
           "bgcolor": "#E5ECF6",
           "caxis": {
            "gridcolor": "white",
            "linecolor": "white",
            "ticks": ""
           }
          },
          "title": {
           "x": 0.05
          },
          "xaxis": {
           "automargin": true,
           "gridcolor": "white",
           "linecolor": "white",
           "ticks": "",
           "title": {
            "standoff": 15
           },
           "zerolinecolor": "white",
           "zerolinewidth": 2
          },
          "yaxis": {
           "automargin": true,
           "gridcolor": "white",
           "linecolor": "white",
           "ticks": "",
           "title": {
            "standoff": 15
           },
           "zerolinecolor": "white",
           "zerolinewidth": 2
          }
         }
        },
        "title": {
         "font": {
          "size": 16
         },
         "text": "<br>Network graph made with Python"
        },
        "xaxis": {
         "showgrid": false,
         "showticklabels": false,
         "zeroline": false
        },
        "yaxis": {
         "showgrid": false,
         "showticklabels": false,
         "zeroline": false
        }
       }
      },
      "text/html": [
       "<div>                            <div id=\"345ed7f5-65bc-4a56-8f29-ba36b8151dbb\" class=\"plotly-graph-div\" style=\"height:525px; width:100%;\"></div>            <script type=\"text/javascript\">                require([\"plotly\"], function(Plotly) {                    window.PLOTLYENV=window.PLOTLYENV || {};                                    if (document.getElementById(\"345ed7f5-65bc-4a56-8f29-ba36b8151dbb\")) {                    Plotly.newPlot(                        \"345ed7f5-65bc-4a56-8f29-ba36b8151dbb\",                        [{\"hoverinfo\": \"none\", \"line\": {\"color\": \"#888\", \"width\": 0.5}, \"mode\": \"lines\", \"type\": \"scatter\", \"x\": [0.7801603911549438, 0.740625863119245, null, 0.7801603911549438, 0.583993110207876, null, 0.7801603911549438, 0.640952694324525, null, 0.7801603911549438, 0.6435799740880603, null, 0.7801603911549438, 0.607698913404794, null, 0.5249831588690298, 0.3073865727705063, null, 0.5249831588690298, 0.640952694324525, null, 0.5249831588690298, 0.7482655725962591, null, 0.5249831588690298, 0.5572917679006295, null, 0.5249831588690298, 0.6243437191127235, null, 0.5249831588690298, 0.4238357358399233, null, 0.5249831588690298, 0.719569201584275, null, 0.5249831588690298, 0.607698913404794, null, 0.5249831588690298, 0.4582523173083307, null, 0.5249831588690298, 0.313999018186756, null, 0.8085335344099086, 0.6315322816286787, null, 0.8085335344099086, 0.740625863119245, null, 0.8085335344099086, 0.8252497121120052, null, 0.8085335344099086, 0.8860336256842246, null, 0.8085335344099086, 0.8551947714242674, null, 0.8085335344099086, 0.6824813442515916, null, 0.8085335344099086, 0.7353838928272886, null, 0.2599134798656856, 0.3073865727705063, null, 0.2599134798656856, 0.4238357358399233, null, 0.2599134798656856, 0.4582523173083307, null, 0.2599134798656856, 0.25311953895059136, null, 0.2599134798656856, 0.313999018186756, null, 0.7353838928272886, 0.6315322816286787, null, 0.7353838928272886, 0.740625863119245, null, 0.7353838928272886, 0.8252497121120052, null, 0.7353838928272886, 0.8860336256842246, null, 0.7353838928272886, 0.8551947714242674, null, 0.7353838928272886, 0.6824813442515916, null, 0.09088671576431506, 0.17440205342790494, null, 0.09088671576431506, 0.12939557977525573, null, 0.09088671576431506, 0.04580558670435442, null, 0.313999018186756, 0.3073865727705063, null, 0.313999018186756, 0.4238357358399233, null, 0.313999018186756, 0.4582523173083307, null, 0.313999018186756, 0.25311953895059136, null, 0.6824813442515916, 0.6315322816286787, null, 0.6824813442515916, 0.740625863119245, null, 0.6824813442515916, 0.47415009287034726, null, 0.6824813442515916, 0.8252497121120052, null, 0.6824813442515916, 0.8860336256842246, null, 0.6824813442515916, 0.8551947714242674, null, 0.20128789391122526, 0.1332965908314021, null, 0.20128789391122526, 0.021423673670808885, null, 0.20128789391122526, 0.04580558670435442, null, 0.8551947714242674, 0.740625863119245, null, 0.8551947714242674, 0.8252497121120052, null, 0.8551947714242674, 0.8860336256842246, null, 0.7581736589784409, 0.640952694324525, null, 0.7581736589784409, 0.7482655725962591, null, 0.7581736589784409, 0.5572917679006295, null, 0.7581736589784409, 0.6243437191127235, null, 0.7581736589784409, 0.9363713903322148, null, 0.7581736589784409, 0.719569201584275, null, 0.7581736589784409, 0.607698913404794, null, 0.7581736589784409, 0.9112422509614865, null, 0.25311953895059136, 0.3073865727705063, null, 0.25311953895059136, 0.4238357358399233, null, 0.25311953895059136, 0.4582523173083307, null, 0.4813859169876731, 0.3345284735051981, null, 0.4813859169876731, 0.583993110207876, null, 0.4813859169876731, 0.640952694324525, null, 0.4813859169876731, 0.6435799740880603, null, 0.4813859169876731, 0.47415009287034726, null, 0.4813859169876731, 0.607698913404794, null, 0.9112422509614865, 0.7482655725962591, null, 0.9112422509614865, 0.9363713903322148, null, 0.9112422509614865, 0.719569201584275, null, 0.04580558670435442, 0.1332965908314021, null, 0.04580558670435442, 0.021423673670808885, null, 0.04580558670435442, 0.12939557977525573, null, 0.4582523173083307, 0.3073865727705063, null, 0.4582523173083307, 0.640952694324525, null, 0.4582523173083307, 0.5572917679006295, null, 0.4582523173083307, 0.6243437191127235, null, 0.4582523173083307, 0.4238357358399233, null, 0.4582523173083307, 0.607698913404794, null, 0.12939557977525573, 0.3345284735051981, null, 0.12939557977525573, 0.021423673670808885, null, 0.607698913404794, 0.583993110207876, null, 0.607698913404794, 0.640952694324525, null, 0.607698913404794, 0.6435799740880603, null, 0.607698913404794, 0.5572917679006295, null, 0.607698913404794, 0.6243437191127235, null, 0.607698913404794, 0.719569201584275, null, 0.719569201584275, 0.640952694324525, null, 0.719569201584275, 0.7482655725962591, null, 0.719569201584275, 0.5572917679006295, null, 0.719569201584275, 0.6243437191127235, null, 0.719569201584275, 0.9363713903322148, null, 0.8860336256842246, 0.8252497121120052, null, 0.4238357358399233, 0.3073865727705063, null, 0.4238357358399233, 0.5572917679006295, null, 0.47415009287034726, 0.6315322816286787, null, 0.47415009287034726, 0.3345284735051981, null, 0.47415009287034726, 0.34509802713919313, null, 0.26253385360950576, 0.17972981733780147, null, 0.26253385360950576, 0.17440205342790494, null, 0.26253385360950576, 0.34509802713919313, null, 0.9363713903322148, 0.7482655725962591, null, 0.6243437191127235, 0.583993110207876, null, 0.6243437191127235, 0.640952694324525, null, 0.6243437191127235, 0.7482655725962591, null, 0.6243437191127235, 0.5572917679006295, null, 0.5572917679006295, 0.583993110207876, null, 0.5572917679006295, 0.640952694324525, null, 0.5572917679006295, 0.7482655725962591, null, 0.7482655725962591, 0.640952694324525, null, 0.6435799740880603, 0.6315322816286787, null, 0.6435799740880603, 0.740625863119245, null, 0.6435799740880603, 0.583993110207876, null, 0.6435799740880603, 0.640952694324525, null, 0.34509802713919313, 0.17972981733780147, null, 0.34509802713919313, 0.3345284735051981, null, 0.34509802713919313, 0.17440205342790494, null, 0.021423673670808885, 0.1332965908314021, null, 0.640952694324525, 0.583993110207876, null, 0.17440205342790494, 0.17972981733780147, null, 0.740625863119245, 0.6315322816286787, null], \"y\": [0.49474860768712914, 0.68128520136847, null, 0.49474860768712914, 0.42704536740474663, null, 0.49474860768712914, 0.3232711412508066, null, 0.49474860768712914, 0.5488515965193208, null, 0.49474860768712914, 0.362322730884702, null, 0.14953665513987202, 0.09186645974288632, null, 0.14953665513987202, 0.3232711412508066, null, 0.14953665513987202, 0.12631654071213483, null, 0.14953665513987202, 0.2083567880838434, null, 0.14953665513987202, 0.21665962402659544, null, 0.14953665513987202, 0.026771817842421997, null, 0.14953665513987202, 0.13985272363426526, null, 0.14953665513987202, 0.362322730884702, null, 0.14953665513987202, 0.1735506267461867, null, 0.14953665513987202, 0.01876171413125327, null, 0.7696330846542071, 0.7311657634689946, null, 0.7696330846542071, 0.68128520136847, null, 0.7696330846542071, 0.9532681441921305, null, 0.7696330846542071, 0.891868301175821, null, 0.7696330846542071, 0.9011339078096633, null, 0.7696330846542071, 0.8016111783687677, null, 0.7696330846542071, 0.8089961609345658, null, 0.14485659826020547, 0.09186645974288632, null, 0.14485659826020547, 0.026771817842421997, null, 0.14485659826020547, 0.1735506267461867, null, 0.14485659826020547, 0.10321622277398101, null, 0.14485659826020547, 0.01876171413125327, null, 0.8089961609345658, 0.7311657634689946, null, 0.8089961609345658, 0.68128520136847, null, 0.8089961609345658, 0.9532681441921305, null, 0.8089961609345658, 0.891868301175821, null, 0.8089961609345658, 0.9011339078096633, null, 0.8089961609345658, 0.8016111783687677, null, 0.7222846879290787, 0.9528527425842739, null, 0.7222846879290787, 0.690016328140396, null, 0.7222846879290787, 0.5886703168399895, null, 0.01876171413125327, 0.09186645974288632, null, 0.01876171413125327, 0.026771817842421997, null, 0.01876171413125327, 0.1735506267461867, null, 0.01876171413125327, 0.10321622277398101, null, 0.8016111783687677, 0.7311657634689946, null, 0.8016111783687677, 0.68128520136847, null, 0.8016111783687677, 0.7353428557575755, null, 0.8016111783687677, 0.9532681441921305, null, 0.8016111783687677, 0.891868301175821, null, 0.8016111783687677, 0.9011339078096633, null, 0.43196344222361227, 0.3996510641743197, null, 0.43196344222361227, 0.4666482714834408, null, 0.43196344222361227, 0.5886703168399895, null, 0.9011339078096633, 0.68128520136847, null, 0.9011339078096633, 0.9532681441921305, null, 0.9011339078096633, 0.891868301175821, null, 0.24026772497187532, 0.3232711412508066, null, 0.24026772497187532, 0.12631654071213483, null, 0.24026772497187532, 0.2083567880838434, null, 0.24026772497187532, 0.21665962402659544, null, 0.24026772497187532, 0.13022993020357043, null, 0.24026772497187532, 0.13985272363426526, null, 0.24026772497187532, 0.362322730884702, null, 0.24026772497187532, 0.1839028760606296, null, 0.10321622277398101, 0.09186645974288632, null, 0.10321622277398101, 0.026771817842421997, null, 0.10321622277398101, 0.1735506267461867, null, 0.5006237737207431, 0.6569436279895382, null, 0.5006237737207431, 0.42704536740474663, null, 0.5006237737207431, 0.3232711412508066, null, 0.5006237737207431, 0.5488515965193208, null, 0.5006237737207431, 0.7353428557575755, null, 0.5006237737207431, 0.362322730884702, null, 0.1839028760606296, 0.12631654071213483, null, 0.1839028760606296, 0.13022993020357043, null, 0.1839028760606296, 0.13985272363426526, null, 0.5886703168399895, 0.3996510641743197, null, 0.5886703168399895, 0.4666482714834408, null, 0.5886703168399895, 0.690016328140396, null, 0.1735506267461867, 0.09186645974288632, null, 0.1735506267461867, 0.3232711412508066, null, 0.1735506267461867, 0.2083567880838434, null, 0.1735506267461867, 0.21665962402659544, null, 0.1735506267461867, 0.026771817842421997, null, 0.1735506267461867, 0.362322730884702, null, 0.690016328140396, 0.6569436279895382, null, 0.690016328140396, 0.4666482714834408, null, 0.362322730884702, 0.42704536740474663, null, 0.362322730884702, 0.3232711412508066, null, 0.362322730884702, 0.5488515965193208, null, 0.362322730884702, 0.2083567880838434, null, 0.362322730884702, 0.21665962402659544, null, 0.362322730884702, 0.13985272363426526, null, 0.13985272363426526, 0.3232711412508066, null, 0.13985272363426526, 0.12631654071213483, null, 0.13985272363426526, 0.2083567880838434, null, 0.13985272363426526, 0.21665962402659544, null, 0.13985272363426526, 0.13022993020357043, null, 0.891868301175821, 0.9532681441921305, null, 0.026771817842421997, 0.09186645974288632, null, 0.026771817842421997, 0.2083567880838434, null, 0.7353428557575755, 0.7311657634689946, null, 0.7353428557575755, 0.6569436279895382, null, 0.7353428557575755, 0.8800306496459869, null, 0.9768234503830939, 0.999395685828547, null, 0.9768234503830939, 0.9528527425842739, null, 0.9768234503830939, 0.8800306496459869, null, 0.13022993020357043, 0.12631654071213483, null, 0.21665962402659544, 0.42704536740474663, null, 0.21665962402659544, 0.3232711412508066, null, 0.21665962402659544, 0.12631654071213483, null, 0.21665962402659544, 0.2083567880838434, null, 0.2083567880838434, 0.42704536740474663, null, 0.2083567880838434, 0.3232711412508066, null, 0.2083567880838434, 0.12631654071213483, null, 0.12631654071213483, 0.3232711412508066, null, 0.5488515965193208, 0.7311657634689946, null, 0.5488515965193208, 0.68128520136847, null, 0.5488515965193208, 0.42704536740474663, null, 0.5488515965193208, 0.3232711412508066, null, 0.8800306496459869, 0.999395685828547, null, 0.8800306496459869, 0.6569436279895382, null, 0.8800306496459869, 0.9528527425842739, null, 0.4666482714834408, 0.3996510641743197, null, 0.3232711412508066, 0.42704536740474663, null, 0.9528527425842739, 0.999395685828547, null, 0.68128520136847, 0.7311657634689946, null]}, {\"hoverinfo\": \"text\", \"marker\": {\"color\": [0, 0, 2, 0, 0, 0, 0, 0, 0, 0, 0, 0, 0, 0, 0, 0, 0, 2, 0, 0, 1, 3, 0, 0, 0, 0, 2, 0, 2, 0, 0, 0, 0, 0, 0, 0, 2, 0, 0, 0], \"colorbar\": {\"thickness\": 15, \"title\": {\"side\": \"right\", \"text\": \"Node Connections\"}, \"xanchor\": \"left\"}, \"colorscale\": [[0.0, \"rgb(0,0,0)\"], [0.3333333333333333, \"rgb(230,0,0)\"], [0.6666666666666666, \"rgb(255,210,0)\"], [1.0, \"rgb(255,255,255)\"]], \"line\": {\"width\": 2}, \"reversescale\": true, \"showscale\": false, \"size\": 10}, \"mode\": \"markers\", \"text\": [\"Intersection 0\", \"Intersection 1\", \"Intersection 2\", \"Intersection 3\", \"Intersection 4\", \"Intersection 5\", \"Intersection 6\", \"Intersection 7\", \"Intersection 8\", \"Intersection 9\", \"Intersection 10\", \"Intersection 11\", \"Intersection 12\", \"Intersection 13\", \"Intersection 14\", \"Intersection 15\", \"Intersection 16\", \"Intersection 17\", \"Intersection 18\", \"Intersection 19\", \"Intersection 20\", \"Intersection 21\", \"Intersection 22\", \"Intersection 23\", \"Intersection 24\", \"Intersection 25\", \"Intersection 26\", \"Intersection 27\", \"Intersection 28\", \"Intersection 29\", \"Intersection 30\", \"Intersection 31\", \"Intersection 32\", \"Intersection 33\", \"Intersection 34\", \"Intersection 35\", \"Intersection 36\", \"Intersection 37\", \"Intersection 38\", \"Intersection 39\"], \"type\": \"scatter\", \"x\": [0.7801603911549438, 0.5249831588690298, 0.8085335344099086, 0.2599134798656856, 0.7353838928272886, 0.09088671576431506, 0.313999018186756, 0.6824813442515916, 0.20128789391122526, 0.8551947714242674, 0.7581736589784409, 0.25311953895059136, 0.4813859169876731, 0.9112422509614865, 0.04580558670435442, 0.4582523173083307, 0.12939557977525573, 0.607698913404794, 0.719569201584275, 0.8860336256842246, 0.4238357358399233, 0.8252497121120052, 0.47415009287034726, 0.26253385360950576, 0.9363713903322148, 0.6243437191127235, 0.5572917679006295, 0.7482655725962591, 0.6435799740880603, 0.34509802713919313, 0.021423673670808885, 0.640952694324525, 0.17440205342790494, 0.1332965908314021, 0.583993110207876, 0.3073865727705063, 0.740625863119245, 0.3345284735051981, 0.17972981733780147, 0.6315322816286787], \"y\": [0.49474860768712914, 0.14953665513987202, 0.7696330846542071, 0.14485659826020547, 0.8089961609345658, 0.7222846879290787, 0.01876171413125327, 0.8016111783687677, 0.43196344222361227, 0.9011339078096633, 0.24026772497187532, 0.10321622277398101, 0.5006237737207431, 0.1839028760606296, 0.5886703168399895, 0.1735506267461867, 0.690016328140396, 0.362322730884702, 0.13985272363426526, 0.891868301175821, 0.026771817842421997, 0.9532681441921305, 0.7353428557575755, 0.9768234503830939, 0.13022993020357043, 0.21665962402659544, 0.2083567880838434, 0.12631654071213483, 0.5488515965193208, 0.8800306496459869, 0.4666482714834408, 0.3232711412508066, 0.9528527425842739, 0.3996510641743197, 0.42704536740474663, 0.09186645974288632, 0.68128520136847, 0.6569436279895382, 0.999395685828547, 0.7311657634689946]}],                        {\"hovermode\": \"closest\", \"margin\": {\"b\": 20, \"l\": 5, \"r\": 5, \"t\": 40}, \"showlegend\": false, \"template\": {\"data\": {\"bar\": [{\"error_x\": {\"color\": \"#2a3f5f\"}, \"error_y\": {\"color\": \"#2a3f5f\"}, \"marker\": {\"line\": {\"color\": \"#E5ECF6\", \"width\": 0.5}}, \"type\": \"bar\"}], \"barpolar\": [{\"marker\": {\"line\": {\"color\": \"#E5ECF6\", \"width\": 0.5}}, \"type\": \"barpolar\"}], \"carpet\": [{\"aaxis\": {\"endlinecolor\": \"#2a3f5f\", \"gridcolor\": \"white\", \"linecolor\": \"white\", \"minorgridcolor\": \"white\", \"startlinecolor\": \"#2a3f5f\"}, \"baxis\": {\"endlinecolor\": \"#2a3f5f\", \"gridcolor\": \"white\", \"linecolor\": \"white\", \"minorgridcolor\": \"white\", \"startlinecolor\": \"#2a3f5f\"}, \"type\": \"carpet\"}], \"choropleth\": [{\"colorbar\": {\"outlinewidth\": 0, \"ticks\": \"\"}, \"type\": \"choropleth\"}], \"contour\": [{\"colorbar\": {\"outlinewidth\": 0, \"ticks\": \"\"}, \"colorscale\": [[0.0, \"#0d0887\"], [0.1111111111111111, \"#46039f\"], [0.2222222222222222, \"#7201a8\"], [0.3333333333333333, \"#9c179e\"], [0.4444444444444444, \"#bd3786\"], [0.5555555555555556, \"#d8576b\"], [0.6666666666666666, \"#ed7953\"], [0.7777777777777778, \"#fb9f3a\"], [0.8888888888888888, \"#fdca26\"], [1.0, \"#f0f921\"]], \"type\": \"contour\"}], \"contourcarpet\": [{\"colorbar\": {\"outlinewidth\": 0, \"ticks\": \"\"}, \"type\": \"contourcarpet\"}], \"heatmap\": [{\"colorbar\": {\"outlinewidth\": 0, \"ticks\": \"\"}, \"colorscale\": [[0.0, \"#0d0887\"], [0.1111111111111111, \"#46039f\"], [0.2222222222222222, \"#7201a8\"], [0.3333333333333333, \"#9c179e\"], [0.4444444444444444, \"#bd3786\"], [0.5555555555555556, \"#d8576b\"], [0.6666666666666666, \"#ed7953\"], [0.7777777777777778, \"#fb9f3a\"], [0.8888888888888888, \"#fdca26\"], [1.0, \"#f0f921\"]], \"type\": \"heatmap\"}], \"heatmapgl\": [{\"colorbar\": {\"outlinewidth\": 0, \"ticks\": \"\"}, \"colorscale\": [[0.0, \"#0d0887\"], [0.1111111111111111, \"#46039f\"], [0.2222222222222222, \"#7201a8\"], [0.3333333333333333, \"#9c179e\"], [0.4444444444444444, \"#bd3786\"], [0.5555555555555556, \"#d8576b\"], [0.6666666666666666, \"#ed7953\"], [0.7777777777777778, \"#fb9f3a\"], [0.8888888888888888, \"#fdca26\"], [1.0, \"#f0f921\"]], \"type\": \"heatmapgl\"}], \"histogram\": [{\"marker\": {\"colorbar\": {\"outlinewidth\": 0, \"ticks\": \"\"}}, \"type\": \"histogram\"}], \"histogram2d\": [{\"colorbar\": {\"outlinewidth\": 0, \"ticks\": \"\"}, \"colorscale\": [[0.0, \"#0d0887\"], [0.1111111111111111, \"#46039f\"], [0.2222222222222222, \"#7201a8\"], [0.3333333333333333, \"#9c179e\"], [0.4444444444444444, \"#bd3786\"], [0.5555555555555556, \"#d8576b\"], [0.6666666666666666, \"#ed7953\"], [0.7777777777777778, \"#fb9f3a\"], [0.8888888888888888, \"#fdca26\"], [1.0, \"#f0f921\"]], \"type\": \"histogram2d\"}], \"histogram2dcontour\": [{\"colorbar\": {\"outlinewidth\": 0, \"ticks\": \"\"}, \"colorscale\": [[0.0, \"#0d0887\"], [0.1111111111111111, \"#46039f\"], [0.2222222222222222, \"#7201a8\"], [0.3333333333333333, \"#9c179e\"], [0.4444444444444444, \"#bd3786\"], [0.5555555555555556, \"#d8576b\"], [0.6666666666666666, \"#ed7953\"], [0.7777777777777778, \"#fb9f3a\"], [0.8888888888888888, \"#fdca26\"], [1.0, \"#f0f921\"]], \"type\": \"histogram2dcontour\"}], \"mesh3d\": [{\"colorbar\": {\"outlinewidth\": 0, \"ticks\": \"\"}, \"type\": \"mesh3d\"}], \"parcoords\": [{\"line\": {\"colorbar\": {\"outlinewidth\": 0, \"ticks\": \"\"}}, \"type\": \"parcoords\"}], \"pie\": [{\"automargin\": true, \"type\": \"pie\"}], \"scatter\": [{\"marker\": {\"colorbar\": {\"outlinewidth\": 0, \"ticks\": \"\"}}, \"type\": \"scatter\"}], \"scatter3d\": [{\"line\": {\"colorbar\": {\"outlinewidth\": 0, \"ticks\": \"\"}}, \"marker\": {\"colorbar\": {\"outlinewidth\": 0, \"ticks\": \"\"}}, \"type\": \"scatter3d\"}], \"scattercarpet\": [{\"marker\": {\"colorbar\": {\"outlinewidth\": 0, \"ticks\": \"\"}}, \"type\": \"scattercarpet\"}], \"scattergeo\": [{\"marker\": {\"colorbar\": {\"outlinewidth\": 0, \"ticks\": \"\"}}, \"type\": \"scattergeo\"}], \"scattergl\": [{\"marker\": {\"colorbar\": {\"outlinewidth\": 0, \"ticks\": \"\"}}, \"type\": \"scattergl\"}], \"scattermapbox\": [{\"marker\": {\"colorbar\": {\"outlinewidth\": 0, \"ticks\": \"\"}}, \"type\": \"scattermapbox\"}], \"scatterpolar\": [{\"marker\": {\"colorbar\": {\"outlinewidth\": 0, \"ticks\": \"\"}}, \"type\": \"scatterpolar\"}], \"scatterpolargl\": [{\"marker\": {\"colorbar\": {\"outlinewidth\": 0, \"ticks\": \"\"}}, \"type\": \"scatterpolargl\"}], \"scatterternary\": [{\"marker\": {\"colorbar\": {\"outlinewidth\": 0, \"ticks\": \"\"}}, \"type\": \"scatterternary\"}], \"surface\": [{\"colorbar\": {\"outlinewidth\": 0, \"ticks\": \"\"}, \"colorscale\": [[0.0, \"#0d0887\"], [0.1111111111111111, \"#46039f\"], [0.2222222222222222, \"#7201a8\"], [0.3333333333333333, \"#9c179e\"], [0.4444444444444444, \"#bd3786\"], [0.5555555555555556, \"#d8576b\"], [0.6666666666666666, \"#ed7953\"], [0.7777777777777778, \"#fb9f3a\"], [0.8888888888888888, \"#fdca26\"], [1.0, \"#f0f921\"]], \"type\": \"surface\"}], \"table\": [{\"cells\": {\"fill\": {\"color\": \"#EBF0F8\"}, \"line\": {\"color\": \"white\"}}, \"header\": {\"fill\": {\"color\": \"#C8D4E3\"}, \"line\": {\"color\": \"white\"}}, \"type\": \"table\"}]}, \"layout\": {\"annotationdefaults\": {\"arrowcolor\": \"#2a3f5f\", \"arrowhead\": 0, \"arrowwidth\": 1}, \"coloraxis\": {\"colorbar\": {\"outlinewidth\": 0, \"ticks\": \"\"}}, \"colorscale\": {\"diverging\": [[0, \"#8e0152\"], [0.1, \"#c51b7d\"], [0.2, \"#de77ae\"], [0.3, \"#f1b6da\"], [0.4, \"#fde0ef\"], [0.5, \"#f7f7f7\"], [0.6, \"#e6f5d0\"], [0.7, \"#b8e186\"], [0.8, \"#7fbc41\"], [0.9, \"#4d9221\"], [1, \"#276419\"]], \"sequential\": [[0.0, \"#0d0887\"], [0.1111111111111111, \"#46039f\"], [0.2222222222222222, \"#7201a8\"], [0.3333333333333333, \"#9c179e\"], [0.4444444444444444, \"#bd3786\"], [0.5555555555555556, \"#d8576b\"], [0.6666666666666666, \"#ed7953\"], [0.7777777777777778, \"#fb9f3a\"], [0.8888888888888888, \"#fdca26\"], [1.0, \"#f0f921\"]], \"sequentialminus\": [[0.0, \"#0d0887\"], [0.1111111111111111, \"#46039f\"], [0.2222222222222222, \"#7201a8\"], [0.3333333333333333, \"#9c179e\"], [0.4444444444444444, \"#bd3786\"], [0.5555555555555556, \"#d8576b\"], [0.6666666666666666, \"#ed7953\"], [0.7777777777777778, \"#fb9f3a\"], [0.8888888888888888, \"#fdca26\"], [1.0, \"#f0f921\"]]}, \"colorway\": [\"#636efa\", \"#EF553B\", \"#00cc96\", \"#ab63fa\", \"#FFA15A\", \"#19d3f3\", \"#FF6692\", \"#B6E880\", \"#FF97FF\", \"#FECB52\"], \"font\": {\"color\": \"#2a3f5f\"}, \"geo\": {\"bgcolor\": \"white\", \"lakecolor\": \"white\", \"landcolor\": \"#E5ECF6\", \"showlakes\": true, \"showland\": true, \"subunitcolor\": \"white\"}, \"hoverlabel\": {\"align\": \"left\"}, \"hovermode\": \"closest\", \"mapbox\": {\"style\": \"light\"}, \"paper_bgcolor\": \"white\", \"plot_bgcolor\": \"#E5ECF6\", \"polar\": {\"angularaxis\": {\"gridcolor\": \"white\", \"linecolor\": \"white\", \"ticks\": \"\"}, \"bgcolor\": \"#E5ECF6\", \"radialaxis\": {\"gridcolor\": \"white\", \"linecolor\": \"white\", \"ticks\": \"\"}}, \"scene\": {\"xaxis\": {\"backgroundcolor\": \"#E5ECF6\", \"gridcolor\": \"white\", \"gridwidth\": 2, \"linecolor\": \"white\", \"showbackground\": true, \"ticks\": \"\", \"zerolinecolor\": \"white\"}, \"yaxis\": {\"backgroundcolor\": \"#E5ECF6\", \"gridcolor\": \"white\", \"gridwidth\": 2, \"linecolor\": \"white\", \"showbackground\": true, \"ticks\": \"\", \"zerolinecolor\": \"white\"}, \"zaxis\": {\"backgroundcolor\": \"#E5ECF6\", \"gridcolor\": \"white\", \"gridwidth\": 2, \"linecolor\": \"white\", \"showbackground\": true, \"ticks\": \"\", \"zerolinecolor\": \"white\"}}, \"shapedefaults\": {\"line\": {\"color\": \"#2a3f5f\"}}, \"ternary\": {\"aaxis\": {\"gridcolor\": \"white\", \"linecolor\": \"white\", \"ticks\": \"\"}, \"baxis\": {\"gridcolor\": \"white\", \"linecolor\": \"white\", \"ticks\": \"\"}, \"bgcolor\": \"#E5ECF6\", \"caxis\": {\"gridcolor\": \"white\", \"linecolor\": \"white\", \"ticks\": \"\"}}, \"title\": {\"x\": 0.05}, \"xaxis\": {\"automargin\": true, \"gridcolor\": \"white\", \"linecolor\": \"white\", \"ticks\": \"\", \"title\": {\"standoff\": 15}, \"zerolinecolor\": \"white\", \"zerolinewidth\": 2}, \"yaxis\": {\"automargin\": true, \"gridcolor\": \"white\", \"linecolor\": \"white\", \"ticks\": \"\", \"title\": {\"standoff\": 15}, \"zerolinecolor\": \"white\", \"zerolinewidth\": 2}}}, \"title\": {\"font\": {\"size\": 16}, \"text\": \"<br>Network graph made with Python\"}, \"xaxis\": {\"showgrid\": false, \"showticklabels\": false, \"zeroline\": false}, \"yaxis\": {\"showgrid\": false, \"showticklabels\": false, \"zeroline\": false}},                        {\"responsive\": true}                    ).then(function(){\n",
       "                            \n",
       "var gd = document.getElementById('345ed7f5-65bc-4a56-8f29-ba36b8151dbb');\n",
       "var x = new MutationObserver(function (mutations, observer) {{\n",
       "        var display = window.getComputedStyle(gd).display;\n",
       "        if (!display || display === 'none') {{\n",
       "            console.log([gd, 'removed!']);\n",
       "            Plotly.purge(gd);\n",
       "            observer.disconnect();\n",
       "        }}\n",
       "}});\n",
       "\n",
       "// Listen for the removal of the full notebook cells\n",
       "var notebookContainer = gd.closest('#notebook-container');\n",
       "if (notebookContainer) {{\n",
       "    x.observe(notebookContainer, {childList: true});\n",
       "}}\n",
       "\n",
       "// Listen for the clearing of the current output cell\n",
       "var outputEl = gd.closest('.output');\n",
       "if (outputEl) {{\n",
       "    x.observe(outputEl, {childList: true});\n",
       "}}\n",
       "\n",
       "                        })                };                });            </script>        </div>"
      ]
     },
     "metadata": {},
     "output_type": "display_data"
    },
    {
     "name": "stdout",
     "output_type": "stream",
     "text": [
      "minimum cost to reach from 21 to 20 = 1.0373\n",
      "Path: [21, 2, 36, 28, 17, 26, 20]\n"
     ]
    }
   ],
   "source": [
    "start = 21\n",
    "goal = 20\n",
    "planner = PathPlanner(map_40, start, goal)\n",
    "show_map(map_40,start, goal, planner.path)\n",
    "print(f\"minimum cost to reach from {start} to {goal} = {planner.cost :0.4f}\")\n",
    "print(f\"Path: {planner.path}\")"
   ]
  }
 ],
 "metadata": {
  "kernelspec": {
   "display_name": "Python [conda env:route_planner]",
   "language": "python",
   "name": "conda-env-route_planner-py"
  },
  "language_info": {
   "codemirror_mode": {
    "name": "ipython",
    "version": 3
   },
   "file_extension": ".py",
   "mimetype": "text/x-python",
   "name": "python",
   "nbconvert_exporter": "python",
   "pygments_lexer": "ipython3",
   "version": "3.6.12"
  }
 },
 "nbformat": 4,
 "nbformat_minor": 4
}
