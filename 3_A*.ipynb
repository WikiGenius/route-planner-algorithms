{
 "cells": [
  {
   "cell_type": "markdown",
   "metadata": {},
   "source": [
    "# Author Muhammed"
   ]
  },
  {
   "cell_type": "code",
   "execution_count": 1,
   "metadata": {},
   "outputs": [],
   "source": [
    "class Edge:\n",
    "    def __init__(self, node, distance):\n",
    "        self.node = node\n",
    "        self.distance = distance\n",
    "    def __repr__(self):\n",
    "        return f\"Neighbour ({self.node}, distance: {self.distance})\"\n",
    "class Node:\n",
    "    def __init__(self, state):\n",
    "        self.state = state\n",
    "        self.neighbours = []\n",
    "    def add_neighbour(self, node, distance):\n",
    "        if not self.check_existance_neighbour(node):       \n",
    "            self.neighbours.append(Edge(node,distance))\n",
    "        else:\n",
    "            print(f\"This node {node} is already neighbour to Node({self.state})\")\n",
    "    def remove_neighbour(self,node):\n",
    "        neighbour = self.check_existance_neighbour(node)\n",
    "        if neighbour:\n",
    "            self.neighbours.remove(neighbour)\n",
    "            \n",
    "    def check_existance_neighbour(self, node):\n",
    "        for neighbour in self.neighbours:\n",
    "            if neighbour.node == node:\n",
    "                return neighbour\n",
    "        return None\n",
    "    def __repr__(self):\n",
    "        return f\"State({self.state})\"\n",
    "    def __lt__(self, other):\n",
    "        if(self.state <other.state):\n",
    "            return True\n",
    "        else:\n",
    "            return False\n",
    "class Graph:\n",
    "    def __init__(self, states):\n",
    "        self.states = states\n",
    "    def add_edge(self, node1, node2, distance):\n",
    "        if node1 in self.states and node2 in self.states:\n",
    "            node1.add_neighbour(node2, distance)\n",
    "            node2.add_neighbour(node1, distance)\n",
    "        else:\n",
    "            if node1 not in self.states:\n",
    "                print(f\"{node1} not exist in state space graph\")\n",
    "            if node2 not in self.states:\n",
    "                print(f\"{node2} not exist in state space graph\")\n",
    "    def remove_edge(self, node1, node2):\n",
    "        if node1 in self.states and node2 in self.states:\n",
    "            node1.remove_neighbour(node2)\n",
    "            node2.remove_neighbour(node1)\n",
    "        else:\n",
    "            if node1 not in self.states:\n",
    "                print(f\"{node1} not exist in state space graph\")\n",
    "            if node2 not in self.states:\n",
    "                print(f\"{node2} not exist in state space graph\")\n"
   ]
  },
  {
   "cell_type": "markdown",
   "metadata": {},
   "source": [
    "## Represent Graph"
   ]
  },
  {
   "cell_type": "code",
   "execution_count": 2,
   "metadata": {},
   "outputs": [],
   "source": [
    "# code Map rominia udacity\n",
    "node_a = Node('Arad')\n",
    "node_z = Node('Zerind')\n",
    "node_s = Node('Sibiu')\n",
    "node_t = Node('Timisoara')\n",
    "node_o = Node('Oradea')\n",
    "node_l = Node('Lugoj')\n",
    "node_f = Node('Fagras')\n",
    "node_r = Node('Rimnicu')\n",
    "node_p = Node('Pitesti')\n",
    "node_m = Node('Mehadia')\n",
    "node_d = Node('Drbeta')\n",
    "node_c = Node('Craiova')\n",
    "node_b = Node('Bucharest')\n",
    "node_g = Node('Giurgiu')\n",
    "node_e = Node('Eforie')\n",
    "node_h = Node('Hirsova')\n",
    "node_u = Node('Urziceni')\n",
    "node_v = Node('Vaslui')\n",
    "node_i = Node('Iasi')\n",
    "node_n = Node('Neamt')\n",
    "\n",
    "states = [node_a, node_z, node_s,node_t,node_o,node_l,node_f, node_r, node_p, node_m, node_d, node_c, node_b, node_g, node_e, node_h, node_u, node_v, node_i, node_n ]\n",
    "\n",
    "graph = Graph(states)\n",
    "graph.add_edge(node_a, node_z, 75)\n",
    "graph.add_edge(node_a, node_t, 118)\n",
    "graph.add_edge(node_a, node_s, 140)\n",
    "graph.add_edge(node_z, node_o, 71)\n",
    "graph.add_edge(node_o, node_s, 151)\n",
    "graph.add_edge(node_t, node_l, 111)\n",
    "graph.add_edge(node_l, node_m, 70)\n",
    "graph.add_edge(node_m, node_d, 75)\n",
    "graph.add_edge(node_d, node_c, 120)\n",
    "graph.add_edge(node_c, node_p, 138)\n",
    "graph.add_edge(node_c, node_r, 146)\n",
    "graph.add_edge(node_r, node_p, 97)\n",
    "graph.add_edge(node_s, node_r, 80)\n",
    "graph.add_edge(node_s, node_f, 99)\n",
    "graph.add_edge(node_f, node_b, 211)\n",
    "graph.add_edge(node_p, node_b, 101)\n",
    "graph.add_edge(node_b, node_g, 90)\n",
    "graph.add_edge(node_b, node_u, 85)\n",
    "graph.add_edge(node_u, node_h, 98)\n",
    "graph.add_edge(node_u, node_v, 142)\n",
    "graph.add_edge(node_v, node_i, 92)\n",
    "graph.add_edge(node_i, node_n, 87)\n",
    "graph.add_edge(node_h, node_e, 86)\n"
   ]
  },
  {
   "cell_type": "markdown",
   "metadata": {},
   "source": [
    "# Represent Heuristic"
   ]
  },
  {
   "cell_type": "code",
   "execution_count": 3,
   "metadata": {},
   "outputs": [],
   "source": [
    "# based on the euclidean distance between State(Arad) and State(Bucharest)\n",
    "h_score = {\n",
    "    node_a:366,\n",
    "    node_t:329,\n",
    "    node_z:374,\n",
    "    node_o:380,\n",
    "    node_s:253,\n",
    "    node_l:244,\n",
    "    node_m:241,\n",
    "    node_d:242,\n",
    "    node_c:160,\n",
    "    node_r:193,\n",
    "    node_p:100,\n",
    "    node_f:176,\n",
    "    node_b:0,\n",
    "    node_g:77,\n",
    "    node_u:80,\n",
    "    node_e:161,\n",
    "    node_h:151,\n",
    "    node_v:199,\n",
    "    node_i:226,\n",
    "    node_n:234\n",
    "}"
   ]
  },
  {
   "cell_type": "code",
   "execution_count": 4,
   "metadata": {},
   "outputs": [
    {
     "data": {
      "text/plain": [
       "{State(Arad): 366,\n",
       " State(Timisoara): 329,\n",
       " State(Zerind): 374,\n",
       " State(Oradea): 380,\n",
       " State(Sibiu): 253,\n",
       " State(Lugoj): 244,\n",
       " State(Mehadia): 241,\n",
       " State(Drbeta): 242,\n",
       " State(Craiova): 160,\n",
       " State(Rimnicu): 193,\n",
       " State(Pitesti): 100,\n",
       " State(Fagras): 176,\n",
       " State(Bucharest): 0,\n",
       " State(Giurgiu): 77,\n",
       " State(Urziceni): 80,\n",
       " State(Eforie): 161,\n",
       " State(Hirsova): 151,\n",
       " State(Vaslui): 199,\n",
       " State(Iasi): 226,\n",
       " State(Neamt): 234}"
      ]
     },
     "execution_count": 4,
     "metadata": {},
     "output_type": "execute_result"
    }
   ],
   "source": [
    "h_score"
   ]
  },
  {
   "cell_type": "code",
   "execution_count": 28,
   "metadata": {},
   "outputs": [],
   "source": [
    "# modification\n",
    "import heapq\n",
    "def get_h_score():\n",
    "    return h_score\n",
    "def remove_choice(frontier):\n",
    "    # A* remove_choice by pick min f\n",
    "    result = heapq.heappop(frontier)\n",
    "    f = result[0]\n",
    "    current_node = result[1]\n",
    "    return current_node, f\n",
    "def reconstruct_path(cameFrom, current_node):\n",
    "    path = []\n",
    "    while current_node != None:\n",
    "        path.append(current_node)\n",
    "        current_node = cameFrom[current_node]\n",
    "    return list(reversed(path))\n",
    "def aStarSearch(start_node, goal_node): # O(E + v log(v))\n",
    "    frontier = [] # use for priorty queue\n",
    "    explored_check = set()\n",
    "    frontier_check = set()\n",
    "    f_score = dict()\n",
    "    g_score = {start_node:0} # g: path cost\n",
    "    cameFrom = {start_node: None}\n",
    "    h_score = get_h_score() # h: heuristic estimated value\n",
    "    # f = g + h\n",
    "    f_score[start_node] = g_score[start_node] + h_score[start_node]\n",
    "    heapq.heappush(frontier, (f_score[start_node], start_node))\n",
    "    \n",
    "    while len(frontier) > 0:\n",
    "        s, f = remove_choice(frontier)\n",
    "        if s in explored_check:\n",
    "            continue\n",
    "        \n",
    "        explored_check.add(s)\n",
    "        if s == goal_node:\n",
    "            return reconstruct_path(cameFrom, s), g_score[s]\n",
    "        for neighbour in s.neighbours:\n",
    "            if neighbour.node not in explored_check:\n",
    "                g = g_score[s] + neighbour.distance\n",
    "                h = h_score[neighbour.node]\n",
    "                f = g + h\n",
    "                if neighbour.node not in cameFrom or f < f_score[neighbour.node]:\n",
    "#                     print(h,g,f)\n",
    "                    cameFrom[neighbour.node] = s\n",
    "                    g_score[neighbour.node] = g\n",
    "                    f_score[neighbour.node] = f\n",
    "                    heapq.heappush(frontier, (f_score[neighbour.node], neighbour.node))\n",
    "#         print('frontier', len(frontier))\n",
    "#         print('frontier', frontier)\n",
    "        \n",
    "    return None, -1"
   ]
  },
  {
   "cell_type": "code",
   "execution_count": 29,
   "metadata": {},
   "outputs": [],
   "source": [
    "def test(start_node, goal_node, answer):\n",
    "    path, cost = aStarSearch(start_node, goal_node)\n",
    "    print('pass' if path == answer['path'] and cost == answer['cost'] else 'fail')\n",
    "    print(path, cost)"
   ]
  },
  {
   "cell_type": "code",
   "execution_count": 30,
   "metadata": {},
   "outputs": [
    {
     "name": "stdout",
     "output_type": "stream",
     "text": [
      "frontier [(393, State(Sibiu)), (449, State(Zerind)), (447, State(Timisoara))]\n",
      "frontier [(413, State(Rimnicu)), (415, State(Fagras)), (671, State(Oradea)), (449, State(Zerind)), (447, State(Timisoara))]\n",
      "frontier [(415, State(Fagras)), (447, State(Timisoara)), (417, State(Pitesti)), (449, State(Zerind)), (526, State(Craiova)), (671, State(Oradea))]\n",
      "frontier [(417, State(Pitesti)), (447, State(Timisoara)), (450, State(Bucharest)), (449, State(Zerind)), (526, State(Craiova)), (671, State(Oradea))]\n",
      "frontier [(418, State(Bucharest)), (449, State(Zerind)), (447, State(Timisoara)), (671, State(Oradea)), (526, State(Craiova)), (450, State(Bucharest))]\n",
      "pass\n",
      "[State(Arad), State(Sibiu), State(Rimnicu), State(Pitesti), State(Bucharest)] 418\n"
     ]
    }
   ],
   "source": [
    "# It is siutable more for this test\n",
    "path = [node_a, node_s ,node_r,node_p, node_b]\n",
    "cost = 418\n",
    "answer = {'cost': cost ,'path':path}\n",
    "test(node_a, node_b, answer)"
   ]
  },
  {
   "cell_type": "code",
   "execution_count": 12,
   "metadata": {},
   "outputs": [
    {
     "name": "stdout",
     "output_type": "stream",
     "text": [
      "pass\n",
      "[State(Arad), State(Sibiu)] 140\n"
     ]
    }
   ],
   "source": [
    "path = [node_a, node_s]\n",
    "cost = 140\n",
    "answer = {'cost': cost ,'path':path}\n",
    "test(path[0], path[-1], answer)"
   ]
  },
  {
   "cell_type": "code",
   "execution_count": 14,
   "metadata": {},
   "outputs": [
    {
     "name": "stdout",
     "output_type": "stream",
     "text": [
      "pass\n",
      "[State(Fagras), State(Sibiu), State(Rimnicu), State(Craiova)] 325\n"
     ]
    }
   ],
   "source": [
    "path = [node_f, node_s ,node_r,node_c]\n",
    "cost = 325\n",
    "answer = {'cost': cost ,'path':path}\n",
    "test(path[0], path[-1], answer)"
   ]
  },
  {
   "cell_type": "code",
   "execution_count": 16,
   "metadata": {},
   "outputs": [
    {
     "name": "stdout",
     "output_type": "stream",
     "text": [
      "pass\n",
      "[State(Arad), State(Sibiu), State(Rimnicu), State(Craiova)] 366\n"
     ]
    }
   ],
   "source": [
    "path = [node_a, node_s ,node_r,node_c]\n",
    "cost = 366\n",
    "answer = {'cost': cost ,'path':path}\n",
    "test(path[0], path[-1], answer)"
   ]
  },
  {
   "cell_type": "code",
   "execution_count": 18,
   "metadata": {},
   "outputs": [
    {
     "name": "stdout",
     "output_type": "stream",
     "text": [
      "pass\n",
      "[State(Craiova), State(Pitesti), State(Bucharest), State(Urziceni)] 324\n"
     ]
    }
   ],
   "source": [
    "path = [node_c, node_p ,node_b,node_u]\n",
    "cost = 324\n",
    "answer = {'cost': cost ,'path':path}\n",
    "test(path[0], path[-1], answer)"
   ]
  },
  {
   "cell_type": "code",
   "execution_count": 19,
   "metadata": {},
   "outputs": [
    {
     "name": "stdout",
     "output_type": "stream",
     "text": [
      "pass\n",
      "None -1\n"
     ]
    }
   ],
   "source": [
    "node1 = Node(1)\n",
    "node2 = Node(2)\n",
    "path = None\n",
    "cost = -1\n",
    "answer = {'cost': cost ,'path':path}\n",
    "test(node_a, node1, answer)"
   ]
  },
  {
   "cell_type": "code",
   "execution_count": null,
   "metadata": {},
   "outputs": [],
   "source": []
  },
  {
   "cell_type": "code",
   "execution_count": 27,
   "metadata": {},
   "outputs": [],
   "source": [
    "import heapq\n",
    "def get_h_score():\n",
    "    return h_score\n",
    "def remove_choice(frontier):\n",
    "    result = heapq.heappop(frontier)\n",
    "    path = result[3]\n",
    "    end = result[2]\n",
    "    cost = result[1]\n",
    "    f = result[0]\n",
    "    return path, end, cost, f\n",
    "def aStarSearch(start_node, goal_node): # O(E + v log(v))\n",
    "    frontier = []\n",
    "    explored_check = set()\n",
    "    frontier_check = set()\n",
    "    # f = g + h\n",
    "    # g: path cost\n",
    "    # h: heuristic estimated value\n",
    "    # A* remove_choice by pick min f\n",
    "    g = 0\n",
    "    h_score = get_h_score()\n",
    "    h = h_score[start_node]\n",
    "    f = g + h\n",
    "    heapq.heappush(frontier, (f ,g, start_node, [start_node]))\n",
    "    \n",
    "    while len(frontier) > 0:\n",
    "        path, s, cost, f = remove_choice(frontier)\n",
    "        if s in explored_check:\n",
    "            continue\n",
    "        explored_check.add(s)\n",
    "        if s == goal_node:\n",
    "            return path, cost\n",
    "        for neighbour in s.neighbours:\n",
    "            if neighbour.node not in explored_check:\n",
    "                p = path.copy()\n",
    "                p.append(neighbour.node)\n",
    "                g = cost + neighbour.distance\n",
    "                h = h_score[neighbour.node]\n",
    "                f = g + h\n",
    "                heapq.heappush(frontier, (f ,g , neighbour.node, p))\n",
    "#         print('frontier', len(frontier))\n",
    "#         print('frontier', frontier)\n",
    "#                 print('path', p)\n",
    "        \n",
    "    return None, -1"
   ]
  }
 ],
 "metadata": {
  "kernelspec": {
   "display_name": "Python 3.7.6 64-bit ('base': conda)",
   "language": "python",
   "name": "python37664bitbasecondaaaf3fc174a4a4c979b106d0178f4f1a0"
  },
  "language_info": {
   "codemirror_mode": {
    "name": "ipython",
    "version": 3
   },
   "file_extension": ".py",
   "mimetype": "text/x-python",
   "name": "python",
   "nbconvert_exporter": "python",
   "pygments_lexer": "ipython3",
   "version": "3.7.6"
  }
 },
 "nbformat": 4,
 "nbformat_minor": 4
}
