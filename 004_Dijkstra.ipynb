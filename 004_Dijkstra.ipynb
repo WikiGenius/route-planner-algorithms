{
 "cells": [
  {
   "cell_type": "markdown",
   "metadata": {
    "graffitiCellId": "id_0ojz955"
   },
   "source": [
    "# Dijkstra's Algorithm\n",
    "In this exercise, you'll implement Dijkstra's algorithm. First, let's build the graph.\n",
    "## Graph Representation\n",
    "In order to run Dijkstra's Algorithm, we'll need to add distance to each edge. We'll use the `GraphEdge` class below to represent each edge between a node."
   ]
  },
  {
   "cell_type": "code",
   "execution_count": 47,
   "metadata": {
    "graffitiCellId": "id_popacit"
   },
   "outputs": [],
   "source": [
    "class GraphEdge(object):\n",
    "    def __init__(self, node, distance):\n",
    "        self.node = node\n",
    "        self.distance = distance\n",
    "    def __repr__(self):\n",
    "        return f\"Edge({self.node, self.distance})\""
   ]
  },
  {
   "cell_type": "markdown",
   "metadata": {
    "graffitiCellId": "id_ljgv5p0"
   },
   "source": [
    "The new graph representation should look like this:"
   ]
  },
  {
   "cell_type": "code",
   "execution_count": 46,
   "metadata": {
    "graffitiCellId": "id_llarxxs"
   },
   "outputs": [],
   "source": [
    "class GraphNode(object):\n",
    "    def __init__(self, val):\n",
    "        self.value = val\n",
    "        self.edges = []\n",
    "    \n",
    "    def add_child(self, node, distance):\n",
    "        self.edges.append(GraphEdge(node, distance))\n",
    "\n",
    "    def remove_child(self, del_node):\n",
    "        if del_node in self.edges:\n",
    "            self.edges.remove(del_node)\n",
    "    def __repr__(self):\n",
    "        return f\"Node({self.value})\"\n",
    "class Graph(object):\n",
    "    def __init__(self, node_list):\n",
    "        self.nodes = node_list\n",
    "\n",
    "    def add_edge(self, node1, node2, distance):\n",
    "        if node1 in self.nodes and node2 in self.nodes:\n",
    "            node1.add_child(node2, distance)\n",
    "            node2.add_child(node1, distance)\n",
    "\n",
    "    def remove_edge(self, node1, node2):\n",
    "        if node1 in self.nodes and node2 in self.nodes:\n",
    "            node1.remove_child(node2)\n",
    "            node2.remove_child(node1)"
   ]
  },
  {
   "cell_type": "code",
   "execution_count": 35,
   "metadata": {},
   "outputs": [],
   "source": [
    "# Author Muhammed\n",
    "class GraphEdge:\n",
    "    def __init__(self, node, distance:int):\n",
    "        self.node = node\n",
    "        self.distance = distance\n",
    "    def __repr__(self):\n",
    "        return f\"Edge({self.node, self.distance})\"\n",
    "class GraphNode:\n",
    "    def __init__(self,value):\n",
    "        self.value = value\n",
    "        self.edges = []\n",
    "    def __lt__(self, node):\n",
    "        return self.value < node.value\n",
    "    def __get_edge_To(self, node):\n",
    "        for edge in self.edges:\n",
    "            if edge.node == node:\n",
    "                return edge\n",
    "    def add_child(self,node, distance:int):\n",
    "        edge = self.__get_edge_To(node)\n",
    "        if not edge:\n",
    "            self.edges.append(GraphEdge(node, distance))\n",
    "        else:\n",
    "            edge.distance = distance\n",
    "    def remove_child(self,del_node):\n",
    "        edge = self.__get_edge_To(del_node)\n",
    "        if edge:\n",
    "            self.edges.remove(edge)\n",
    "    def __repr__(self):\n",
    "        return f\"Node({self.value})\"\n",
    "class Graph:\n",
    "    def __init__(self, nodes_list):\n",
    "        self.nodes = nodes_list\n",
    "    def add_edge(self,node1,node2, distance):\n",
    "        if node1 in self.nodes and node2 in self.nodes:\n",
    "            node1.add_child(node2,distance)\n",
    "            node2.add_child(node1,distance)\n",
    "    def remove_edge(self,node1, node2):\n",
    "        if node1 in self.nodes and node2 in self.nodes:\n",
    "            node1.remove_child(node2)\n",
    "            node2.remove_child(node1)        "
   ]
  },
  {
   "cell_type": "code",
   "execution_count": 36,
   "metadata": {
    "graffitiCellId": "id_9zgbdrn"
   },
   "outputs": [],
   "source": [
    "node_u = GraphNode('U')\n",
    "node_d = GraphNode('D')\n",
    "node_a = GraphNode('A')\n",
    "node_c = GraphNode('C')\n",
    "node_i = GraphNode('I')\n",
    "node_t = GraphNode('T')\n",
    "node_y = GraphNode('Y')\n",
    "\n",
    "graph = Graph([node_u, node_d, node_a, node_c, node_i, node_t, node_y])\n",
    "graph.add_edge(node_u, node_a, 4)\n",
    "graph.add_edge(node_u, node_c, 6)\n",
    "graph.add_edge(node_u, node_d, 3)\n",
    "graph.add_edge(node_d, node_u, 3)\n",
    "graph.add_edge(node_d, node_c, 4)\n",
    "graph.add_edge(node_a, node_u, 4)\n",
    "graph.add_edge(node_a, node_i, 7)\n",
    "graph.add_edge(node_c, node_d, 4)\n",
    "graph.add_edge(node_c, node_u, 6)\n",
    "graph.add_edge(node_c, node_i, 4)\n",
    "graph.add_edge(node_c, node_t, 5)\n",
    "graph.add_edge(node_i, node_a, 7)\n",
    "graph.add_edge(node_i, node_c, 4)\n",
    "graph.add_edge(node_i, node_y, 4)\n",
    "graph.add_edge(node_t, node_c, 5)\n",
    "graph.add_edge(node_t, node_y, 5)\n",
    "graph.add_edge(node_y, node_i, 4)\n",
    "graph.add_edge(node_y, node_t, 5)"
   ]
  },
  {
   "cell_type": "markdown",
   "metadata": {
    "graffitiCellId": "id_v79ttrc"
   },
   "source": [
    "## Implementation\n",
    "Using what you've learned, implement Dijkstra's Algorithm to find the shortest distance from the \"U\" node to the \"Y\" node. "
   ]
  },
  {
   "cell_type": "code",
   "execution_count": 54,
   "metadata": {},
   "outputs": [
    {
     "name": "stdout",
     "output_type": "stream",
     "text": [
      "Shortest Distance from U to Y is {'path': [Node(U), Node(C), Node(I), Node(Y)], 'value': 14}\n"
     ]
    }
   ],
   "source": [
    "# Author Muhammed 3 optimization priortu queue\n",
    "import math\n",
    "import heapq\n",
    "\n",
    "\n",
    "def dijkstra(start_node, end_node): #O(VlogV + E)\n",
    "    shortest_path_to_node = {node:math.inf for node in graph.nodes} #O(v)\n",
    "    parent_dict = {node:None for node in graph.nodes}  #O(v)\n",
    "    nodes_visted = {node:False for node in graph.nodes}  #O(v)\n",
    "    \n",
    "    shortest_path_to_node[start_node] = 0\n",
    "    heap = [(0, start_node)]\n",
    "    \n",
    "    while len(heap) > 0: #O(v)   \n",
    "        min_distance, current_node  = heapq.heappop(heap) #O(log(V))\n",
    "        if nodes_visted[current_node]:\n",
    "            continue\n",
    "        for edge in current_node.edges:#O(E)\n",
    "            if edge.node in shortest_path_to_node:\n",
    "                # update nodes if there is smaller value\n",
    "                new_node_distance = min_distance + edge.distance\n",
    "                if new_node_distance < shortest_path_to_node[edge.node]:\n",
    "                    shortest_path_to_node[edge.node] = new_node_distance\n",
    "                    parent_dict[edge.node] = current_node   \n",
    "                    \n",
    "                    heapq.heappush(heap, (new_node_distance, edge.node))\n",
    "        nodes_visted[current_node] = True\n",
    "    path = []\n",
    "    node = end_node\n",
    "    while True:\n",
    "        path.append(node)\n",
    "        if node == start_node:\n",
    "            break\n",
    "        node = parent_dict[node]\n",
    "    info = {'path':path[::-1], 'value':shortest_path_to_node[end_node]}\n",
    "    return info\n",
    "\n",
    "print('Shortest Distance from {} to {} is {}'.format(node_u.value, node_y.value, dijkstra(node_u, node_y)))"
   ]
  },
  {
   "cell_type": "code",
   "execution_count": 55,
   "metadata": {},
   "outputs": [
    {
     "name": "stdout",
     "output_type": "stream",
     "text": [
      "Shortest Distance from A to T is {'path': [Node(A), Node(U), Node(C), Node(T)], 'value': 15}\n"
     ]
    }
   ],
   "source": [
    "print('Shortest Distance from {} to {} is {}'.format(node_a.value, node_t.value, dijkstra(node_a, node_t)))"
   ]
  },
  {
   "cell_type": "markdown",
   "metadata": {
    "graffitiCellId": "id_6vmf0hp"
   },
   "source": [
    "<span class=\"graffiti-highlight graffiti-id_6vmf0hp-id_cjtybve\"><i></i><button>Hide Solution</button></span>"
   ]
  },
  {
   "cell_type": "code",
   "execution_count": 79,
   "metadata": {},
   "outputs": [
    {
     "name": "stdout",
     "output_type": "stream",
     "text": [
      "Shortest Distance from U to Y is {'path': [Node(U), Node(C), Node(I), Node(Y)], 'value': 14}\n"
     ]
    }
   ],
   "source": [
    "# Author Muhammed 2\n",
    "import math\n",
    "def extract_min(distace_dict):\n",
    "    current_node, min_distance = min(distace_dict.items() , key= lambda x:x[1])\n",
    "    distace_dict.pop(current_node)\n",
    "    return (current_node, min_distance)\n",
    "\n",
    "def dijkstra(start_node, end_node): #O(V^2 + E)\n",
    "    distace_dict = {node:math.inf for node in graph.nodes} #O(v)\n",
    "    parent_dict = {node:None for node in graph.nodes} #O(v)\n",
    "    \n",
    "    distace_dict[start_node] = 0\n",
    "    shortest_path_to_node = {}\n",
    "    while len(distace_dict) > 0: #O(v)        \n",
    "        current_node, min_distance = extract_min(distace_dict) #O(V)\n",
    "        shortest_path_to_node[current_node] = min_distance\n",
    "        for edge in current_node.edges:#O(E)\n",
    "            if edge.node in distace_dict:\n",
    "                # update nodes if there is smaller value\n",
    "                new_node_distance = min_distance + edge.distance\n",
    "                if new_node_distance < distace_dict[edge.node]:\n",
    "                    distace_dict[edge.node] = new_node_distance\n",
    "                    parent_dict[edge.node] = current_node    \n",
    "    path = []\n",
    "    node = end_node\n",
    "    while True:\n",
    "        path.append(node)\n",
    "        if node == start_node:\n",
    "            break\n",
    "        node = parent_dict[node]\n",
    "    info = {'path':path[::-1], 'value':shortest_path_to_node[end_node]}\n",
    "    return info\n",
    "\n",
    "print('Shortest Distance from {} to {} is {}'.format(node_u.value, node_y.value, dijkstra(node_u, node_y)))"
   ]
  },
  {
   "cell_type": "code",
   "execution_count": 66,
   "metadata": {
    "graffitiCellId": "id_zx9fvl9",
    "scrolled": true
   },
   "outputs": [
    {
     "name": "stdout",
     "output_type": "stream",
     "text": [
      "{Node(U): 0, Node(D): 3, Node(A): 4, Node(C): 6, Node(I): 10, Node(T): 11, Node(Y): 14}\n",
      "Shortest Distance from U to Y is 14\n"
     ]
    }
   ],
   "source": [
    "# Author Muhammed 1\n",
    "import math\n",
    "def extract_min(distace_dict):\n",
    "    current_node, min_distance = min(distace_dict.items() , key= lambda x:x[1])\n",
    "    distace_dict.pop(current_node)\n",
    "    return (current_node, min_distance)\n",
    "\n",
    "def dijkstra(start_node, end_node): #O(V^2 + E)\n",
    "    distace_dict = {node:math.inf for node in graph.nodes} #O(v)\n",
    "    distace_dict[start_node] = 0\n",
    "    shortest_path_to_node = {}\n",
    "    while len(distace_dict) > 0: #O(v)        \n",
    "        current_node, min_distance = extract_min(distace_dict) #O(V)\n",
    "        shortest_path_to_node[current_node] = min_distance\n",
    "        for edge in current_node.edges:#O(E)\n",
    "            if edge.node in distace_dict:\n",
    "                # update nodes if there is smaller value\n",
    "                new_node_distance = min_distance + edge.distance\n",
    "                if new_node_distance < distace_dict[edge.node]:\n",
    "                    distace_dict[edge.node] = new_node_distance\n",
    "    print(shortest_path_to_node)       \n",
    "    return shortest_path_to_node[end_node]\n",
    "\n",
    "\n",
    "print('Shortest Distance from {} to {} is {}'.format(node_u.value, node_y.value, dijkstra(node_u, node_y)))"
   ]
  }
 ],
 "metadata": {
  "graffiti": {
   "firstAuthorId": "dev",
   "id": "id_xw4if85",
   "language": "EN"
  },
  "kernelspec": {
   "display_name": "Python 3",
   "language": "python",
   "name": "python3"
  },
  "language_info": {
   "codemirror_mode": {
    "name": "ipython",
    "version": 3
   },
   "file_extension": ".py",
   "mimetype": "text/x-python",
   "name": "python",
   "nbconvert_exporter": "python",
   "pygments_lexer": "ipython3",
   "version": "3.7.6"
  }
 },
 "nbformat": 4,
 "nbformat_minor": 2
}
