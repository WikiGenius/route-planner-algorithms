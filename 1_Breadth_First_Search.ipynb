{
 "cells": [
  {
   "cell_type": "markdown",
   "metadata": {},
   "source": [
    "# Author Muhammed"
   ]
  },
  {
   "cell_type": "code",
   "execution_count": 1,
   "metadata": {},
   "outputs": [],
   "source": [
    "class Edge:\n",
    "    def __init__(self, node, distance):\n",
    "        self.node = node\n",
    "        self.distance = distance\n",
    "    def __repr__(self):\n",
    "        return f\"Neighbour ({self.node}, distance: {self.distance})\"\n",
    "class Node:\n",
    "    def __init__(self, state):\n",
    "        self.state = state\n",
    "        self.neighbours = []\n",
    "    def add_neighbour(self, node, distance):\n",
    "        if not self.check_existance_neighbour(node):       \n",
    "            self.neighbours.append(Edge(node,distance))\n",
    "        else:\n",
    "            print(f\"This node {node} is already neighbour to Node({self.state})\")\n",
    "    def remove_neighbour(self,node):\n",
    "        neighbour = self.check_existance_neighbour(node)\n",
    "        if neighbour:\n",
    "            self.neighbours.remove(neighbour)\n",
    "            \n",
    "    def check_existance_neighbour(self, node):\n",
    "        for neighbour in self.neighbours:\n",
    "            if neighbour.node == node:\n",
    "                return neighbour\n",
    "        return None\n",
    "    def __repr__(self):\n",
    "        return f\"State({self.state})\"\n",
    "class Graph:\n",
    "    def __init__(self, states):\n",
    "        self.states = states\n",
    "    def add_edge(self, node1, node2, distance):\n",
    "        if node1 in self.states and node2 in self.states:\n",
    "            node1.add_neighbour(node2, distance)\n",
    "            node2.add_neighbour(node1, distance)\n",
    "        else:\n",
    "            if node1 not in self.states:\n",
    "                print(f\"{node1} not exist in state space graph\")\n",
    "            if node2 not in self.states:\n",
    "                print(f\"{node2} not exist in state space graph\")\n",
    "    def remove_edge(self, node1, node2):\n",
    "        if node1 in self.states and node2 in self.states:\n",
    "            node1.remove_neighbour(node2)\n",
    "            node2.remove_neighbour(node1)\n",
    "        else:\n",
    "            if node1 not in self.states:\n",
    "                print(f\"{node1} not exist in state space graph\")\n",
    "            if node2 not in self.states:\n",
    "                print(f\"{node2} not exist in state space graph\")\n"
   ]
  },
  {
   "cell_type": "markdown",
   "metadata": {},
   "source": [
    "## Represent Graph"
   ]
  },
  {
   "cell_type": "code",
   "execution_count": 2,
   "metadata": {},
   "outputs": [],
   "source": [
    "# code Map rominia udacity\n",
    "node_a = Node('Arad')\n",
    "node_z = Node('Zerind')\n",
    "node_s = Node('Sibiu')\n",
    "node_t = Node('Timisoara')\n",
    "node_o = Node('Oradea')\n",
    "node_l = Node('Lugoj')\n",
    "node_f = Node('Fagras')\n",
    "node_r = Node('Rimnicu')\n",
    "node_p = Node('Pitesti')\n",
    "node_m = Node('Mehadia')\n",
    "node_d = Node('Drbeta')\n",
    "node_c = Node('Craiova')\n",
    "node_b = Node('Bucharest')\n",
    "node_g = Node('Giurgiu')\n",
    "node_e = Node('Eforie')\n",
    "node_h = Node('Hirsova')\n",
    "node_u = Node('Urziceni')\n",
    "node_v = Node('Vaslui')\n",
    "node_i = Node('Iasi')\n",
    "node_n = Node('Neamt')\n",
    "\n",
    "states = [node_a, node_z, node_s,node_t,node_o,node_l,node_f, node_r, node_p, node_m, node_d, node_c, node_b, node_g, node_e, node_h, node_u, node_v, node_i, node_n ]\n",
    "\n",
    "graph = Graph(states)\n",
    "graph.add_edge(node_a, node_z, 75)\n",
    "graph.add_edge(node_a, node_t, 118)\n",
    "graph.add_edge(node_a, node_s, 140)\n",
    "graph.add_edge(node_z, node_o, 71)\n",
    "graph.add_edge(node_o, node_s, 151)\n",
    "graph.add_edge(node_t, node_l, 111)\n",
    "graph.add_edge(node_l, node_m, 70)\n",
    "graph.add_edge(node_m, node_d, 75)\n",
    "graph.add_edge(node_d, node_c, 120)\n",
    "graph.add_edge(node_c, node_p, 138)\n",
    "graph.add_edge(node_c, node_r, 146)\n",
    "graph.add_edge(node_r, node_p, 97)\n",
    "graph.add_edge(node_s, node_r, 80)\n",
    "graph.add_edge(node_s, node_f, 99)\n",
    "graph.add_edge(node_f, node_b, 211)\n",
    "graph.add_edge(node_p, node_b, 101)\n",
    "graph.add_edge(node_b, node_g, 90)\n",
    "graph.add_edge(node_b, node_u, 85)\n",
    "graph.add_edge(node_u, node_h, 98)\n",
    "graph.add_edge(node_u, node_v, 142)\n",
    "graph.add_edge(node_v, node_i, 92)\n",
    "graph.add_edge(node_i, node_n, 87)\n",
    "graph.add_edge(node_h, node_e, 86)\n"
   ]
  },
  {
   "cell_type": "code",
   "execution_count": 21,
   "metadata": {},
   "outputs": [],
   "source": [
    "from collections import deque\n",
    "def remove_choice(frontier):\n",
    "    result = frontier.popleft()\n",
    "    path = result['path']\n",
    "    end = result['end']\n",
    "    cost = result['cost']\n",
    "    return path, end, cost\n",
    "def bfs(start_node, goal_node): # O(E)\n",
    "    frontier = deque()\n",
    "    explored_check = set()\n",
    "    frontier_check = set()\n",
    "    frontier.append({'path':[start_node], 'end': start_node, 'cost': 0})\n",
    "    \n",
    "    while len(frontier) > 0:\n",
    "        path, s, cost = remove_choice(frontier)\n",
    "        explored_check.add(s)\n",
    "        if s == goal_node:\n",
    "            return path, cost\n",
    "        for neighbour in s.neighbours:\n",
    "            if neighbour.node not in explored_check and neighbour.node not in frontier_check:\n",
    "                p = path.copy()\n",
    "                p.append(neighbour.node)\n",
    "                frontier.append({'path':p, 'end': neighbour.node, 'cost': cost + 1})\n",
    "                print('frontier', frontier)\n",
    "                print('path', p)\n",
    "                frontier_check.add(neighbour.node)\n",
    "        \n",
    "    return None, -1"
   ]
  },
  {
   "cell_type": "code",
   "execution_count": 4,
   "metadata": {},
   "outputs": [],
   "source": [
    "def test(start_node, goal_node, answer):\n",
    "    path, cost = bfs(start_node, goal_node)\n",
    "    print('pass' if path == answer['path'] and cost == answer['cost'] else 'fail')\n",
    "    print(path, cost)"
   ]
  },
  {
   "cell_type": "code",
   "execution_count": 5,
   "metadata": {},
   "outputs": [
    {
     "name": "stdout",
     "output_type": "stream",
     "text": [
      "pass\n",
      "[State(Arad), State(Sibiu), State(Fagras), State(Bucharest)] 3\n"
     ]
    }
   ],
   "source": [
    "path = [node_a, node_s ,node_f,node_b]\n",
    "cost = 3\n",
    "answer = {'cost': cost ,'path':path}\n",
    "test(node_a, node_b, answer)"
   ]
  },
  {
   "cell_type": "code",
   "execution_count": 6,
   "metadata": {},
   "outputs": [
    {
     "name": "stdout",
     "output_type": "stream",
     "text": [
      "pass\n",
      "[State(Arad), State(Sibiu), State(Rimnicu), State(Craiova)] 3\n"
     ]
    }
   ],
   "source": [
    "path = [node_a, node_s ,node_r,node_c]\n",
    "cost = 3\n",
    "answer = {'cost': cost ,'path':path}\n",
    "test(path[0], path[-1], answer)"
   ]
  },
  {
   "cell_type": "code",
   "execution_count": 7,
   "metadata": {},
   "outputs": [
    {
     "name": "stdout",
     "output_type": "stream",
     "text": [
      "pass\n",
      "[State(Arad), State(Sibiu), State(Fagras), State(Bucharest), State(Urziceni), State(Vaslui), State(Iasi), State(Neamt)] 7\n"
     ]
    }
   ],
   "source": [
    "path = [node_a, node_s ,node_f,node_b,node_u,node_v, node_i,  node_n]\n",
    "cost = 7\n",
    "answer = {'cost': cost ,'path':path}\n",
    "test(path[0], path[-1], answer)"
   ]
  },
  {
   "cell_type": "code",
   "execution_count": 8,
   "metadata": {},
   "outputs": [
    {
     "name": "stdout",
     "output_type": "stream",
     "text": [
      "pass\n",
      "[State(Arad), State(Sibiu), State(Rimnicu), State(Craiova)] 3\n"
     ]
    }
   ],
   "source": [
    "path = [node_a, node_s ,node_r,node_c]\n",
    "cost = 3\n",
    "answer = {'cost': cost ,'path':path}\n",
    "test(path[0], path[-1], answer)"
   ]
  },
  {
   "cell_type": "code",
   "execution_count": 9,
   "metadata": {},
   "outputs": [
    {
     "name": "stdout",
     "output_type": "stream",
     "text": [
      "pass\n",
      "[State(Craiova), State(Pitesti), State(Bucharest), State(Urziceni)] 3\n"
     ]
    }
   ],
   "source": [
    "path = [node_c, node_p ,node_b,node_u]\n",
    "cost = 3\n",
    "answer = {'cost': cost ,'path':path}\n",
    "test(path[0], path[-1], answer)"
   ]
  },
  {
   "cell_type": "code",
   "execution_count": 20,
   "metadata": {},
   "outputs": [
    {
     "name": "stdout",
     "output_type": "stream",
     "text": [
      "path [State(Arad), State(Zerind)]\n",
      "path [State(Arad), State(Timisoara)]\n",
      "path [State(Arad), State(Sibiu)]\n",
      "path [State(Arad), State(Zerind), State(Oradea)]\n",
      "path [State(Arad), State(Timisoara), State(Lugoj)]\n",
      "path [State(Arad), State(Sibiu), State(Rimnicu)]\n",
      "path [State(Arad), State(Sibiu), State(Fagras)]\n",
      "path [State(Arad), State(Timisoara), State(Lugoj), State(Mehadia)]\n",
      "path [State(Arad), State(Sibiu), State(Rimnicu), State(Craiova)]\n",
      "path [State(Arad), State(Sibiu), State(Rimnicu), State(Pitesti)]\n",
      "path [State(Arad), State(Sibiu), State(Fagras), State(Bucharest)]\n",
      "path [State(Arad), State(Timisoara), State(Lugoj), State(Mehadia), State(Drbeta)]\n",
      "path [State(Arad), State(Sibiu), State(Fagras), State(Bucharest), State(Giurgiu)]\n",
      "path [State(Arad), State(Sibiu), State(Fagras), State(Bucharest), State(Urziceni)]\n",
      "path [State(Arad), State(Sibiu), State(Fagras), State(Bucharest), State(Urziceni), State(Hirsova)]\n",
      "path [State(Arad), State(Sibiu), State(Fagras), State(Bucharest), State(Urziceni), State(Vaslui)]\n",
      "path [State(Arad), State(Sibiu), State(Fagras), State(Bucharest), State(Urziceni), State(Hirsova), State(Eforie)]\n",
      "path [State(Arad), State(Sibiu), State(Fagras), State(Bucharest), State(Urziceni), State(Vaslui), State(Iasi)]\n",
      "path [State(Arad), State(Sibiu), State(Fagras), State(Bucharest), State(Urziceni), State(Vaslui), State(Iasi), State(Neamt)]\n",
      "pass\n",
      "None -1\n"
     ]
    }
   ],
   "source": [
    "node1 = Node(1)\n",
    "node2 = Node(2)\n",
    "path = None\n",
    "cost = -1\n",
    "answer = {'cost': cost ,'path':path}\n",
    "test(node_a, node1, answer)"
   ]
  },
  {
   "cell_type": "code",
   "execution_count": null,
   "metadata": {},
   "outputs": [],
   "source": []
  }
 ],
 "metadata": {
  "kernelspec": {
   "display_name": "Python 3.7.6 64-bit ('base': conda)",
   "language": "python",
   "name": "python37664bitbasecondaaaf3fc174a4a4c979b106d0178f4f1a0"
  },
  "language_info": {
   "codemirror_mode": {
    "name": "ipython",
    "version": 3
   },
   "file_extension": ".py",
   "mimetype": "text/x-python",
   "name": "python",
   "nbconvert_exporter": "python",
   "pygments_lexer": "ipython3",
   "version": "3.7.6"
  }
 },
 "nbformat": 4,
 "nbformat_minor": 4
}
